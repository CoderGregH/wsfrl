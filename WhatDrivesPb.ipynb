{
 "cells": [
  {
   "cell_type": "code",
   "id": "initial_id",
   "metadata": {
    "collapsed": true,
    "ExecuteTime": {
     "end_time": "2024-11-17T19:36:00.627280Z",
     "start_time": "2024-11-17T19:36:00.620865Z"
    }
   },
   "source": "print('hello supervised learning')",
   "outputs": [
    {
     "name": "stdout",
     "output_type": "stream",
     "text": [
      "hello supervised learning\n"
     ]
    }
   ],
   "execution_count": 1
  },
  {
   "metadata": {
    "ExecuteTime": {
     "end_time": "2024-11-17T19:36:13.521379Z",
     "start_time": "2024-11-17T19:36:13.277138Z"
    }
   },
   "cell_type": "code",
   "source": "import polars as pl",
   "id": "51bfd0e896399683",
   "outputs": [],
   "execution_count": 2
  },
  {
   "metadata": {},
   "cell_type": "markdown",
   "source": [
    "## Load \n",
    "\n",
    "Load from CSV and clean up the data\n",
    "1. Remove all rows where the year is 2014 because its the first year there are no pbs\n",
    "2. Clean up gender as it contains \"M\" or \"Male\" and \"F\" or \"Female\". Just take the first character for simplity\n",
    "3. Data Types"
   ],
   "id": "4a85084a0caa13f8"
  },
  {
   "metadata": {
    "ExecuteTime": {
     "end_time": "2024-11-17T20:32:00.051747Z",
     "start_time": "2024-11-17T20:31:59.964415Z"
    }
   },
   "cell_type": "code",
   "source": [
    "results_with_pb_df = pl.read_csv(\"data/withpb-all-results.csv\")\n",
    "\n",
    "# Remove all rows where the year is 2014\n",
    "results_with_pb_df = results_with_pb_df.filter(pl.col(\"year\") != 2014)\n",
    "\n",
    "results_with_pb_df = results_with_pb_df.drop(\"XC_Count_of_event\", \"XC_Position_Min\", \"XC_Position_Max\", \"XC_Min_Age\", \"XC_Max_Age\",\"exists\", \"from_file\")\n",
    "\n",
    "# Gender Clean up\n",
    "results_with_pb_df = results_with_pb_df.with_columns(\n",
    "    pl.col(\"Gender\").str.slice(0, 1).alias(\"Gender\")\n",
    ")\n",
    "\n",
    "results_with_pb_df = results_with_pb_df.with_columns(\n",
    "    pl.col(\"is_pb\").cast(pl.Boolean),\n",
    "    pl.col(\"first_time_run\").cast(pl.Boolean)\n",
    ")\n",
    "\n",
    "display(results_with_pb_df)\n",
    "\n",
    "\n"
   ],
   "id": "2b10735d1d46f4ef",
   "outputs": [
    {
     "data": {
      "text/plain": [
       "shape: (48_712, 40)\n",
       "┌──────────┬──────────┬────────┬────────────┬───┬────────────┬────────────┬────────────┬───────────┐\n",
       "│ Position ┆ Time     ┆ Bib    ┆ Name       ┆ … ┆ year_with_ ┆ year_with_ ┆ best_posit ┆ worst_pos │\n",
       "│ ---      ┆ ---      ┆ Number ┆ ---        ┆   ┆ best_posit ┆ worst_posi ┆ ion_all_ti ┆ ition_all │\n",
       "│ i64      ┆ str      ┆ ---    ┆ str        ┆   ┆ ion        ┆ tion       ┆ me         ┆ _time     │\n",
       "│          ┆          ┆ i64    ┆            ┆   ┆ ---        ┆ ---        ┆ ---        ┆ ---       │\n",
       "│          ┆          ┆        ┆            ┆   ┆ f64        ┆ f64        ┆ f64        ┆ f64       │\n",
       "╞══════════╪══════════╪════════╪════════════╪═══╪════════════╪════════════╪════════════╪═══════════╡\n",
       "│ 3        ┆ 00:28:24 ┆ 328    ┆ Andy       ┆ … ┆ 2014.0     ┆ 2014.0     ┆ 3.0        ┆ 20.0      │\n",
       "│          ┆          ┆        ┆ Massingale ┆   ┆            ┆            ┆            ┆           │\n",
       "│ 4        ┆ 00:28:24 ┆ 280    ┆ Jon Bess   ┆ … ┆ null       ┆ null       ┆ null       ┆ null      │\n",
       "│ 5        ┆ 00:28:34 ┆ 461    ┆ Tiarnan    ┆ … ┆ 2014.0     ┆ 2015.0     ┆ 15.0       ┆ 23.0      │\n",
       "│          ┆          ┆        ┆ Cotter     ┆   ┆            ┆            ┆            ┆           │\n",
       "│ 6        ┆ 00:28:50 ┆ 254    ┆ Paul       ┆ … ┆ 2014.0     ┆ 2014.0     ┆ 6.0        ┆ 54.0      │\n",
       "│          ┆          ┆        ┆ Sargent    ┆   ┆            ┆            ┆            ┆           │\n",
       "│ 7        ┆ 00:29:11 ┆ 167    ┆ Paul       ┆ … ┆ 2015.0     ┆ 2014.0     ┆ 2.0        ┆ 132.0     │\n",
       "│          ┆          ┆        ┆ Cousins    ┆   ┆            ┆            ┆            ┆           │\n",
       "│ …        ┆ …        ┆ …      ┆ …          ┆ … ┆ …          ┆ …          ┆ …          ┆ …         │\n",
       "│ 627      ┆ 00:47:41 ┆ 631    ┆ Ann        ┆ … ┆ 2014.0     ┆ 2015.0     ┆ 341.0      ┆ 613.0     │\n",
       "│          ┆          ┆        ┆ Savidge    ┆   ┆            ┆            ┆            ┆           │\n",
       "│ 628      ┆ 00:54:49 ┆ 613    ┆ Christine  ┆ … ┆ null       ┆ null       ┆ null       ┆ null      │\n",
       "│          ┆          ┆        ┆ Jones      ┆   ┆            ┆            ┆            ┆           │\n",
       "│ 629      ┆ 00:56:27 ┆ 429    ┆ Kalpna     ┆ … ┆ null       ┆ null       ┆ null       ┆ null      │\n",
       "│          ┆          ┆        ┆ Robertson  ┆   ┆            ┆            ┆            ┆           │\n",
       "│ 630      ┆ 00:57:56 ┆ 151    ┆ Julie Abel ┆ … ┆ null       ┆ null       ┆ null       ┆ null      │\n",
       "│ 631      ┆ 00:58:30 ┆ 606    ┆ Jane Harle ┆ … ┆ null       ┆ null       ┆ null       ┆ null      │\n",
       "└──────────┴──────────┴────────┴────────────┴───┴────────────┴────────────┴────────────┴───────────┘"
      ],
      "text/html": [
       "<div><style>\n",
       ".dataframe > thead > tr,\n",
       ".dataframe > tbody > tr {\n",
       "  text-align: right;\n",
       "  white-space: pre-wrap;\n",
       "}\n",
       "</style>\n",
       "<small>shape: (48_712, 40)</small><table border=\"1\" class=\"dataframe\"><thead><tr><th>Position</th><th>Time</th><th>Bib Number</th><th>Name</th><th>Gender</th><th>Gender Position</th><th>Club</th><th>Points</th><th>RaceName</th><th>year</th><th>month</th><th>day</th><th>date</th><th>distance</th><th>pace</th><th>club_position</th><th>club_position_gender</th><th>is_pb</th><th>first_time_run</th><th>prior_quickest_run_in_year</th><th>prior_quickest_run_time</th><th>prior_quickest_run_position</th><th>prior_time_vs_current_change</th><th>prior_time_vs_current_time</th><th>fellow_club_mates_running</th><th>fellow_club_mates_running_male</th><th>fellow_club_mates_running_female</th><th>best_position_year_to_date</th><th>average_position_year_to_date</th><th>worst_position_year_to_date</th><th>best_points_year_to_date</th><th>average_points_year_to_date</th><th>worst_points_year_to_date</th><th>runs_in_wsfrl_year_to_date</th><th>runs_in_wsfrl</th><th>years_in_wsfrl</th><th>year_with_best_position</th><th>year_with_worst_position</th><th>best_position_all_time</th><th>worst_position_all_time</th></tr><tr><td>i64</td><td>str</td><td>i64</td><td>str</td><td>str</td><td>f64</td><td>str</td><td>f64</td><td>str</td><td>i64</td><td>i64</td><td>i64</td><td>str</td><td>f64</td><td>str</td><td>f64</td><td>f64</td><td>bool</td><td>bool</td><td>str</td><td>str</td><td>str</td><td>str</td><td>str</td><td>f64</td><td>f64</td><td>f64</td><td>f64</td><td>f64</td><td>f64</td><td>f64</td><td>f64</td><td>f64</td><td>f64</td><td>f64</td><td>f64</td><td>f64</td><td>f64</td><td>f64</td><td>f64</td></tr></thead><tbody><tr><td>3</td><td>&quot;00:28:24&quot;</td><td>328</td><td>&quot;Andy Massingale&quot;</td><td>&quot;M&quot;</td><td>3.0</td><td>&quot;Henfield Joggers&quot;</td><td>10.0</td><td>&quot;Beach Run&quot;</td><td>2015</td><td>5</td><td>20</td><td>&quot;2015-05-20&quot;</td><td>8.0</td><td>&quot;0:03:33&quot;</td><td>1.0</td><td>1.0</td><td>false</td><td>true</td><td>null</td><td>&quot;nan&quot;</td><td>null</td><td>null</td><td>null</td><td>15.0</td><td>9.0</td><td>6.0</td><td>3.0</td><td>8.0</td><td>20.0</td><td>10.0</td><td>10.0</td><td>10.0</td><td>4.0</td><td>4.0</td><td>2.0</td><td>2014.0</td><td>2014.0</td><td>3.0</td><td>20.0</td></tr><tr><td>4</td><td>&quot;00:28:24&quot;</td><td>280</td><td>&quot;Jon Bess&quot;</td><td>&quot;M&quot;</td><td>4.0</td><td>&quot;Worthing Striders&quot;</td><td>10.0</td><td>&quot;Beach Run&quot;</td><td>2015</td><td>5</td><td>20</td><td>&quot;2015-05-20&quot;</td><td>8.0</td><td>&quot;0:03:33&quot;</td><td>1.0</td><td>1.0</td><td>false</td><td>true</td><td>null</td><td>&quot;nan&quot;</td><td>null</td><td>null</td><td>null</td><td>16.0</td><td>10.0</td><td>6.0</td><td>null</td><td>null</td><td>null</td><td>null</td><td>null</td><td>null</td><td>null</td><td>0.0</td><td>0.0</td><td>null</td><td>null</td><td>null</td><td>null</td></tr><tr><td>5</td><td>&quot;00:28:34&quot;</td><td>461</td><td>&quot;Tiarnan Cotter&quot;</td><td>&quot;M&quot;</td><td>5.0</td><td>&quot;Horsham Joggers&quot;</td><td>10.0</td><td>&quot;Beach Run&quot;</td><td>2015</td><td>5</td><td>20</td><td>&quot;2015-05-20&quot;</td><td>8.0</td><td>&quot;0:03:34.250000&quot;</td><td>1.0</td><td>1.0</td><td>false</td><td>true</td><td>null</td><td>&quot;nan&quot;</td><td>null</td><td>null</td><td>null</td><td>33.0</td><td>14.0</td><td>19.0</td><td>15.0</td><td>19.0</td><td>23.0</td><td>10.0</td><td>10.0</td><td>10.0</td><td>2.0</td><td>2.0</td><td>2.0</td><td>2014.0</td><td>2015.0</td><td>15.0</td><td>23.0</td></tr><tr><td>6</td><td>&quot;00:28:50&quot;</td><td>254</td><td>&quot;Paul Sargent&quot;</td><td>&quot;M&quot;</td><td>6.0</td><td>&quot;Burgess Hill Runners&quot;</td><td>10.0</td><td>&quot;Beach Run&quot;</td><td>2015</td><td>5</td><td>20</td><td>&quot;2015-05-20&quot;</td><td>8.0</td><td>&quot;0:03:36.250000&quot;</td><td>1.0</td><td>1.0</td><td>false</td><td>true</td><td>null</td><td>&quot;nan&quot;</td><td>null</td><td>null</td><td>null</td><td>47.0</td><td>28.0</td><td>19.0</td><td>6.0</td><td>7.0</td><td>8.0</td><td>10.0</td><td>10.0</td><td>10.0</td><td>2.0</td><td>3.0</td><td>2.0</td><td>2014.0</td><td>2014.0</td><td>6.0</td><td>54.0</td></tr><tr><td>7</td><td>&quot;00:29:11&quot;</td><td>167</td><td>&quot;Paul Cousins&quot;</td><td>&quot;M&quot;</td><td>7.0</td><td>&quot;Haywards Heath Harriers&quot;</td><td>10.0</td><td>&quot;Beach Run&quot;</td><td>2015</td><td>5</td><td>20</td><td>&quot;2015-05-20&quot;</td><td>8.0</td><td>&quot;0:03:38.875000&quot;</td><td>1.0</td><td>1.0</td><td>true</td><td>false</td><td>&quot;2014.0&quot;</td><td>&quot;00:29:34&quot;</td><td>&quot;4.0&quot;</td><td>&quot;up&quot;</td><td>&quot;00:23&quot;</td><td>13.0</td><td>8.0</td><td>5.0</td><td>2.0</td><td>20.0</td><td>132.0</td><td>10.0</td><td>9.0</td><td>7.0</td><td>9.0</td><td>10.0</td><td>2.0</td><td>2015.0</td><td>2014.0</td><td>2.0</td><td>132.0</td></tr><tr><td>&hellip;</td><td>&hellip;</td><td>&hellip;</td><td>&hellip;</td><td>&hellip;</td><td>&hellip;</td><td>&hellip;</td><td>&hellip;</td><td>&hellip;</td><td>&hellip;</td><td>&hellip;</td><td>&hellip;</td><td>&hellip;</td><td>&hellip;</td><td>&hellip;</td><td>&hellip;</td><td>&hellip;</td><td>&hellip;</td><td>&hellip;</td><td>&hellip;</td><td>&hellip;</td><td>&hellip;</td><td>&hellip;</td><td>&hellip;</td><td>&hellip;</td><td>&hellip;</td><td>&hellip;</td><td>&hellip;</td><td>&hellip;</td><td>&hellip;</td><td>&hellip;</td><td>&hellip;</td><td>&hellip;</td><td>&hellip;</td><td>&hellip;</td><td>&hellip;</td><td>&hellip;</td><td>&hellip;</td><td>&hellip;</td><td>&hellip;</td></tr><tr><td>627</td><td>&quot;00:47:41&quot;</td><td>631</td><td>&quot;Ann Savidge&quot;</td><td>&quot;F&quot;</td><td>303.0</td><td>&quot;Burgess Hill Runners&quot;</td><td>1.0</td><td>&quot;Worthing Lido&quot;</td><td>2016</td><td>1</td><td>31</td><td>&quot;2016-01-31&quot;</td><td>6.54</td><td>&quot;0:07:17.461774&quot;</td><td>92.0</td><td>52.0</td><td>false</td><td>false</td><td>&quot;2015.0&quot;</td><td>&quot;00:38:16&quot;</td><td>&quot;571.0&quot;</td><td>&quot;down&quot;</td><td>&quot;09:25&quot;</td><td>93.0</td><td>40.0</td><td>53.0</td><td>341.0</td><td>441.0</td><td>571.0</td><td>4.0</td><td>2.0</td><td>1.0</td><td>7.0</td><td>10.0</td><td>2.0</td><td>2014.0</td><td>2015.0</td><td>341.0</td><td>613.0</td></tr><tr><td>628</td><td>&quot;00:54:49&quot;</td><td>613</td><td>&quot;Christine Jones&quot;</td><td>&quot;F&quot;</td><td>304.0</td><td>&quot;Burgess Hill Runners&quot;</td><td>1.0</td><td>&quot;Worthing Lido&quot;</td><td>2016</td><td>1</td><td>31</td><td>&quot;2016-01-31&quot;</td><td>6.54</td><td>&quot;0:08:22.905199&quot;</td><td>93.0</td><td>53.0</td><td>false</td><td>true</td><td>null</td><td>&quot;nan&quot;</td><td>null</td><td>null</td><td>null</td><td>93.0</td><td>40.0</td><td>53.0</td><td>null</td><td>null</td><td>null</td><td>null</td><td>null</td><td>null</td><td>null</td><td>0.0</td><td>0.0</td><td>null</td><td>null</td><td>null</td><td>null</td></tr><tr><td>629</td><td>&quot;00:56:27&quot;</td><td>429</td><td>&quot;Kalpna Robertson&quot;</td><td>&quot;F&quot;</td><td>305.0</td><td>&quot;Lewes AC&quot;</td><td>1.0</td><td>&quot;Worthing Lido&quot;</td><td>2016</td><td>1</td><td>31</td><td>&quot;2016-01-31&quot;</td><td>6.54</td><td>&quot;0:08:37.889908&quot;</td><td>34.0</td><td>14.0</td><td>false</td><td>true</td><td>null</td><td>&quot;nan&quot;</td><td>null</td><td>null</td><td>null</td><td>33.0</td><td>20.0</td><td>13.0</td><td>null</td><td>null</td><td>null</td><td>null</td><td>null</td><td>null</td><td>null</td><td>0.0</td><td>0.0</td><td>null</td><td>null</td><td>null</td><td>null</td></tr><tr><td>630</td><td>&quot;00:57:56&quot;</td><td>151</td><td>&quot;Julie Abel&quot;</td><td>&quot;F&quot;</td><td>306.0</td><td>&quot;Goring Road Runners&quot;</td><td>1.0</td><td>&quot;Worthing Lido&quot;</td><td>2016</td><td>1</td><td>31</td><td>&quot;2016-01-31&quot;</td><td>6.54</td><td>&quot;0:08:51.498471&quot;</td><td>17.0</td><td>6.0</td><td>false</td><td>true</td><td>null</td><td>&quot;nan&quot;</td><td>null</td><td>null</td><td>null</td><td>16.0</td><td>11.0</td><td>5.0</td><td>null</td><td>null</td><td>null</td><td>null</td><td>null</td><td>null</td><td>null</td><td>0.0</td><td>0.0</td><td>null</td><td>null</td><td>null</td><td>null</td></tr><tr><td>631</td><td>&quot;00:58:30&quot;</td><td>606</td><td>&quot;Jane Harle&quot;</td><td>&quot;F&quot;</td><td>307.0</td><td>&quot;Burgess Hill Runners&quot;</td><td>1.0</td><td>&quot;Worthing Lido&quot;</td><td>2016</td><td>1</td><td>31</td><td>&quot;2016-01-31&quot;</td><td>6.54</td><td>&quot;0:08:56.697248&quot;</td><td>94.0</td><td>54.0</td><td>false</td><td>true</td><td>null</td><td>&quot;nan&quot;</td><td>null</td><td>null</td><td>null</td><td>93.0</td><td>40.0</td><td>53.0</td><td>null</td><td>null</td><td>null</td><td>null</td><td>null</td><td>null</td><td>null</td><td>0.0</td><td>0.0</td><td>null</td><td>null</td><td>null</td><td>null</td></tr></tbody></table></div>"
      ]
     },
     "metadata": {},
     "output_type": "display_data"
    }
   ],
   "execution_count": 37
  },
  {
   "metadata": {},
   "cell_type": "markdown",
   "source": [
    "## Find Categoricals\n",
    "\n",
    "These are columns with limited subset of values.\n",
    "\n",
    "For example education could be \n",
    "- Graduate\n",
    "- Not Graduate\n",
    "\n",
    "In our data \n",
    "- Club \n",
    "- RaceName\n",
    "- Gender\n",
    "All of which are unlikely to influence a pb\n",
    "\n",
    "However, I'll add of these are categorical variables to the model.\n",
    "- RaceName\n",
    "- Gender\n",
    "\n",
    "\n"
   ],
   "id": "4b7da146bf89faf5"
  },
  {
   "metadata": {
    "ExecuteTime": {
     "end_time": "2024-11-17T20:32:03.122560Z",
     "start_time": "2024-11-17T20:32:03.112832Z"
    }
   },
   "cell_type": "code",
   "source": [
    "results_with_pb_with_dummies_df = results_with_pb_df.to_dummies(\n",
    "    [\"Gender\", \"RaceName\"], drop_first=True\n",
    ")"
   ],
   "id": "1906b0dd7dd701f7",
   "outputs": [],
   "execution_count": 38
  },
  {
   "metadata": {
    "ExecuteTime": {
     "end_time": "2024-11-17T19:58:03.216304Z",
     "start_time": "2024-11-17T19:58:03.202110Z"
    }
   },
   "cell_type": "code",
   "source": "display(results_with_pb_with_dummies_df)",
   "id": "f9279513ae907c58",
   "outputs": [
    {
     "data": {
      "text/plain": [
       "shape: (48_712, 66)\n",
       "┌──────────┬──────────┬────────┬────────────┬───┬────────────┬────────────┬────────────┬───────────┐\n",
       "│ Position ┆ Time     ┆ Bib    ┆ Name       ┆ … ┆ XC_Positio ┆ XC_Positio ┆ XC_Min_Age ┆ XC_Max_Ag │\n",
       "│ ---      ┆ ---      ┆ Number ┆ ---        ┆   ┆ n_Min      ┆ n_Max      ┆ ---        ┆ e         │\n",
       "│ i64      ┆ str      ┆ ---    ┆ str        ┆   ┆ ---        ┆ ---        ┆ f64        ┆ ---       │\n",
       "│          ┆          ┆ i64    ┆            ┆   ┆ f64        ┆ f64        ┆            ┆ f64       │\n",
       "╞══════════╪══════════╪════════╪════════════╪═══╪════════════╪════════════╪════════════╪═══════════╡\n",
       "│ 3        ┆ 00:28:24 ┆ 328    ┆ Andy       ┆ … ┆ null       ┆ null       ┆ null       ┆ null      │\n",
       "│          ┆          ┆        ┆ Massingale ┆   ┆            ┆            ┆            ┆           │\n",
       "│ 4        ┆ 00:28:24 ┆ 280    ┆ Jon Bess   ┆ … ┆ null       ┆ null       ┆ null       ┆ null      │\n",
       "│ 5        ┆ 00:28:34 ┆ 461    ┆ Tiarnan    ┆ … ┆ null       ┆ null       ┆ null       ┆ null      │\n",
       "│          ┆          ┆        ┆ Cotter     ┆   ┆            ┆            ┆            ┆           │\n",
       "│ 6        ┆ 00:28:50 ┆ 254    ┆ Paul       ┆ … ┆ null       ┆ null       ┆ null       ┆ null      │\n",
       "│          ┆          ┆        ┆ Sargent    ┆   ┆            ┆            ┆            ┆           │\n",
       "│ 7        ┆ 00:29:11 ┆ 167    ┆ Paul       ┆ … ┆ 2.0        ┆ 40.0       ┆ 21.0       ┆ 55.0      │\n",
       "│          ┆          ┆        ┆ Cousins    ┆   ┆            ┆            ┆            ┆           │\n",
       "│ …        ┆ …        ┆ …      ┆ …          ┆ … ┆ …          ┆ …          ┆ …          ┆ …         │\n",
       "│ 627      ┆ 00:47:41 ┆ 631    ┆ Ann        ┆ … ┆ null       ┆ null       ┆ null       ┆ null      │\n",
       "│          ┆          ┆        ┆ Savidge    ┆   ┆            ┆            ┆            ┆           │\n",
       "│ 628      ┆ 00:54:49 ┆ 613    ┆ Christine  ┆ … ┆ null       ┆ null       ┆ null       ┆ null      │\n",
       "│          ┆          ┆        ┆ Jones      ┆   ┆            ┆            ┆            ┆           │\n",
       "│ 629      ┆ 00:56:27 ┆ 429    ┆ Kalpna     ┆ … ┆ null       ┆ null       ┆ null       ┆ null      │\n",
       "│          ┆          ┆        ┆ Robertson  ┆   ┆            ┆            ┆            ┆           │\n",
       "│ 630      ┆ 00:57:56 ┆ 151    ┆ Julie Abel ┆ … ┆ null       ┆ null       ┆ null       ┆ null      │\n",
       "│ 631      ┆ 00:58:30 ┆ 606    ┆ Jane Harle ┆ … ┆ null       ┆ null       ┆ null       ┆ null      │\n",
       "└──────────┴──────────┴────────┴────────────┴───┴────────────┴────────────┴────────────┴───────────┘"
      ],
      "text/html": [
       "<div><style>\n",
       ".dataframe > thead > tr,\n",
       ".dataframe > tbody > tr {\n",
       "  text-align: right;\n",
       "  white-space: pre-wrap;\n",
       "}\n",
       "</style>\n",
       "<small>shape: (48_712, 66)</small><table border=\"1\" class=\"dataframe\"><thead><tr><th>Position</th><th>Time</th><th>Bib Number</th><th>Name</th><th>Gender_F</th><th>Gender Position</th><th>Club</th><th>Points</th><th>RaceName_Downland Dash</th><th>RaceName_Fittleworth</th><th>RaceName_Great Walstead 5</th><th>RaceName_Gunpowder Trot</th><th>RaceName_Hangover-5</th><th>RaceName_Hedgehoppers 5</th><th>RaceName_Hickstead Gallop</th><th>RaceName_Highdown Hike</th><th>RaceName_Hornets Stinger</th><th>RaceName_Hove Park</th><th>RaceName_Lewes AC Easter Monday</th><th>RaceName_Run Your Heart Out 8k</th><th>RaceName_Seven Stiles</th><th>RaceName_Steepdown Challenge</th><th>RaceName_Steyning AC Roundhill Romp</th><th>RaceName_Tilgate 5</th><th>RaceName_Trundle View</th><th>RaceName_Valentine</th><th>RaceName_Windlesham-Whip</th><th>RaceName_Worthing Lido</th><th>year</th><th>month</th><th>day</th><th>date</th><th>exists</th><th>from_file</th><th>distance</th><th>pace</th><th>club_position</th><th>club_position_gender</th><th>is_pb</th><th>first_time_run</th><th>prior_quickest_run_in_year</th><th>prior_quickest_run_time</th><th>prior_quickest_run_position</th><th>prior_time_vs_current_change</th><th>prior_time_vs_current_time</th><th>fellow_club_mates_running</th><th>fellow_club_mates_running_male</th><th>fellow_club_mates_running_female</th><th>best_position_year_to_date</th><th>average_position_year_to_date</th><th>worst_position_year_to_date</th><th>best_points_year_to_date</th><th>average_points_year_to_date</th><th>worst_points_year_to_date</th><th>runs_in_wsfrl_year_to_date</th><th>runs_in_wsfrl</th><th>years_in_wsfrl</th><th>year_with_best_position</th><th>year_with_worst_position</th><th>best_position_all_time</th><th>worst_position_all_time</th><th>XC_Count_of_event</th><th>XC_Position_Min</th><th>XC_Position_Max</th><th>XC_Min_Age</th><th>XC_Max_Age</th></tr><tr><td>i64</td><td>str</td><td>i64</td><td>str</td><td>u8</td><td>f64</td><td>str</td><td>f64</td><td>u8</td><td>u8</td><td>u8</td><td>u8</td><td>u8</td><td>u8</td><td>u8</td><td>u8</td><td>u8</td><td>u8</td><td>u8</td><td>u8</td><td>u8</td><td>u8</td><td>u8</td><td>u8</td><td>u8</td><td>u8</td><td>u8</td><td>u8</td><td>i64</td><td>i64</td><td>i64</td><td>str</td><td>i64</td><td>str</td><td>f64</td><td>str</td><td>f64</td><td>f64</td><td>bool</td><td>bool</td><td>str</td><td>str</td><td>str</td><td>str</td><td>str</td><td>f64</td><td>f64</td><td>f64</td><td>f64</td><td>f64</td><td>f64</td><td>f64</td><td>f64</td><td>f64</td><td>f64</td><td>f64</td><td>f64</td><td>f64</td><td>f64</td><td>f64</td><td>f64</td><td>f64</td><td>f64</td><td>f64</td><td>f64</td><td>f64</td></tr></thead><tbody><tr><td>3</td><td>&quot;00:28:24&quot;</td><td>328</td><td>&quot;Andy Massingale&quot;</td><td>0</td><td>3.0</td><td>&quot;Henfield Joggers&quot;</td><td>10.0</td><td>0</td><td>0</td><td>0</td><td>0</td><td>0</td><td>0</td><td>0</td><td>0</td><td>0</td><td>0</td><td>0</td><td>0</td><td>0</td><td>0</td><td>0</td><td>0</td><td>0</td><td>0</td><td>0</td><td>0</td><td>2015</td><td>5</td><td>20</td><td>&quot;2015-05-20&quot;</td><td>1</td><td>&quot;20150520-Beach Run&quot;</td><td>8.0</td><td>&quot;0:03:33&quot;</td><td>1.0</td><td>1.0</td><td>false</td><td>true</td><td>null</td><td>&quot;nan&quot;</td><td>null</td><td>null</td><td>null</td><td>15.0</td><td>9.0</td><td>6.0</td><td>3.0</td><td>8.0</td><td>20.0</td><td>10.0</td><td>10.0</td><td>10.0</td><td>4.0</td><td>4.0</td><td>2.0</td><td>2014.0</td><td>2014.0</td><td>3.0</td><td>20.0</td><td>null</td><td>null</td><td>null</td><td>null</td><td>null</td></tr><tr><td>4</td><td>&quot;00:28:24&quot;</td><td>280</td><td>&quot;Jon Bess&quot;</td><td>0</td><td>4.0</td><td>&quot;Worthing Striders&quot;</td><td>10.0</td><td>0</td><td>0</td><td>0</td><td>0</td><td>0</td><td>0</td><td>0</td><td>0</td><td>0</td><td>0</td><td>0</td><td>0</td><td>0</td><td>0</td><td>0</td><td>0</td><td>0</td><td>0</td><td>0</td><td>0</td><td>2015</td><td>5</td><td>20</td><td>&quot;2015-05-20&quot;</td><td>1</td><td>&quot;20150520-Beach Run&quot;</td><td>8.0</td><td>&quot;0:03:33&quot;</td><td>1.0</td><td>1.0</td><td>false</td><td>true</td><td>null</td><td>&quot;nan&quot;</td><td>null</td><td>null</td><td>null</td><td>16.0</td><td>10.0</td><td>6.0</td><td>null</td><td>null</td><td>null</td><td>null</td><td>null</td><td>null</td><td>null</td><td>0.0</td><td>0.0</td><td>null</td><td>null</td><td>null</td><td>null</td><td>null</td><td>null</td><td>null</td><td>null</td><td>null</td></tr><tr><td>5</td><td>&quot;00:28:34&quot;</td><td>461</td><td>&quot;Tiarnan Cotter&quot;</td><td>0</td><td>5.0</td><td>&quot;Horsham Joggers&quot;</td><td>10.0</td><td>0</td><td>0</td><td>0</td><td>0</td><td>0</td><td>0</td><td>0</td><td>0</td><td>0</td><td>0</td><td>0</td><td>0</td><td>0</td><td>0</td><td>0</td><td>0</td><td>0</td><td>0</td><td>0</td><td>0</td><td>2015</td><td>5</td><td>20</td><td>&quot;2015-05-20&quot;</td><td>1</td><td>&quot;20150520-Beach Run&quot;</td><td>8.0</td><td>&quot;0:03:34.250000&quot;</td><td>1.0</td><td>1.0</td><td>false</td><td>true</td><td>null</td><td>&quot;nan&quot;</td><td>null</td><td>null</td><td>null</td><td>33.0</td><td>14.0</td><td>19.0</td><td>15.0</td><td>19.0</td><td>23.0</td><td>10.0</td><td>10.0</td><td>10.0</td><td>2.0</td><td>2.0</td><td>2.0</td><td>2014.0</td><td>2015.0</td><td>15.0</td><td>23.0</td><td>null</td><td>null</td><td>null</td><td>null</td><td>null</td></tr><tr><td>6</td><td>&quot;00:28:50&quot;</td><td>254</td><td>&quot;Paul Sargent&quot;</td><td>0</td><td>6.0</td><td>&quot;Burgess Hill Runners&quot;</td><td>10.0</td><td>0</td><td>0</td><td>0</td><td>0</td><td>0</td><td>0</td><td>0</td><td>0</td><td>0</td><td>0</td><td>0</td><td>0</td><td>0</td><td>0</td><td>0</td><td>0</td><td>0</td><td>0</td><td>0</td><td>0</td><td>2015</td><td>5</td><td>20</td><td>&quot;2015-05-20&quot;</td><td>1</td><td>&quot;20150520-Beach Run&quot;</td><td>8.0</td><td>&quot;0:03:36.250000&quot;</td><td>1.0</td><td>1.0</td><td>false</td><td>true</td><td>null</td><td>&quot;nan&quot;</td><td>null</td><td>null</td><td>null</td><td>47.0</td><td>28.0</td><td>19.0</td><td>6.0</td><td>7.0</td><td>8.0</td><td>10.0</td><td>10.0</td><td>10.0</td><td>2.0</td><td>3.0</td><td>2.0</td><td>2014.0</td><td>2014.0</td><td>6.0</td><td>54.0</td><td>null</td><td>null</td><td>null</td><td>null</td><td>null</td></tr><tr><td>7</td><td>&quot;00:29:11&quot;</td><td>167</td><td>&quot;Paul Cousins&quot;</td><td>0</td><td>7.0</td><td>&quot;Haywards Heath Harriers&quot;</td><td>10.0</td><td>0</td><td>0</td><td>0</td><td>0</td><td>0</td><td>0</td><td>0</td><td>0</td><td>0</td><td>0</td><td>0</td><td>0</td><td>0</td><td>0</td><td>0</td><td>0</td><td>0</td><td>0</td><td>0</td><td>0</td><td>2015</td><td>5</td><td>20</td><td>&quot;2015-05-20&quot;</td><td>1</td><td>&quot;20150520-Beach Run&quot;</td><td>8.0</td><td>&quot;0:03:38.875000&quot;</td><td>1.0</td><td>1.0</td><td>true</td><td>false</td><td>&quot;2014.0&quot;</td><td>&quot;00:29:34&quot;</td><td>&quot;4.0&quot;</td><td>&quot;up&quot;</td><td>&quot;00:23&quot;</td><td>13.0</td><td>8.0</td><td>5.0</td><td>2.0</td><td>20.0</td><td>132.0</td><td>10.0</td><td>9.0</td><td>7.0</td><td>9.0</td><td>10.0</td><td>2.0</td><td>2015.0</td><td>2014.0</td><td>2.0</td><td>132.0</td><td>6.0</td><td>2.0</td><td>40.0</td><td>21.0</td><td>55.0</td></tr><tr><td>&hellip;</td><td>&hellip;</td><td>&hellip;</td><td>&hellip;</td><td>&hellip;</td><td>&hellip;</td><td>&hellip;</td><td>&hellip;</td><td>&hellip;</td><td>&hellip;</td><td>&hellip;</td><td>&hellip;</td><td>&hellip;</td><td>&hellip;</td><td>&hellip;</td><td>&hellip;</td><td>&hellip;</td><td>&hellip;</td><td>&hellip;</td><td>&hellip;</td><td>&hellip;</td><td>&hellip;</td><td>&hellip;</td><td>&hellip;</td><td>&hellip;</td><td>&hellip;</td><td>&hellip;</td><td>&hellip;</td><td>&hellip;</td><td>&hellip;</td><td>&hellip;</td><td>&hellip;</td><td>&hellip;</td><td>&hellip;</td><td>&hellip;</td><td>&hellip;</td><td>&hellip;</td><td>&hellip;</td><td>&hellip;</td><td>&hellip;</td><td>&hellip;</td><td>&hellip;</td><td>&hellip;</td><td>&hellip;</td><td>&hellip;</td><td>&hellip;</td><td>&hellip;</td><td>&hellip;</td><td>&hellip;</td><td>&hellip;</td><td>&hellip;</td><td>&hellip;</td><td>&hellip;</td><td>&hellip;</td><td>&hellip;</td><td>&hellip;</td><td>&hellip;</td><td>&hellip;</td><td>&hellip;</td><td>&hellip;</td><td>&hellip;</td><td>&hellip;</td><td>&hellip;</td><td>&hellip;</td><td>&hellip;</td><td>&hellip;</td></tr><tr><td>627</td><td>&quot;00:47:41&quot;</td><td>631</td><td>&quot;Ann Savidge&quot;</td><td>1</td><td>303.0</td><td>&quot;Burgess Hill Runners&quot;</td><td>1.0</td><td>0</td><td>0</td><td>0</td><td>0</td><td>0</td><td>0</td><td>0</td><td>0</td><td>0</td><td>0</td><td>0</td><td>0</td><td>0</td><td>0</td><td>0</td><td>0</td><td>0</td><td>0</td><td>0</td><td>1</td><td>2016</td><td>1</td><td>31</td><td>&quot;2016-01-31&quot;</td><td>1</td><td>&quot;20160131-Worthing Lido&quot;</td><td>6.54</td><td>&quot;0:07:17.461774&quot;</td><td>92.0</td><td>52.0</td><td>false</td><td>false</td><td>&quot;2015.0&quot;</td><td>&quot;00:38:16&quot;</td><td>&quot;571.0&quot;</td><td>&quot;down&quot;</td><td>&quot;09:25&quot;</td><td>93.0</td><td>40.0</td><td>53.0</td><td>341.0</td><td>441.0</td><td>571.0</td><td>4.0</td><td>2.0</td><td>1.0</td><td>7.0</td><td>10.0</td><td>2.0</td><td>2014.0</td><td>2015.0</td><td>341.0</td><td>613.0</td><td>null</td><td>null</td><td>null</td><td>null</td><td>null</td></tr><tr><td>628</td><td>&quot;00:54:49&quot;</td><td>613</td><td>&quot;Christine Jones&quot;</td><td>1</td><td>304.0</td><td>&quot;Burgess Hill Runners&quot;</td><td>1.0</td><td>0</td><td>0</td><td>0</td><td>0</td><td>0</td><td>0</td><td>0</td><td>0</td><td>0</td><td>0</td><td>0</td><td>0</td><td>0</td><td>0</td><td>0</td><td>0</td><td>0</td><td>0</td><td>0</td><td>1</td><td>2016</td><td>1</td><td>31</td><td>&quot;2016-01-31&quot;</td><td>1</td><td>&quot;20160131-Worthing Lido&quot;</td><td>6.54</td><td>&quot;0:08:22.905199&quot;</td><td>93.0</td><td>53.0</td><td>false</td><td>true</td><td>null</td><td>&quot;nan&quot;</td><td>null</td><td>null</td><td>null</td><td>93.0</td><td>40.0</td><td>53.0</td><td>null</td><td>null</td><td>null</td><td>null</td><td>null</td><td>null</td><td>null</td><td>0.0</td><td>0.0</td><td>null</td><td>null</td><td>null</td><td>null</td><td>null</td><td>null</td><td>null</td><td>null</td><td>null</td></tr><tr><td>629</td><td>&quot;00:56:27&quot;</td><td>429</td><td>&quot;Kalpna Robertson&quot;</td><td>1</td><td>305.0</td><td>&quot;Lewes AC&quot;</td><td>1.0</td><td>0</td><td>0</td><td>0</td><td>0</td><td>0</td><td>0</td><td>0</td><td>0</td><td>0</td><td>0</td><td>0</td><td>0</td><td>0</td><td>0</td><td>0</td><td>0</td><td>0</td><td>0</td><td>0</td><td>1</td><td>2016</td><td>1</td><td>31</td><td>&quot;2016-01-31&quot;</td><td>1</td><td>&quot;20160131-Worthing Lido&quot;</td><td>6.54</td><td>&quot;0:08:37.889908&quot;</td><td>34.0</td><td>14.0</td><td>false</td><td>true</td><td>null</td><td>&quot;nan&quot;</td><td>null</td><td>null</td><td>null</td><td>33.0</td><td>20.0</td><td>13.0</td><td>null</td><td>null</td><td>null</td><td>null</td><td>null</td><td>null</td><td>null</td><td>0.0</td><td>0.0</td><td>null</td><td>null</td><td>null</td><td>null</td><td>null</td><td>null</td><td>null</td><td>null</td><td>null</td></tr><tr><td>630</td><td>&quot;00:57:56&quot;</td><td>151</td><td>&quot;Julie Abel&quot;</td><td>1</td><td>306.0</td><td>&quot;Goring Road Runners&quot;</td><td>1.0</td><td>0</td><td>0</td><td>0</td><td>0</td><td>0</td><td>0</td><td>0</td><td>0</td><td>0</td><td>0</td><td>0</td><td>0</td><td>0</td><td>0</td><td>0</td><td>0</td><td>0</td><td>0</td><td>0</td><td>1</td><td>2016</td><td>1</td><td>31</td><td>&quot;2016-01-31&quot;</td><td>1</td><td>&quot;20160131-Worthing Lido&quot;</td><td>6.54</td><td>&quot;0:08:51.498471&quot;</td><td>17.0</td><td>6.0</td><td>false</td><td>true</td><td>null</td><td>&quot;nan&quot;</td><td>null</td><td>null</td><td>null</td><td>16.0</td><td>11.0</td><td>5.0</td><td>null</td><td>null</td><td>null</td><td>null</td><td>null</td><td>null</td><td>null</td><td>0.0</td><td>0.0</td><td>null</td><td>null</td><td>null</td><td>null</td><td>null</td><td>null</td><td>null</td><td>null</td><td>null</td></tr><tr><td>631</td><td>&quot;00:58:30&quot;</td><td>606</td><td>&quot;Jane Harle&quot;</td><td>1</td><td>307.0</td><td>&quot;Burgess Hill Runners&quot;</td><td>1.0</td><td>0</td><td>0</td><td>0</td><td>0</td><td>0</td><td>0</td><td>0</td><td>0</td><td>0</td><td>0</td><td>0</td><td>0</td><td>0</td><td>0</td><td>0</td><td>0</td><td>0</td><td>0</td><td>0</td><td>1</td><td>2016</td><td>1</td><td>31</td><td>&quot;2016-01-31&quot;</td><td>1</td><td>&quot;20160131-Worthing Lido&quot;</td><td>6.54</td><td>&quot;0:08:56.697248&quot;</td><td>94.0</td><td>54.0</td><td>false</td><td>true</td><td>null</td><td>&quot;nan&quot;</td><td>null</td><td>null</td><td>null</td><td>93.0</td><td>40.0</td><td>53.0</td><td>null</td><td>null</td><td>null</td><td>null</td><td>null</td><td>null</td><td>null</td><td>0.0</td><td>0.0</td><td>null</td><td>null</td><td>null</td><td>null</td><td>null</td><td>null</td><td>null</td><td>null</td><td>null</td></tr></tbody></table></div>"
      ]
     },
     "metadata": {},
     "output_type": "display_data"
    }
   ],
   "execution_count": 14
  },
  {
   "metadata": {},
   "cell_type": "markdown",
   "source": [
    "## Split the data\n",
    "\n",
    "Remove the target column from the features. **is_pb**\n",
    "\n",
    "Features are the columns that will be used to predict the target variable. In this case, the features are all the columns except the is_pb column. \n"
   ],
   "id": "c156100424d41cc"
  },
  {
   "metadata": {
    "ExecuteTime": {
     "end_time": "2024-11-17T20:35:59.309830Z",
     "start_time": "2024-11-17T20:35:59.295665Z"
    }
   },
   "cell_type": "code",
   "source": [
    "pb_achieved_features_df = results_with_pb_with_dummies_df.drop( \"is_pb\")\n",
    "\n",
    "# drop non feature columns \n",
    "pb_achieved_features_df = pb_achieved_features_df.drop(\"Bib Number\", \"Name\", \"date\",\"Club\" )\n",
    "pb_achieved_features_df = pb_achieved_features_df.drop( \"Time\", \"prior_quickest_run_time\", \"pace\" )\n",
    "pb_achieved_features_df = pb_achieved_features_df.drop( \"prior_quickest_run_in_year\", \"prior_quickest_run_position\",\"prior_time_vs_current_change\", \"prior_time_vs_current_time\" )\n",
    "\n",
    "display(pb_achieved_features_df)\n",
    "\n",
    "pb_achieved_target_df = results_with_pb_df.select(\"is_pb\")"
   ],
   "id": "db078f045a2c7c59",
   "outputs": [
    {
     "data": {
      "text/plain": [
       "shape: (48_712, 47)\n",
       "┌──────────┬──────────┬────────────┬────────┬───┬────────────┬────────────┬────────────┬───────────┐\n",
       "│ Position ┆ Gender_F ┆ Gender     ┆ Points ┆ … ┆ year_with_ ┆ year_with_ ┆ best_posit ┆ worst_pos │\n",
       "│ ---      ┆ ---      ┆ Position   ┆ ---    ┆   ┆ best_posit ┆ worst_posi ┆ ion_all_ti ┆ ition_all │\n",
       "│ i64      ┆ u8       ┆ ---        ┆ f64    ┆   ┆ ion        ┆ tion       ┆ me         ┆ _time     │\n",
       "│          ┆          ┆ f64        ┆        ┆   ┆ ---        ┆ ---        ┆ ---        ┆ ---       │\n",
       "│          ┆          ┆            ┆        ┆   ┆ f64        ┆ f64        ┆ f64        ┆ f64       │\n",
       "╞══════════╪══════════╪════════════╪════════╪═══╪════════════╪════════════╪════════════╪═══════════╡\n",
       "│ 3        ┆ 0        ┆ 3.0        ┆ 10.0   ┆ … ┆ 2014.0     ┆ 2014.0     ┆ 3.0        ┆ 20.0      │\n",
       "│ 4        ┆ 0        ┆ 4.0        ┆ 10.0   ┆ … ┆ null       ┆ null       ┆ null       ┆ null      │\n",
       "│ 5        ┆ 0        ┆ 5.0        ┆ 10.0   ┆ … ┆ 2014.0     ┆ 2015.0     ┆ 15.0       ┆ 23.0      │\n",
       "│ 6        ┆ 0        ┆ 6.0        ┆ 10.0   ┆ … ┆ 2014.0     ┆ 2014.0     ┆ 6.0        ┆ 54.0      │\n",
       "│ 7        ┆ 0        ┆ 7.0        ┆ 10.0   ┆ … ┆ 2015.0     ┆ 2014.0     ┆ 2.0        ┆ 132.0     │\n",
       "│ …        ┆ …        ┆ …          ┆ …      ┆ … ┆ …          ┆ …          ┆ …          ┆ …         │\n",
       "│ 627      ┆ 1        ┆ 303.0      ┆ 1.0    ┆ … ┆ 2014.0     ┆ 2015.0     ┆ 341.0      ┆ 613.0     │\n",
       "│ 628      ┆ 1        ┆ 304.0      ┆ 1.0    ┆ … ┆ null       ┆ null       ┆ null       ┆ null      │\n",
       "│ 629      ┆ 1        ┆ 305.0      ┆ 1.0    ┆ … ┆ null       ┆ null       ┆ null       ┆ null      │\n",
       "│ 630      ┆ 1        ┆ 306.0      ┆ 1.0    ┆ … ┆ null       ┆ null       ┆ null       ┆ null      │\n",
       "│ 631      ┆ 1        ┆ 307.0      ┆ 1.0    ┆ … ┆ null       ┆ null       ┆ null       ┆ null      │\n",
       "└──────────┴──────────┴────────────┴────────┴───┴────────────┴────────────┴────────────┴───────────┘"
      ],
      "text/html": [
       "<div><style>\n",
       ".dataframe > thead > tr,\n",
       ".dataframe > tbody > tr {\n",
       "  text-align: right;\n",
       "  white-space: pre-wrap;\n",
       "}\n",
       "</style>\n",
       "<small>shape: (48_712, 47)</small><table border=\"1\" class=\"dataframe\"><thead><tr><th>Position</th><th>Gender_F</th><th>Gender Position</th><th>Points</th><th>RaceName_Downland Dash</th><th>RaceName_Fittleworth</th><th>RaceName_Great Walstead 5</th><th>RaceName_Gunpowder Trot</th><th>RaceName_Hangover-5</th><th>RaceName_Hedgehoppers 5</th><th>RaceName_Hickstead Gallop</th><th>RaceName_Highdown Hike</th><th>RaceName_Hornets Stinger</th><th>RaceName_Hove Park</th><th>RaceName_Lewes AC Easter Monday</th><th>RaceName_Run Your Heart Out 8k</th><th>RaceName_Seven Stiles</th><th>RaceName_Steepdown Challenge</th><th>RaceName_Steyning AC Roundhill Romp</th><th>RaceName_Tilgate 5</th><th>RaceName_Trundle View</th><th>RaceName_Valentine</th><th>RaceName_Windlesham-Whip</th><th>RaceName_Worthing Lido</th><th>year</th><th>month</th><th>day</th><th>distance</th><th>club_position</th><th>club_position_gender</th><th>first_time_run</th><th>fellow_club_mates_running</th><th>fellow_club_mates_running_male</th><th>fellow_club_mates_running_female</th><th>best_position_year_to_date</th><th>average_position_year_to_date</th><th>worst_position_year_to_date</th><th>best_points_year_to_date</th><th>average_points_year_to_date</th><th>worst_points_year_to_date</th><th>runs_in_wsfrl_year_to_date</th><th>runs_in_wsfrl</th><th>years_in_wsfrl</th><th>year_with_best_position</th><th>year_with_worst_position</th><th>best_position_all_time</th><th>worst_position_all_time</th></tr><tr><td>i64</td><td>u8</td><td>f64</td><td>f64</td><td>u8</td><td>u8</td><td>u8</td><td>u8</td><td>u8</td><td>u8</td><td>u8</td><td>u8</td><td>u8</td><td>u8</td><td>u8</td><td>u8</td><td>u8</td><td>u8</td><td>u8</td><td>u8</td><td>u8</td><td>u8</td><td>u8</td><td>u8</td><td>i64</td><td>i64</td><td>i64</td><td>f64</td><td>f64</td><td>f64</td><td>bool</td><td>f64</td><td>f64</td><td>f64</td><td>f64</td><td>f64</td><td>f64</td><td>f64</td><td>f64</td><td>f64</td><td>f64</td><td>f64</td><td>f64</td><td>f64</td><td>f64</td><td>f64</td><td>f64</td></tr></thead><tbody><tr><td>3</td><td>0</td><td>3.0</td><td>10.0</td><td>0</td><td>0</td><td>0</td><td>0</td><td>0</td><td>0</td><td>0</td><td>0</td><td>0</td><td>0</td><td>0</td><td>0</td><td>0</td><td>0</td><td>0</td><td>0</td><td>0</td><td>0</td><td>0</td><td>0</td><td>2015</td><td>5</td><td>20</td><td>8.0</td><td>1.0</td><td>1.0</td><td>true</td><td>15.0</td><td>9.0</td><td>6.0</td><td>3.0</td><td>8.0</td><td>20.0</td><td>10.0</td><td>10.0</td><td>10.0</td><td>4.0</td><td>4.0</td><td>2.0</td><td>2014.0</td><td>2014.0</td><td>3.0</td><td>20.0</td></tr><tr><td>4</td><td>0</td><td>4.0</td><td>10.0</td><td>0</td><td>0</td><td>0</td><td>0</td><td>0</td><td>0</td><td>0</td><td>0</td><td>0</td><td>0</td><td>0</td><td>0</td><td>0</td><td>0</td><td>0</td><td>0</td><td>0</td><td>0</td><td>0</td><td>0</td><td>2015</td><td>5</td><td>20</td><td>8.0</td><td>1.0</td><td>1.0</td><td>true</td><td>16.0</td><td>10.0</td><td>6.0</td><td>null</td><td>null</td><td>null</td><td>null</td><td>null</td><td>null</td><td>null</td><td>0.0</td><td>0.0</td><td>null</td><td>null</td><td>null</td><td>null</td></tr><tr><td>5</td><td>0</td><td>5.0</td><td>10.0</td><td>0</td><td>0</td><td>0</td><td>0</td><td>0</td><td>0</td><td>0</td><td>0</td><td>0</td><td>0</td><td>0</td><td>0</td><td>0</td><td>0</td><td>0</td><td>0</td><td>0</td><td>0</td><td>0</td><td>0</td><td>2015</td><td>5</td><td>20</td><td>8.0</td><td>1.0</td><td>1.0</td><td>true</td><td>33.0</td><td>14.0</td><td>19.0</td><td>15.0</td><td>19.0</td><td>23.0</td><td>10.0</td><td>10.0</td><td>10.0</td><td>2.0</td><td>2.0</td><td>2.0</td><td>2014.0</td><td>2015.0</td><td>15.0</td><td>23.0</td></tr><tr><td>6</td><td>0</td><td>6.0</td><td>10.0</td><td>0</td><td>0</td><td>0</td><td>0</td><td>0</td><td>0</td><td>0</td><td>0</td><td>0</td><td>0</td><td>0</td><td>0</td><td>0</td><td>0</td><td>0</td><td>0</td><td>0</td><td>0</td><td>0</td><td>0</td><td>2015</td><td>5</td><td>20</td><td>8.0</td><td>1.0</td><td>1.0</td><td>true</td><td>47.0</td><td>28.0</td><td>19.0</td><td>6.0</td><td>7.0</td><td>8.0</td><td>10.0</td><td>10.0</td><td>10.0</td><td>2.0</td><td>3.0</td><td>2.0</td><td>2014.0</td><td>2014.0</td><td>6.0</td><td>54.0</td></tr><tr><td>7</td><td>0</td><td>7.0</td><td>10.0</td><td>0</td><td>0</td><td>0</td><td>0</td><td>0</td><td>0</td><td>0</td><td>0</td><td>0</td><td>0</td><td>0</td><td>0</td><td>0</td><td>0</td><td>0</td><td>0</td><td>0</td><td>0</td><td>0</td><td>0</td><td>2015</td><td>5</td><td>20</td><td>8.0</td><td>1.0</td><td>1.0</td><td>false</td><td>13.0</td><td>8.0</td><td>5.0</td><td>2.0</td><td>20.0</td><td>132.0</td><td>10.0</td><td>9.0</td><td>7.0</td><td>9.0</td><td>10.0</td><td>2.0</td><td>2015.0</td><td>2014.0</td><td>2.0</td><td>132.0</td></tr><tr><td>&hellip;</td><td>&hellip;</td><td>&hellip;</td><td>&hellip;</td><td>&hellip;</td><td>&hellip;</td><td>&hellip;</td><td>&hellip;</td><td>&hellip;</td><td>&hellip;</td><td>&hellip;</td><td>&hellip;</td><td>&hellip;</td><td>&hellip;</td><td>&hellip;</td><td>&hellip;</td><td>&hellip;</td><td>&hellip;</td><td>&hellip;</td><td>&hellip;</td><td>&hellip;</td><td>&hellip;</td><td>&hellip;</td><td>&hellip;</td><td>&hellip;</td><td>&hellip;</td><td>&hellip;</td><td>&hellip;</td><td>&hellip;</td><td>&hellip;</td><td>&hellip;</td><td>&hellip;</td><td>&hellip;</td><td>&hellip;</td><td>&hellip;</td><td>&hellip;</td><td>&hellip;</td><td>&hellip;</td><td>&hellip;</td><td>&hellip;</td><td>&hellip;</td><td>&hellip;</td><td>&hellip;</td><td>&hellip;</td><td>&hellip;</td><td>&hellip;</td><td>&hellip;</td></tr><tr><td>627</td><td>1</td><td>303.0</td><td>1.0</td><td>0</td><td>0</td><td>0</td><td>0</td><td>0</td><td>0</td><td>0</td><td>0</td><td>0</td><td>0</td><td>0</td><td>0</td><td>0</td><td>0</td><td>0</td><td>0</td><td>0</td><td>0</td><td>0</td><td>1</td><td>2016</td><td>1</td><td>31</td><td>6.54</td><td>92.0</td><td>52.0</td><td>false</td><td>93.0</td><td>40.0</td><td>53.0</td><td>341.0</td><td>441.0</td><td>571.0</td><td>4.0</td><td>2.0</td><td>1.0</td><td>7.0</td><td>10.0</td><td>2.0</td><td>2014.0</td><td>2015.0</td><td>341.0</td><td>613.0</td></tr><tr><td>628</td><td>1</td><td>304.0</td><td>1.0</td><td>0</td><td>0</td><td>0</td><td>0</td><td>0</td><td>0</td><td>0</td><td>0</td><td>0</td><td>0</td><td>0</td><td>0</td><td>0</td><td>0</td><td>0</td><td>0</td><td>0</td><td>0</td><td>0</td><td>1</td><td>2016</td><td>1</td><td>31</td><td>6.54</td><td>93.0</td><td>53.0</td><td>true</td><td>93.0</td><td>40.0</td><td>53.0</td><td>null</td><td>null</td><td>null</td><td>null</td><td>null</td><td>null</td><td>null</td><td>0.0</td><td>0.0</td><td>null</td><td>null</td><td>null</td><td>null</td></tr><tr><td>629</td><td>1</td><td>305.0</td><td>1.0</td><td>0</td><td>0</td><td>0</td><td>0</td><td>0</td><td>0</td><td>0</td><td>0</td><td>0</td><td>0</td><td>0</td><td>0</td><td>0</td><td>0</td><td>0</td><td>0</td><td>0</td><td>0</td><td>0</td><td>1</td><td>2016</td><td>1</td><td>31</td><td>6.54</td><td>34.0</td><td>14.0</td><td>true</td><td>33.0</td><td>20.0</td><td>13.0</td><td>null</td><td>null</td><td>null</td><td>null</td><td>null</td><td>null</td><td>null</td><td>0.0</td><td>0.0</td><td>null</td><td>null</td><td>null</td><td>null</td></tr><tr><td>630</td><td>1</td><td>306.0</td><td>1.0</td><td>0</td><td>0</td><td>0</td><td>0</td><td>0</td><td>0</td><td>0</td><td>0</td><td>0</td><td>0</td><td>0</td><td>0</td><td>0</td><td>0</td><td>0</td><td>0</td><td>0</td><td>0</td><td>0</td><td>1</td><td>2016</td><td>1</td><td>31</td><td>6.54</td><td>17.0</td><td>6.0</td><td>true</td><td>16.0</td><td>11.0</td><td>5.0</td><td>null</td><td>null</td><td>null</td><td>null</td><td>null</td><td>null</td><td>null</td><td>0.0</td><td>0.0</td><td>null</td><td>null</td><td>null</td><td>null</td></tr><tr><td>631</td><td>1</td><td>307.0</td><td>1.0</td><td>0</td><td>0</td><td>0</td><td>0</td><td>0</td><td>0</td><td>0</td><td>0</td><td>0</td><td>0</td><td>0</td><td>0</td><td>0</td><td>0</td><td>0</td><td>0</td><td>0</td><td>0</td><td>0</td><td>1</td><td>2016</td><td>1</td><td>31</td><td>6.54</td><td>94.0</td><td>54.0</td><td>true</td><td>93.0</td><td>40.0</td><td>53.0</td><td>null</td><td>null</td><td>null</td><td>null</td><td>null</td><td>null</td><td>null</td><td>0.0</td><td>0.0</td><td>null</td><td>null</td><td>null</td><td>null</td></tr></tbody></table></div>"
      ]
     },
     "metadata": {},
     "output_type": "display_data"
    }
   ],
   "execution_count": 42
  },
  {
   "metadata": {
    "ExecuteTime": {
     "end_time": "2024-11-17T20:36:22.347708Z",
     "start_time": "2024-11-17T20:36:22.326156Z"
    }
   },
   "cell_type": "code",
   "source": [
    "from sklearn.model_selection import train_test_split\n",
    "from sklearn.preprocessing import StandardScaler\n",
    "\n",
    "SEED = 123\n",
    "\n",
    "(\n",
    "    pb_achieved_feature_train_df,\n",
    "    pb_achieved_feature_test_df,\n",
    "    pb_achieved_target_train_df,\n",
    "    pb_achieved_target_test_df,\n",
    ") = train_test_split(\n",
    "    pb_achieved_features_df,\n",
    "    pb_achieved_target_df,\n",
    "    test_size=0.30,\n",
    "    random_state=SEED,\n",
    ")\n",
    "\n"
   ],
   "id": "4f17771ac574c915",
   "outputs": [],
   "execution_count": 43
  },
  {
   "metadata": {},
   "cell_type": "markdown",
   "source": [
    "## Scale the data\n",
    "\n",
    "It is important to scale the data so that the model is not distorted by really large values.\n",
    "\n",
    "### My notes are \n",
    "- Dimensionality reduction, which \n",
    "1. Rotates the data. Some like 45 degrees\n",
    "2. Keeps the same data but reduce the complexity\n",
    "- Principal Component Analysis (PCA) is a technique that can be used to reduce the dimensionality of the data.\n",
    "\n",
    "### Notes from Copilot\n",
    "The StandardScaler standardizes a feature by subtracting the mean and then scaling to unit variance. Unit variance means dividing all the values by the standard deviation."
   ],
   "id": "a4d2a12e867c327"
  },
  {
   "metadata": {
    "ExecuteTime": {
     "end_time": "2024-11-17T20:36:25.762359Z",
     "start_time": "2024-11-17T20:36:25.668792Z"
    }
   },
   "cell_type": "code",
   "source": [
    "scaler = StandardScaler()\n",
    "\n",
    "pb_achieved_feature_train_scaled_df = scaler.fit_transform(\n",
    "    pb_achieved_feature_train_df\n",
    ")\n",
    "\n",
    "pb_achieved_feature_test_scaled_df = scaler.fit_transform(\n",
    "    pb_achieved_feature_test_df\n",
    ")"
   ],
   "id": "cb450ce7eb86a2b",
   "outputs": [],
   "execution_count": 44
  },
  {
   "metadata": {},
   "cell_type": "code",
   "outputs": [],
   "execution_count": null,
   "source": "",
   "id": "612b9e687674fcd7"
  }
 ],
 "metadata": {
  "kernelspec": {
   "display_name": "Python 3",
   "language": "python",
   "name": "python3"
  },
  "language_info": {
   "codemirror_mode": {
    "name": "ipython",
    "version": 2
   },
   "file_extension": ".py",
   "mimetype": "text/x-python",
   "name": "python",
   "nbconvert_exporter": "python",
   "pygments_lexer": "ipython2",
   "version": "2.7.6"
  }
 },
 "nbformat": 4,
 "nbformat_minor": 5
}
