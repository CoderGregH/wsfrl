{
 "cells": [
  {
   "metadata": {
    "ExecuteTime": {
     "end_time": "2024-12-02T22:14:32.986694Z",
     "start_time": "2024-12-02T22:14:31.630817Z"
    }
   },
   "cell_type": "code",
   "source": [
    "import polars as pl\n",
    "import pandas as pd\n",
    "from IPython.display import display"
   ],
   "id": "51bfd0e896399683",
   "outputs": [],
   "execution_count": 1
  },
  {
   "metadata": {},
   "cell_type": "markdown",
   "source": [
    "## Load \n",
    "\n",
    "Load from CSV and clean up the data\n",
    "1. Remove all rows where the year is 2014 because its the first year there are no pbs\n",
    "2. Clean up gender as it contains \"M\" or \"Male\" and \"F\" or \"Female\". Just take the first character for simplity\n",
    "3. Data Types"
   ],
   "id": "4a85084a0caa13f8"
  },
  {
   "metadata": {
    "ExecuteTime": {
     "end_time": "2024-12-02T22:14:33.436176Z",
     "start_time": "2024-12-02T22:14:33.291137Z"
    }
   },
   "cell_type": "code",
   "source": [
    "results_with_pb_df: pl.DataFrame = pl.read_csv(\"data/withpb_and_age-all-results.csv\")\n",
    "\n",
    "\n",
    "results_with_pb_df = results_with_pb_df.drop(\"XC_Count_of_event\", \"XC_Position_Min\", \"XC_Position_Max\", \"XC_Min_Age\", \"XC_Max_Age\",\"exists\", \"from_file\")\n",
    "\n",
    "# Gender Clean up\n",
    "results_with_pb_df = results_with_pb_df.with_columns(\n",
    "    pl.col(\"Gender\").str.slice(0, 1).alias(\"Gender\")\n",
    ")\n",
    "\n",
    "results_with_pb_df = results_with_pb_df.with_columns(\n",
    "    pl.col(\"is_pb\").cast(pl.Boolean),\n",
    "    pl.col(\"first_time_run\").cast(pl.Boolean)\n",
    ")\n",
    "\n",
    "display(results_with_pb_df)\n",
    "\n",
    "\n"
   ],
   "id": "2b10735d1d46f4ef",
   "outputs": [
    {
     "data": {
      "text/plain": [
       "shape: (55_523, 65)\n",
       "┌──────────┬──────────┬───────────────┬────────────┬───┬─────────────┬─────────┬─────────┬─────────┐\n",
       "│ Position ┆ Time     ┆ time_in_secon ┆ Bib Number ┆ … ┆ average_age ┆ min_dob ┆ max_dob ┆ avg_dob │\n",
       "│ ---      ┆ ---      ┆ ds            ┆ ---        ┆   ┆ ---         ┆ ---     ┆ ---     ┆ ---     │\n",
       "│ i64      ┆ str      ┆ ---           ┆ i64        ┆   ┆ f64         ┆ f64     ┆ f64     ┆ f64     │\n",
       "│          ┆          ┆ f64           ┆            ┆   ┆             ┆         ┆         ┆         │\n",
       "╞══════════╪══════════╪═══════════════╪════════════╪═══╪═════════════╪═════════╪═════════╪═════════╡\n",
       "│ 3        ┆ 00:29:14 ┆ 1754.0        ┆ 880        ┆ … ┆ 42.0        ┆ 1974.0  ┆ 1970.0  ┆ 1972.0  │\n",
       "│ 4        ┆ 00:29:34 ┆ 1774.0        ┆ 588        ┆ … ┆ 52.0        ┆ 1964.0  ┆ 1960.0  ┆ 1962.0  │\n",
       "│ 5        ┆ 00:29:47 ┆ 1787.0        ┆ 902        ┆ … ┆ 37.0        ┆ 1979.0  ┆ 1975.0  ┆ 1977.0  │\n",
       "│ 6        ┆ 00:30:07 ┆ 1807.0        ┆ 918        ┆ … ┆ 18.5        ┆ 2001.0  ┆ 1990.0  ┆ 1995.5  │\n",
       "│ 7        ┆ 00:30:09 ┆ 1809.0        ┆ 530        ┆ … ┆ null        ┆ null    ┆ null    ┆ null    │\n",
       "│ …        ┆ …        ┆ …             ┆ …          ┆ … ┆ …           ┆ …       ┆ …       ┆ …       │\n",
       "│ 627      ┆ 00:47:41 ┆ 2861.0        ┆ 631        ┆ … ┆ 59.0        ┆ 1959.0  ┆ 1955.0  ┆ 1957.0  │\n",
       "│ 628      ┆ 00:54:49 ┆ 3289.0        ┆ 613        ┆ … ┆ 64.0        ┆ 1954.0  ┆ 1950.0  ┆ 1952.0  │\n",
       "│ 629      ┆ 00:56:27 ┆ 3387.0        ┆ 429        ┆ … ┆ null        ┆ null    ┆ null    ┆ null    │\n",
       "│ 630      ┆ 00:57:56 ┆ 3476.0        ┆ 151        ┆ … ┆ null        ┆ null    ┆ null    ┆ null    │\n",
       "│ 631      ┆ 00:58:30 ┆ 3510.0        ┆ 606        ┆ … ┆ 49.0        ┆ 1969.0  ┆ 1965.0  ┆ 1967.0  │\n",
       "└──────────┴──────────┴───────────────┴────────────┴───┴─────────────┴─────────┴─────────┴─────────┘"
      ],
      "text/html": [
       "<div><style>\n",
       ".dataframe > thead > tr,\n",
       ".dataframe > tbody > tr {\n",
       "  text-align: right;\n",
       "  white-space: pre-wrap;\n",
       "}\n",
       "</style>\n",
       "<small>shape: (55_523, 65)</small><table border=\"1\" class=\"dataframe\"><thead><tr><th>Position</th><th>Time</th><th>time_in_seconds</th><th>Bib Number</th><th>Name</th><th>Gender</th><th>Gender Position</th><th>Club</th><th>is_club_member</th><th>Points</th><th>RaceName</th><th>year</th><th>month</th><th>day</th><th>date</th><th>distance</th><th>pace</th><th>club_position</th><th>club_position_gender</th><th>is_pb</th><th>first_time_run</th><th>prior_run_attempts</th><th>prior_quickest_run_in_year</th><th>prior_quickest_run_time</th><th>prior_quickest_run_time_in_seconds</th><th>prior_quickest_run_position</th><th>prior_time_vs_current_change</th><th>prior_time_vs_current_time</th><th>prior_quickest_vs_run_time</th><th>fellow_club_mates_running</th><th>fellow_club_mates_running_male</th><th>fellow_club_mates_running_female</th><th>best_position_year_to_date</th><th>average_position_year_to_date</th><th>worst_position_year_to_date</th><th>best_points_year_to_date</th><th>average_points_year_to_date</th><th>worst_points_year_to_date</th><th>runs_in_wsfrl_year_to_date</th><th>wsfrl_tenure_in_runs</th><th>wsfrl_tenure_in_years</th><th>position_record_years_since_best</th><th>position_record_years_since_worst</th><th>position_record_best_year</th><th>position_record_worst_year</th><th>position_record_best_position_all_time</th><th>position_record_average_position_all_time</th><th>position_record_worst_position_all_time</th><th>p_of_10_firstname</th><th>p_of_10_surname</th><th>p_of_10_track_age_category</th><th>p_of_10_road_age_category</th><th>p_of_10_xc_age_category</th><th>p_of_10_gender</th><th>p_of_10_club</th><th>p_of_10_athlete_id</th><th>match_type</th><th>matches</th><th>parameters_used</th><th>min_age</th><th>max_age</th><th>average_age</th><th>min_dob</th><th>max_dob</th><th>avg_dob</th></tr><tr><td>i64</td><td>str</td><td>f64</td><td>i64</td><td>str</td><td>str</td><td>f64</td><td>str</td><td>bool</td><td>f64</td><td>str</td><td>i64</td><td>i64</td><td>i64</td><td>str</td><td>f64</td><td>str</td><td>f64</td><td>f64</td><td>bool</td><td>bool</td><td>f64</td><td>str</td><td>str</td><td>str</td><td>str</td><td>str</td><td>str</td><td>str</td><td>f64</td><td>f64</td><td>f64</td><td>f64</td><td>f64</td><td>f64</td><td>f64</td><td>f64</td><td>f64</td><td>f64</td><td>f64</td><td>f64</td><td>f64</td><td>f64</td><td>f64</td><td>f64</td><td>f64</td><td>f64</td><td>f64</td><td>str</td><td>str</td><td>str</td><td>str</td><td>str</td><td>str</td><td>str</td><td>f64</td><td>str</td><td>f64</td><td>str</td><td>f64</td><td>f64</td><td>f64</td><td>f64</td><td>f64</td><td>f64</td></tr></thead><tbody><tr><td>3</td><td>&quot;00:29:14&quot;</td><td>1754.0</td><td>880</td><td>&quot;Andrew Masters&quot;</td><td>&quot;M&quot;</td><td>3.0</td><td>&quot;Lewes AC&quot;</td><td>true</td><td>10.0</td><td>&quot;Beach Run&quot;</td><td>2014</td><td>7</td><td>16</td><td>&quot;2014-07-16&quot;</td><td>8.0</td><td>&quot;0:03:39.250000&quot;</td><td>1.0</td><td>1.0</td><td>false</td><td>true</td><td>0.0</td><td>null</td><td>null</td><td>null</td><td>null</td><td>null</td><td>null</td><td>null</td><td>24.0</td><td>16.0</td><td>8.0</td><td>12.0</td><td>12.0</td><td>12.0</td><td>10.0</td><td>10.0</td><td>10.0</td><td>1.0</td><td>1.0</td><td>1.0</td><td>0.0</td><td>0.0</td><td>2014.0</td><td>2014.0</td><td>12.0</td><td>12.0</td><td>12.0</td><td>&quot;Andrew&quot;</td><td>&quot;Masters&quot;</td><td>&quot;V50&quot;</td><td>&quot;V50&quot;</td><td>&quot;V50&quot;</td><td>&quot;M&quot;</td><td>&quot;Lewes/West 4/Wimbledon Windmil…</td><td>80881.0</td><td>&quot;match&quot;</td><td>1.0</td><td>&quot;all&quot;</td><td>40.0</td><td>44.0</td><td>42.0</td><td>1974.0</td><td>1970.0</td><td>1972.0</td></tr><tr><td>4</td><td>&quot;00:29:34&quot;</td><td>1774.0</td><td>588</td><td>&quot;Paul Cousins&quot;</td><td>&quot;M&quot;</td><td>4.0</td><td>&quot;Haywards Heath Harriers&quot;</td><td>true</td><td>10.0</td><td>&quot;Beach Run&quot;</td><td>2014</td><td>7</td><td>16</td><td>&quot;2014-07-16&quot;</td><td>8.0</td><td>&quot;0:03:41.750000&quot;</td><td>1.0</td><td>1.0</td><td>false</td><td>true</td><td>0.0</td><td>null</td><td>null</td><td>null</td><td>null</td><td>null</td><td>null</td><td>null</td><td>9.0</td><td>5.0</td><td>4.0</td><td>2.0</td><td>5.0</td><td>7.0</td><td>10.0</td><td>10.0</td><td>10.0</td><td>3.0</td><td>3.0</td><td>1.0</td><td>0.0</td><td>0.0</td><td>2014.0</td><td>2014.0</td><td>2.0</td><td>5.0</td><td>7.0</td><td>&quot;Paul&quot;</td><td>&quot;Cousins&quot;</td><td>&quot;V60&quot;</td><td>&quot;V60&quot;</td><td>&quot;V60&quot;</td><td>&quot;M&quot;</td><td>&quot;Haywards Heath&quot;</td><td>9998.0</td><td>&quot;match&quot;</td><td>1.0</td><td>&quot;all&quot;</td><td>50.0</td><td>54.0</td><td>52.0</td><td>1964.0</td><td>1960.0</td><td>1962.0</td></tr><tr><td>5</td><td>&quot;00:29:47&quot;</td><td>1787.0</td><td>902</td><td>&quot;Michael Neville&quot;</td><td>&quot;M&quot;</td><td>5.0</td><td>&quot;Chichester Runners&quot;</td><td>true</td><td>10.0</td><td>&quot;Beach Run&quot;</td><td>2014</td><td>7</td><td>16</td><td>&quot;2014-07-16&quot;</td><td>8.0</td><td>&quot;0:03:43.375000&quot;</td><td>1.0</td><td>1.0</td><td>false</td><td>true</td><td>0.0</td><td>null</td><td>null</td><td>null</td><td>null</td><td>null</td><td>null</td><td>null</td><td>38.0</td><td>21.0</td><td>17.0</td><td>null</td><td>null</td><td>null</td><td>null</td><td>null</td><td>null</td><td>0.0</td><td>0.0</td><td>0.0</td><td>null</td><td>null</td><td>null</td><td>null</td><td>null</td><td>null</td><td>null</td><td>&quot;Michael&quot;</td><td>&quot;Neville&quot;</td><td>&quot;V45&quot;</td><td>&quot;V45&quot;</td><td>&quot;V45&quot;</td><td>&quot;M&quot;</td><td>&quot;Chichester&quot;</td><td>43629.0</td><td>&quot;match&quot;</td><td>1.0</td><td>&quot;all&quot;</td><td>35.0</td><td>39.0</td><td>37.0</td><td>1979.0</td><td>1975.0</td><td>1977.0</td></tr><tr><td>6</td><td>&quot;00:30:07&quot;</td><td>1807.0</td><td>918</td><td>&quot;Conrad Meagher&quot;</td><td>&quot;M&quot;</td><td>6.0</td><td>&quot;Chichester Runners&quot;</td><td>true</td><td>10.0</td><td>&quot;Beach Run&quot;</td><td>2014</td><td>7</td><td>16</td><td>&quot;2014-07-16&quot;</td><td>8.0</td><td>&quot;0:03:45.875000&quot;</td><td>2.0</td><td>2.0</td><td>false</td><td>true</td><td>0.0</td><td>null</td><td>null</td><td>null</td><td>null</td><td>null</td><td>null</td><td>null</td><td>38.0</td><td>21.0</td><td>17.0</td><td>null</td><td>null</td><td>null</td><td>null</td><td>null</td><td>null</td><td>0.0</td><td>0.0</td><td>0.0</td><td>null</td><td>null</td><td>null</td><td>null</td><td>null</td><td>null</td><td>null</td><td>&quot;Conrad&quot;</td><td>&quot;Meagher&quot;</td><td>&quot;SEN&quot;</td><td>&quot;SEN&quot;</td><td>&quot;SEN&quot;</td><td>&quot;M&quot;</td><td>&quot;Havant&quot;</td><td>566746.0</td><td>&quot;match&quot;</td><td>1.0</td><td>&quot;no_club&quot;</td><td>13.0</td><td>24.0</td><td>18.5</td><td>2001.0</td><td>1990.0</td><td>1995.5</td></tr><tr><td>7</td><td>&quot;00:30:09&quot;</td><td>1809.0</td><td>530</td><td>&quot;John Russell&quot;</td><td>&quot;M&quot;</td><td>7.0</td><td>&quot;Portslade Hedgehoppers&quot;</td><td>true</td><td>10.0</td><td>&quot;Beach Run&quot;</td><td>2014</td><td>7</td><td>16</td><td>&quot;2014-07-16&quot;</td><td>8.0</td><td>&quot;0:03:46.125000&quot;</td><td>1.0</td><td>1.0</td><td>false</td><td>true</td><td>0.0</td><td>null</td><td>null</td><td>null</td><td>null</td><td>null</td><td>null</td><td>null</td><td>23.0</td><td>15.0</td><td>8.0</td><td>10.0</td><td>27.0</td><td>72.0</td><td>10.0</td><td>9.0</td><td>8.0</td><td>10.0</td><td>10.0</td><td>1.0</td><td>0.0</td><td>0.0</td><td>2014.0</td><td>2014.0</td><td>10.0</td><td>27.0</td><td>72.0</td><td>null</td><td>null</td><td>&quot;TBC&quot;</td><td>&quot;TBC&quot;</td><td>&quot;TBC&quot;</td><td>&quot;n&quot;</td><td>null</td><td>null</td><td>&quot;missing&quot;</td><td>0.0</td><td>&quot;not found&quot;</td><td>null</td><td>null</td><td>null</td><td>null</td><td>null</td><td>null</td></tr><tr><td>&hellip;</td><td>&hellip;</td><td>&hellip;</td><td>&hellip;</td><td>&hellip;</td><td>&hellip;</td><td>&hellip;</td><td>&hellip;</td><td>&hellip;</td><td>&hellip;</td><td>&hellip;</td><td>&hellip;</td><td>&hellip;</td><td>&hellip;</td><td>&hellip;</td><td>&hellip;</td><td>&hellip;</td><td>&hellip;</td><td>&hellip;</td><td>&hellip;</td><td>&hellip;</td><td>&hellip;</td><td>&hellip;</td><td>&hellip;</td><td>&hellip;</td><td>&hellip;</td><td>&hellip;</td><td>&hellip;</td><td>&hellip;</td><td>&hellip;</td><td>&hellip;</td><td>&hellip;</td><td>&hellip;</td><td>&hellip;</td><td>&hellip;</td><td>&hellip;</td><td>&hellip;</td><td>&hellip;</td><td>&hellip;</td><td>&hellip;</td><td>&hellip;</td><td>&hellip;</td><td>&hellip;</td><td>&hellip;</td><td>&hellip;</td><td>&hellip;</td><td>&hellip;</td><td>&hellip;</td><td>&hellip;</td><td>&hellip;</td><td>&hellip;</td><td>&hellip;</td><td>&hellip;</td><td>&hellip;</td><td>&hellip;</td><td>&hellip;</td><td>&hellip;</td><td>&hellip;</td><td>&hellip;</td><td>&hellip;</td><td>&hellip;</td><td>&hellip;</td><td>&hellip;</td><td>&hellip;</td><td>&hellip;</td></tr><tr><td>627</td><td>&quot;00:47:41&quot;</td><td>2861.0</td><td>631</td><td>&quot;Ann Savidge&quot;</td><td>&quot;F&quot;</td><td>303.0</td><td>&quot;Burgess Hill Runners&quot;</td><td>true</td><td>1.0</td><td>&quot;Worthing Lido&quot;</td><td>2016</td><td>1</td><td>31</td><td>&quot;2016-01-31&quot;</td><td>6.54</td><td>&quot;0:07:17.461774&quot;</td><td>92.0</td><td>52.0</td><td>false</td><td>false</td><td>1.0</td><td>&quot;2015.0&quot;</td><td>&quot;00:38:16&quot;</td><td>&quot;2296.0&quot;</td><td>&quot;571.0&quot;</td><td>&quot;down&quot;</td><td>&quot;09:25&quot;</td><td>&quot;565.0&quot;</td><td>93.0</td><td>40.0</td><td>53.0</td><td>341.0</td><td>441.0</td><td>571.0</td><td>4.0</td><td>2.0</td><td>1.0</td><td>7.0</td><td>10.0</td><td>2.0</td><td>1.0</td><td>2.0</td><td>2015.0</td><td>2014.0</td><td>341.0</td><td>444.0</td><td>613.0</td><td>&quot;Ann&quot;</td><td>&quot;Savidge&quot;</td><td>&quot;V65&quot;</td><td>&quot;V65&quot;</td><td>&quot;V65&quot;</td><td>&quot;W&quot;</td><td>&quot;Burgess Hill&quot;</td><td>398093.0</td><td>&quot;match&quot;</td><td>1.0</td><td>&quot;all&quot;</td><td>57.0</td><td>61.0</td><td>59.0</td><td>1959.0</td><td>1955.0</td><td>1957.0</td></tr><tr><td>628</td><td>&quot;00:54:49&quot;</td><td>3289.0</td><td>613</td><td>&quot;Christine Jones&quot;</td><td>&quot;F&quot;</td><td>304.0</td><td>&quot;Burgess Hill Runners&quot;</td><td>true</td><td>1.0</td><td>&quot;Worthing Lido&quot;</td><td>2016</td><td>1</td><td>31</td><td>&quot;2016-01-31&quot;</td><td>6.54</td><td>&quot;0:08:22.905199&quot;</td><td>93.0</td><td>53.0</td><td>false</td><td>true</td><td>0.0</td><td>null</td><td>null</td><td>null</td><td>null</td><td>null</td><td>null</td><td>null</td><td>93.0</td><td>40.0</td><td>53.0</td><td>null</td><td>null</td><td>null</td><td>null</td><td>null</td><td>null</td><td>0.0</td><td>0.0</td><td>0.0</td><td>null</td><td>null</td><td>null</td><td>null</td><td>null</td><td>null</td><td>null</td><td>&quot;Christine&quot;</td><td>&quot;Jones&quot;</td><td>&quot;V70&quot;</td><td>&quot;V70&quot;</td><td>&quot;V70&quot;</td><td>&quot;W&quot;</td><td>&quot;Burgess Hill&quot;</td><td>816627.0</td><td>&quot;match&quot;</td><td>1.0</td><td>&quot;all&quot;</td><td>62.0</td><td>66.0</td><td>64.0</td><td>1954.0</td><td>1950.0</td><td>1952.0</td></tr><tr><td>629</td><td>&quot;00:56:27&quot;</td><td>3387.0</td><td>429</td><td>&quot;Kalpna Robertson&quot;</td><td>&quot;F&quot;</td><td>305.0</td><td>&quot;Lewes AC&quot;</td><td>true</td><td>1.0</td><td>&quot;Worthing Lido&quot;</td><td>2016</td><td>1</td><td>31</td><td>&quot;2016-01-31&quot;</td><td>6.54</td><td>&quot;0:08:37.889908&quot;</td><td>34.0</td><td>14.0</td><td>false</td><td>true</td><td>0.0</td><td>null</td><td>null</td><td>null</td><td>null</td><td>null</td><td>null</td><td>null</td><td>33.0</td><td>20.0</td><td>13.0</td><td>null</td><td>null</td><td>null</td><td>null</td><td>null</td><td>null</td><td>0.0</td><td>0.0</td><td>0.0</td><td>null</td><td>null</td><td>null</td><td>null</td><td>null</td><td>null</td><td>null</td><td>null</td><td>null</td><td>&quot;TBC&quot;</td><td>&quot;TBC&quot;</td><td>&quot;TBC&quot;</td><td>&quot;n&quot;</td><td>null</td><td>null</td><td>&quot;missing&quot;</td><td>0.0</td><td>&quot;no_first_name&quot;</td><td>null</td><td>null</td><td>null</td><td>null</td><td>null</td><td>null</td></tr><tr><td>630</td><td>&quot;00:57:56&quot;</td><td>3476.0</td><td>151</td><td>&quot;Julie Abel&quot;</td><td>&quot;F&quot;</td><td>306.0</td><td>&quot;Goring Road Runners&quot;</td><td>true</td><td>1.0</td><td>&quot;Worthing Lido&quot;</td><td>2016</td><td>1</td><td>31</td><td>&quot;2016-01-31&quot;</td><td>6.54</td><td>&quot;0:08:51.498471&quot;</td><td>17.0</td><td>6.0</td><td>false</td><td>true</td><td>0.0</td><td>null</td><td>null</td><td>null</td><td>null</td><td>null</td><td>null</td><td>null</td><td>16.0</td><td>11.0</td><td>5.0</td><td>null</td><td>null</td><td>null</td><td>null</td><td>null</td><td>null</td><td>0.0</td><td>0.0</td><td>0.0</td><td>null</td><td>null</td><td>null</td><td>null</td><td>null</td><td>null</td><td>null</td><td>null</td><td>null</td><td>&quot;TBC&quot;</td><td>&quot;TBC&quot;</td><td>&quot;TBC&quot;</td><td>&quot;n&quot;</td><td>null</td><td>null</td><td>&quot;missing&quot;</td><td>0.0</td><td>&quot;not found&quot;</td><td>null</td><td>null</td><td>null</td><td>null</td><td>null</td><td>null</td></tr><tr><td>631</td><td>&quot;00:58:30&quot;</td><td>3510.0</td><td>606</td><td>&quot;Jane Harle&quot;</td><td>&quot;F&quot;</td><td>307.0</td><td>&quot;Burgess Hill Runners&quot;</td><td>true</td><td>1.0</td><td>&quot;Worthing Lido&quot;</td><td>2016</td><td>1</td><td>31</td><td>&quot;2016-01-31&quot;</td><td>6.54</td><td>&quot;0:08:56.697248&quot;</td><td>94.0</td><td>54.0</td><td>false</td><td>true</td><td>0.0</td><td>null</td><td>null</td><td>null</td><td>null</td><td>null</td><td>null</td><td>null</td><td>93.0</td><td>40.0</td><td>53.0</td><td>null</td><td>null</td><td>null</td><td>null</td><td>null</td><td>null</td><td>0.0</td><td>0.0</td><td>0.0</td><td>null</td><td>null</td><td>null</td><td>null</td><td>null</td><td>null</td><td>null</td><td>&quot;Jane&quot;</td><td>&quot;Harle&quot;</td><td>&quot;V55&quot;</td><td>&quot;V55&quot;</td><td>&quot;V55&quot;</td><td>&quot;W&quot;</td><td>&quot;Burgess Hill&quot;</td><td>812655.0</td><td>&quot;match&quot;</td><td>1.0</td><td>&quot;all&quot;</td><td>47.0</td><td>51.0</td><td>49.0</td><td>1969.0</td><td>1965.0</td><td>1967.0</td></tr></tbody></table></div>"
      ]
     },
     "metadata": {},
     "output_type": "display_data"
    }
   ],
   "execution_count": 2
  },
  {
   "metadata": {},
   "cell_type": "markdown",
   "source": [
    "## Do we have balanced target classes?\n",
    "\n",
    "We calculate the PB from the prior runs. \n",
    "- The first year is 2014 which has no pbs because there is no prior data\n",
    "- This needs to be removed as its unbalances the data\n",
    "\n",
    "We also need to remove any first time only runs as a first is always a pb (technically) and will unbalance the data"
   ],
   "id": "ed7f24a0ee0603ba"
  },
  {
   "metadata": {
    "ExecuteTime": {
     "end_time": "2024-12-02T22:14:35.691859Z",
     "start_time": "2024-12-02T22:14:35.625187Z"
    }
   },
   "cell_type": "code",
   "source": [
    "results_with_pb_df_all = results_with_pb_df\n",
    "\n",
    "def pivot_on_year(df: pl.DataFrame):\n",
    "    df_first_timers = df.filter(pl.col(\"first_time_run\") == True)\n",
    "\n",
    "    number_of_first_time_runs = len(df_first_timers)\n",
    "    if number_of_first_time_runs > 0:\n",
    "        print(f\"WARNING this data set includes {number_of_first_time_runs} first time runs that will never be a PB\")\n",
    "    else:\n",
    "        print(\"PERFECT No first time runs in the data set\")\n",
    "    \n",
    "    print(f\"Total number of rows: {len(df)}\")\n",
    "    \n",
    "    # Pivot the DataFrame\n",
    "    pivot_df = df.pivot(\n",
    "        values=[\"is_pb\"],\n",
    "        index=\"year\",\n",
    "        on=\"is_pb\",\n",
    "        aggregate_function=\"len\"\n",
    "    ).sort(\"year\")\n",
    "    \n",
    "    display(pivot_df)\n",
    "\n",
    "\n",
    "\n",
    "# Remove all rows where the year is 2014\n",
    "results_with_pb_df_filtered = results_with_pb_df.filter(\n",
    "    (pl.col(\"year\") != 2014) & (pl.col(\"first_time_run\") == False)\n",
    ")\n",
    "\n",
    "\n",
    "print ('Before')\n",
    "\n",
    "pivot_on_year(results_with_pb_df_all)\n",
    "\n",
    "print ('After - without 2014 and first time runs == false')\n",
    "\n",
    "pivot_on_year(results_with_pb_df_filtered)\n"
   ],
   "id": "88bc10ce1b58339",
   "outputs": [
    {
     "name": "stdout",
     "output_type": "stream",
     "text": [
      "Before\n",
      "WARNING this data set includes 33080 first time runs that will never be a PB\n",
      "Total number of rows: 55523\n"
     ]
    },
    {
     "data": {
      "text/plain": [
       "shape: (10, 3)\n",
       "┌──────┬───────┬──────┐\n",
       "│ year ┆ false ┆ true │\n",
       "│ ---  ┆ ---   ┆ ---  │\n",
       "│ i64  ┆ u32   ┆ u32  │\n",
       "╞══════╪═══════╪══════╡\n",
       "│ 2014 ┆ 6811  ┆ null │\n",
       "│ 2015 ┆ 6289  ┆ 1116 │\n",
       "│ 2016 ┆ 5925  ┆ 1283 │\n",
       "│ 2017 ┆ 5263  ┆ 1042 │\n",
       "│ 2018 ┆ 5269  ┆ 904  │\n",
       "│ 2019 ┆ 5451  ┆ 1172 │\n",
       "│ 2020 ┆ 378   ┆ 93   │\n",
       "│ 2022 ┆ 3967  ┆ 637  │\n",
       "│ 2023 ┆ 3758  ┆ 631  │\n",
       "│ 2024 ┆ 4938  ┆ 596  │\n",
       "└──────┴───────┴──────┘"
      ],
      "text/html": [
       "<div><style>\n",
       ".dataframe > thead > tr,\n",
       ".dataframe > tbody > tr {\n",
       "  text-align: right;\n",
       "  white-space: pre-wrap;\n",
       "}\n",
       "</style>\n",
       "<small>shape: (10, 3)</small><table border=\"1\" class=\"dataframe\"><thead><tr><th>year</th><th>false</th><th>true</th></tr><tr><td>i64</td><td>u32</td><td>u32</td></tr></thead><tbody><tr><td>2014</td><td>6811</td><td>null</td></tr><tr><td>2015</td><td>6289</td><td>1116</td></tr><tr><td>2016</td><td>5925</td><td>1283</td></tr><tr><td>2017</td><td>5263</td><td>1042</td></tr><tr><td>2018</td><td>5269</td><td>904</td></tr><tr><td>2019</td><td>5451</td><td>1172</td></tr><tr><td>2020</td><td>378</td><td>93</td></tr><tr><td>2022</td><td>3967</td><td>637</td></tr><tr><td>2023</td><td>3758</td><td>631</td></tr><tr><td>2024</td><td>4938</td><td>596</td></tr></tbody></table></div>"
      ]
     },
     "metadata": {},
     "output_type": "display_data"
    },
    {
     "name": "stdout",
     "output_type": "stream",
     "text": [
      "After - without 2014 and first time runs == false\n",
      "PERFECT No first time runs in the data set\n",
      "Total number of rows: 22443\n"
     ]
    },
    {
     "data": {
      "text/plain": [
       "shape: (9, 3)\n",
       "┌──────┬──────┬───────┐\n",
       "│ year ┆ true ┆ false │\n",
       "│ ---  ┆ ---  ┆ ---   │\n",
       "│ i64  ┆ u32  ┆ u32   │\n",
       "╞══════╪══════╪═══════╡\n",
       "│ 2015 ┆ 1116 ┆ 1251  │\n",
       "│ 2016 ┆ 1283 ┆ 1821  │\n",
       "│ 2017 ┆ 1042 ┆ 2023  │\n",
       "│ 2018 ┆ 904  ┆ 2036  │\n",
       "│ 2019 ┆ 1172 ┆ 2428  │\n",
       "│ 2020 ┆ 93   ┆ 167   │\n",
       "│ 2022 ┆ 637  ┆ 1536  │\n",
       "│ 2023 ┆ 631  ┆ 1605  │\n",
       "│ 2024 ┆ 596  ┆ 2102  │\n",
       "└──────┴──────┴───────┘"
      ],
      "text/html": [
       "<div><style>\n",
       ".dataframe > thead > tr,\n",
       ".dataframe > tbody > tr {\n",
       "  text-align: right;\n",
       "  white-space: pre-wrap;\n",
       "}\n",
       "</style>\n",
       "<small>shape: (9, 3)</small><table border=\"1\" class=\"dataframe\"><thead><tr><th>year</th><th>true</th><th>false</th></tr><tr><td>i64</td><td>u32</td><td>u32</td></tr></thead><tbody><tr><td>2015</td><td>1116</td><td>1251</td></tr><tr><td>2016</td><td>1283</td><td>1821</td></tr><tr><td>2017</td><td>1042</td><td>2023</td></tr><tr><td>2018</td><td>904</td><td>2036</td></tr><tr><td>2019</td><td>1172</td><td>2428</td></tr><tr><td>2020</td><td>93</td><td>167</td></tr><tr><td>2022</td><td>637</td><td>1536</td></tr><tr><td>2023</td><td>631</td><td>1605</td></tr><tr><td>2024</td><td>596</td><td>2102</td></tr></tbody></table></div>"
      ]
     },
     "metadata": {},
     "output_type": "display_data"
    }
   ],
   "execution_count": 3
  },
  {
   "metadata": {},
   "cell_type": "markdown",
   "source": [
    "## Find Categoricals\n",
    "\n",
    "These are columns with limited subset of values.\n",
    "\n",
    "For example **education** could be \n",
    "- Graduate\n",
    "- Not Graduate\n",
    "\n",
    "In our data set\n",
    "- Club \n",
    "- RaceName\n",
    "- Gender\n",
    "All of which are unlikely to influence a pb\n",
    "\n",
    "However, I'll add of these are categorical variables to the model.\n",
    "- RaceName\n",
    "- Gender\n",
    "\n",
    "The two `to_dummies` colum will turn these into columns with 1s and 0s.\n",
    "- So for `RaceName` it will create a column for each unique value in the column and set it to 1 if the value is present and 0 if not.\n",
    "- `RaceName_Downland Dash`\n",
    "- `RaceName_Fittleworth`\n",
    "- for each race combo\n",
    "\n",
    "\n",
    "\n"
   ],
   "id": "4b7da146bf89faf5"
  },
  {
   "metadata": {
    "ExecuteTime": {
     "end_time": "2024-12-02T22:14:38.285592Z",
     "start_time": "2024-12-02T22:14:38.276643Z"
    }
   },
   "cell_type": "code",
   "source": [
    "results_with_pb_with_dummies_df = results_with_pb_df_filtered.to_dummies(\n",
    "    [\"Gender\", \"RaceName\", 'p_of_10_road_age_category','is_club_member'], drop_first=True\n",
    ")\n"
   ],
   "id": "1906b0dd7dd701f7",
   "outputs": [],
   "execution_count": 4
  },
  {
   "metadata": {
    "ExecuteTime": {
     "end_time": "2024-12-02T22:14:42.246920Z",
     "start_time": "2024-12-02T22:14:42.234591Z"
    }
   },
   "cell_type": "code",
   "source": "display(results_with_pb_with_dummies_df)",
   "id": "f9279513ae907c58",
   "outputs": [
    {
     "data": {
      "text/plain": [
       "shape: (22_443, 102)\n",
       "┌──────────┬──────────┬───────────────┬────────────┬───┬─────────────┬─────────┬─────────┬─────────┐\n",
       "│ Position ┆ Time     ┆ time_in_secon ┆ Bib Number ┆ … ┆ average_age ┆ min_dob ┆ max_dob ┆ avg_dob │\n",
       "│ ---      ┆ ---      ┆ ds            ┆ ---        ┆   ┆ ---         ┆ ---     ┆ ---     ┆ ---     │\n",
       "│ i64      ┆ str      ┆ ---           ┆ i64        ┆   ┆ f64         ┆ f64     ┆ f64     ┆ f64     │\n",
       "│          ┆          ┆ f64           ┆            ┆   ┆             ┆         ┆         ┆         │\n",
       "╞══════════╪══════════╪═══════════════╪════════════╪═══╪═════════════╪═════════╪═════════╪═════════╡\n",
       "│ 7        ┆ 00:29:11 ┆ 1751.0        ┆ 167        ┆ … ┆ 53.0        ┆ 1964.0  ┆ 1960.0  ┆ 1962.0  │\n",
       "│ 13       ┆ 00:29:54 ┆ 1794.0        ┆ 203        ┆ … ┆ 28.0        ┆ 1989.0  ┆ 1985.0  ┆ 1987.0  │\n",
       "│ 19       ┆ 00:30:24 ┆ 1824.0        ┆ 294        ┆ … ┆ null        ┆ null    ┆ null    ┆ null    │\n",
       "│ 21       ┆ 00:30:29 ┆ 1829.0        ┆ 390        ┆ … ┆ 43.0        ┆ 1974.0  ┆ 1970.0  ┆ 1972.0  │\n",
       "│ 24       ┆ 00:30:45 ┆ 1845.0        ┆ 295        ┆ … ┆ 28.0        ┆ 1989.0  ┆ 1985.0  ┆ 1987.0  │\n",
       "│ …        ┆ …        ┆ …             ┆ …          ┆ … ┆ …           ┆ …       ┆ …       ┆ …       │\n",
       "│ 615      ┆ 00:45:24 ┆ 2724.0        ┆ 203        ┆ … ┆ 44.0        ┆ 1974.0  ┆ 1970.0  ┆ 1972.0  │\n",
       "│ 616      ┆ 00:45:37 ┆ 2737.0        ┆ 112        ┆ … ┆ null        ┆ null    ┆ null    ┆ null    │\n",
       "│ 617      ┆ 00:46:14 ┆ 2774.0        ┆ 63         ┆ … ┆ 34.0        ┆ 1984.0  ┆ 1980.0  ┆ 1982.0  │\n",
       "│ 623      ┆ 00:49:33 ┆ 2973.0        ┆ 42         ┆ … ┆ null        ┆ null    ┆ null    ┆ null    │\n",
       "│ 627      ┆ 00:47:41 ┆ 2861.0        ┆ 631        ┆ … ┆ 59.0        ┆ 1959.0  ┆ 1955.0  ┆ 1957.0  │\n",
       "└──────────┴──────────┴───────────────┴────────────┴───┴─────────────┴─────────┴─────────┴─────────┘"
      ],
      "text/html": [
       "<div><style>\n",
       ".dataframe > thead > tr,\n",
       ".dataframe > tbody > tr {\n",
       "  text-align: right;\n",
       "  white-space: pre-wrap;\n",
       "}\n",
       "</style>\n",
       "<small>shape: (22_443, 102)</small><table border=\"1\" class=\"dataframe\"><thead><tr><th>Position</th><th>Time</th><th>time_in_seconds</th><th>Bib Number</th><th>Name</th><th>Gender_F</th><th>Gender Position</th><th>Club</th><th>is_club_member_false</th><th>Points</th><th>RaceName_Downland Dash</th><th>RaceName_Fittleworth</th><th>RaceName_Great Walstead 5</th><th>RaceName_Gunpowder Trot</th><th>RaceName_Hangover-5</th><th>RaceName_Hedgehoppers 5</th><th>RaceName_Hickstead Gallop</th><th>RaceName_Highdown Hike</th><th>RaceName_Hornets Stinger</th><th>RaceName_Hove Park</th><th>RaceName_Lewes AC Easter Monday</th><th>RaceName_Run Your Heart Out 8k</th><th>RaceName_Seven Stiles</th><th>RaceName_Steepdown Challenge</th><th>RaceName_Steyning AC Roundhill Romp</th><th>RaceName_Tilgate 5</th><th>RaceName_Trundle View</th><th>RaceName_Valentine</th><th>RaceName_Windlesham-Whip</th><th>RaceName_Worthing Lido</th><th>year</th><th>month</th><th>day</th><th>date</th><th>distance</th><th>pace</th><th>club_position</th><th>&hellip;</th><th>position_record_average_position_all_time</th><th>position_record_worst_position_all_time</th><th>p_of_10_firstname</th><th>p_of_10_surname</th><th>p_of_10_track_age_category</th><th>p_of_10_road_age_category_SEN</th><th>p_of_10_road_age_category_TBC</th><th>p_of_10_road_age_category_U11</th><th>p_of_10_road_age_category_U13</th><th>p_of_10_road_age_category_U15</th><th>p_of_10_road_age_category_U17</th><th>p_of_10_road_age_category_U20</th><th>p_of_10_road_age_category_U23</th><th>p_of_10_road_age_category_V35</th><th>p_of_10_road_age_category_V40</th><th>p_of_10_road_age_category_V45</th><th>p_of_10_road_age_category_V50</th><th>p_of_10_road_age_category_V55</th><th>p_of_10_road_age_category_V65</th><th>p_of_10_road_age_category_V70</th><th>p_of_10_road_age_category_V75</th><th>p_of_10_road_age_category_V80</th><th>p_of_10_road_age_category_V85</th><th>p_of_10_road_age_category_V95</th><th>p_of_10_xc_age_category</th><th>p_of_10_gender</th><th>p_of_10_club</th><th>p_of_10_athlete_id</th><th>match_type</th><th>matches</th><th>parameters_used</th><th>min_age</th><th>max_age</th><th>average_age</th><th>min_dob</th><th>max_dob</th><th>avg_dob</th></tr><tr><td>i64</td><td>str</td><td>f64</td><td>i64</td><td>str</td><td>u8</td><td>f64</td><td>str</td><td>u8</td><td>f64</td><td>u8</td><td>u8</td><td>u8</td><td>u8</td><td>u8</td><td>u8</td><td>u8</td><td>u8</td><td>u8</td><td>u8</td><td>u8</td><td>u8</td><td>u8</td><td>u8</td><td>u8</td><td>u8</td><td>u8</td><td>u8</td><td>u8</td><td>u8</td><td>i64</td><td>i64</td><td>i64</td><td>str</td><td>f64</td><td>str</td><td>f64</td><td>&hellip;</td><td>f64</td><td>f64</td><td>str</td><td>str</td><td>str</td><td>u8</td><td>u8</td><td>u8</td><td>u8</td><td>u8</td><td>u8</td><td>u8</td><td>u8</td><td>u8</td><td>u8</td><td>u8</td><td>u8</td><td>u8</td><td>u8</td><td>u8</td><td>u8</td><td>u8</td><td>u8</td><td>u8</td><td>str</td><td>str</td><td>str</td><td>f64</td><td>str</td><td>f64</td><td>str</td><td>f64</td><td>f64</td><td>f64</td><td>f64</td><td>f64</td><td>f64</td></tr></thead><tbody><tr><td>7</td><td>&quot;00:29:11&quot;</td><td>1751.0</td><td>167</td><td>&quot;Paul Cousins&quot;</td><td>0</td><td>7.0</td><td>&quot;Haywards Heath Harriers&quot;</td><td>0</td><td>10.0</td><td>0</td><td>0</td><td>0</td><td>0</td><td>0</td><td>0</td><td>0</td><td>0</td><td>0</td><td>0</td><td>0</td><td>0</td><td>0</td><td>0</td><td>0</td><td>0</td><td>0</td><td>0</td><td>0</td><td>0</td><td>2015</td><td>5</td><td>20</td><td>&quot;2015-05-20&quot;</td><td>8.0</td><td>&quot;0:03:38.875000&quot;</td><td>1.0</td><td>&hellip;</td><td>19.0</td><td>132.0</td><td>&quot;Paul&quot;</td><td>&quot;Cousins&quot;</td><td>&quot;V60&quot;</td><td>0</td><td>0</td><td>0</td><td>0</td><td>0</td><td>0</td><td>0</td><td>0</td><td>0</td><td>0</td><td>0</td><td>0</td><td>0</td><td>0</td><td>0</td><td>0</td><td>0</td><td>0</td><td>0</td><td>&quot;V60&quot;</td><td>&quot;M&quot;</td><td>&quot;Haywards Heath&quot;</td><td>9998.0</td><td>&quot;match&quot;</td><td>1.0</td><td>&quot;all&quot;</td><td>51.0</td><td>55.0</td><td>53.0</td><td>1964.0</td><td>1960.0</td><td>1962.0</td></tr><tr><td>13</td><td>&quot;00:29:54&quot;</td><td>1794.0</td><td>203</td><td>&quot;Ben Stock&quot;</td><td>0</td><td>13.0</td><td>&quot;Saints and Sinners&quot;</td><td>0</td><td>10.0</td><td>0</td><td>0</td><td>0</td><td>0</td><td>0</td><td>0</td><td>0</td><td>0</td><td>0</td><td>0</td><td>0</td><td>0</td><td>0</td><td>0</td><td>0</td><td>0</td><td>0</td><td>0</td><td>0</td><td>0</td><td>2015</td><td>5</td><td>20</td><td>&quot;2015-05-20&quot;</td><td>8.0</td><td>&quot;0:03:44.250000&quot;</td><td>2.0</td><td>&hellip;</td><td>19.0</td><td>35.0</td><td>&quot;Ben&quot;</td><td>&quot;Stock&quot;</td><td>&quot;V35&quot;</td><td>0</td><td>0</td><td>0</td><td>0</td><td>0</td><td>0</td><td>0</td><td>0</td><td>1</td><td>0</td><td>0</td><td>0</td><td>0</td><td>0</td><td>0</td><td>0</td><td>0</td><td>0</td><td>0</td><td>&quot;V35&quot;</td><td>&quot;M&quot;</td><td>&quot;Ealing Southall &amp; Middx&quot;</td><td>4844.0</td><td>&quot;many&quot;</td><td>5.0</td><td>&quot;no_club&quot;</td><td>26.0</td><td>30.0</td><td>28.0</td><td>1989.0</td><td>1985.0</td><td>1987.0</td></tr><tr><td>19</td><td>&quot;00:30:24&quot;</td><td>1824.0</td><td>294</td><td>&quot;Adrian Scott&quot;</td><td>0</td><td>19.0</td><td>&quot;Steyning AC&quot;</td><td>0</td><td>10.0</td><td>0</td><td>0</td><td>0</td><td>0</td><td>0</td><td>0</td><td>0</td><td>0</td><td>0</td><td>0</td><td>0</td><td>0</td><td>0</td><td>0</td><td>0</td><td>0</td><td>0</td><td>0</td><td>0</td><td>0</td><td>2015</td><td>5</td><td>20</td><td>&quot;2015-05-20&quot;</td><td>8.0</td><td>&quot;0:03:48&quot;</td><td>1.0</td><td>&hellip;</td><td>56.0</td><td>160.0</td><td>null</td><td>null</td><td>&quot;TBC&quot;</td><td>0</td><td>1</td><td>0</td><td>0</td><td>0</td><td>0</td><td>0</td><td>0</td><td>0</td><td>0</td><td>0</td><td>0</td><td>0</td><td>0</td><td>0</td><td>0</td><td>0</td><td>0</td><td>0</td><td>&quot;TBC&quot;</td><td>&quot;n&quot;</td><td>null</td><td>null</td><td>&quot;missing&quot;</td><td>0.0</td><td>&quot;not found&quot;</td><td>null</td><td>null</td><td>null</td><td>null</td><td>null</td><td>null</td></tr><tr><td>21</td><td>&quot;00:30:29&quot;</td><td>1829.0</td><td>390</td><td>&quot;Gary Witton&quot;</td><td>0</td><td>21.0</td><td>&quot;Worthing Harriers&quot;</td><td>0</td><td>10.0</td><td>0</td><td>0</td><td>0</td><td>0</td><td>0</td><td>0</td><td>0</td><td>0</td><td>0</td><td>0</td><td>0</td><td>0</td><td>0</td><td>0</td><td>0</td><td>0</td><td>0</td><td>0</td><td>0</td><td>0</td><td>2015</td><td>5</td><td>20</td><td>&quot;2015-05-20&quot;</td><td>8.0</td><td>&quot;0:03:48.625000&quot;</td><td>4.0</td><td>&hellip;</td><td>17.0</td><td>21.0</td><td>&quot;Gary&quot;</td><td>&quot;Witton&quot;</td><td>&quot;V50&quot;</td><td>0</td><td>0</td><td>0</td><td>0</td><td>0</td><td>0</td><td>0</td><td>0</td><td>0</td><td>0</td><td>0</td><td>1</td><td>0</td><td>0</td><td>0</td><td>0</td><td>0</td><td>0</td><td>0</td><td>&quot;V50&quot;</td><td>&quot;M&quot;</td><td>&quot;Worthing&quot;</td><td>59314.0</td><td>&quot;match&quot;</td><td>1.0</td><td>&quot;all&quot;</td><td>41.0</td><td>45.0</td><td>43.0</td><td>1974.0</td><td>1970.0</td><td>1972.0</td></tr><tr><td>24</td><td>&quot;00:30:45&quot;</td><td>1845.0</td><td>295</td><td>&quot;Scott Chinchen&quot;</td><td>0</td><td>24.0</td><td>&quot;Steyning AC&quot;</td><td>0</td><td>10.0</td><td>0</td><td>0</td><td>0</td><td>0</td><td>0</td><td>0</td><td>0</td><td>0</td><td>0</td><td>0</td><td>0</td><td>0</td><td>0</td><td>0</td><td>0</td><td>0</td><td>0</td><td>0</td><td>0</td><td>0</td><td>2015</td><td>5</td><td>20</td><td>&quot;2015-05-20&quot;</td><td>8.0</td><td>&quot;0:03:50.625000&quot;</td><td>2.0</td><td>&hellip;</td><td>41.0</td><td>94.0</td><td>&quot;Scott&quot;</td><td>&quot;Chinchen&quot;</td><td>&quot;V35&quot;</td><td>0</td><td>0</td><td>0</td><td>0</td><td>0</td><td>0</td><td>0</td><td>0</td><td>1</td><td>0</td><td>0</td><td>0</td><td>0</td><td>0</td><td>0</td><td>0</td><td>0</td><td>0</td><td>0</td><td>&quot;V35&quot;</td><td>&quot;M&quot;</td><td>&quot;Steyning&quot;</td><td>462082.0</td><td>&quot;match&quot;</td><td>1.0</td><td>&quot;all&quot;</td><td>26.0</td><td>30.0</td><td>28.0</td><td>1989.0</td><td>1985.0</td><td>1987.0</td></tr><tr><td>&hellip;</td><td>&hellip;</td><td>&hellip;</td><td>&hellip;</td><td>&hellip;</td><td>&hellip;</td><td>&hellip;</td><td>&hellip;</td><td>&hellip;</td><td>&hellip;</td><td>&hellip;</td><td>&hellip;</td><td>&hellip;</td><td>&hellip;</td><td>&hellip;</td><td>&hellip;</td><td>&hellip;</td><td>&hellip;</td><td>&hellip;</td><td>&hellip;</td><td>&hellip;</td><td>&hellip;</td><td>&hellip;</td><td>&hellip;</td><td>&hellip;</td><td>&hellip;</td><td>&hellip;</td><td>&hellip;</td><td>&hellip;</td><td>&hellip;</td><td>&hellip;</td><td>&hellip;</td><td>&hellip;</td><td>&hellip;</td><td>&hellip;</td><td>&hellip;</td><td>&hellip;</td><td>&hellip;</td><td>&hellip;</td><td>&hellip;</td><td>&hellip;</td><td>&hellip;</td><td>&hellip;</td><td>&hellip;</td><td>&hellip;</td><td>&hellip;</td><td>&hellip;</td><td>&hellip;</td><td>&hellip;</td><td>&hellip;</td><td>&hellip;</td><td>&hellip;</td><td>&hellip;</td><td>&hellip;</td><td>&hellip;</td><td>&hellip;</td><td>&hellip;</td><td>&hellip;</td><td>&hellip;</td><td>&hellip;</td><td>&hellip;</td><td>&hellip;</td><td>&hellip;</td><td>&hellip;</td><td>&hellip;</td><td>&hellip;</td><td>&hellip;</td><td>&hellip;</td><td>&hellip;</td><td>&hellip;</td><td>&hellip;</td><td>&hellip;</td><td>&hellip;</td><td>&hellip;</td><td>&hellip;</td></tr><tr><td>615</td><td>&quot;00:45:24&quot;</td><td>2724.0</td><td>203</td><td>&quot;Verity Dods&quot;</td><td>1</td><td>291.0</td><td>&quot;Horsham Joggers&quot;</td><td>0</td><td>1.0</td><td>0</td><td>0</td><td>0</td><td>0</td><td>0</td><td>0</td><td>0</td><td>0</td><td>0</td><td>0</td><td>0</td><td>0</td><td>0</td><td>0</td><td>0</td><td>0</td><td>0</td><td>0</td><td>0</td><td>1</td><td>2016</td><td>1</td><td>31</td><td>&quot;2016-01-31&quot;</td><td>6.54</td><td>&quot;0:06:56.513761&quot;</td><td>38.0</td><td>&hellip;</td><td>429.0</td><td>686.0</td><td>&quot;Verity&quot;</td><td>&quot;Dods&quot;</td><td>&quot;V50&quot;</td><td>0</td><td>0</td><td>0</td><td>0</td><td>0</td><td>0</td><td>0</td><td>0</td><td>0</td><td>0</td><td>0</td><td>1</td><td>0</td><td>0</td><td>0</td><td>0</td><td>0</td><td>0</td><td>0</td><td>&quot;V50&quot;</td><td>&quot;W&quot;</td><td>&quot;Horsham Joggers&quot;</td><td>669561.0</td><td>&quot;match&quot;</td><td>1.0</td><td>&quot;all&quot;</td><td>42.0</td><td>46.0</td><td>44.0</td><td>1974.0</td><td>1970.0</td><td>1972.0</td></tr><tr><td>616</td><td>&quot;00:45:37&quot;</td><td>2737.0</td><td>112</td><td>&quot;Sue Field&quot;</td><td>1</td><td>292.0</td><td>&quot;Portslade Hedgehoppers&quot;</td><td>0</td><td>1.0</td><td>0</td><td>0</td><td>0</td><td>0</td><td>0</td><td>0</td><td>0</td><td>0</td><td>0</td><td>0</td><td>0</td><td>0</td><td>0</td><td>0</td><td>0</td><td>0</td><td>0</td><td>0</td><td>0</td><td>1</td><td>2016</td><td>1</td><td>31</td><td>&quot;2016-01-31&quot;</td><td>6.54</td><td>&quot;0:06:58.501529&quot;</td><td>43.0</td><td>&hellip;</td><td>450.0</td><td>635.0</td><td>null</td><td>null</td><td>&quot;TBC&quot;</td><td>0</td><td>1</td><td>0</td><td>0</td><td>0</td><td>0</td><td>0</td><td>0</td><td>0</td><td>0</td><td>0</td><td>0</td><td>0</td><td>0</td><td>0</td><td>0</td><td>0</td><td>0</td><td>0</td><td>&quot;TBC&quot;</td><td>&quot;n&quot;</td><td>null</td><td>null</td><td>&quot;missing&quot;</td><td>0.0</td><td>&quot;not found&quot;</td><td>null</td><td>null</td><td>null</td><td>null</td><td>null</td><td>null</td></tr><tr><td>617</td><td>&quot;00:46:14&quot;</td><td>2774.0</td><td>63</td><td>&quot;Danielle McComb&quot;</td><td>1</td><td>293.0</td><td>&quot;Saints and Sinners&quot;</td><td>0</td><td>1.0</td><td>0</td><td>0</td><td>0</td><td>0</td><td>0</td><td>0</td><td>0</td><td>0</td><td>0</td><td>0</td><td>0</td><td>0</td><td>0</td><td>0</td><td>0</td><td>0</td><td>0</td><td>0</td><td>0</td><td>1</td><td>2016</td><td>1</td><td>31</td><td>&quot;2016-01-31&quot;</td><td>6.54</td><td>&quot;0:07:04.159021&quot;</td><td>69.0</td><td>&hellip;</td><td>465.0</td><td>657.0</td><td>&quot;Danielle&quot;</td><td>&quot;McComb&quot;</td><td>&quot;V40&quot;</td><td>0</td><td>0</td><td>0</td><td>0</td><td>0</td><td>0</td><td>0</td><td>0</td><td>0</td><td>1</td><td>0</td><td>0</td><td>0</td><td>0</td><td>0</td><td>0</td><td>0</td><td>0</td><td>0</td><td>&quot;V40&quot;</td><td>&quot;W&quot;</td><td>&quot;Crawley/Crawley TC&quot;</td><td>738035.0</td><td>&quot;match&quot;</td><td>1.0</td><td>&quot;no_club&quot;</td><td>32.0</td><td>36.0</td><td>34.0</td><td>1984.0</td><td>1980.0</td><td>1982.0</td></tr><tr><td>623</td><td>&quot;00:49:33&quot;</td><td>2973.0</td><td>42</td><td>&quot;Lisa Bloor&quot;</td><td>1</td><td>299.0</td><td>&quot;Saints and Sinners&quot;</td><td>0</td><td>1.0</td><td>0</td><td>0</td><td>0</td><td>0</td><td>0</td><td>0</td><td>0</td><td>0</td><td>0</td><td>0</td><td>0</td><td>0</td><td>0</td><td>0</td><td>0</td><td>0</td><td>0</td><td>0</td><td>0</td><td>1</td><td>2016</td><td>1</td><td>31</td><td>&quot;2016-01-31&quot;</td><td>6.54</td><td>&quot;0:07:34.587156&quot;</td><td>71.0</td><td>&hellip;</td><td>462.0</td><td>557.0</td><td>null</td><td>null</td><td>&quot;TBC&quot;</td><td>0</td><td>1</td><td>0</td><td>0</td><td>0</td><td>0</td><td>0</td><td>0</td><td>0</td><td>0</td><td>0</td><td>0</td><td>0</td><td>0</td><td>0</td><td>0</td><td>0</td><td>0</td><td>0</td><td>&quot;TBC&quot;</td><td>&quot;n&quot;</td><td>null</td><td>null</td><td>&quot;missing&quot;</td><td>0.0</td><td>&quot;not found&quot;</td><td>null</td><td>null</td><td>null</td><td>null</td><td>null</td><td>null</td></tr><tr><td>627</td><td>&quot;00:47:41&quot;</td><td>2861.0</td><td>631</td><td>&quot;Ann Savidge&quot;</td><td>1</td><td>303.0</td><td>&quot;Burgess Hill Runners&quot;</td><td>0</td><td>1.0</td><td>0</td><td>0</td><td>0</td><td>0</td><td>0</td><td>0</td><td>0</td><td>0</td><td>0</td><td>0</td><td>0</td><td>0</td><td>0</td><td>0</td><td>0</td><td>0</td><td>0</td><td>0</td><td>0</td><td>1</td><td>2016</td><td>1</td><td>31</td><td>&quot;2016-01-31&quot;</td><td>6.54</td><td>&quot;0:07:17.461774&quot;</td><td>92.0</td><td>&hellip;</td><td>444.0</td><td>613.0</td><td>&quot;Ann&quot;</td><td>&quot;Savidge&quot;</td><td>&quot;V65&quot;</td><td>0</td><td>0</td><td>0</td><td>0</td><td>0</td><td>0</td><td>0</td><td>0</td><td>0</td><td>0</td><td>0</td><td>0</td><td>0</td><td>1</td><td>0</td><td>0</td><td>0</td><td>0</td><td>0</td><td>&quot;V65&quot;</td><td>&quot;W&quot;</td><td>&quot;Burgess Hill&quot;</td><td>398093.0</td><td>&quot;match&quot;</td><td>1.0</td><td>&quot;all&quot;</td><td>57.0</td><td>61.0</td><td>59.0</td><td>1959.0</td><td>1955.0</td><td>1957.0</td></tr></tbody></table></div>"
      ]
     },
     "metadata": {},
     "output_type": "display_data"
    }
   ],
   "execution_count": 5
  },
  {
   "metadata": {
    "ExecuteTime": {
     "end_time": "2024-12-02T22:14:46.034806Z",
     "start_time": "2024-12-02T22:14:46.028815Z"
    }
   },
   "cell_type": "code",
   "source": [
    "def validate_features_vs_target(df_features : pd.DataFrame, df_target : pd.DataFrame):\n",
    "\n",
    "    if len(df_features) != len(df_target):\n",
    "        print(f\"WARNING Features ({len(df_features)}) != target ({len(df_target)})\")\n",
    "    else:\n",
    "        print(f\"MATCH Features_df shape: {df_features.shape} vs Target {df_target.shape}\")"
   ],
   "id": "3f3229843cc14a2b",
   "outputs": [],
   "execution_count": 6
  },
  {
   "metadata": {},
   "cell_type": "markdown",
   "source": [
    "## Split the data\n",
    "\n",
    "Remove the target column from the features. **is_pb**\n",
    "\n",
    "Features are the columns that will be used to predict the target variable. \n",
    "\n",
    "In this case, the features are all the columns that **Known before the race starts**\n",
    "- Prior performance \n",
    "- Gender\n",
    "- Club mates (you would see them before the start and on course that could inspire you to run faster)\n",
    " \n"
   ],
   "id": "c156100424d41cc"
  },
  {
   "metadata": {
    "ExecuteTime": {
     "end_time": "2024-12-02T22:14:56.286872Z",
     "start_time": "2024-12-02T22:14:56.267945Z"
    }
   },
   "cell_type": "code",
   "source": [
    "\n",
    "\n",
    "# Drop the target prediction column from the features\n",
    "pb_achieved_features_df = results_with_pb_with_dummies_df.drop(\"is_pb\")\n",
    "\n",
    "# Info about the RACE or runner that is not useful for prediction  \n",
    "#   runner\n",
    "pb_achieved_features_df = pb_achieved_features_df.drop(\"Bib Number\", \"Name\", \"Club\")\n",
    "pb_achieved_features_df = pb_achieved_features_df.drop(  'p_of_10_firstname', 'p_of_10_surname', 'p_of_10_track_age_category', 'p_of_10_xc_age_category', 'p_of_10_gender', 'p_of_10_club', 'p_of_10_athlete_id')\n",
    "#   race\n",
    "pb_achieved_features_df = pb_achieved_features_df.drop(\"date\", 'year', 'month', 'day', 'distance' )\n",
    "\n",
    "# achieved time position which would be unknown at the start of the race! \n",
    "pb_achieved_features_df = pb_achieved_features_df.drop( \"Time\", \"pace\", 'Position', 'time_in_seconds','Gender Position','Points', 'club_position', 'club_position_gender', 'first_time_run' )\n",
    "\n",
    "# Prior info on years which are versus the current year or just contains the year\n",
    "pb_achieved_features_df = pb_achieved_features_df.drop( \"prior_quickest_run_in_year\", \"prior_time_vs_current_change\", \"prior_time_vs_current_time\", \"prior_quickest_run_time\", 'prior_quickest_vs_run_time', 'position_record_best_year', 'position_record_worst_year' )\n",
    "\n",
    "pb_achieved_features_df = pb_achieved_features_df.drop(  'match_type',  'matches','parameters_used', 'min_age', 'max_age', 'average_age', 'min_dob', 'max_dob', 'avg_dob')\n",
    "\n",
    "\n",
    "pb_achieved_target_df = results_with_pb_df_filtered.select(\"is_pb\")\n",
    "\n",
    "validate_features_vs_target(pb_achieved_features_df,pb_achieved_target_df)\n",
    "\n",
    "\n",
    "\n",
    "display(pb_achieved_features_df)\n",
    "\n"
   ],
   "id": "db078f045a2c7c59",
   "outputs": [
    {
     "name": "stdout",
     "output_type": "stream",
     "text": [
      "MATCH Features_df shape: (22443, 61) vs Target (22443, 1)\n"
     ]
    },
    {
     "data": {
      "text/plain": [
       "shape: (22_443, 61)\n",
       "┌──────────┬───────────┬───────────┬───────────┬───┬───────────┬───────────┬───────────┬───────────┐\n",
       "│ Gender_F ┆ is_club_m ┆ RaceName_ ┆ RaceName_ ┆ … ┆ p_of_10_r ┆ p_of_10_r ┆ p_of_10_r ┆ p_of_10_r │\n",
       "│ ---      ┆ ember_fal ┆ Downland  ┆ Fittlewor ┆   ┆ oad_age_c ┆ oad_age_c ┆ oad_age_c ┆ oad_age_c │\n",
       "│ u8       ┆ se        ┆ Dash      ┆ th        ┆   ┆ ategory_V ┆ ategory_V ┆ ategory_V ┆ ategory_V │\n",
       "│          ┆ ---       ┆ ---       ┆ ---       ┆   ┆ 75        ┆ 80        ┆ 85        ┆ 95        │\n",
       "│          ┆ u8        ┆ u8        ┆ u8        ┆   ┆ ---       ┆ ---       ┆ ---       ┆ ---       │\n",
       "│          ┆           ┆           ┆           ┆   ┆ u8        ┆ u8        ┆ u8        ┆ u8        │\n",
       "╞══════════╪═══════════╪═══════════╪═══════════╪═══╪═══════════╪═══════════╪═══════════╪═══════════╡\n",
       "│ 0        ┆ 0         ┆ 0         ┆ 0         ┆ … ┆ 0         ┆ 0         ┆ 0         ┆ 0         │\n",
       "│ 0        ┆ 0         ┆ 0         ┆ 0         ┆ … ┆ 0         ┆ 0         ┆ 0         ┆ 0         │\n",
       "│ 0        ┆ 0         ┆ 0         ┆ 0         ┆ … ┆ 0         ┆ 0         ┆ 0         ┆ 0         │\n",
       "│ 0        ┆ 0         ┆ 0         ┆ 0         ┆ … ┆ 0         ┆ 0         ┆ 0         ┆ 0         │\n",
       "│ 0        ┆ 0         ┆ 0         ┆ 0         ┆ … ┆ 0         ┆ 0         ┆ 0         ┆ 0         │\n",
       "│ …        ┆ …         ┆ …         ┆ …         ┆ … ┆ …         ┆ …         ┆ …         ┆ …         │\n",
       "│ 1        ┆ 0         ┆ 0         ┆ 0         ┆ … ┆ 0         ┆ 0         ┆ 0         ┆ 0         │\n",
       "│ 1        ┆ 0         ┆ 0         ┆ 0         ┆ … ┆ 0         ┆ 0         ┆ 0         ┆ 0         │\n",
       "│ 1        ┆ 0         ┆ 0         ┆ 0         ┆ … ┆ 0         ┆ 0         ┆ 0         ┆ 0         │\n",
       "│ 1        ┆ 0         ┆ 0         ┆ 0         ┆ … ┆ 0         ┆ 0         ┆ 0         ┆ 0         │\n",
       "│ 1        ┆ 0         ┆ 0         ┆ 0         ┆ … ┆ 0         ┆ 0         ┆ 0         ┆ 0         │\n",
       "└──────────┴───────────┴───────────┴───────────┴───┴───────────┴───────────┴───────────┴───────────┘"
      ],
      "text/html": [
       "<div><style>\n",
       ".dataframe > thead > tr,\n",
       ".dataframe > tbody > tr {\n",
       "  text-align: right;\n",
       "  white-space: pre-wrap;\n",
       "}\n",
       "</style>\n",
       "<small>shape: (22_443, 61)</small><table border=\"1\" class=\"dataframe\"><thead><tr><th>Gender_F</th><th>is_club_member_false</th><th>RaceName_Downland Dash</th><th>RaceName_Fittleworth</th><th>RaceName_Great Walstead 5</th><th>RaceName_Gunpowder Trot</th><th>RaceName_Hangover-5</th><th>RaceName_Hedgehoppers 5</th><th>RaceName_Hickstead Gallop</th><th>RaceName_Highdown Hike</th><th>RaceName_Hornets Stinger</th><th>RaceName_Hove Park</th><th>RaceName_Lewes AC Easter Monday</th><th>RaceName_Run Your Heart Out 8k</th><th>RaceName_Seven Stiles</th><th>RaceName_Steepdown Challenge</th><th>RaceName_Steyning AC Roundhill Romp</th><th>RaceName_Tilgate 5</th><th>RaceName_Trundle View</th><th>RaceName_Valentine</th><th>RaceName_Windlesham-Whip</th><th>RaceName_Worthing Lido</th><th>prior_run_attempts</th><th>prior_quickest_run_time_in_seconds</th><th>prior_quickest_run_position</th><th>fellow_club_mates_running</th><th>fellow_club_mates_running_male</th><th>fellow_club_mates_running_female</th><th>best_position_year_to_date</th><th>average_position_year_to_date</th><th>worst_position_year_to_date</th><th>best_points_year_to_date</th><th>average_points_year_to_date</th><th>worst_points_year_to_date</th><th>runs_in_wsfrl_year_to_date</th><th>wsfrl_tenure_in_runs</th><th>wsfrl_tenure_in_years</th><th>position_record_years_since_best</th><th>position_record_years_since_worst</th><th>position_record_best_position_all_time</th><th>position_record_average_position_all_time</th><th>position_record_worst_position_all_time</th><th>p_of_10_road_age_category_SEN</th><th>p_of_10_road_age_category_TBC</th><th>p_of_10_road_age_category_U11</th><th>p_of_10_road_age_category_U13</th><th>p_of_10_road_age_category_U15</th><th>p_of_10_road_age_category_U17</th><th>p_of_10_road_age_category_U20</th><th>p_of_10_road_age_category_U23</th><th>p_of_10_road_age_category_V35</th><th>p_of_10_road_age_category_V40</th><th>p_of_10_road_age_category_V45</th><th>p_of_10_road_age_category_V50</th><th>p_of_10_road_age_category_V55</th><th>p_of_10_road_age_category_V65</th><th>p_of_10_road_age_category_V70</th><th>p_of_10_road_age_category_V75</th><th>p_of_10_road_age_category_V80</th><th>p_of_10_road_age_category_V85</th><th>p_of_10_road_age_category_V95</th></tr><tr><td>u8</td><td>u8</td><td>u8</td><td>u8</td><td>u8</td><td>u8</td><td>u8</td><td>u8</td><td>u8</td><td>u8</td><td>u8</td><td>u8</td><td>u8</td><td>u8</td><td>u8</td><td>u8</td><td>u8</td><td>u8</td><td>u8</td><td>u8</td><td>u8</td><td>u8</td><td>f64</td><td>str</td><td>str</td><td>f64</td><td>f64</td><td>f64</td><td>f64</td><td>f64</td><td>f64</td><td>f64</td><td>f64</td><td>f64</td><td>f64</td><td>f64</td><td>f64</td><td>f64</td><td>f64</td><td>f64</td><td>f64</td><td>f64</td><td>u8</td><td>u8</td><td>u8</td><td>u8</td><td>u8</td><td>u8</td><td>u8</td><td>u8</td><td>u8</td><td>u8</td><td>u8</td><td>u8</td><td>u8</td><td>u8</td><td>u8</td><td>u8</td><td>u8</td><td>u8</td><td>u8</td></tr></thead><tbody><tr><td>0</td><td>0</td><td>0</td><td>0</td><td>0</td><td>0</td><td>0</td><td>0</td><td>0</td><td>0</td><td>0</td><td>0</td><td>0</td><td>0</td><td>0</td><td>0</td><td>0</td><td>0</td><td>0</td><td>0</td><td>0</td><td>0</td><td>1.0</td><td>&quot;1774.0&quot;</td><td>&quot;4.0&quot;</td><td>13.0</td><td>8.0</td><td>5.0</td><td>2.0</td><td>20.0</td><td>132.0</td><td>10.0</td><td>9.0</td><td>7.0</td><td>9.0</td><td>10.0</td><td>2.0</td><td>1.0</td><td>0.0</td><td>2.0</td><td>19.0</td><td>132.0</td><td>0</td><td>0</td><td>0</td><td>0</td><td>0</td><td>0</td><td>0</td><td>0</td><td>0</td><td>0</td><td>0</td><td>0</td><td>0</td><td>0</td><td>0</td><td>0</td><td>0</td><td>0</td><td>0</td></tr><tr><td>0</td><td>0</td><td>0</td><td>0</td><td>0</td><td>0</td><td>0</td><td>0</td><td>0</td><td>0</td><td>0</td><td>0</td><td>0</td><td>0</td><td>0</td><td>0</td><td>0</td><td>0</td><td>0</td><td>0</td><td>0</td><td>0</td><td>1.0</td><td>&quot;1870.0&quot;</td><td>&quot;13.0&quot;</td><td>46.0</td><td>25.0</td><td>21.0</td><td>8.0</td><td>17.0</td><td>27.0</td><td>10.0</td><td>9.0</td><td>9.0</td><td>9.0</td><td>11.0</td><td>2.0</td><td>1.0</td><td>1.0</td><td>8.0</td><td>19.0</td><td>35.0</td><td>0</td><td>0</td><td>0</td><td>0</td><td>0</td><td>0</td><td>0</td><td>0</td><td>1</td><td>0</td><td>0</td><td>0</td><td>0</td><td>0</td><td>0</td><td>0</td><td>0</td><td>0</td><td>0</td></tr><tr><td>0</td><td>0</td><td>0</td><td>0</td><td>0</td><td>0</td><td>0</td><td>0</td><td>0</td><td>0</td><td>0</td><td>0</td><td>0</td><td>0</td><td>0</td><td>0</td><td>0</td><td>0</td><td>0</td><td>0</td><td>0</td><td>0</td><td>1.0</td><td>&quot;1851.0&quot;</td><td>&quot;10.0&quot;</td><td>15.0</td><td>10.0</td><td>5.0</td><td>10.0</td><td>59.0</td><td>160.0</td><td>10.0</td><td>8.0</td><td>5.0</td><td>7.0</td><td>8.0</td><td>2.0</td><td>1.0</td><td>1.0</td><td>10.0</td><td>56.0</td><td>160.0</td><td>0</td><td>1</td><td>0</td><td>0</td><td>0</td><td>0</td><td>0</td><td>0</td><td>0</td><td>0</td><td>0</td><td>0</td><td>0</td><td>0</td><td>0</td><td>0</td><td>0</td><td>0</td><td>0</td></tr><tr><td>0</td><td>0</td><td>0</td><td>0</td><td>0</td><td>0</td><td>0</td><td>0</td><td>0</td><td>0</td><td>0</td><td>0</td><td>0</td><td>0</td><td>0</td><td>0</td><td>0</td><td>0</td><td>0</td><td>0</td><td>0</td><td>0</td><td>1.0</td><td>&quot;1890.0&quot;</td><td>&quot;16.0&quot;</td><td>29.0</td><td>18.0</td><td>11.0</td><td>12.0</td><td>16.0</td><td>19.0</td><td>10.0</td><td>10.0</td><td>10.0</td><td>5.0</td><td>6.0</td><td>1.0</td><td>1.0</td><td>1.0</td><td>12.0</td><td>17.0</td><td>21.0</td><td>0</td><td>0</td><td>0</td><td>0</td><td>0</td><td>0</td><td>0</td><td>0</td><td>0</td><td>0</td><td>0</td><td>1</td><td>0</td><td>0</td><td>0</td><td>0</td><td>0</td><td>0</td><td>0</td></tr><tr><td>0</td><td>0</td><td>0</td><td>0</td><td>0</td><td>0</td><td>0</td><td>0</td><td>0</td><td>0</td><td>0</td><td>0</td><td>0</td><td>0</td><td>0</td><td>0</td><td>0</td><td>0</td><td>0</td><td>0</td><td>0</td><td>0</td><td>1.0</td><td>&quot;1911.0&quot;</td><td>&quot;22.0&quot;</td><td>15.0</td><td>10.0</td><td>5.0</td><td>22.0</td><td>38.0</td><td>94.0</td><td>10.0</td><td>8.0</td><td>7.0</td><td>9.0</td><td>11.0</td><td>2.0</td><td>1.0</td><td>1.0</td><td>22.0</td><td>41.0</td><td>94.0</td><td>0</td><td>0</td><td>0</td><td>0</td><td>0</td><td>0</td><td>0</td><td>0</td><td>1</td><td>0</td><td>0</td><td>0</td><td>0</td><td>0</td><td>0</td><td>0</td><td>0</td><td>0</td><td>0</td></tr><tr><td>&hellip;</td><td>&hellip;</td><td>&hellip;</td><td>&hellip;</td><td>&hellip;</td><td>&hellip;</td><td>&hellip;</td><td>&hellip;</td><td>&hellip;</td><td>&hellip;</td><td>&hellip;</td><td>&hellip;</td><td>&hellip;</td><td>&hellip;</td><td>&hellip;</td><td>&hellip;</td><td>&hellip;</td><td>&hellip;</td><td>&hellip;</td><td>&hellip;</td><td>&hellip;</td><td>&hellip;</td><td>&hellip;</td><td>&hellip;</td><td>&hellip;</td><td>&hellip;</td><td>&hellip;</td><td>&hellip;</td><td>&hellip;</td><td>&hellip;</td><td>&hellip;</td><td>&hellip;</td><td>&hellip;</td><td>&hellip;</td><td>&hellip;</td><td>&hellip;</td><td>&hellip;</td><td>&hellip;</td><td>&hellip;</td><td>&hellip;</td><td>&hellip;</td><td>&hellip;</td><td>&hellip;</td><td>&hellip;</td><td>&hellip;</td><td>&hellip;</td><td>&hellip;</td><td>&hellip;</td><td>&hellip;</td><td>&hellip;</td><td>&hellip;</td><td>&hellip;</td><td>&hellip;</td><td>&hellip;</td><td>&hellip;</td><td>&hellip;</td><td>&hellip;</td><td>&hellip;</td><td>&hellip;</td><td>&hellip;</td><td>&hellip;</td></tr><tr><td>1</td><td>0</td><td>0</td><td>0</td><td>0</td><td>0</td><td>0</td><td>0</td><td>0</td><td>0</td><td>0</td><td>0</td><td>0</td><td>0</td><td>0</td><td>0</td><td>0</td><td>0</td><td>0</td><td>0</td><td>0</td><td>1</td><td>2.0</td><td>&quot;2666.0&quot;</td><td>&quot;686.0&quot;</td><td>37.0</td><td>14.0</td><td>23.0</td><td>285.0</td><td>469.0</td><td>686.0</td><td>1.0</td><td>1.0</td><td>1.0</td><td>7.0</td><td>19.0</td><td>2.0</td><td>2.0</td><td>1.0</td><td>226.0</td><td>429.0</td><td>686.0</td><td>0</td><td>0</td><td>0</td><td>0</td><td>0</td><td>0</td><td>0</td><td>0</td><td>0</td><td>0</td><td>0</td><td>1</td><td>0</td><td>0</td><td>0</td><td>0</td><td>0</td><td>0</td><td>0</td></tr><tr><td>1</td><td>0</td><td>0</td><td>0</td><td>0</td><td>0</td><td>0</td><td>0</td><td>0</td><td>0</td><td>0</td><td>0</td><td>0</td><td>0</td><td>0</td><td>0</td><td>0</td><td>0</td><td>0</td><td>0</td><td>0</td><td>1</td><td>1.0</td><td>&quot;3039.0&quot;</td><td>&quot;534.0&quot;</td><td>42.0</td><td>26.0</td><td>16.0</td><td>289.0</td><td>499.0</td><td>635.0</td><td>1.0</td><td>1.0</td><td>1.0</td><td>3.0</td><td>6.0</td><td>2.0</td><td>2.0</td><td>1.0</td><td>278.0</td><td>450.0</td><td>635.0</td><td>0</td><td>1</td><td>0</td><td>0</td><td>0</td><td>0</td><td>0</td><td>0</td><td>0</td><td>0</td><td>0</td><td>0</td><td>0</td><td>0</td><td>0</td><td>0</td><td>0</td><td>0</td><td>0</td></tr><tr><td>1</td><td>0</td><td>0</td><td>0</td><td>0</td><td>0</td><td>0</td><td>0</td><td>0</td><td>0</td><td>0</td><td>0</td><td>0</td><td>0</td><td>0</td><td>0</td><td>0</td><td>0</td><td>0</td><td>0</td><td>0</td><td>1</td><td>1.0</td><td>&quot;2499.0&quot;</td><td>&quot;657.0&quot;</td><td>72.0</td><td>35.0</td><td>37.0</td><td>440.0</td><td>544.0</td><td>657.0</td><td>2.0</td><td>1.0</td><td>1.0</td><td>3.0</td><td>5.0</td><td>2.0</td><td>2.0</td><td>1.0</td><td>305.0</td><td>465.0</td><td>657.0</td><td>0</td><td>0</td><td>0</td><td>0</td><td>0</td><td>0</td><td>0</td><td>0</td><td>0</td><td>1</td><td>0</td><td>0</td><td>0</td><td>0</td><td>0</td><td>0</td><td>0</td><td>0</td><td>0</td></tr><tr><td>1</td><td>0</td><td>0</td><td>0</td><td>0</td><td>0</td><td>0</td><td>0</td><td>0</td><td>0</td><td>0</td><td>0</td><td>0</td><td>0</td><td>0</td><td>0</td><td>0</td><td>0</td><td>0</td><td>0</td><td>0</td><td>1</td><td>1.0</td><td>&quot;2274.0&quot;</td><td>&quot;557.0&quot;</td><td>72.0</td><td>35.0</td><td>37.0</td><td>368.0</td><td>462.0</td><td>557.0</td><td>4.0</td><td>3.0</td><td>3.0</td><td>2.0</td><td>2.0</td><td>1.0</td><td>1.0</td><td>1.0</td><td>368.0</td><td>462.0</td><td>557.0</td><td>0</td><td>1</td><td>0</td><td>0</td><td>0</td><td>0</td><td>0</td><td>0</td><td>0</td><td>0</td><td>0</td><td>0</td><td>0</td><td>0</td><td>0</td><td>0</td><td>0</td><td>0</td><td>0</td></tr><tr><td>1</td><td>0</td><td>0</td><td>0</td><td>0</td><td>0</td><td>0</td><td>0</td><td>0</td><td>0</td><td>0</td><td>0</td><td>0</td><td>0</td><td>0</td><td>0</td><td>0</td><td>0</td><td>0</td><td>0</td><td>0</td><td>1</td><td>1.0</td><td>&quot;2296.0&quot;</td><td>&quot;571.0&quot;</td><td>93.0</td><td>40.0</td><td>53.0</td><td>341.0</td><td>441.0</td><td>571.0</td><td>4.0</td><td>2.0</td><td>1.0</td><td>7.0</td><td>10.0</td><td>2.0</td><td>1.0</td><td>2.0</td><td>341.0</td><td>444.0</td><td>613.0</td><td>0</td><td>0</td><td>0</td><td>0</td><td>0</td><td>0</td><td>0</td><td>0</td><td>0</td><td>0</td><td>0</td><td>0</td><td>0</td><td>1</td><td>0</td><td>0</td><td>0</td><td>0</td><td>0</td></tr></tbody></table></div>"
      ]
     },
     "metadata": {},
     "output_type": "display_data"
    }
   ],
   "execution_count": 7
  },
  {
   "metadata": {
    "ExecuteTime": {
     "end_time": "2024-12-02T22:15:03.259033Z",
     "start_time": "2024-12-02T22:15:02.067426Z"
    }
   },
   "cell_type": "code",
   "source": [
    "from sklearn.model_selection import train_test_split\n",
    "from sklearn.preprocessing import StandardScaler\n",
    "\n",
    "SEED = 123\n",
    "\n",
    "(\n",
    "    pb_achieved_feature_train_df,\n",
    "    pb_achieved_feature_test_df,\n",
    "    pb_achieved_target_train_df,\n",
    "    pb_achieved_target_test_df,\n",
    ") = train_test_split(\n",
    "    pb_achieved_features_df,\n",
    "    pb_achieved_target_df,\n",
    "    test_size=0.30,\n",
    "    random_state=SEED,\n",
    ")\n",
    "\n",
    "total_rows = len(pb_achieved_features_df)\n",
    "train_rows = len(pb_achieved_feature_train_df)\n",
    "test_rows = len(pb_achieved_feature_test_df)\n",
    "\n",
    "test_percentage_of_total = train_rows / total_rows\n",
    "\n",
    "print(f\"Total Rows: {total_rows} Training Rows: {train_rows} Test Rows: {test_rows} Test Percentage of Total: {test_percentage_of_total:.2f}\")\n",
    "\n",
    "validate_features_vs_target(pb_achieved_feature_train_df,pb_achieved_target_train_df)\n",
    "validate_features_vs_target(pb_achieved_feature_test_df,pb_achieved_target_test_df)\n"
   ],
   "id": "4f17771ac574c915",
   "outputs": [
    {
     "name": "stdout",
     "output_type": "stream",
     "text": [
      "Total Rows: 22443 Training Rows: 15710 Test Rows: 6733 Test Percentage of Total: 0.70\n",
      "MATCH Features_df shape: (15710, 61) vs Target (15710, 1)\n",
      "MATCH Features_df shape: (6733, 61) vs Target (6733, 1)\n"
     ]
    }
   ],
   "execution_count": 8
  },
  {
   "metadata": {},
   "cell_type": "markdown",
   "source": [
    "## Scale the data\n",
    "\n",
    "It is important to scale the data so that the model is not distorted by really large values.\n",
    "\n",
    "### My notes are \n",
    "- Dimensionality reduction, which \n",
    "1. Rotates the data. Some like 45 degrees\n",
    "2. Keeps the same data but reduce the complexity\n",
    "- Principal Component Analysis (PCA) is a technique that can be used to reduce the dimensionality of the data.\n",
    "\n",
    "### Notes from Copilot\n",
    "The StandardScaler standardizes a feature by subtracting the mean and then scaling to unit variance. Unit variance means dividing all the values by the standard deviation."
   ],
   "id": "a09d79a8534667e8"
  },
  {
   "metadata": {
    "ExecuteTime": {
     "end_time": "2024-12-02T22:15:08.467428Z",
     "start_time": "2024-12-02T22:15:08.231972Z"
    }
   },
   "cell_type": "code",
   "source": [
    "scaler = StandardScaler()\n",
    "\n",
    "pb_achieved_feature_train_scaled_df = scaler.fit_transform(\n",
    "    pb_achieved_feature_train_df\n",
    ")\n",
    "\n",
    "pb_achieved_feature_test_scaled_df = scaler.fit_transform(\n",
    "    pb_achieved_feature_test_df\n",
    ")\n",
    "\n",
    "print(f\"Scaled Training data shape: {pb_achieved_feature_train_scaled_df.shape} vs Test {pb_achieved_feature_test_scaled_df.shape}\")\n",
    "\n"
   ],
   "id": "cb450ce7eb86a2b",
   "outputs": [
    {
     "name": "stdout",
     "output_type": "stream",
     "text": [
      "Scaled Training data shape: (15710, 61) vs Test (6733, 61)\n"
     ]
    }
   ],
   "execution_count": 9
  },
  {
   "metadata": {},
   "cell_type": "markdown",
   "source": "Do we have balanced target classes?",
   "id": "182f6ed9d6828ac6"
  },
  {
   "metadata": {},
   "cell_type": "markdown",
   "source": [
    "# Logistic regression example\n",
    "\n",
    "```\n",
    "from sklearn.linear_model import LogisticRegression\n",
    "\n",
    "logistic_regression_classifier = LogisticRegression(penalty=None)\n",
    "\n",
    "logistic_regression_classifier.fit(\n",
    "    pb_achieved_feature_train_scaled_df,\n",
    "    pb_achieved_target_train_df.get_column(\"is_pb\"),\n",
    ")\n",
    "```\n",
    "\n",
    "## Constraints\n",
    "\n",
    "> ValueError: Input X contains NaN.\n",
    "LogisticRegression does not accept missing values encoded as NaN natively. For supervised learning, you might want to consider sklearn.ensemble.HistGradientBoostingClassifier and Regressor which accept missing values encoded as NaNs natively. Alternatively, it is possible to preprocess the data, for instance by using an imputer transformer in a pipeline or drop samples with missing values\n",
    "\n",
    "\n",
    "One common strategy is to use the mean or median of the column to fill in the missing values. Here is how you can do it using SimpleImputer from sklearn.impute:  \n",
    "Import SimpleImputer.\n",
    "Create an imputer instance with the desired strategy (e.g., mean, median).\n",
    "Fit the imputer on the training data and transform both the training and test data.\n",
    "\n",
    "```\n",
    "import numpy as np\n",
    "from sklearn.impute import SimpleImputer\n",
    "from sklearn.linear_model import LogisticRegression\n",
    "\n",
    "# Create an imputer instance with the mean strategy\n",
    "imputer = SimpleImputer(strategy=\"mean\")\n",
    "\n",
    "# Fit the imputer on the training data and transform both the training and test data\n",
    "pb_achieved_feature_train_scaled_df = imputer.fit_transform(pb_achieved_feature_train_scaled_df)\n",
    "pb_achieved_feature_test_scaled_df = imputer.transform(pb_achieved_feature_test_scaled_df)\n",
    "\n",
    "# Create and fit the logistic regression classifier\n",
    "logistic_regression_classifier = LogisticRegression(penalty=None)\n",
    "\n",
    "logistic_regression_classifier.fit(\n",
    "    pb_achieved_feature_train_scaled_df,\n",
    "    pb_achieved_target_train_df.get_column(\"is_pb\"),\n",
    ")\n",
    "```\n",
    "\n",
    "\n",
    "\n"
   ],
   "id": "c52d48731cd91002"
  },
  {
   "metadata": {
    "ExecuteTime": {
     "end_time": "2024-12-02T22:15:13.091480Z",
     "start_time": "2024-12-02T22:15:13.072492Z"
    }
   },
   "cell_type": "code",
   "source": [
    "# Convert Polars DataFrame to Pandas DataFrame\n",
    "pb_achieved_feature_train_df_pandas = pb_achieved_feature_train_df.to_pandas()\n",
    "pb_achieved_target_train_df_pandas = pb_achieved_target_train_df.to_pandas()\n",
    "pb_achieved_feature_test_df_pandas = pb_achieved_feature_test_df.to_pandas()\n",
    "pb_achieved_target_test_df_pandas = pb_achieved_target_test_df.to_pandas()\n",
    "\n"
   ],
   "id": "f442b5fcb17ea55a",
   "outputs": [],
   "execution_count": 10
  },
  {
   "metadata": {},
   "cell_type": "markdown",
   "source": [
    "# Define Column for Defaults\n",
    "\n",
    "**All columns** need **default values** for **missing values**.\n",
    "\n",
    "This can have quite an impact on the model. For example if \n",
    "- You defaulted missing **points to 10** which is the **highest point** you can score \n",
    "- You would **create an artificially high amount** of high points scores when the data is much lower\n",
    "\n",
    "The second section of the code checks the column exist in the data frame. If they do not exist you will get an error.\n",
    "\n",
    "> ValueError: A given column is not a column of the dataframe "
   ],
   "id": "4a1ae577853dadb4"
  },
  {
   "metadata": {
    "ExecuteTime": {
     "end_time": "2024-12-02T22:15:16.992244Z",
     "start_time": "2024-12-02T22:15:16.986731Z"
    }
   },
   "cell_type": "code",
   "source": [
    "\n",
    "def get_boolean_features(df : pd.DataFrame, exclude_races = True, exclude_ages = True) -> list:\n",
    "    binary_columns = []\n",
    "    \n",
    "    for col in df.columns:\n",
    "        if exclude_races is False and col.startswith('RaceName_'):\n",
    "            binary_columns.append(col)\n",
    "        elif exclude_ages is False and col.startswith('p_of_10_road_age_category_'):\n",
    "            binary_columns.append(col)\n",
    "     \n",
    "    binary_columns.append(\"is_club_member_false\")\n",
    "    binary_columns.append(\"Gender_F\")\n",
    "    \n",
    "    return binary_columns\n"
   ],
   "id": "2d80e8ae4d18dd86",
   "outputs": [],
   "execution_count": 11
  },
  {
   "metadata": {
    "ExecuteTime": {
     "end_time": "2024-12-02T22:15:22.988670Z",
     "start_time": "2024-12-02T22:15:22.983626Z"
    }
   },
   "cell_type": "code",
   "source": [
    "binary_columns = get_boolean_features(pb_achieved_feature_train_df_pandas, True, False)\n",
    "\n",
    "print(binary_columns)"
   ],
   "id": "f023633ec59b806f",
   "outputs": [
    {
     "name": "stdout",
     "output_type": "stream",
     "text": [
      "['p_of_10_road_age_category_SEN', 'p_of_10_road_age_category_TBC', 'p_of_10_road_age_category_U11', 'p_of_10_road_age_category_U13', 'p_of_10_road_age_category_U15', 'p_of_10_road_age_category_U17', 'p_of_10_road_age_category_U20', 'p_of_10_road_age_category_U23', 'p_of_10_road_age_category_V35', 'p_of_10_road_age_category_V40', 'p_of_10_road_age_category_V45', 'p_of_10_road_age_category_V50', 'p_of_10_road_age_category_V55', 'p_of_10_road_age_category_V65', 'p_of_10_road_age_category_V70', 'p_of_10_road_age_category_V75', 'p_of_10_road_age_category_V80', 'p_of_10_road_age_category_V85', 'p_of_10_road_age_category_V95', 'is_club_member_false', 'Gender_F']\n"
     ]
    }
   ],
   "execution_count": 12
  },
  {
   "metadata": {
    "ExecuteTime": {
     "end_time": "2024-12-02T22:15:28.700342Z",
     "start_time": "2024-12-02T22:15:28.692170Z"
    }
   },
   "cell_type": "code",
   "source": [
    "def validate_features(features_df, \n",
    "                      low_value_good_features: list,\n",
    "                      high_value_good_features: list,\n",
    "                      boolean_features: list,\n",
    "                      time_in_seconds_features: list,\n",
    "                      years_since_value_features: list) -> list:\n",
    "    \n",
    "  \n",
    "    feature_columns_to_validate = (low_value_good_features \n",
    "                                      + high_value_good_features \n",
    "                                      + boolean_features \n",
    "                                      + time_in_seconds_features \n",
    "                                      + years_since_value_features)\n",
    "  \n",
    "\n",
    "    # Find columns that are not in the combined feature list\n",
    "    extra_columns = [col for col in features_df.columns if col not in feature_columns_to_validate]\n",
    "    print(f\"WARNING (Be Aware)- Column that exist in the features_df but not in the feature_columns_to_validate list: {extra_columns}\")\n",
    "    \n",
    "    # Check if columns exist in the DataFrame\n",
    "    missing_columns = [col for col in feature_columns_to_validate if col not in features_df.columns]\n",
    "    missing_low_value_good_columns = [col for col in low_value_good_features if col not in features_df.columns]\n",
    "    missing_high_value_good_columns = [col for col in high_value_good_features if col not in features_df.columns]\n",
    "    \n",
    "    good_prefix =\"GOOD\"\n",
    "    bad_prefix =\"BAD\"\n",
    "    \n",
    "    \n",
    "    # Print the results\n",
    "    if missing_columns:\n",
    "        print(f\"{bad_prefix} - Missing columns in WHOLE set: {missing_columns}\")\n",
    "    else:\n",
    "        print(f\"{good_prefix} - All feature columns {len(feature_columns_to_validate)} exist in the DataFrame {len(features_df.columns)}.\")\n",
    "    \n",
    "    if missing_low_value_good_columns:\n",
    "        print(f\"{bad_prefix} - Missing columns in low_value_good_columns: {missing_low_value_good_columns}\")\n",
    "    else:\n",
    "        print(f\"{good_prefix} - All columns in low_value_good_columns exist in the DataFrame.\")\n",
    "    \n",
    "    if missing_high_value_good_columns:\n",
    "        print(f\"{bad_prefix} - Missing columns in high_value_good_columns: {missing_high_value_good_columns}\")\n",
    "    else:\n",
    "        print(f\"{good_prefix} - All columns in high_value_good_columns exist in the DataFrame.\")\n",
    "    \n",
    "    \n",
    "    # Create a DataFrame with the count of NaN values for each column\n",
    "    nan_counts_df = pd.DataFrame({\n",
    "        'column': features_df.columns,\n",
    "        'nan_count': features_df.isna().sum()\n",
    "    })\n",
    "    \n",
    "    # Sort the DataFrame by nan_count in descending order\n",
    "    nan_counts_df = nan_counts_df.sort_values(by='nan_count', ascending=False)\n",
    "    nan_counts_df = nan_counts_df[nan_counts_df['nan_count'] > 0]\n",
    "    \n",
    "    # Set the maximum number of rows to display\n",
    "    pd.set_option('display.max_rows', 30)\n",
    "    \n",
    "    display(nan_counts_df.head(8))\n",
    "    \n",
    "    return feature_columns_to_validate"
   ],
   "id": "b850da29433b4290",
   "outputs": [],
   "execution_count": 13
  },
  {
   "metadata": {
    "ExecuteTime": {
     "end_time": "2024-12-02T22:15:31.838085Z",
     "start_time": "2024-12-02T22:15:31.833084Z"
    }
   },
   "cell_type": "code",
   "source": [
    "\n",
    "# Define the columns\n",
    "# \"Position\", \"Gender Position\", \n",
    "time_in_seconds_columns = [ \"prior_quickest_run_time_in_seconds\"]\n",
    "\n",
    "years_since_value_columns = [\"position_record_years_since_best\", \"position_record_years_since_worst\"]\n",
    "\n",
    "low_value_good_columns = [\n",
    "    \"best_position_year_to_date\", \"average_position_year_to_date\", \"worst_position_year_to_date\", \"position_record_best_position_all_time\", \"position_record_worst_position_all_time\", \"prior_quickest_run_position\",  \"position_record_average_position_all_time\"]\n",
    "\n",
    "\n",
    "high_value_good_columns = [\"fellow_club_mates_running\", \"fellow_club_mates_running_male\", \"fellow_club_mates_running_female\", \"average_points_year_to_date\", \"best_points_year_to_date\", \"worst_points_year_to_date\", \"runs_in_wsfrl_year_to_date\", 'wsfrl_tenure_in_runs','wsfrl_tenure_in_years', 'prior_run_attempts']\n",
    "\n",
    "\n",
    "\n",
    "\n",
    "\n",
    "\n"
   ],
   "id": "46fa6b5921122e78",
   "outputs": [],
   "execution_count": 14
  },
  {
   "metadata": {
    "ExecuteTime": {
     "end_time": "2024-12-02T22:15:33.464093Z",
     "start_time": "2024-12-02T22:15:33.448106Z"
    }
   },
   "cell_type": "code",
   "source": [
    "# Combine the lists\n",
    "all_feature_columns = validate_features(pb_achieved_feature_train_df_pandas,\n",
    "                                        low_value_good_columns, \n",
    "                                        high_value_good_columns, \n",
    "                                        binary_columns, \n",
    "                                        time_in_seconds_columns, \n",
    "                                        years_since_value_columns)\n"
   ],
   "id": "5527fe53e412993a",
   "outputs": [
    {
     "name": "stdout",
     "output_type": "stream",
     "text": [
      "WARNING (Be Aware)- Column that exist in the features_df but not in the feature_columns_to_validate list: ['RaceName_Downland Dash', 'RaceName_Fittleworth', 'RaceName_Great Walstead 5', 'RaceName_Gunpowder Trot', 'RaceName_Hangover-5', 'RaceName_Hedgehoppers 5', 'RaceName_Hickstead Gallop', 'RaceName_Highdown Hike', 'RaceName_Hornets Stinger', 'RaceName_Hove Park', 'RaceName_Lewes AC Easter Monday', 'RaceName_Run Your Heart Out 8k', 'RaceName_Seven Stiles', 'RaceName_Steepdown Challenge', 'RaceName_Steyning AC Roundhill Romp', 'RaceName_Tilgate 5', 'RaceName_Trundle View', 'RaceName_Valentine', 'RaceName_Windlesham-Whip', 'RaceName_Worthing Lido']\n",
      "GOOD - All feature columns 41 exist in the DataFrame 61.\n",
      "GOOD - All columns in low_value_good_columns exist in the DataFrame.\n",
      "GOOD - All columns in high_value_good_columns exist in the DataFrame.\n"
     ]
    },
    {
     "data": {
      "text/plain": [
       "                                                      column  nan_count\n",
       "average_points_year_to_date      average_points_year_to_date       1626\n",
       "best_points_year_to_date            best_points_year_to_date       1626\n",
       "worst_points_year_to_date          worst_points_year_to_date       1626\n",
       "worst_position_year_to_date      worst_position_year_to_date       1080\n",
       "best_position_year_to_date        best_position_year_to_date       1080\n",
       "average_position_year_to_date  average_position_year_to_date       1080"
      ],
      "text/html": [
       "<div>\n",
       "<style scoped>\n",
       "    .dataframe tbody tr th:only-of-type {\n",
       "        vertical-align: middle;\n",
       "    }\n",
       "\n",
       "    .dataframe tbody tr th {\n",
       "        vertical-align: top;\n",
       "    }\n",
       "\n",
       "    .dataframe thead th {\n",
       "        text-align: right;\n",
       "    }\n",
       "</style>\n",
       "<table border=\"1\" class=\"dataframe\">\n",
       "  <thead>\n",
       "    <tr style=\"text-align: right;\">\n",
       "      <th></th>\n",
       "      <th>column</th>\n",
       "      <th>nan_count</th>\n",
       "    </tr>\n",
       "  </thead>\n",
       "  <tbody>\n",
       "    <tr>\n",
       "      <th>average_points_year_to_date</th>\n",
       "      <td>average_points_year_to_date</td>\n",
       "      <td>1626</td>\n",
       "    </tr>\n",
       "    <tr>\n",
       "      <th>best_points_year_to_date</th>\n",
       "      <td>best_points_year_to_date</td>\n",
       "      <td>1626</td>\n",
       "    </tr>\n",
       "    <tr>\n",
       "      <th>worst_points_year_to_date</th>\n",
       "      <td>worst_points_year_to_date</td>\n",
       "      <td>1626</td>\n",
       "    </tr>\n",
       "    <tr>\n",
       "      <th>worst_position_year_to_date</th>\n",
       "      <td>worst_position_year_to_date</td>\n",
       "      <td>1080</td>\n",
       "    </tr>\n",
       "    <tr>\n",
       "      <th>best_position_year_to_date</th>\n",
       "      <td>best_position_year_to_date</td>\n",
       "      <td>1080</td>\n",
       "    </tr>\n",
       "    <tr>\n",
       "      <th>average_position_year_to_date</th>\n",
       "      <td>average_position_year_to_date</td>\n",
       "      <td>1080</td>\n",
       "    </tr>\n",
       "  </tbody>\n",
       "</table>\n",
       "</div>"
      ]
     },
     "metadata": {},
     "output_type": "display_data"
    }
   ],
   "execution_count": 15
  },
  {
   "metadata": {
    "ExecuteTime": {
     "end_time": "2024-12-02T22:15:44.242350Z",
     "start_time": "2024-12-02T22:15:43.848080Z"
    }
   },
   "cell_type": "code",
   "source": [
    "import numpy as np\n",
    "from sklearn.impute import SimpleImputer\n",
    "from sklearn.compose import ColumnTransformer\n",
    "from sklearn.linear_model import LogisticRegression\n",
    "from sklearn.pipeline import Pipeline\n",
    "from sklearn.preprocessing import StandardScaler\n",
    "\n",
    "# Create imputers for different columns\n",
    "\n",
    "seconds_value_imputer = SimpleImputer(strategy=\"constant\", fill_value=400000)\n",
    "low_value_imputer = SimpleImputer(strategy=\"constant\", fill_value=400)\n",
    "high_value_imputer = SimpleImputer(strategy=\"constant\", fill_value=0) #-np.inf is too big for a float \n",
    "binary_value_imputer = SimpleImputer(strategy=\"constant\", fill_value=np.uint8(0))\n",
    "\n",
    "\n",
    "# Combine the imputers using ColumnTransformer\n",
    "preprocessor = ColumnTransformer(\n",
    "    transformers=[\n",
    "        (\"low_value_good\", low_value_imputer, low_value_good_columns),\n",
    "        (\"high_value_good\", high_value_imputer, high_value_good_columns),\n",
    "        (\"binary\", binary_value_imputer, binary_columns),\n",
    "        (\"seconds\", seconds_value_imputer, time_in_seconds_columns),\n",
    "        (\"years_since\", SimpleImputer(strategy=\"constant\", fill_value=0), years_since_value_columns),\n",
    "    ]\n",
    ")\n",
    "\n",
    "PIPELINE_STEP_PREPROCESSOR = \"preprocessor\"\n",
    "PIPELINE_STEP_SCALER = \"scaler\"\n",
    "\n",
    "# Create a pipeline with the preprocessor, scaler, and the logistic regression classifier\n",
    "pipeline = Pipeline(steps=[\n",
    "    (PIPELINE_STEP_PREPROCESSOR, preprocessor),\n",
    "    (PIPELINE_STEP_SCALER, StandardScaler()),\n",
    "    (\"classifier\", LogisticRegression(penalty=None))\n",
    "])\n",
    "\n",
    "# Fit the pipeline on the training data\n",
    "pipeline.fit(pb_achieved_feature_train_df_pandas, pb_achieved_target_train_df_pandas[\"is_pb\"])\n",
    "\n",
    "# \n",
    "# # Transform the test data\n",
    "# pb_achieved_feature_test_scaled_df = pipeline.transform(pb_achieved_feature_test_df)"
   ],
   "id": "3177966ac6d7d156",
   "outputs": [
    {
     "data": {
      "text/plain": [
       "Pipeline(steps=[('preprocessor',\n",
       "                 ColumnTransformer(transformers=[('low_value_good',\n",
       "                                                  SimpleImputer(fill_value=400,\n",
       "                                                                strategy='constant'),\n",
       "                                                  ['best_position_year_to_date',\n",
       "                                                   'average_position_year_to_date',\n",
       "                                                   'worst_position_year_to_date',\n",
       "                                                   'position_record_best_position_all_time',\n",
       "                                                   'position_record_worst_position_all_time',\n",
       "                                                   'prior_quickest_run_position',\n",
       "                                                   'position_rec...\n",
       "                                                   'is_club_member_false',\n",
       "                                                   'Gender_F']),\n",
       "                                                 ('seconds',\n",
       "                                                  SimpleImputer(fill_value=400000,\n",
       "                                                                strategy='constant'),\n",
       "                                                  ['prior_quickest_run_time_in_seconds']),\n",
       "                                                 ('years_since',\n",
       "                                                  SimpleImputer(fill_value=0,\n",
       "                                                                strategy='constant'),\n",
       "                                                  ['position_record_years_since_best',\n",
       "                                                   'position_record_years_since_worst'])])),\n",
       "                ('scaler', StandardScaler()),\n",
       "                ('classifier', LogisticRegression(penalty=None))])"
      ],
      "text/html": [
       "<style>#sk-container-id-1 {\n",
       "  /* Definition of color scheme common for light and dark mode */\n",
       "  --sklearn-color-text: black;\n",
       "  --sklearn-color-line: gray;\n",
       "  /* Definition of color scheme for unfitted estimators */\n",
       "  --sklearn-color-unfitted-level-0: #fff5e6;\n",
       "  --sklearn-color-unfitted-level-1: #f6e4d2;\n",
       "  --sklearn-color-unfitted-level-2: #ffe0b3;\n",
       "  --sklearn-color-unfitted-level-3: chocolate;\n",
       "  /* Definition of color scheme for fitted estimators */\n",
       "  --sklearn-color-fitted-level-0: #f0f8ff;\n",
       "  --sklearn-color-fitted-level-1: #d4ebff;\n",
       "  --sklearn-color-fitted-level-2: #b3dbfd;\n",
       "  --sklearn-color-fitted-level-3: cornflowerblue;\n",
       "\n",
       "  /* Specific color for light theme */\n",
       "  --sklearn-color-text-on-default-background: var(--sg-text-color, var(--theme-code-foreground, var(--jp-content-font-color1, black)));\n",
       "  --sklearn-color-background: var(--sg-background-color, var(--theme-background, var(--jp-layout-color0, white)));\n",
       "  --sklearn-color-border-box: var(--sg-text-color, var(--theme-code-foreground, var(--jp-content-font-color1, black)));\n",
       "  --sklearn-color-icon: #696969;\n",
       "\n",
       "  @media (prefers-color-scheme: dark) {\n",
       "    /* Redefinition of color scheme for dark theme */\n",
       "    --sklearn-color-text-on-default-background: var(--sg-text-color, var(--theme-code-foreground, var(--jp-content-font-color1, white)));\n",
       "    --sklearn-color-background: var(--sg-background-color, var(--theme-background, var(--jp-layout-color0, #111)));\n",
       "    --sklearn-color-border-box: var(--sg-text-color, var(--theme-code-foreground, var(--jp-content-font-color1, white)));\n",
       "    --sklearn-color-icon: #878787;\n",
       "  }\n",
       "}\n",
       "\n",
       "#sk-container-id-1 {\n",
       "  color: var(--sklearn-color-text);\n",
       "}\n",
       "\n",
       "#sk-container-id-1 pre {\n",
       "  padding: 0;\n",
       "}\n",
       "\n",
       "#sk-container-id-1 input.sk-hidden--visually {\n",
       "  border: 0;\n",
       "  clip: rect(1px 1px 1px 1px);\n",
       "  clip: rect(1px, 1px, 1px, 1px);\n",
       "  height: 1px;\n",
       "  margin: -1px;\n",
       "  overflow: hidden;\n",
       "  padding: 0;\n",
       "  position: absolute;\n",
       "  width: 1px;\n",
       "}\n",
       "\n",
       "#sk-container-id-1 div.sk-dashed-wrapped {\n",
       "  border: 1px dashed var(--sklearn-color-line);\n",
       "  margin: 0 0.4em 0.5em 0.4em;\n",
       "  box-sizing: border-box;\n",
       "  padding-bottom: 0.4em;\n",
       "  background-color: var(--sklearn-color-background);\n",
       "}\n",
       "\n",
       "#sk-container-id-1 div.sk-container {\n",
       "  /* jupyter's `normalize.less` sets `[hidden] { display: none; }`\n",
       "     but bootstrap.min.css set `[hidden] { display: none !important; }`\n",
       "     so we also need the `!important` here to be able to override the\n",
       "     default hidden behavior on the sphinx rendered scikit-learn.org.\n",
       "     See: https://github.com/scikit-learn/scikit-learn/issues/21755 */\n",
       "  display: inline-block !important;\n",
       "  position: relative;\n",
       "}\n",
       "\n",
       "#sk-container-id-1 div.sk-text-repr-fallback {\n",
       "  display: none;\n",
       "}\n",
       "\n",
       "div.sk-parallel-item,\n",
       "div.sk-serial,\n",
       "div.sk-item {\n",
       "  /* draw centered vertical line to link estimators */\n",
       "  background-image: linear-gradient(var(--sklearn-color-text-on-default-background), var(--sklearn-color-text-on-default-background));\n",
       "  background-size: 2px 100%;\n",
       "  background-repeat: no-repeat;\n",
       "  background-position: center center;\n",
       "}\n",
       "\n",
       "/* Parallel-specific style estimator block */\n",
       "\n",
       "#sk-container-id-1 div.sk-parallel-item::after {\n",
       "  content: \"\";\n",
       "  width: 100%;\n",
       "  border-bottom: 2px solid var(--sklearn-color-text-on-default-background);\n",
       "  flex-grow: 1;\n",
       "}\n",
       "\n",
       "#sk-container-id-1 div.sk-parallel {\n",
       "  display: flex;\n",
       "  align-items: stretch;\n",
       "  justify-content: center;\n",
       "  background-color: var(--sklearn-color-background);\n",
       "  position: relative;\n",
       "}\n",
       "\n",
       "#sk-container-id-1 div.sk-parallel-item {\n",
       "  display: flex;\n",
       "  flex-direction: column;\n",
       "}\n",
       "\n",
       "#sk-container-id-1 div.sk-parallel-item:first-child::after {\n",
       "  align-self: flex-end;\n",
       "  width: 50%;\n",
       "}\n",
       "\n",
       "#sk-container-id-1 div.sk-parallel-item:last-child::after {\n",
       "  align-self: flex-start;\n",
       "  width: 50%;\n",
       "}\n",
       "\n",
       "#sk-container-id-1 div.sk-parallel-item:only-child::after {\n",
       "  width: 0;\n",
       "}\n",
       "\n",
       "/* Serial-specific style estimator block */\n",
       "\n",
       "#sk-container-id-1 div.sk-serial {\n",
       "  display: flex;\n",
       "  flex-direction: column;\n",
       "  align-items: center;\n",
       "  background-color: var(--sklearn-color-background);\n",
       "  padding-right: 1em;\n",
       "  padding-left: 1em;\n",
       "}\n",
       "\n",
       "\n",
       "/* Toggleable style: style used for estimator/Pipeline/ColumnTransformer box that is\n",
       "clickable and can be expanded/collapsed.\n",
       "- Pipeline and ColumnTransformer use this feature and define the default style\n",
       "- Estimators will overwrite some part of the style using the `sk-estimator` class\n",
       "*/\n",
       "\n",
       "/* Pipeline and ColumnTransformer style (default) */\n",
       "\n",
       "#sk-container-id-1 div.sk-toggleable {\n",
       "  /* Default theme specific background. It is overwritten whether we have a\n",
       "  specific estimator or a Pipeline/ColumnTransformer */\n",
       "  background-color: var(--sklearn-color-background);\n",
       "}\n",
       "\n",
       "/* Toggleable label */\n",
       "#sk-container-id-1 label.sk-toggleable__label {\n",
       "  cursor: pointer;\n",
       "  display: block;\n",
       "  width: 100%;\n",
       "  margin-bottom: 0;\n",
       "  padding: 0.5em;\n",
       "  box-sizing: border-box;\n",
       "  text-align: center;\n",
       "}\n",
       "\n",
       "#sk-container-id-1 label.sk-toggleable__label-arrow:before {\n",
       "  /* Arrow on the left of the label */\n",
       "  content: \"▸\";\n",
       "  float: left;\n",
       "  margin-right: 0.25em;\n",
       "  color: var(--sklearn-color-icon);\n",
       "}\n",
       "\n",
       "#sk-container-id-1 label.sk-toggleable__label-arrow:hover:before {\n",
       "  color: var(--sklearn-color-text);\n",
       "}\n",
       "\n",
       "/* Toggleable content - dropdown */\n",
       "\n",
       "#sk-container-id-1 div.sk-toggleable__content {\n",
       "  max-height: 0;\n",
       "  max-width: 0;\n",
       "  overflow: hidden;\n",
       "  text-align: left;\n",
       "  /* unfitted */\n",
       "  background-color: var(--sklearn-color-unfitted-level-0);\n",
       "}\n",
       "\n",
       "#sk-container-id-1 div.sk-toggleable__content.fitted {\n",
       "  /* fitted */\n",
       "  background-color: var(--sklearn-color-fitted-level-0);\n",
       "}\n",
       "\n",
       "#sk-container-id-1 div.sk-toggleable__content pre {\n",
       "  margin: 0.2em;\n",
       "  border-radius: 0.25em;\n",
       "  color: var(--sklearn-color-text);\n",
       "  /* unfitted */\n",
       "  background-color: var(--sklearn-color-unfitted-level-0);\n",
       "}\n",
       "\n",
       "#sk-container-id-1 div.sk-toggleable__content.fitted pre {\n",
       "  /* unfitted */\n",
       "  background-color: var(--sklearn-color-fitted-level-0);\n",
       "}\n",
       "\n",
       "#sk-container-id-1 input.sk-toggleable__control:checked~div.sk-toggleable__content {\n",
       "  /* Expand drop-down */\n",
       "  max-height: 200px;\n",
       "  max-width: 100%;\n",
       "  overflow: auto;\n",
       "}\n",
       "\n",
       "#sk-container-id-1 input.sk-toggleable__control:checked~label.sk-toggleable__label-arrow:before {\n",
       "  content: \"▾\";\n",
       "}\n",
       "\n",
       "/* Pipeline/ColumnTransformer-specific style */\n",
       "\n",
       "#sk-container-id-1 div.sk-label input.sk-toggleable__control:checked~label.sk-toggleable__label {\n",
       "  color: var(--sklearn-color-text);\n",
       "  background-color: var(--sklearn-color-unfitted-level-2);\n",
       "}\n",
       "\n",
       "#sk-container-id-1 div.sk-label.fitted input.sk-toggleable__control:checked~label.sk-toggleable__label {\n",
       "  background-color: var(--sklearn-color-fitted-level-2);\n",
       "}\n",
       "\n",
       "/* Estimator-specific style */\n",
       "\n",
       "/* Colorize estimator box */\n",
       "#sk-container-id-1 div.sk-estimator input.sk-toggleable__control:checked~label.sk-toggleable__label {\n",
       "  /* unfitted */\n",
       "  background-color: var(--sklearn-color-unfitted-level-2);\n",
       "}\n",
       "\n",
       "#sk-container-id-1 div.sk-estimator.fitted input.sk-toggleable__control:checked~label.sk-toggleable__label {\n",
       "  /* fitted */\n",
       "  background-color: var(--sklearn-color-fitted-level-2);\n",
       "}\n",
       "\n",
       "#sk-container-id-1 div.sk-label label.sk-toggleable__label,\n",
       "#sk-container-id-1 div.sk-label label {\n",
       "  /* The background is the default theme color */\n",
       "  color: var(--sklearn-color-text-on-default-background);\n",
       "}\n",
       "\n",
       "/* On hover, darken the color of the background */\n",
       "#sk-container-id-1 div.sk-label:hover label.sk-toggleable__label {\n",
       "  color: var(--sklearn-color-text);\n",
       "  background-color: var(--sklearn-color-unfitted-level-2);\n",
       "}\n",
       "\n",
       "/* Label box, darken color on hover, fitted */\n",
       "#sk-container-id-1 div.sk-label.fitted:hover label.sk-toggleable__label.fitted {\n",
       "  color: var(--sklearn-color-text);\n",
       "  background-color: var(--sklearn-color-fitted-level-2);\n",
       "}\n",
       "\n",
       "/* Estimator label */\n",
       "\n",
       "#sk-container-id-1 div.sk-label label {\n",
       "  font-family: monospace;\n",
       "  font-weight: bold;\n",
       "  display: inline-block;\n",
       "  line-height: 1.2em;\n",
       "}\n",
       "\n",
       "#sk-container-id-1 div.sk-label-container {\n",
       "  text-align: center;\n",
       "}\n",
       "\n",
       "/* Estimator-specific */\n",
       "#sk-container-id-1 div.sk-estimator {\n",
       "  font-family: monospace;\n",
       "  border: 1px dotted var(--sklearn-color-border-box);\n",
       "  border-radius: 0.25em;\n",
       "  box-sizing: border-box;\n",
       "  margin-bottom: 0.5em;\n",
       "  /* unfitted */\n",
       "  background-color: var(--sklearn-color-unfitted-level-0);\n",
       "}\n",
       "\n",
       "#sk-container-id-1 div.sk-estimator.fitted {\n",
       "  /* fitted */\n",
       "  background-color: var(--sklearn-color-fitted-level-0);\n",
       "}\n",
       "\n",
       "/* on hover */\n",
       "#sk-container-id-1 div.sk-estimator:hover {\n",
       "  /* unfitted */\n",
       "  background-color: var(--sklearn-color-unfitted-level-2);\n",
       "}\n",
       "\n",
       "#sk-container-id-1 div.sk-estimator.fitted:hover {\n",
       "  /* fitted */\n",
       "  background-color: var(--sklearn-color-fitted-level-2);\n",
       "}\n",
       "\n",
       "/* Specification for estimator info (e.g. \"i\" and \"?\") */\n",
       "\n",
       "/* Common style for \"i\" and \"?\" */\n",
       "\n",
       ".sk-estimator-doc-link,\n",
       "a:link.sk-estimator-doc-link,\n",
       "a:visited.sk-estimator-doc-link {\n",
       "  float: right;\n",
       "  font-size: smaller;\n",
       "  line-height: 1em;\n",
       "  font-family: monospace;\n",
       "  background-color: var(--sklearn-color-background);\n",
       "  border-radius: 1em;\n",
       "  height: 1em;\n",
       "  width: 1em;\n",
       "  text-decoration: none !important;\n",
       "  margin-left: 1ex;\n",
       "  /* unfitted */\n",
       "  border: var(--sklearn-color-unfitted-level-1) 1pt solid;\n",
       "  color: var(--sklearn-color-unfitted-level-1);\n",
       "}\n",
       "\n",
       ".sk-estimator-doc-link.fitted,\n",
       "a:link.sk-estimator-doc-link.fitted,\n",
       "a:visited.sk-estimator-doc-link.fitted {\n",
       "  /* fitted */\n",
       "  border: var(--sklearn-color-fitted-level-1) 1pt solid;\n",
       "  color: var(--sklearn-color-fitted-level-1);\n",
       "}\n",
       "\n",
       "/* On hover */\n",
       "div.sk-estimator:hover .sk-estimator-doc-link:hover,\n",
       ".sk-estimator-doc-link:hover,\n",
       "div.sk-label-container:hover .sk-estimator-doc-link:hover,\n",
       ".sk-estimator-doc-link:hover {\n",
       "  /* unfitted */\n",
       "  background-color: var(--sklearn-color-unfitted-level-3);\n",
       "  color: var(--sklearn-color-background);\n",
       "  text-decoration: none;\n",
       "}\n",
       "\n",
       "div.sk-estimator.fitted:hover .sk-estimator-doc-link.fitted:hover,\n",
       ".sk-estimator-doc-link.fitted:hover,\n",
       "div.sk-label-container:hover .sk-estimator-doc-link.fitted:hover,\n",
       ".sk-estimator-doc-link.fitted:hover {\n",
       "  /* fitted */\n",
       "  background-color: var(--sklearn-color-fitted-level-3);\n",
       "  color: var(--sklearn-color-background);\n",
       "  text-decoration: none;\n",
       "}\n",
       "\n",
       "/* Span, style for the box shown on hovering the info icon */\n",
       ".sk-estimator-doc-link span {\n",
       "  display: none;\n",
       "  z-index: 9999;\n",
       "  position: relative;\n",
       "  font-weight: normal;\n",
       "  right: .2ex;\n",
       "  padding: .5ex;\n",
       "  margin: .5ex;\n",
       "  width: min-content;\n",
       "  min-width: 20ex;\n",
       "  max-width: 50ex;\n",
       "  color: var(--sklearn-color-text);\n",
       "  box-shadow: 2pt 2pt 4pt #999;\n",
       "  /* unfitted */\n",
       "  background: var(--sklearn-color-unfitted-level-0);\n",
       "  border: .5pt solid var(--sklearn-color-unfitted-level-3);\n",
       "}\n",
       "\n",
       ".sk-estimator-doc-link.fitted span {\n",
       "  /* fitted */\n",
       "  background: var(--sklearn-color-fitted-level-0);\n",
       "  border: var(--sklearn-color-fitted-level-3);\n",
       "}\n",
       "\n",
       ".sk-estimator-doc-link:hover span {\n",
       "  display: block;\n",
       "}\n",
       "\n",
       "/* \"?\"-specific style due to the `<a>` HTML tag */\n",
       "\n",
       "#sk-container-id-1 a.estimator_doc_link {\n",
       "  float: right;\n",
       "  font-size: 1rem;\n",
       "  line-height: 1em;\n",
       "  font-family: monospace;\n",
       "  background-color: var(--sklearn-color-background);\n",
       "  border-radius: 1rem;\n",
       "  height: 1rem;\n",
       "  width: 1rem;\n",
       "  text-decoration: none;\n",
       "  /* unfitted */\n",
       "  color: var(--sklearn-color-unfitted-level-1);\n",
       "  border: var(--sklearn-color-unfitted-level-1) 1pt solid;\n",
       "}\n",
       "\n",
       "#sk-container-id-1 a.estimator_doc_link.fitted {\n",
       "  /* fitted */\n",
       "  border: var(--sklearn-color-fitted-level-1) 1pt solid;\n",
       "  color: var(--sklearn-color-fitted-level-1);\n",
       "}\n",
       "\n",
       "/* On hover */\n",
       "#sk-container-id-1 a.estimator_doc_link:hover {\n",
       "  /* unfitted */\n",
       "  background-color: var(--sklearn-color-unfitted-level-3);\n",
       "  color: var(--sklearn-color-background);\n",
       "  text-decoration: none;\n",
       "}\n",
       "\n",
       "#sk-container-id-1 a.estimator_doc_link.fitted:hover {\n",
       "  /* fitted */\n",
       "  background-color: var(--sklearn-color-fitted-level-3);\n",
       "}\n",
       "</style><div id=\"sk-container-id-1\" class=\"sk-top-container\"><div class=\"sk-text-repr-fallback\"><pre>Pipeline(steps=[(&#x27;preprocessor&#x27;,\n",
       "                 ColumnTransformer(transformers=[(&#x27;low_value_good&#x27;,\n",
       "                                                  SimpleImputer(fill_value=400,\n",
       "                                                                strategy=&#x27;constant&#x27;),\n",
       "                                                  [&#x27;best_position_year_to_date&#x27;,\n",
       "                                                   &#x27;average_position_year_to_date&#x27;,\n",
       "                                                   &#x27;worst_position_year_to_date&#x27;,\n",
       "                                                   &#x27;position_record_best_position_all_time&#x27;,\n",
       "                                                   &#x27;position_record_worst_position_all_time&#x27;,\n",
       "                                                   &#x27;prior_quickest_run_position&#x27;,\n",
       "                                                   &#x27;position_rec...\n",
       "                                                   &#x27;is_club_member_false&#x27;,\n",
       "                                                   &#x27;Gender_F&#x27;]),\n",
       "                                                 (&#x27;seconds&#x27;,\n",
       "                                                  SimpleImputer(fill_value=400000,\n",
       "                                                                strategy=&#x27;constant&#x27;),\n",
       "                                                  [&#x27;prior_quickest_run_time_in_seconds&#x27;]),\n",
       "                                                 (&#x27;years_since&#x27;,\n",
       "                                                  SimpleImputer(fill_value=0,\n",
       "                                                                strategy=&#x27;constant&#x27;),\n",
       "                                                  [&#x27;position_record_years_since_best&#x27;,\n",
       "                                                   &#x27;position_record_years_since_worst&#x27;])])),\n",
       "                (&#x27;scaler&#x27;, StandardScaler()),\n",
       "                (&#x27;classifier&#x27;, LogisticRegression(penalty=None))])</pre><b>In a Jupyter environment, please rerun this cell to show the HTML representation or trust the notebook. <br />On GitHub, the HTML representation is unable to render, please try loading this page with nbviewer.org.</b></div><div class=\"sk-container\" hidden><div class=\"sk-item sk-dashed-wrapped\"><div class=\"sk-label-container\"><div class=\"sk-label fitted sk-toggleable\"><input class=\"sk-toggleable__control sk-hidden--visually\" id=\"sk-estimator-id-1\" type=\"checkbox\" ><label for=\"sk-estimator-id-1\" class=\"sk-toggleable__label fitted sk-toggleable__label-arrow fitted\">&nbsp;&nbsp;Pipeline<a class=\"sk-estimator-doc-link fitted\" rel=\"noreferrer\" target=\"_blank\" href=\"https://scikit-learn.org/1.5/modules/generated/sklearn.pipeline.Pipeline.html\">?<span>Documentation for Pipeline</span></a><span class=\"sk-estimator-doc-link fitted\">i<span>Fitted</span></span></label><div class=\"sk-toggleable__content fitted\"><pre>Pipeline(steps=[(&#x27;preprocessor&#x27;,\n",
       "                 ColumnTransformer(transformers=[(&#x27;low_value_good&#x27;,\n",
       "                                                  SimpleImputer(fill_value=400,\n",
       "                                                                strategy=&#x27;constant&#x27;),\n",
       "                                                  [&#x27;best_position_year_to_date&#x27;,\n",
       "                                                   &#x27;average_position_year_to_date&#x27;,\n",
       "                                                   &#x27;worst_position_year_to_date&#x27;,\n",
       "                                                   &#x27;position_record_best_position_all_time&#x27;,\n",
       "                                                   &#x27;position_record_worst_position_all_time&#x27;,\n",
       "                                                   &#x27;prior_quickest_run_position&#x27;,\n",
       "                                                   &#x27;position_rec...\n",
       "                                                   &#x27;is_club_member_false&#x27;,\n",
       "                                                   &#x27;Gender_F&#x27;]),\n",
       "                                                 (&#x27;seconds&#x27;,\n",
       "                                                  SimpleImputer(fill_value=400000,\n",
       "                                                                strategy=&#x27;constant&#x27;),\n",
       "                                                  [&#x27;prior_quickest_run_time_in_seconds&#x27;]),\n",
       "                                                 (&#x27;years_since&#x27;,\n",
       "                                                  SimpleImputer(fill_value=0,\n",
       "                                                                strategy=&#x27;constant&#x27;),\n",
       "                                                  [&#x27;position_record_years_since_best&#x27;,\n",
       "                                                   &#x27;position_record_years_since_worst&#x27;])])),\n",
       "                (&#x27;scaler&#x27;, StandardScaler()),\n",
       "                (&#x27;classifier&#x27;, LogisticRegression(penalty=None))])</pre></div> </div></div><div class=\"sk-serial\"><div class=\"sk-item sk-dashed-wrapped\"><div class=\"sk-label-container\"><div class=\"sk-label fitted sk-toggleable\"><input class=\"sk-toggleable__control sk-hidden--visually\" id=\"sk-estimator-id-2\" type=\"checkbox\" ><label for=\"sk-estimator-id-2\" class=\"sk-toggleable__label fitted sk-toggleable__label-arrow fitted\">&nbsp;preprocessor: ColumnTransformer<a class=\"sk-estimator-doc-link fitted\" rel=\"noreferrer\" target=\"_blank\" href=\"https://scikit-learn.org/1.5/modules/generated/sklearn.compose.ColumnTransformer.html\">?<span>Documentation for preprocessor: ColumnTransformer</span></a></label><div class=\"sk-toggleable__content fitted\"><pre>ColumnTransformer(transformers=[(&#x27;low_value_good&#x27;,\n",
       "                                 SimpleImputer(fill_value=400,\n",
       "                                               strategy=&#x27;constant&#x27;),\n",
       "                                 [&#x27;best_position_year_to_date&#x27;,\n",
       "                                  &#x27;average_position_year_to_date&#x27;,\n",
       "                                  &#x27;worst_position_year_to_date&#x27;,\n",
       "                                  &#x27;position_record_best_position_all_time&#x27;,\n",
       "                                  &#x27;position_record_worst_position_all_time&#x27;,\n",
       "                                  &#x27;prior_quickest_run_position&#x27;,\n",
       "                                  &#x27;position_record_average_position_all_time&#x27;])...\n",
       "                                  &#x27;p_of_10_road_age_category_V80&#x27;,\n",
       "                                  &#x27;p_of_10_road_age_category_V85&#x27;,\n",
       "                                  &#x27;p_of_10_road_age_category_V95&#x27;,\n",
       "                                  &#x27;is_club_member_false&#x27;, &#x27;Gender_F&#x27;]),\n",
       "                                (&#x27;seconds&#x27;,\n",
       "                                 SimpleImputer(fill_value=400000,\n",
       "                                               strategy=&#x27;constant&#x27;),\n",
       "                                 [&#x27;prior_quickest_run_time_in_seconds&#x27;]),\n",
       "                                (&#x27;years_since&#x27;,\n",
       "                                 SimpleImputer(fill_value=0,\n",
       "                                               strategy=&#x27;constant&#x27;),\n",
       "                                 [&#x27;position_record_years_since_best&#x27;,\n",
       "                                  &#x27;position_record_years_since_worst&#x27;])])</pre></div> </div></div><div class=\"sk-parallel\"><div class=\"sk-parallel-item\"><div class=\"sk-item\"><div class=\"sk-label-container\"><div class=\"sk-label fitted sk-toggleable\"><input class=\"sk-toggleable__control sk-hidden--visually\" id=\"sk-estimator-id-3\" type=\"checkbox\" ><label for=\"sk-estimator-id-3\" class=\"sk-toggleable__label fitted sk-toggleable__label-arrow fitted\">low_value_good</label><div class=\"sk-toggleable__content fitted\"><pre>[&#x27;best_position_year_to_date&#x27;, &#x27;average_position_year_to_date&#x27;, &#x27;worst_position_year_to_date&#x27;, &#x27;position_record_best_position_all_time&#x27;, &#x27;position_record_worst_position_all_time&#x27;, &#x27;prior_quickest_run_position&#x27;, &#x27;position_record_average_position_all_time&#x27;]</pre></div> </div></div><div class=\"sk-serial\"><div class=\"sk-item\"><div class=\"sk-estimator fitted sk-toggleable\"><input class=\"sk-toggleable__control sk-hidden--visually\" id=\"sk-estimator-id-4\" type=\"checkbox\" ><label for=\"sk-estimator-id-4\" class=\"sk-toggleable__label fitted sk-toggleable__label-arrow fitted\">&nbsp;SimpleImputer<a class=\"sk-estimator-doc-link fitted\" rel=\"noreferrer\" target=\"_blank\" href=\"https://scikit-learn.org/1.5/modules/generated/sklearn.impute.SimpleImputer.html\">?<span>Documentation for SimpleImputer</span></a></label><div class=\"sk-toggleable__content fitted\"><pre>SimpleImputer(fill_value=400, strategy=&#x27;constant&#x27;)</pre></div> </div></div></div></div></div><div class=\"sk-parallel-item\"><div class=\"sk-item\"><div class=\"sk-label-container\"><div class=\"sk-label fitted sk-toggleable\"><input class=\"sk-toggleable__control sk-hidden--visually\" id=\"sk-estimator-id-5\" type=\"checkbox\" ><label for=\"sk-estimator-id-5\" class=\"sk-toggleable__label fitted sk-toggleable__label-arrow fitted\">high_value_good</label><div class=\"sk-toggleable__content fitted\"><pre>[&#x27;fellow_club_mates_running&#x27;, &#x27;fellow_club_mates_running_male&#x27;, &#x27;fellow_club_mates_running_female&#x27;, &#x27;average_points_year_to_date&#x27;, &#x27;best_points_year_to_date&#x27;, &#x27;worst_points_year_to_date&#x27;, &#x27;runs_in_wsfrl_year_to_date&#x27;, &#x27;wsfrl_tenure_in_runs&#x27;, &#x27;wsfrl_tenure_in_years&#x27;, &#x27;prior_run_attempts&#x27;]</pre></div> </div></div><div class=\"sk-serial\"><div class=\"sk-item\"><div class=\"sk-estimator fitted sk-toggleable\"><input class=\"sk-toggleable__control sk-hidden--visually\" id=\"sk-estimator-id-6\" type=\"checkbox\" ><label for=\"sk-estimator-id-6\" class=\"sk-toggleable__label fitted sk-toggleable__label-arrow fitted\">&nbsp;SimpleImputer<a class=\"sk-estimator-doc-link fitted\" rel=\"noreferrer\" target=\"_blank\" href=\"https://scikit-learn.org/1.5/modules/generated/sklearn.impute.SimpleImputer.html\">?<span>Documentation for SimpleImputer</span></a></label><div class=\"sk-toggleable__content fitted\"><pre>SimpleImputer(fill_value=0, strategy=&#x27;constant&#x27;)</pre></div> </div></div></div></div></div><div class=\"sk-parallel-item\"><div class=\"sk-item\"><div class=\"sk-label-container\"><div class=\"sk-label fitted sk-toggleable\"><input class=\"sk-toggleable__control sk-hidden--visually\" id=\"sk-estimator-id-7\" type=\"checkbox\" ><label for=\"sk-estimator-id-7\" class=\"sk-toggleable__label fitted sk-toggleable__label-arrow fitted\">binary</label><div class=\"sk-toggleable__content fitted\"><pre>[&#x27;p_of_10_road_age_category_SEN&#x27;, &#x27;p_of_10_road_age_category_TBC&#x27;, &#x27;p_of_10_road_age_category_U11&#x27;, &#x27;p_of_10_road_age_category_U13&#x27;, &#x27;p_of_10_road_age_category_U15&#x27;, &#x27;p_of_10_road_age_category_U17&#x27;, &#x27;p_of_10_road_age_category_U20&#x27;, &#x27;p_of_10_road_age_category_U23&#x27;, &#x27;p_of_10_road_age_category_V35&#x27;, &#x27;p_of_10_road_age_category_V40&#x27;, &#x27;p_of_10_road_age_category_V45&#x27;, &#x27;p_of_10_road_age_category_V50&#x27;, &#x27;p_of_10_road_age_category_V55&#x27;, &#x27;p_of_10_road_age_category_V65&#x27;, &#x27;p_of_10_road_age_category_V70&#x27;, &#x27;p_of_10_road_age_category_V75&#x27;, &#x27;p_of_10_road_age_category_V80&#x27;, &#x27;p_of_10_road_age_category_V85&#x27;, &#x27;p_of_10_road_age_category_V95&#x27;, &#x27;is_club_member_false&#x27;, &#x27;Gender_F&#x27;]</pre></div> </div></div><div class=\"sk-serial\"><div class=\"sk-item\"><div class=\"sk-estimator fitted sk-toggleable\"><input class=\"sk-toggleable__control sk-hidden--visually\" id=\"sk-estimator-id-8\" type=\"checkbox\" ><label for=\"sk-estimator-id-8\" class=\"sk-toggleable__label fitted sk-toggleable__label-arrow fitted\">&nbsp;SimpleImputer<a class=\"sk-estimator-doc-link fitted\" rel=\"noreferrer\" target=\"_blank\" href=\"https://scikit-learn.org/1.5/modules/generated/sklearn.impute.SimpleImputer.html\">?<span>Documentation for SimpleImputer</span></a></label><div class=\"sk-toggleable__content fitted\"><pre>SimpleImputer(fill_value=np.uint8(0), strategy=&#x27;constant&#x27;)</pre></div> </div></div></div></div></div><div class=\"sk-parallel-item\"><div class=\"sk-item\"><div class=\"sk-label-container\"><div class=\"sk-label fitted sk-toggleable\"><input class=\"sk-toggleable__control sk-hidden--visually\" id=\"sk-estimator-id-9\" type=\"checkbox\" ><label for=\"sk-estimator-id-9\" class=\"sk-toggleable__label fitted sk-toggleable__label-arrow fitted\">seconds</label><div class=\"sk-toggleable__content fitted\"><pre>[&#x27;prior_quickest_run_time_in_seconds&#x27;]</pre></div> </div></div><div class=\"sk-serial\"><div class=\"sk-item\"><div class=\"sk-estimator fitted sk-toggleable\"><input class=\"sk-toggleable__control sk-hidden--visually\" id=\"sk-estimator-id-10\" type=\"checkbox\" ><label for=\"sk-estimator-id-10\" class=\"sk-toggleable__label fitted sk-toggleable__label-arrow fitted\">&nbsp;SimpleImputer<a class=\"sk-estimator-doc-link fitted\" rel=\"noreferrer\" target=\"_blank\" href=\"https://scikit-learn.org/1.5/modules/generated/sklearn.impute.SimpleImputer.html\">?<span>Documentation for SimpleImputer</span></a></label><div class=\"sk-toggleable__content fitted\"><pre>SimpleImputer(fill_value=400000, strategy=&#x27;constant&#x27;)</pre></div> </div></div></div></div></div><div class=\"sk-parallel-item\"><div class=\"sk-item\"><div class=\"sk-label-container\"><div class=\"sk-label fitted sk-toggleable\"><input class=\"sk-toggleable__control sk-hidden--visually\" id=\"sk-estimator-id-11\" type=\"checkbox\" ><label for=\"sk-estimator-id-11\" class=\"sk-toggleable__label fitted sk-toggleable__label-arrow fitted\">years_since</label><div class=\"sk-toggleable__content fitted\"><pre>[&#x27;position_record_years_since_best&#x27;, &#x27;position_record_years_since_worst&#x27;]</pre></div> </div></div><div class=\"sk-serial\"><div class=\"sk-item\"><div class=\"sk-estimator fitted sk-toggleable\"><input class=\"sk-toggleable__control sk-hidden--visually\" id=\"sk-estimator-id-12\" type=\"checkbox\" ><label for=\"sk-estimator-id-12\" class=\"sk-toggleable__label fitted sk-toggleable__label-arrow fitted\">&nbsp;SimpleImputer<a class=\"sk-estimator-doc-link fitted\" rel=\"noreferrer\" target=\"_blank\" href=\"https://scikit-learn.org/1.5/modules/generated/sklearn.impute.SimpleImputer.html\">?<span>Documentation for SimpleImputer</span></a></label><div class=\"sk-toggleable__content fitted\"><pre>SimpleImputer(fill_value=0, strategy=&#x27;constant&#x27;)</pre></div> </div></div></div></div></div></div></div><div class=\"sk-item\"><div class=\"sk-estimator fitted sk-toggleable\"><input class=\"sk-toggleable__control sk-hidden--visually\" id=\"sk-estimator-id-13\" type=\"checkbox\" ><label for=\"sk-estimator-id-13\" class=\"sk-toggleable__label fitted sk-toggleable__label-arrow fitted\">&nbsp;StandardScaler<a class=\"sk-estimator-doc-link fitted\" rel=\"noreferrer\" target=\"_blank\" href=\"https://scikit-learn.org/1.5/modules/generated/sklearn.preprocessing.StandardScaler.html\">?<span>Documentation for StandardScaler</span></a></label><div class=\"sk-toggleable__content fitted\"><pre>StandardScaler()</pre></div> </div></div><div class=\"sk-item\"><div class=\"sk-estimator fitted sk-toggleable\"><input class=\"sk-toggleable__control sk-hidden--visually\" id=\"sk-estimator-id-14\" type=\"checkbox\" ><label for=\"sk-estimator-id-14\" class=\"sk-toggleable__label fitted sk-toggleable__label-arrow fitted\">&nbsp;LogisticRegression<a class=\"sk-estimator-doc-link fitted\" rel=\"noreferrer\" target=\"_blank\" href=\"https://scikit-learn.org/1.5/modules/generated/sklearn.linear_model.LogisticRegression.html\">?<span>Documentation for LogisticRegression</span></a></label><div class=\"sk-toggleable__content fitted\"><pre>LogisticRegression(penalty=None)</pre></div> </div></div></div></div></div></div>"
      ]
     },
     "execution_count": 16,
     "metadata": {},
     "output_type": "execute_result"
    }
   ],
   "execution_count": 16
  },
  {
   "metadata": {
    "ExecuteTime": {
     "end_time": "2024-12-02T22:15:47.393732Z",
     "start_time": "2024-12-02T22:15:47.387977Z"
    }
   },
   "cell_type": "code",
   "source": "display(binary_columns)",
   "id": "de8282658d58fd2f",
   "outputs": [
    {
     "data": {
      "text/plain": [
       "['p_of_10_road_age_category_SEN',\n",
       " 'p_of_10_road_age_category_TBC',\n",
       " 'p_of_10_road_age_category_U11',\n",
       " 'p_of_10_road_age_category_U13',\n",
       " 'p_of_10_road_age_category_U15',\n",
       " 'p_of_10_road_age_category_U17',\n",
       " 'p_of_10_road_age_category_U20',\n",
       " 'p_of_10_road_age_category_U23',\n",
       " 'p_of_10_road_age_category_V35',\n",
       " 'p_of_10_road_age_category_V40',\n",
       " 'p_of_10_road_age_category_V45',\n",
       " 'p_of_10_road_age_category_V50',\n",
       " 'p_of_10_road_age_category_V55',\n",
       " 'p_of_10_road_age_category_V65',\n",
       " 'p_of_10_road_age_category_V70',\n",
       " 'p_of_10_road_age_category_V75',\n",
       " 'p_of_10_road_age_category_V80',\n",
       " 'p_of_10_road_age_category_V85',\n",
       " 'p_of_10_road_age_category_V95',\n",
       " 'is_club_member_false',\n",
       " 'Gender_F']"
      ]
     },
     "metadata": {},
     "output_type": "display_data"
    }
   ],
   "execution_count": 17
  },
  {
   "metadata": {},
   "cell_type": "markdown",
   "source": [
    "## Run Pipeline Stages explicitly\n",
    "\n",
    "To run the full pipeline \n",
    "`pb_achieved_feature_test_scaled_df = pipeline.transform(pb_achieved_feature_test_df)`\n",
    "\n",
    "However this does not work \n",
    "> AttributeError: This 'Pipeline' has no attribute 'transform'\n",
    "\n",
    "this is because `LogisticRegression` does not have a `transform` method, but a `fit`. \n",
    "  \n"
   ],
   "id": "87580915d5fce5a5"
  },
  {
   "metadata": {
    "ExecuteTime": {
     "end_time": "2024-12-02T22:15:57.010258Z",
     "start_time": "2024-12-02T22:15:57.004206Z"
    }
   },
   "cell_type": "code",
   "source": [
    "from sklearn.linear_model import LogisticRegression\n",
    "\n",
    "\n",
    "def run_pipeline_in_stages(df_feature : pd.DataFrame, df_target : pd.DataFrame):\n",
    "\n",
    "    # Transform the test data using the preprocessor part of the pipeline\n",
    "    preprocessed_df = pipeline.named_steps['preprocessor'].transform(df_feature)\n",
    "\n",
    "    # Scale the preprocessed test data\n",
    "    scaled_df = pipeline.named_steps['scaler'].transform(preprocessed_df)\n",
    "    \n",
    "    classifier = LogisticRegression(penalty=None)\n",
    "\n",
    "    classifier.fit(\n",
    "        scaled_df,\n",
    "        df_target[\"is_pb\"],\n",
    "    )\n",
    "    \n",
    "    return scaled_df, classifier \n",
    "    "
   ],
   "id": "1c4f7588ec876e78",
   "outputs": [],
   "execution_count": 19
  },
  {
   "metadata": {
    "ExecuteTime": {
     "end_time": "2024-12-02T22:16:00.208694Z",
     "start_time": "2024-12-02T22:16:00.057396Z"
    }
   },
   "cell_type": "code",
   "source": [
    "(scaled_train_df,\n",
    "logistic_regression_classifier) = run_pipeline_in_stages(\n",
    "    pb_achieved_feature_train_df_pandas,\n",
    "    pb_achieved_target_train_df_pandas)\n",
    "\n",
    "\n",
    "\n"
   ],
   "id": "de1b0948c52bf927",
   "outputs": [],
   "execution_count": 20
  },
  {
   "metadata": {
    "ExecuteTime": {
     "end_time": "2024-12-02T22:16:10.069007Z",
     "start_time": "2024-12-02T22:16:10.004180Z"
    }
   },
   "cell_type": "code",
   "source": [
    "(scaled_test_df,\n",
    "logistic_regression_classifier_junk) = run_pipeline_in_stages(\n",
    "    pb_achieved_feature_test_df_pandas,\n",
    "    pb_achieved_target_test_df_pandas)"
   ],
   "id": "541814a92b837d3c",
   "outputs": [],
   "execution_count": 21
  },
  {
   "metadata": {
    "ExecuteTime": {
     "end_time": "2024-12-02T22:16:11.344241Z",
     "start_time": "2024-12-02T22:16:11.337465Z"
    }
   },
   "cell_type": "code",
   "source": [
    "\n",
    "\n",
    "logistic_regression_classifier.classes_\n",
    "\n"
   ],
   "id": "fa72510cb7d07368",
   "outputs": [
    {
     "data": {
      "text/plain": [
       "array([False,  True])"
      ]
     },
     "execution_count": 22,
     "metadata": {},
     "output_type": "execute_result"
    }
   ],
   "execution_count": 22
  },
  {
   "metadata": {
    "ExecuteTime": {
     "end_time": "2024-12-02T22:16:14.858721Z",
     "start_time": "2024-12-02T22:16:14.084519Z"
    }
   },
   "cell_type": "code",
   "source": [
    "import altair as alt\n",
    "\n",
    "# Convert the set to a list to maintain order\n",
    "all_feature_columns_list = list(all_feature_columns)\n",
    "\n",
    "\n",
    "# Create a DataFrame with the features and their coefficients\n",
    "feature_coefficients_df = pl.DataFrame(\n",
    "    {\n",
    "        \"feature\": all_feature_columns_list,\n",
    "        \"coefficient\": logistic_regression_classifier.coef_[0][:len(all_feature_columns_list)],\n",
    "    }\n",
    ")\n",
    "\n",
    "# Sort the DataFrame by coefficient in descending order\n",
    "sorted_feature_coefficients_df = feature_coefficients_df.sort(\"coefficient\", descending=True)\n",
    "\n",
    "# Plot the bar chart\n",
    "alt.Chart(sorted_feature_coefficients_df.to_pandas()).mark_bar().encode(\n",
    "    x=\"coefficient\",\n",
    "    y=alt.Y(\"feature\", sort=\"-x\")\n",
    ").properties(\n",
    "    width=500,\n",
    "    height=300,\n",
    ").display()"
   ],
   "id": "dbd8b3e678fc97a4",
   "outputs": [
    {
     "data": {
      "text/html": [
       "\n",
       "<style>\n",
       "  #altair-viz-685735af1d024f62a584557bea69d0dd.vega-embed {\n",
       "    width: 100%;\n",
       "    display: flex;\n",
       "  }\n",
       "\n",
       "  #altair-viz-685735af1d024f62a584557bea69d0dd.vega-embed details,\n",
       "  #altair-viz-685735af1d024f62a584557bea69d0dd.vega-embed details summary {\n",
       "    position: relative;\n",
       "  }\n",
       "</style>\n",
       "<div id=\"altair-viz-685735af1d024f62a584557bea69d0dd\"></div>\n",
       "<script type=\"text/javascript\">\n",
       "  var VEGA_DEBUG = (typeof VEGA_DEBUG == \"undefined\") ? {} : VEGA_DEBUG;\n",
       "  (function(spec, embedOpt){\n",
       "    let outputDiv = document.currentScript.previousElementSibling;\n",
       "    if (outputDiv.id !== \"altair-viz-685735af1d024f62a584557bea69d0dd\") {\n",
       "      outputDiv = document.getElementById(\"altair-viz-685735af1d024f62a584557bea69d0dd\");\n",
       "    }\n",
       "    const paths = {\n",
       "      \"vega\": \"https://cdn.jsdelivr.net/npm/vega@5?noext\",\n",
       "      \"vega-lib\": \"https://cdn.jsdelivr.net/npm/vega-lib?noext\",\n",
       "      \"vega-lite\": \"https://cdn.jsdelivr.net/npm/vega-lite@5.20.1?noext\",\n",
       "      \"vega-embed\": \"https://cdn.jsdelivr.net/npm/vega-embed@6?noext\",\n",
       "    };\n",
       "\n",
       "    function maybeLoadScript(lib, version) {\n",
       "      var key = `${lib.replace(\"-\", \"\")}_version`;\n",
       "      return (VEGA_DEBUG[key] == version) ?\n",
       "        Promise.resolve(paths[lib]) :\n",
       "        new Promise(function(resolve, reject) {\n",
       "          var s = document.createElement('script');\n",
       "          document.getElementsByTagName(\"head\")[0].appendChild(s);\n",
       "          s.async = true;\n",
       "          s.onload = () => {\n",
       "            VEGA_DEBUG[key] = version;\n",
       "            return resolve(paths[lib]);\n",
       "          };\n",
       "          s.onerror = () => reject(`Error loading script: ${paths[lib]}`);\n",
       "          s.src = paths[lib];\n",
       "        });\n",
       "    }\n",
       "\n",
       "    function showError(err) {\n",
       "      outputDiv.innerHTML = `<div class=\"error\" style=\"color:red;\">${err}</div>`;\n",
       "      throw err;\n",
       "    }\n",
       "\n",
       "    function displayChart(vegaEmbed) {\n",
       "      vegaEmbed(outputDiv, spec, embedOpt)\n",
       "        .catch(err => showError(`Javascript Error: ${err.message}<br>This usually means there's a typo in your chart specification. See the javascript console for the full traceback.`));\n",
       "    }\n",
       "\n",
       "    if(typeof define === \"function\" && define.amd) {\n",
       "      requirejs.config({paths});\n",
       "      require([\"vega-embed\"], displayChart, err => showError(`Error loading script: ${err.message}`));\n",
       "    } else {\n",
       "      maybeLoadScript(\"vega\", \"5\")\n",
       "        .then(() => maybeLoadScript(\"vega-lite\", \"5.20.1\"))\n",
       "        .then(() => maybeLoadScript(\"vega-embed\", \"6\"))\n",
       "        .catch(showError)\n",
       "        .then(() => displayChart(vegaEmbed));\n",
       "    }\n",
       "  })({\"config\": {\"view\": {\"continuousWidth\": 300, \"continuousHeight\": 300}}, \"data\": {\"name\": \"data-297a531b63c2573789eb31bb02e9b066\"}, \"mark\": {\"type\": \"bar\"}, \"encoding\": {\"x\": {\"field\": \"coefficient\", \"type\": \"quantitative\"}, \"y\": {\"field\": \"feature\", \"sort\": \"-x\", \"type\": \"nominal\"}}, \"height\": 300, \"width\": 500, \"$schema\": \"https://vega.github.io/schema/vega-lite/v5.20.1.json\", \"datasets\": {\"data-297a531b63c2573789eb31bb02e9b066\": [{\"feature\": \"prior_quickest_run_time_in_seconds\", \"coefficient\": 3.1687985401315846}, {\"feature\": \"prior_quickest_run_position\", \"coefficient\": 0.36598857470829566}, {\"feature\": \"average_points_year_to_date\", \"coefficient\": 0.3483453209973075}, {\"feature\": \"position_record_years_since_worst\", \"coefficient\": 0.19751713907880017}, {\"feature\": \"runs_in_wsfrl_year_to_date\", \"coefficient\": 0.16505344570622263}, {\"feature\": \"best_position_year_to_date\", \"coefficient\": 0.1346692438030411}, {\"feature\": \"position_record_worst_position_all_time\", \"coefficient\": 0.1107865741922866}, {\"feature\": \"p_of_10_road_age_category_V35\", \"coefficient\": 0.10201197771047629}, {\"feature\": \"p_of_10_road_age_category_U11\", \"coefficient\": 0.09885818886361822}, {\"feature\": \"p_of_10_road_age_category_V40\", \"coefficient\": 0.09098333013128462}, {\"feature\": \"p_of_10_road_age_category_V45\", \"coefficient\": 0.07975971448175029}, {\"feature\": \"p_of_10_road_age_category_SEN\", \"coefficient\": 0.07014728910833683}, {\"feature\": \"p_of_10_road_age_category_V55\", \"coefficient\": 0.0524309676034062}, {\"feature\": \"is_club_member_false\", \"coefficient\": 0.04058032223332104}, {\"feature\": \"p_of_10_road_age_category_V50\", \"coefficient\": 0.035469970816171335}, {\"feature\": \"position_record_best_position_all_time\", \"coefficient\": 0.02316405913254584}, {\"feature\": \"best_points_year_to_date\", \"coefficient\": 0.018676086051460844}, {\"feature\": \"p_of_10_road_age_category_V65\", \"coefficient\": 0.018063215083141057}, {\"feature\": \"p_of_10_road_age_category_TBC\", \"coefficient\": 0.013132029010113276}, {\"feature\": \"p_of_10_road_age_category_U17\", \"coefficient\": 0.007084015149876905}, {\"feature\": \"p_of_10_road_age_category_U15\", \"coefficient\": 0.0036029439868698683}, {\"feature\": \"fellow_club_mates_running_female\", \"coefficient\": -0.004792543212437772}, {\"feature\": \"p_of_10_road_age_category_U20\", \"coefficient\": -0.00890413791139905}, {\"feature\": \"p_of_10_road_age_category_U13\", \"coefficient\": -0.012697861918848061}, {\"feature\": \"fellow_club_mates_running\", \"coefficient\": -0.02178050551523747}, {\"feature\": \"p_of_10_road_age_category_U23\", \"coefficient\": -0.022727081823767124}, {\"feature\": \"fellow_club_mates_running_male\", \"coefficient\": -0.0348117222445345}, {\"feature\": \"p_of_10_road_age_category_V75\", \"coefficient\": -0.03761675097381341}, {\"feature\": \"p_of_10_road_age_category_V70\", \"coefficient\": -0.04215784640432571}, {\"feature\": \"p_of_10_road_age_category_V80\", \"coefficient\": -0.0679212235324496}, {\"feature\": \"Gender_F\", \"coefficient\": -0.07342941800492231}, {\"feature\": \"p_of_10_road_age_category_V85\", \"coefficient\": -0.09045457035843972}, {\"feature\": \"p_of_10_road_age_category_V95\", \"coefficient\": -0.11183049874445926}, {\"feature\": \"average_position_year_to_date\", \"coefficient\": -0.13623284649576356}, {\"feature\": \"worst_points_year_to_date\", \"coefficient\": -0.17151772312796593}, {\"feature\": \"wsfrl_tenure_in_years\", \"coefficient\": -0.19252721766912748}, {\"feature\": \"worst_position_year_to_date\", \"coefficient\": -0.23337756641466942}, {\"feature\": \"wsfrl_tenure_in_runs\", \"coefficient\": -0.273195960958539}, {\"feature\": \"position_record_average_position_all_time\", \"coefficient\": -0.30138012747618953}, {\"feature\": \"position_record_years_since_best\", \"coefficient\": -0.38691730815633163}, {\"feature\": \"prior_run_attempts\", \"coefficient\": -0.48621439271462724}]}}, {\"mode\": \"vega-lite\"});\n",
       "</script>"
      ],
      "text/plain": [
       "alt.Chart(...)"
      ]
     },
     "metadata": {},
     "output_type": "display_data"
    }
   ],
   "execution_count": 23
  },
  {
   "metadata": {
    "ExecuteTime": {
     "end_time": "2024-12-02T22:16:24.053195Z",
     "start_time": "2024-12-02T22:16:24.047041Z"
    }
   },
   "cell_type": "code",
   "source": "logistic_regression_classifier.coef_",
   "id": "9836da5073b43fd2",
   "outputs": [
    {
     "data": {
      "text/plain": [
       "array([[ 0.13466924, -0.13623285, -0.23337757,  0.02316406,  0.11078657,\n",
       "         0.36598857, -0.30138013, -0.02178051, -0.03481172, -0.00479254,\n",
       "         0.34834532,  0.01867609, -0.17151772,  0.16505345, -0.27319596,\n",
       "        -0.19252722, -0.48621439,  0.07014729,  0.01313203,  0.09885819,\n",
       "        -0.01269786,  0.00360294,  0.00708402, -0.00890414, -0.02272708,\n",
       "         0.10201198,  0.09098333,  0.07975971,  0.03546997,  0.05243097,\n",
       "         0.01806322, -0.04215785, -0.03761675, -0.06792122, -0.09045457,\n",
       "        -0.1118305 ,  0.04058032, -0.07342942,  3.16879854, -0.38691731,\n",
       "         0.19751714]])"
      ]
     },
     "execution_count": 24,
     "metadata": {},
     "output_type": "execute_result"
    }
   ],
   "execution_count": 24
  },
  {
   "metadata": {
    "ExecuteTime": {
     "end_time": "2024-12-02T22:09:48.006435Z",
     "start_time": "2024-12-02T22:09:48.000860Z"
    }
   },
   "cell_type": "code",
   "source": [
    "\n",
    "# Make predictions on the test data\n",
    "predictions = pipeline.named_steps['classifier'].predict(scaled_train_df)\n",
    "\n",
    "# Print the predictions\n",
    "print(predictions)"
   ],
   "id": "231ff1219f5c587d",
   "outputs": [
    {
     "name": "stdout",
     "output_type": "stream",
     "text": [
      "[False False  True ... False False False]\n"
     ]
    }
   ],
   "execution_count": 26
  },
  {
   "metadata": {
    "ExecuteTime": {
     "end_time": "2024-12-02T22:16:31.316401Z",
     "start_time": "2024-12-02T22:16:31.310812Z"
    }
   },
   "cell_type": "code",
   "source": [
    "validate_features_vs_target(pb_achieved_feature_train_df_pandas, pb_achieved_target_train_df_pandas)\n",
    "validate_features_vs_target(scaled_train_df, pb_achieved_target_train_df_pandas)\n",
    "\n",
    "validate_features_vs_target(pb_achieved_feature_test_df_pandas, pb_achieved_target_test_df_pandas)"
   ],
   "id": "bb8361ccaac1c58c",
   "outputs": [
    {
     "name": "stdout",
     "output_type": "stream",
     "text": [
      "MATCH Features_df shape: (15710, 61) vs Target (15710, 1)\n",
      "MATCH Features_df shape: (15710, 41) vs Target (15710, 1)\n",
      "MATCH Features_df shape: (6733, 61) vs Target (6733, 1)\n"
     ]
    }
   ],
   "execution_count": 25
  },
  {
   "metadata": {},
   "cell_type": "markdown",
   "source": "",
   "id": "1ebff8cd10bdedd7"
  },
  {
   "metadata": {},
   "cell_type": "code",
   "source": "> What are the probabilities that each of the observations in the test dataset have been assigned to the classes?",
   "id": "63e1c34674f716de",
   "outputs": [],
   "execution_count": null
  },
  {
   "metadata": {
    "ExecuteTime": {
     "end_time": "2024-12-02T22:16:36.886810Z",
     "start_time": "2024-12-02T22:16:36.878437Z"
    }
   },
   "cell_type": "code",
   "source": [
    "\n",
    "logistic_regression_classifier.predict_proba(scaled_test_df)"
   ],
   "id": "e1ec57d47b3456da",
   "outputs": [
    {
     "data": {
      "text/plain": [
       "array([[0.88940263, 0.11059737],\n",
       "       [0.52451895, 0.47548105],\n",
       "       [0.86249264, 0.13750736],\n",
       "       ...,\n",
       "       [0.40690396, 0.59309604],\n",
       "       [0.81886899, 0.18113101],\n",
       "       [0.43119102, 0.56880898]])"
      ]
     },
     "execution_count": 26,
     "metadata": {},
     "output_type": "execute_result"
    }
   ],
   "execution_count": 26
  },
  {
   "metadata": {
    "ExecuteTime": {
     "end_time": "2024-12-02T22:10:02.951094Z",
     "start_time": "2024-12-02T22:10:02.943150Z"
    }
   },
   "cell_type": "code",
   "source": "logistic_regression_classifier.predict(scaled_test_df)",
   "id": "f914460063b8e6b0",
   "outputs": [
    {
     "data": {
      "text/plain": [
       "array([False, False, False, ...,  True, False,  True])"
      ]
     },
     "execution_count": 29,
     "metadata": {},
     "output_type": "execute_result"
    }
   ],
   "execution_count": 29
  },
  {
   "metadata": {},
   "cell_type": "markdown",
   "source": [
    "\n",
    "\n",
    "```\n",
    "ValueError: Input X contains NaN.\n",
    "LogisticRegression does not accept missing values encoded as NaN natively. For supervised learning, you might want to consider sklearn.ensemble.HistGradientBoostingClassifier and Regressor which accept missing values encoded as NaNs natively. Alternatively, it is possible to preprocess the data, for instance by using an imputer transformer in a pipeline or drop samples with missing values. See https://scikit-learn.org/stable/modules/impute.html You can find a list of all estimators that handle NaN values at the following page: https://scikit-learn.org/stable/modules/impute.html#estimators-that-handle-nan-values\n",
    "```"
   ],
   "id": "3eebc064b8d0a0a4"
  },
  {
   "metadata": {
    "ExecuteTime": {
     "end_time": "2024-12-02T22:16:50.739486Z",
     "start_time": "2024-12-02T22:16:50.718972Z"
    }
   },
   "cell_type": "code",
   "source": [
    "from sklearn.metrics import classification_report\n",
    "\n",
    "validate_features_vs_target(scaled_test_df, pb_achieved_target_test_df)\n",
    "\n",
    "\n",
    "print(\n",
    "    classification_report(\n",
    "        pb_achieved_target_test_df.get_column(\"is_pb\"),\n",
    "        logistic_regression_classifier.predict(scaled_test_df),\n",
    "    )\n",
    ")"
   ],
   "id": "b51956b26ac1c825",
   "outputs": [
    {
     "name": "stdout",
     "output_type": "stream",
     "text": [
      "MATCH Features_df shape: (6733, 41) vs Target (6733, 1)\n",
      "              precision    recall  f1-score   support\n",
      "\n",
      "       False       0.73      0.87      0.80      4468\n",
      "        True       0.60      0.37      0.46      2265\n",
      "\n",
      "    accuracy                           0.70      6733\n",
      "   macro avg       0.66      0.62      0.63      6733\n",
      "weighted avg       0.69      0.70      0.68      6733\n",
      "\n"
     ]
    }
   ],
   "execution_count": 27
  },
  {
   "metadata": {
    "ExecuteTime": {
     "end_time": "2024-12-02T22:17:01.745732Z",
     "start_time": "2024-12-02T22:17:01.548204Z"
    }
   },
   "cell_type": "code",
   "source": [
    "import numpy as np\n",
    "from sklearn.impute import SimpleImputer\n",
    "from sklearn.metrics import classification_report\n",
    "\n",
    "# Create an imputer instance with the mean strategy\n",
    "imputer = SimpleImputer(strategy=\"mean\")\n",
    "\n",
    "\n",
    "validate_features_vs_target(pb_achieved_feature_train_scaled_df, pb_achieved_feature_test_scaled_df)\n",
    "\n",
    "# Fit the imputer on the training data and transform both the training and test data\n",
    "pb_achieved_feature_train_scaled_df = imputer.fit_transform(pb_achieved_feature_train_scaled_df)\n",
    "pb_achieved_feature_test_scaled_df = imputer.transform(pb_achieved_feature_test_scaled_df)\n",
    "\n",
    "# Fit the logistic regression classifier again\n",
    "logistic_regression_classifier.fit(\n",
    "    pb_achieved_feature_train_scaled_df,\n",
    "    pb_achieved_target_train_df_pandas[\"is_pb\"],\n",
    ")\n",
    "\n",
    "# Generate the classification report\n",
    "print(\n",
    "    classification_report(\n",
    "        pb_achieved_target_test_df_pandas[\"is_pb\"],\n",
    "        logistic_regression_classifier.predict(pb_achieved_feature_test_scaled_df),\n",
    "    )\n",
    ")"
   ],
   "id": "77356d853666afc",
   "outputs": [
    {
     "name": "stdout",
     "output_type": "stream",
     "text": [
      "WARNING Features (15710) != target (6733)\n",
      "              precision    recall  f1-score   support\n",
      "\n",
      "       False       0.74      0.88      0.80      4468\n",
      "        True       0.62      0.38      0.47      2265\n",
      "\n",
      "    accuracy                           0.71      6733\n",
      "   macro avg       0.68      0.63      0.64      6733\n",
      "weighted avg       0.70      0.71      0.69      6733\n",
      "\n"
     ]
    }
   ],
   "execution_count": 28
  },
  {
   "metadata": {},
   "cell_type": "markdown",
   "source": [
    "## Before we did this \n",
    "\n",
    "```\n",
    "logistic_regression_classifier = run_pipeline_in_stages(\n",
    "    pb_achieved_feature_train_df_pandas,\n",
    "    pb_achieved_target_train_df_pandas)\n",
    "```\n"
   ],
   "id": "4c228b20c4c13a22"
  },
  {
   "metadata": {
    "ExecuteTime": {
     "end_time": "2024-12-02T21:53:05.909563Z",
     "start_time": "2024-12-02T21:53:05.841704Z"
    }
   },
   "cell_type": "code",
   "source": [
    "\n",
    "logistic_regression_classifier_test = run_pipeline_in_stages(\n",
    "    pb_achieved_feature_test_df_pandas,\n",
    "    pb_achieved_target_test_df_pandas)"
   ],
   "id": "62ffb908d9b35d50",
   "outputs": [],
   "execution_count": 83
  },
  {
   "metadata": {},
   "cell_type": "code",
   "outputs": [],
   "execution_count": null,
   "source": [
    "# Generate the classification report\n",
    "print(\n",
    "    classification_report(\n",
    "        pb_achieved_target_test_df_pandas[\"is_pb\"],\n",
    "        logistic_regression_classifier_test.predict(pb_achieved_feature_test_scaled_df),\n",
    "    )\n",
    ")"
   ],
   "id": "14b73c5c3efff635"
  },
  {
   "metadata": {},
   "cell_type": "markdown",
   "source": "",
   "id": "bba0be042e20bc5f"
  },
  {
   "metadata": {},
   "cell_type": "markdown",
   "source": [
    "## Interpreting Results from the Classification Report\n",
    "\n",
    "The classification report provides a summary of performance metrics for a classification model. Below is the detailed breakdown and interpretation:\n",
    "\n",
    "### Definitions\n",
    "1. **Precision**: The ratio of true positives to total predicted positives. Indicates how many of the predicted \"True\" labels are actually \"True.\"\n",
    "   \\[\n",
    "   \\text{Precision} = \\frac{\\text{True Positives}}{\\text{True Positives + False Positives}}\n",
    "   \\]\n",
    "\n",
    "2. **Recall (Sensitivity)**: The ratio of true positives to total actual positives. Measures the ability of the classifier to identify all \"True\" instances.\n",
    "   \\[\n",
    "   \\text{Recall} = \\frac{\\text{True Positives}}{\\text{True Positives + False Negatives}}\n",
    "   \\]\n",
    "\n",
    "3. **F1-Score**: The harmonic mean of precision and recall, balancing their trade-off.\n",
    "   \\[\n",
    "   \\text{F1-Score} = 2 \\cdot \\frac{\\text{Precision} \\cdot \\text{Recall}}{\\text{Precision + Recall}}\n",
    "   \\]\n",
    "\n",
    "4. **Support**: The number of actual instances in each class.\n",
    "\n",
    "---\n",
    "\n",
    "### Interpreting the Results\n",
    "\n",
    "#### **Class: False (Negative Class)**\n",
    "- **Precision**: `0.74`  \n",
    "   - 74% of the predictions for \"False\" were correct.\n",
    "- **Recall**: `0.88`  \n",
    "   - 88% of the actual \"False\" cases were correctly identified by the model.\n",
    "- **F1-Score**: `0.80`  \n",
    "   - A strong balance between precision and recall for this class.\n",
    "- **Support**: `4468`  \n",
    "   - There are 4468 instances of \"False\" in the dataset.\n",
    "\n",
    "#### **Class: True (Positive Class)**\n",
    "- **Precision**: `0.62`  \n",
    "   - 62% of the predictions for \"True\" were correct.\n",
    "- **Recall**: `0.38`  \n",
    "   - Only 38% of the actual \"True\" cases were correctly identified.\n",
    "- **F1-Score**: `0.47`  \n",
    "   - A relatively low score, indicating that the model struggles with this class.\n",
    "- **Support**: `2265`  \n",
    "   - There are 2265 instances of \"True\" in the dataset.\n",
    "\n",
    "---\n",
    "\n",
    "### Overall Metrics\n",
    "- **Accuracy**: `0.71`  \n",
    "   - The model correctly classified 71% of all instances.\n",
    "- **Macro Average**:\n",
    "   - **Precision**: `0.68`  \n",
    "   - **Recall**: `0.63`  \n",
    "   - **F1-Score**: `0.64`  \n",
    "   - These averages give equal weight to both classes, regardless of support.\n",
    "- **Weighted Average**:\n",
    "   - **Precision**: `0.70`  \n",
    "   - **Recall**: `0.71`  \n",
    "   - **F1-Score**: `0.69`  \n",
    "   - These averages take into account the support of each class, so the \"False\" class has more influence due to its larger support.\n",
    "\n",
    "---\n",
    "\n",
    "### Insights\n",
    "1. **Class Imbalance**:  \n",
    "   - There is a class imbalance, with more \"False\" instances (`4468`) than \"True\" (`2265`). This likely affects the model's ability to detect the minority class (\"True\").\n",
    "\n",
    "2. **Performance on \"True\" Class**:\n",
    "   - The model struggles to correctly identify the \"True\" class (low recall of `0.38`). This might indicate a need for techniques to handle class imbalance, such as oversampling, undersampling, or class weighting.\n",
    "\n",
    "3. **Overall Performance**:\n",
    "   - While the model performs reasonably well on the majority class (\"False\"), its performance on the minority class (\"True\") drags down the overall metrics.\n",
    "\n",
    "---\n",
    "\n",
    "### Recommendations\n",
    "1. **Address Class Imbalance**:  \n",
    "   - Consider using techniques like SMOTE, ADASYN, or class weighting in the logistic regression model to improve recall for the \"True\" class.\n",
    "\n",
    "2. **Threshold Tuning**:  \n",
    "   - Experiment with adjusting the decision threshold of the model to better balance precision and recall.\n",
    "\n",
    "3. **Model Complexity**:  \n",
    "   - Consider using a more complex model (e.g., ensemble methods like Random Forest or Gradient Boosting) if the dataset supports it.\n",
    "\n",
    "4. **Feature Engineering**:  \n",
    "   - Investigate additional features or transformations to enhance separability between the classes.\n",
    "\n",
    "---\n"
   ],
   "id": "6d56fa8ad604a92c"
  },
  {
   "metadata": {},
   "cell_type": "code",
   "source": [
    "# Assuming pb_achieved_feature_test_scaled_df is a Pandas DataFrame\n",
    "# Filter out rows with NaN values\n",
    "filtered_df = pb_achieved_feature_test_scaled_df.dropna()\n",
    "\n",
    "# Display the filtered DataFrame\n",
    "print(filtered_df)"
   ],
   "id": "2dab011b6112dcf4",
   "outputs": [],
   "execution_count": null
  },
  {
   "metadata": {},
   "cell_type": "code",
   "source": "",
   "id": "252d814bd4e9e74e",
   "outputs": [],
   "execution_count": null
  }
 ],
 "metadata": {
  "kernelspec": {
   "display_name": "Python 3",
   "language": "python",
   "name": "python3"
  },
  "language_info": {
   "codemirror_mode": {
    "name": "ipython",
    "version": 2
   },
   "file_extension": ".py",
   "mimetype": "text/x-python",
   "name": "python",
   "nbconvert_exporter": "python",
   "pygments_lexer": "ipython2",
   "version": "2.7.6"
  }
 },
 "nbformat": 4,
 "nbformat_minor": 5
}
