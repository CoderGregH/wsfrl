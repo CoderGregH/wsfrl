{
 "cells": [
  {
   "cell_type": "code",
   "id": "initial_id",
   "metadata": {
    "collapsed": true,
    "ExecuteTime": {
     "end_time": "2024-12-07T07:50:58.088265Z",
     "start_time": "2024-12-07T07:50:56.615167Z"
    }
   },
   "source": [
    "import polars as pl\n",
    "import pandas as pd\n",
    "from IPython.display import display"
   ],
   "outputs": [],
   "execution_count": 1
  },
  {
   "metadata": {
    "ExecuteTime": {
     "end_time": "2024-12-07T07:50:58.107467Z",
     "start_time": "2024-12-07T07:50:58.094263Z"
    }
   },
   "cell_type": "code",
   "source": "from Predictors.Pb.features import validate_features_vs_target",
   "id": "9d24335fb773595e",
   "outputs": [],
   "execution_count": 2
  },
  {
   "metadata": {
    "ExecuteTime": {
     "end_time": "2024-12-07T07:50:59.174260Z",
     "start_time": "2024-12-07T07:50:58.982144Z"
    }
   },
   "cell_type": "code",
   "source": [
    "import Predictors.DataPrep as dp\n",
    "df_ages = dp.get_data()\n",
    "\n",
    "display(df_ages)"
   ],
   "id": "c28f5f658e827e46",
   "outputs": [
    {
     "data": {
      "text/plain": [
       "shape: (55_523, 65)\n",
       "┌──────────┬──────────┬───────────────┬────────────┬───┬─────────────┬─────────┬─────────┬─────────┐\n",
       "│ Position ┆ Time     ┆ time_in_secon ┆ Bib Number ┆ … ┆ average_age ┆ min_dob ┆ max_dob ┆ avg_dob │\n",
       "│ ---      ┆ ---      ┆ ds            ┆ ---        ┆   ┆ ---         ┆ ---     ┆ ---     ┆ ---     │\n",
       "│ i64      ┆ str      ┆ ---           ┆ i64        ┆   ┆ f64         ┆ f64     ┆ f64     ┆ f64     │\n",
       "│          ┆          ┆ f64           ┆            ┆   ┆             ┆         ┆         ┆         │\n",
       "╞══════════╪══════════╪═══════════════╪════════════╪═══╪═════════════╪═════════╪═════════╪═════════╡\n",
       "│ 3        ┆ 00:29:14 ┆ 1754.0        ┆ 880        ┆ … ┆ 42.0        ┆ 1974.0  ┆ 1970.0  ┆ 1972.0  │\n",
       "│ 4        ┆ 00:29:34 ┆ 1774.0        ┆ 588        ┆ … ┆ 52.0        ┆ 1964.0  ┆ 1960.0  ┆ 1962.0  │\n",
       "│ 5        ┆ 00:29:47 ┆ 1787.0        ┆ 902        ┆ … ┆ 37.0        ┆ 1979.0  ┆ 1975.0  ┆ 1977.0  │\n",
       "│ 6        ┆ 00:30:07 ┆ 1807.0        ┆ 918        ┆ … ┆ 18.5        ┆ 2001.0  ┆ 1990.0  ┆ 1995.5  │\n",
       "│ 7        ┆ 00:30:09 ┆ 1809.0        ┆ 530        ┆ … ┆ null        ┆ null    ┆ null    ┆ null    │\n",
       "│ …        ┆ …        ┆ …             ┆ …          ┆ … ┆ …           ┆ …       ┆ …       ┆ …       │\n",
       "│ 627      ┆ 00:47:41 ┆ 2861.0        ┆ 631        ┆ … ┆ 59.0        ┆ 1959.0  ┆ 1955.0  ┆ 1957.0  │\n",
       "│ 628      ┆ 00:54:49 ┆ 3289.0        ┆ 613        ┆ … ┆ 64.0        ┆ 1954.0  ┆ 1950.0  ┆ 1952.0  │\n",
       "│ 629      ┆ 00:56:27 ┆ 3387.0        ┆ 429        ┆ … ┆ null        ┆ null    ┆ null    ┆ null    │\n",
       "│ 630      ┆ 00:57:56 ┆ 3476.0        ┆ 151        ┆ … ┆ null        ┆ null    ┆ null    ┆ null    │\n",
       "│ 631      ┆ 00:58:30 ┆ 3510.0        ┆ 606        ┆ … ┆ 49.0        ┆ 1969.0  ┆ 1965.0  ┆ 1967.0  │\n",
       "└──────────┴──────────┴───────────────┴────────────┴───┴─────────────┴─────────┴─────────┴─────────┘"
      ],
      "text/html": [
       "<div><style>\n",
       ".dataframe > thead > tr,\n",
       ".dataframe > tbody > tr {\n",
       "  text-align: right;\n",
       "  white-space: pre-wrap;\n",
       "}\n",
       "</style>\n",
       "<small>shape: (55_523, 65)</small><table border=\"1\" class=\"dataframe\"><thead><tr><th>Position</th><th>Time</th><th>time_in_seconds</th><th>Bib Number</th><th>Name</th><th>Gender</th><th>Gender Position</th><th>Club</th><th>is_club_member</th><th>Points</th><th>RaceName</th><th>year</th><th>month</th><th>day</th><th>date</th><th>distance</th><th>pace</th><th>club_position</th><th>club_position_gender</th><th>is_pb</th><th>first_time_run</th><th>prior_run_attempts</th><th>prior_quickest_run_in_year</th><th>prior_quickest_run_time</th><th>prior_quickest_run_time_in_seconds</th><th>prior_quickest_run_position</th><th>prior_time_vs_current_change</th><th>prior_time_vs_current_time</th><th>prior_quickest_vs_run_time</th><th>fellow_club_mates_running</th><th>fellow_club_mates_running_male</th><th>fellow_club_mates_running_female</th><th>best_position_year_to_date</th><th>average_position_year_to_date</th><th>worst_position_year_to_date</th><th>best_points_year_to_date</th><th>average_points_year_to_date</th><th>worst_points_year_to_date</th><th>runs_in_wsfrl_year_to_date</th><th>wsfrl_tenure_in_runs</th><th>wsfrl_tenure_in_years</th><th>position_record_years_since_best</th><th>position_record_years_since_worst</th><th>position_record_best_year</th><th>position_record_worst_year</th><th>position_record_best_position_all_time</th><th>position_record_average_position_all_time</th><th>position_record_worst_position_all_time</th><th>p_of_10_firstname</th><th>p_of_10_surname</th><th>p_of_10_track_age_category</th><th>p_of_10_road_age_category</th><th>p_of_10_xc_age_category</th><th>p_of_10_gender</th><th>p_of_10_club</th><th>p_of_10_athlete_id</th><th>match_type</th><th>matches</th><th>parameters_used</th><th>min_age</th><th>max_age</th><th>average_age</th><th>min_dob</th><th>max_dob</th><th>avg_dob</th></tr><tr><td>i64</td><td>str</td><td>f64</td><td>i64</td><td>str</td><td>str</td><td>f64</td><td>str</td><td>bool</td><td>f64</td><td>str</td><td>i64</td><td>i64</td><td>i64</td><td>str</td><td>f64</td><td>str</td><td>f64</td><td>f64</td><td>bool</td><td>bool</td><td>f64</td><td>str</td><td>str</td><td>str</td><td>str</td><td>str</td><td>str</td><td>str</td><td>f64</td><td>f64</td><td>f64</td><td>f64</td><td>f64</td><td>f64</td><td>f64</td><td>f64</td><td>f64</td><td>f64</td><td>f64</td><td>f64</td><td>f64</td><td>f64</td><td>f64</td><td>f64</td><td>f64</td><td>f64</td><td>f64</td><td>str</td><td>str</td><td>str</td><td>str</td><td>str</td><td>str</td><td>str</td><td>f64</td><td>str</td><td>f64</td><td>str</td><td>f64</td><td>f64</td><td>f64</td><td>f64</td><td>f64</td><td>f64</td></tr></thead><tbody><tr><td>3</td><td>&quot;00:29:14&quot;</td><td>1754.0</td><td>880</td><td>&quot;Andrew Masters&quot;</td><td>&quot;M&quot;</td><td>3.0</td><td>&quot;Lewes AC&quot;</td><td>true</td><td>10.0</td><td>&quot;Beach Run&quot;</td><td>2014</td><td>7</td><td>16</td><td>&quot;2014-07-16&quot;</td><td>8.0</td><td>&quot;0:03:39.250000&quot;</td><td>1.0</td><td>1.0</td><td>false</td><td>true</td><td>0.0</td><td>null</td><td>null</td><td>null</td><td>null</td><td>null</td><td>null</td><td>null</td><td>24.0</td><td>16.0</td><td>8.0</td><td>12.0</td><td>12.0</td><td>12.0</td><td>10.0</td><td>10.0</td><td>10.0</td><td>1.0</td><td>1.0</td><td>1.0</td><td>0.0</td><td>0.0</td><td>2014.0</td><td>2014.0</td><td>12.0</td><td>12.0</td><td>12.0</td><td>&quot;Andrew&quot;</td><td>&quot;Masters&quot;</td><td>&quot;V50&quot;</td><td>&quot;V50&quot;</td><td>&quot;V50&quot;</td><td>&quot;M&quot;</td><td>&quot;Lewes/West 4/Wimbledon Windmil…</td><td>80881.0</td><td>&quot;match&quot;</td><td>1.0</td><td>&quot;all&quot;</td><td>40.0</td><td>44.0</td><td>42.0</td><td>1974.0</td><td>1970.0</td><td>1972.0</td></tr><tr><td>4</td><td>&quot;00:29:34&quot;</td><td>1774.0</td><td>588</td><td>&quot;Paul Cousins&quot;</td><td>&quot;M&quot;</td><td>4.0</td><td>&quot;Haywards Heath Harriers&quot;</td><td>true</td><td>10.0</td><td>&quot;Beach Run&quot;</td><td>2014</td><td>7</td><td>16</td><td>&quot;2014-07-16&quot;</td><td>8.0</td><td>&quot;0:03:41.750000&quot;</td><td>1.0</td><td>1.0</td><td>false</td><td>true</td><td>0.0</td><td>null</td><td>null</td><td>null</td><td>null</td><td>null</td><td>null</td><td>null</td><td>9.0</td><td>5.0</td><td>4.0</td><td>2.0</td><td>5.0</td><td>7.0</td><td>10.0</td><td>10.0</td><td>10.0</td><td>3.0</td><td>3.0</td><td>1.0</td><td>0.0</td><td>0.0</td><td>2014.0</td><td>2014.0</td><td>2.0</td><td>5.0</td><td>7.0</td><td>&quot;Paul&quot;</td><td>&quot;Cousins&quot;</td><td>&quot;V60&quot;</td><td>&quot;V60&quot;</td><td>&quot;V60&quot;</td><td>&quot;M&quot;</td><td>&quot;Haywards Heath&quot;</td><td>9998.0</td><td>&quot;match&quot;</td><td>1.0</td><td>&quot;all&quot;</td><td>50.0</td><td>54.0</td><td>52.0</td><td>1964.0</td><td>1960.0</td><td>1962.0</td></tr><tr><td>5</td><td>&quot;00:29:47&quot;</td><td>1787.0</td><td>902</td><td>&quot;Michael Neville&quot;</td><td>&quot;M&quot;</td><td>5.0</td><td>&quot;Chichester Runners&quot;</td><td>true</td><td>10.0</td><td>&quot;Beach Run&quot;</td><td>2014</td><td>7</td><td>16</td><td>&quot;2014-07-16&quot;</td><td>8.0</td><td>&quot;0:03:43.375000&quot;</td><td>1.0</td><td>1.0</td><td>false</td><td>true</td><td>0.0</td><td>null</td><td>null</td><td>null</td><td>null</td><td>null</td><td>null</td><td>null</td><td>38.0</td><td>21.0</td><td>17.0</td><td>null</td><td>null</td><td>null</td><td>null</td><td>null</td><td>null</td><td>0.0</td><td>0.0</td><td>0.0</td><td>null</td><td>null</td><td>null</td><td>null</td><td>null</td><td>null</td><td>null</td><td>&quot;Michael&quot;</td><td>&quot;Neville&quot;</td><td>&quot;V45&quot;</td><td>&quot;V45&quot;</td><td>&quot;V45&quot;</td><td>&quot;M&quot;</td><td>&quot;Chichester&quot;</td><td>43629.0</td><td>&quot;match&quot;</td><td>1.0</td><td>&quot;all&quot;</td><td>35.0</td><td>39.0</td><td>37.0</td><td>1979.0</td><td>1975.0</td><td>1977.0</td></tr><tr><td>6</td><td>&quot;00:30:07&quot;</td><td>1807.0</td><td>918</td><td>&quot;Conrad Meagher&quot;</td><td>&quot;M&quot;</td><td>6.0</td><td>&quot;Chichester Runners&quot;</td><td>true</td><td>10.0</td><td>&quot;Beach Run&quot;</td><td>2014</td><td>7</td><td>16</td><td>&quot;2014-07-16&quot;</td><td>8.0</td><td>&quot;0:03:45.875000&quot;</td><td>2.0</td><td>2.0</td><td>false</td><td>true</td><td>0.0</td><td>null</td><td>null</td><td>null</td><td>null</td><td>null</td><td>null</td><td>null</td><td>38.0</td><td>21.0</td><td>17.0</td><td>null</td><td>null</td><td>null</td><td>null</td><td>null</td><td>null</td><td>0.0</td><td>0.0</td><td>0.0</td><td>null</td><td>null</td><td>null</td><td>null</td><td>null</td><td>null</td><td>null</td><td>&quot;Conrad&quot;</td><td>&quot;Meagher&quot;</td><td>&quot;SEN&quot;</td><td>&quot;SEN&quot;</td><td>&quot;SEN&quot;</td><td>&quot;M&quot;</td><td>&quot;Havant&quot;</td><td>566746.0</td><td>&quot;match&quot;</td><td>1.0</td><td>&quot;no_club&quot;</td><td>13.0</td><td>24.0</td><td>18.5</td><td>2001.0</td><td>1990.0</td><td>1995.5</td></tr><tr><td>7</td><td>&quot;00:30:09&quot;</td><td>1809.0</td><td>530</td><td>&quot;John Russell&quot;</td><td>&quot;M&quot;</td><td>7.0</td><td>&quot;Portslade Hedgehoppers&quot;</td><td>true</td><td>10.0</td><td>&quot;Beach Run&quot;</td><td>2014</td><td>7</td><td>16</td><td>&quot;2014-07-16&quot;</td><td>8.0</td><td>&quot;0:03:46.125000&quot;</td><td>1.0</td><td>1.0</td><td>false</td><td>true</td><td>0.0</td><td>null</td><td>null</td><td>null</td><td>null</td><td>null</td><td>null</td><td>null</td><td>23.0</td><td>15.0</td><td>8.0</td><td>10.0</td><td>27.0</td><td>72.0</td><td>10.0</td><td>9.0</td><td>8.0</td><td>10.0</td><td>10.0</td><td>1.0</td><td>0.0</td><td>0.0</td><td>2014.0</td><td>2014.0</td><td>10.0</td><td>27.0</td><td>72.0</td><td>null</td><td>null</td><td>&quot;TBC&quot;</td><td>&quot;TBC&quot;</td><td>&quot;TBC&quot;</td><td>&quot;n&quot;</td><td>null</td><td>null</td><td>&quot;missing&quot;</td><td>0.0</td><td>&quot;not found&quot;</td><td>null</td><td>null</td><td>null</td><td>null</td><td>null</td><td>null</td></tr><tr><td>&hellip;</td><td>&hellip;</td><td>&hellip;</td><td>&hellip;</td><td>&hellip;</td><td>&hellip;</td><td>&hellip;</td><td>&hellip;</td><td>&hellip;</td><td>&hellip;</td><td>&hellip;</td><td>&hellip;</td><td>&hellip;</td><td>&hellip;</td><td>&hellip;</td><td>&hellip;</td><td>&hellip;</td><td>&hellip;</td><td>&hellip;</td><td>&hellip;</td><td>&hellip;</td><td>&hellip;</td><td>&hellip;</td><td>&hellip;</td><td>&hellip;</td><td>&hellip;</td><td>&hellip;</td><td>&hellip;</td><td>&hellip;</td><td>&hellip;</td><td>&hellip;</td><td>&hellip;</td><td>&hellip;</td><td>&hellip;</td><td>&hellip;</td><td>&hellip;</td><td>&hellip;</td><td>&hellip;</td><td>&hellip;</td><td>&hellip;</td><td>&hellip;</td><td>&hellip;</td><td>&hellip;</td><td>&hellip;</td><td>&hellip;</td><td>&hellip;</td><td>&hellip;</td><td>&hellip;</td><td>&hellip;</td><td>&hellip;</td><td>&hellip;</td><td>&hellip;</td><td>&hellip;</td><td>&hellip;</td><td>&hellip;</td><td>&hellip;</td><td>&hellip;</td><td>&hellip;</td><td>&hellip;</td><td>&hellip;</td><td>&hellip;</td><td>&hellip;</td><td>&hellip;</td><td>&hellip;</td><td>&hellip;</td></tr><tr><td>627</td><td>&quot;00:47:41&quot;</td><td>2861.0</td><td>631</td><td>&quot;Ann Savidge&quot;</td><td>&quot;F&quot;</td><td>303.0</td><td>&quot;Burgess Hill Runners&quot;</td><td>true</td><td>1.0</td><td>&quot;Worthing Lido&quot;</td><td>2016</td><td>1</td><td>31</td><td>&quot;2016-01-31&quot;</td><td>6.54</td><td>&quot;0:07:17.461774&quot;</td><td>92.0</td><td>52.0</td><td>false</td><td>false</td><td>1.0</td><td>&quot;2015.0&quot;</td><td>&quot;00:38:16&quot;</td><td>&quot;2296.0&quot;</td><td>&quot;571.0&quot;</td><td>&quot;down&quot;</td><td>&quot;09:25&quot;</td><td>&quot;565.0&quot;</td><td>93.0</td><td>40.0</td><td>53.0</td><td>341.0</td><td>441.0</td><td>571.0</td><td>4.0</td><td>2.0</td><td>1.0</td><td>7.0</td><td>10.0</td><td>2.0</td><td>1.0</td><td>2.0</td><td>2015.0</td><td>2014.0</td><td>341.0</td><td>444.0</td><td>613.0</td><td>&quot;Ann&quot;</td><td>&quot;Savidge&quot;</td><td>&quot;V65&quot;</td><td>&quot;V65&quot;</td><td>&quot;V65&quot;</td><td>&quot;W&quot;</td><td>&quot;Burgess Hill&quot;</td><td>398093.0</td><td>&quot;match&quot;</td><td>1.0</td><td>&quot;all&quot;</td><td>57.0</td><td>61.0</td><td>59.0</td><td>1959.0</td><td>1955.0</td><td>1957.0</td></tr><tr><td>628</td><td>&quot;00:54:49&quot;</td><td>3289.0</td><td>613</td><td>&quot;Christine Jones&quot;</td><td>&quot;F&quot;</td><td>304.0</td><td>&quot;Burgess Hill Runners&quot;</td><td>true</td><td>1.0</td><td>&quot;Worthing Lido&quot;</td><td>2016</td><td>1</td><td>31</td><td>&quot;2016-01-31&quot;</td><td>6.54</td><td>&quot;0:08:22.905199&quot;</td><td>93.0</td><td>53.0</td><td>false</td><td>true</td><td>0.0</td><td>null</td><td>null</td><td>null</td><td>null</td><td>null</td><td>null</td><td>null</td><td>93.0</td><td>40.0</td><td>53.0</td><td>null</td><td>null</td><td>null</td><td>null</td><td>null</td><td>null</td><td>0.0</td><td>0.0</td><td>0.0</td><td>null</td><td>null</td><td>null</td><td>null</td><td>null</td><td>null</td><td>null</td><td>&quot;Christine&quot;</td><td>&quot;Jones&quot;</td><td>&quot;V70&quot;</td><td>&quot;V70&quot;</td><td>&quot;V70&quot;</td><td>&quot;W&quot;</td><td>&quot;Burgess Hill&quot;</td><td>816627.0</td><td>&quot;match&quot;</td><td>1.0</td><td>&quot;all&quot;</td><td>62.0</td><td>66.0</td><td>64.0</td><td>1954.0</td><td>1950.0</td><td>1952.0</td></tr><tr><td>629</td><td>&quot;00:56:27&quot;</td><td>3387.0</td><td>429</td><td>&quot;Kalpna Robertson&quot;</td><td>&quot;F&quot;</td><td>305.0</td><td>&quot;Lewes AC&quot;</td><td>true</td><td>1.0</td><td>&quot;Worthing Lido&quot;</td><td>2016</td><td>1</td><td>31</td><td>&quot;2016-01-31&quot;</td><td>6.54</td><td>&quot;0:08:37.889908&quot;</td><td>34.0</td><td>14.0</td><td>false</td><td>true</td><td>0.0</td><td>null</td><td>null</td><td>null</td><td>null</td><td>null</td><td>null</td><td>null</td><td>33.0</td><td>20.0</td><td>13.0</td><td>null</td><td>null</td><td>null</td><td>null</td><td>null</td><td>null</td><td>0.0</td><td>0.0</td><td>0.0</td><td>null</td><td>null</td><td>null</td><td>null</td><td>null</td><td>null</td><td>null</td><td>null</td><td>null</td><td>&quot;TBC&quot;</td><td>&quot;TBC&quot;</td><td>&quot;TBC&quot;</td><td>&quot;n&quot;</td><td>null</td><td>null</td><td>&quot;missing&quot;</td><td>0.0</td><td>&quot;no_first_name&quot;</td><td>null</td><td>null</td><td>null</td><td>null</td><td>null</td><td>null</td></tr><tr><td>630</td><td>&quot;00:57:56&quot;</td><td>3476.0</td><td>151</td><td>&quot;Julie Abel&quot;</td><td>&quot;F&quot;</td><td>306.0</td><td>&quot;Goring Road Runners&quot;</td><td>true</td><td>1.0</td><td>&quot;Worthing Lido&quot;</td><td>2016</td><td>1</td><td>31</td><td>&quot;2016-01-31&quot;</td><td>6.54</td><td>&quot;0:08:51.498471&quot;</td><td>17.0</td><td>6.0</td><td>false</td><td>true</td><td>0.0</td><td>null</td><td>null</td><td>null</td><td>null</td><td>null</td><td>null</td><td>null</td><td>16.0</td><td>11.0</td><td>5.0</td><td>null</td><td>null</td><td>null</td><td>null</td><td>null</td><td>null</td><td>0.0</td><td>0.0</td><td>0.0</td><td>null</td><td>null</td><td>null</td><td>null</td><td>null</td><td>null</td><td>null</td><td>null</td><td>null</td><td>&quot;TBC&quot;</td><td>&quot;TBC&quot;</td><td>&quot;TBC&quot;</td><td>&quot;n&quot;</td><td>null</td><td>null</td><td>&quot;missing&quot;</td><td>0.0</td><td>&quot;not found&quot;</td><td>null</td><td>null</td><td>null</td><td>null</td><td>null</td><td>null</td></tr><tr><td>631</td><td>&quot;00:58:30&quot;</td><td>3510.0</td><td>606</td><td>&quot;Jane Harle&quot;</td><td>&quot;F&quot;</td><td>307.0</td><td>&quot;Burgess Hill Runners&quot;</td><td>true</td><td>1.0</td><td>&quot;Worthing Lido&quot;</td><td>2016</td><td>1</td><td>31</td><td>&quot;2016-01-31&quot;</td><td>6.54</td><td>&quot;0:08:56.697248&quot;</td><td>94.0</td><td>54.0</td><td>false</td><td>true</td><td>0.0</td><td>null</td><td>null</td><td>null</td><td>null</td><td>null</td><td>null</td><td>null</td><td>93.0</td><td>40.0</td><td>53.0</td><td>null</td><td>null</td><td>null</td><td>null</td><td>null</td><td>null</td><td>0.0</td><td>0.0</td><td>0.0</td><td>null</td><td>null</td><td>null</td><td>null</td><td>null</td><td>null</td><td>null</td><td>&quot;Jane&quot;</td><td>&quot;Harle&quot;</td><td>&quot;V55&quot;</td><td>&quot;V55&quot;</td><td>&quot;V55&quot;</td><td>&quot;W&quot;</td><td>&quot;Burgess Hill&quot;</td><td>812655.0</td><td>&quot;match&quot;</td><td>1.0</td><td>&quot;all&quot;</td><td>47.0</td><td>51.0</td><td>49.0</td><td>1969.0</td><td>1965.0</td><td>1967.0</td></tr></tbody></table></div>"
      ]
     },
     "metadata": {},
     "output_type": "display_data"
    }
   ],
   "execution_count": 3
  },
  {
   "metadata": {
    "ExecuteTime": {
     "end_time": "2024-12-07T07:51:01.224556Z",
     "start_time": "2024-12-07T07:51:01.199081Z"
    }
   },
   "cell_type": "code",
   "source": [
    "# Remove all rows where the year is 2014\n",
    "df_ages = df_ages.filter(\n",
    " \n",
    "    (pl.col(\"p_of_10_track_age_category\") != \"TBC\")\n",
    ")"
   ],
   "id": "511debae6f695f95",
   "outputs": [],
   "execution_count": 4
  },
  {
   "metadata": {
    "ExecuteTime": {
     "end_time": "2024-12-07T07:51:04.375175Z",
     "start_time": "2024-12-07T07:51:04.361146Z"
    }
   },
   "cell_type": "code",
   "source": [
    " # Pivot the DataFrame\n",
    "pivot_df = df_ages.pivot(\n",
    "    values=[\"p_of_10_track_age_category\"],\n",
    "    index=\"year\",\n",
    "    on=\"p_of_10_track_age_category\",\n",
    "    aggregate_function=\"len\"\n",
    ").sort(\"year\")\n",
    "\n",
    "display(pivot_df)\n"
   ],
   "id": "8224df07f00ac4a0",
   "outputs": [
    {
     "data": {
      "text/plain": [
       "shape: (10, 20)\n",
       "┌──────┬─────┬─────┬─────┬───┬──────┬──────┬──────┬──────┐\n",
       "│ year ┆ V50 ┆ V60 ┆ V45 ┆ … ┆ V95  ┆ U17  ┆ U11  ┆ U13  │\n",
       "│ ---  ┆ --- ┆ --- ┆ --- ┆   ┆ ---  ┆ ---  ┆ ---  ┆ ---  │\n",
       "│ i64  ┆ u32 ┆ u32 ┆ u32 ┆   ┆ u32  ┆ u32  ┆ u32  ┆ u32  │\n",
       "╞══════╪═════╪═════╪═════╪═══╪══════╪══════╪══════╪══════╡\n",
       "│ 2014 ┆ 606 ┆ 717 ┆ 558 ┆ … ┆ 13   ┆ null ┆ null ┆ 9    │\n",
       "│ 2015 ┆ 639 ┆ 782 ┆ 617 ┆ … ┆ 1    ┆ 1    ┆ null ┆ 1    │\n",
       "│ 2016 ┆ 670 ┆ 841 ┆ 674 ┆ … ┆ null ┆ 5    ┆ null ┆ 1    │\n",
       "│ 2017 ┆ 616 ┆ 754 ┆ 513 ┆ … ┆ null ┆ 10   ┆ null ┆ 3    │\n",
       "│ 2018 ┆ 661 ┆ 688 ┆ 472 ┆ … ┆ null ┆ 12   ┆ null ┆ null │\n",
       "│ 2019 ┆ 754 ┆ 726 ┆ 551 ┆ … ┆ null ┆ 9    ┆ null ┆ null │\n",
       "│ 2020 ┆ 56  ┆ 42  ┆ 39  ┆ … ┆ null ┆ 1    ┆ null ┆ null │\n",
       "│ 2022 ┆ 566 ┆ 612 ┆ 384 ┆ … ┆ null ┆ 7    ┆ 6    ┆ null │\n",
       "│ 2023 ┆ 503 ┆ 560 ┆ 446 ┆ … ┆ null ┆ 9    ┆ 2    ┆ null │\n",
       "│ 2024 ┆ 637 ┆ 575 ┆ 449 ┆ … ┆ null ┆ 21   ┆ null ┆ 5    │\n",
       "└──────┴─────┴─────┴─────┴───┴──────┴──────┴──────┴──────┘"
      ],
      "text/html": [
       "<div><style>\n",
       ".dataframe > thead > tr,\n",
       ".dataframe > tbody > tr {\n",
       "  text-align: right;\n",
       "  white-space: pre-wrap;\n",
       "}\n",
       "</style>\n",
       "<small>shape: (10, 20)</small><table border=\"1\" class=\"dataframe\"><thead><tr><th>year</th><th>V50</th><th>V60</th><th>V45</th><th>SEN</th><th>V35</th><th>V55</th><th>V40</th><th>V65</th><th>U23</th><th>V70</th><th>V80</th><th>V75</th><th>U20</th><th>U15</th><th>V85</th><th>V95</th><th>U17</th><th>U11</th><th>U13</th></tr><tr><td>i64</td><td>u32</td><td>u32</td><td>u32</td><td>u32</td><td>u32</td><td>u32</td><td>u32</td><td>u32</td><td>u32</td><td>u32</td><td>u32</td><td>u32</td><td>u32</td><td>u32</td><td>u32</td><td>u32</td><td>u32</td><td>u32</td><td>u32</td></tr></thead><tbody><tr><td>2014</td><td>606</td><td>717</td><td>558</td><td>213</td><td>183</td><td>691</td><td>260</td><td>598</td><td>6</td><td>467</td><td>146</td><td>202</td><td>20</td><td>12</td><td>35</td><td>13</td><td>null</td><td>null</td><td>9</td></tr><tr><td>2015</td><td>639</td><td>782</td><td>617</td><td>256</td><td>232</td><td>761</td><td>339</td><td>656</td><td>3</td><td>394</td><td>112</td><td>214</td><td>16</td><td>10</td><td>36</td><td>1</td><td>1</td><td>null</td><td>1</td></tr><tr><td>2016</td><td>670</td><td>841</td><td>674</td><td>257</td><td>298</td><td>753</td><td>399</td><td>632</td><td>4</td><td>397</td><td>81</td><td>209</td><td>12</td><td>15</td><td>26</td><td>null</td><td>5</td><td>null</td><td>1</td></tr><tr><td>2017</td><td>616</td><td>754</td><td>513</td><td>253</td><td>252</td><td>691</td><td>291</td><td>529</td><td>32</td><td>303</td><td>54</td><td>168</td><td>1</td><td>17</td><td>26</td><td>null</td><td>10</td><td>null</td><td>3</td></tr><tr><td>2018</td><td>661</td><td>688</td><td>472</td><td>298</td><td>267</td><td>699</td><td>358</td><td>492</td><td>23</td><td>243</td><td>43</td><td>180</td><td>10</td><td>3</td><td>21</td><td>null</td><td>12</td><td>null</td><td>null</td></tr><tr><td>2019</td><td>754</td><td>726</td><td>551</td><td>321</td><td>248</td><td>814</td><td>331</td><td>500</td><td>59</td><td>271</td><td>32</td><td>175</td><td>10</td><td>2</td><td>21</td><td>null</td><td>9</td><td>null</td><td>null</td></tr><tr><td>2020</td><td>56</td><td>42</td><td>39</td><td>15</td><td>16</td><td>57</td><td>31</td><td>25</td><td>5</td><td>13</td><td>2</td><td>9</td><td>1</td><td>1</td><td>null</td><td>null</td><td>1</td><td>null</td><td>null</td></tr><tr><td>2022</td><td>566</td><td>612</td><td>384</td><td>238</td><td>201</td><td>561</td><td>281</td><td>347</td><td>19</td><td>162</td><td>12</td><td>91</td><td>33</td><td>null</td><td>6</td><td>null</td><td>7</td><td>6</td><td>null</td></tr><tr><td>2023</td><td>503</td><td>560</td><td>446</td><td>279</td><td>191</td><td>427</td><td>283</td><td>323</td><td>30</td><td>134</td><td>14</td><td>80</td><td>31</td><td>null</td><td>5</td><td>null</td><td>9</td><td>2</td><td>null</td></tr><tr><td>2024</td><td>637</td><td>575</td><td>449</td><td>301</td><td>242</td><td>594</td><td>347</td><td>295</td><td>26</td><td>179</td><td>9</td><td>68</td><td>37</td><td>3</td><td>1</td><td>null</td><td>21</td><td>null</td><td>5</td></tr></tbody></table></div>"
      ]
     },
     "metadata": {},
     "output_type": "display_data"
    }
   ],
   "execution_count": 5
  },
  {
   "metadata": {
    "ExecuteTime": {
     "end_time": "2024-12-07T07:51:05.962823Z",
     "start_time": "2024-12-07T07:51:05.941077Z"
    }
   },
   "cell_type": "code",
   "source": [
    "from data.Constants.ColumnNames import WsfrlColumnOverall\n",
    "from data.Constants.ColumnNames import WsfrlColumnPriorStats\n"
   ],
   "id": "ed16660277bf6130",
   "outputs": [],
   "execution_count": 6
  },
  {
   "metadata": {
    "ExecuteTime": {
     "end_time": "2024-12-07T07:51:08.418184Z",
     "start_time": "2024-12-07T07:51:08.400205Z"
    }
   },
   "cell_type": "code",
   "source": [
    "df_ages = df_ages.to_dummies(\n",
    "    [WsfrlColumnOverall.Gender, WsfrlColumnOverall.Club], drop_first=True\n",
    ")\n",
    "display(df_ages)"
   ],
   "id": "f32cd60e8f9235c3",
   "outputs": [
    {
     "data": {
      "text/plain": [
       "shape: (39_832, 183)\n",
       "┌──────────┬──────────┬───────────────┬────────────┬───┬─────────────┬─────────┬─────────┬─────────┐\n",
       "│ Position ┆ Time     ┆ time_in_secon ┆ Bib Number ┆ … ┆ average_age ┆ min_dob ┆ max_dob ┆ avg_dob │\n",
       "│ ---      ┆ ---      ┆ ds            ┆ ---        ┆   ┆ ---         ┆ ---     ┆ ---     ┆ ---     │\n",
       "│ i64      ┆ str      ┆ ---           ┆ i64        ┆   ┆ f64         ┆ f64     ┆ f64     ┆ f64     │\n",
       "│          ┆          ┆ f64           ┆            ┆   ┆             ┆         ┆         ┆         │\n",
       "╞══════════╪══════════╪═══════════════╪════════════╪═══╪═════════════╪═════════╪═════════╪═════════╡\n",
       "│ 3        ┆ 00:29:14 ┆ 1754.0        ┆ 880        ┆ … ┆ 42.0        ┆ 1974.0  ┆ 1970.0  ┆ 1972.0  │\n",
       "│ 4        ┆ 00:29:34 ┆ 1774.0        ┆ 588        ┆ … ┆ 52.0        ┆ 1964.0  ┆ 1960.0  ┆ 1962.0  │\n",
       "│ 5        ┆ 00:29:47 ┆ 1787.0        ┆ 902        ┆ … ┆ 37.0        ┆ 1979.0  ┆ 1975.0  ┆ 1977.0  │\n",
       "│ 6        ┆ 00:30:07 ┆ 1807.0        ┆ 918        ┆ … ┆ 18.5        ┆ 2001.0  ┆ 1990.0  ┆ 1995.5  │\n",
       "│ 8        ┆ 00:30:47 ┆ 1847.0        ┆ 916        ┆ … ┆ 27.0        ┆ 1989.0  ┆ 1985.0  ┆ 1987.0  │\n",
       "│ …        ┆ …        ┆ …             ┆ …          ┆ … ┆ …           ┆ …       ┆ …       ┆ …       │\n",
       "│ 624      ┆ 00:49:33 ┆ 2973.0        ┆ 67         ┆ … ┆ 39.0        ┆ 1979.0  ┆ 1975.0  ┆ 1977.0  │\n",
       "│ 626      ┆ 00:50:17 ┆ 3017.0        ┆ 612        ┆ … ┆ 64.0        ┆ 1954.0  ┆ 1950.0  ┆ 1952.0  │\n",
       "│ 627      ┆ 00:47:41 ┆ 2861.0        ┆ 631        ┆ … ┆ 59.0        ┆ 1959.0  ┆ 1955.0  ┆ 1957.0  │\n",
       "│ 628      ┆ 00:54:49 ┆ 3289.0        ┆ 613        ┆ … ┆ 64.0        ┆ 1954.0  ┆ 1950.0  ┆ 1952.0  │\n",
       "│ 631      ┆ 00:58:30 ┆ 3510.0        ┆ 606        ┆ … ┆ 49.0        ┆ 1969.0  ┆ 1965.0  ┆ 1967.0  │\n",
       "└──────────┴──────────┴───────────────┴────────────┴───┴─────────────┴─────────┴─────────┴─────────┘"
      ],
      "text/html": [
       "<div><style>\n",
       ".dataframe > thead > tr,\n",
       ".dataframe > tbody > tr {\n",
       "  text-align: right;\n",
       "  white-space: pre-wrap;\n",
       "}\n",
       "</style>\n",
       "<small>shape: (39_832, 183)</small><table border=\"1\" class=\"dataframe\"><thead><tr><th>Position</th><th>Time</th><th>time_in_seconds</th><th>Bib Number</th><th>Name</th><th>Gender_F</th><th>Gender Position</th><th>Club_Almost Athletes</th><th>Club_Arena 80 AC</th><th>Club_Arunners</th><th>Club_Ashford &amp; District  RRC</th><th>Club_Bexhill Runners</th><th>Club_Bitton Road Runners</th><th>Club_Blackburn Harriers</th><th>Club_Blackburn Harriers &amp; AC</th><th>Club_Bognor Tri Club</th><th>Club_Bridport Runners</th><th>Club_Brighto &amp; Hove AC</th><th>Club_Brighton &amp; Hove</th><th>Club_Brighton &amp; Hove AC</th><th>Club_Brighton &amp; Hove Canicross Runners</th><th>Club_Brighton Multisports Club</th><th>Club_Bure Valley Harriers</th><th>Club_Burgess Hill Runners</th><th>Club_C L C Striders</th><th>Club_Cambridge Univ Hare &amp; Hounds</th><th>Club_Chichester Runners</th><th>Club_Chichester Westgate Tri Club</th><th>Club_City Of Hull AC</th><th>Club_City of Sailsbury</th><th>Club_Clowne Road Runners</th><th>Club_Crawley AC</th><th>Club_Crawley Run Crew</th><th>Club_Crawley Wheelers</th><th>Club_Crowborough</th><th>Club_Dartmouth Athletics Club</th><th>Club_Datchet Dashers</th><th>&hellip;</th><th>prior_quickest_vs_run_time</th><th>fellow_club_mates_running</th><th>fellow_club_mates_running_male</th><th>fellow_club_mates_running_female</th><th>best_position_year_to_date</th><th>average_position_year_to_date</th><th>worst_position_year_to_date</th><th>best_points_year_to_date</th><th>average_points_year_to_date</th><th>worst_points_year_to_date</th><th>runs_in_wsfrl_year_to_date</th><th>wsfrl_tenure_in_runs</th><th>wsfrl_tenure_in_years</th><th>position_record_years_since_best</th><th>position_record_years_since_worst</th><th>position_record_best_year</th><th>position_record_worst_year</th><th>position_record_best_position_all_time</th><th>position_record_average_position_all_time</th><th>position_record_worst_position_all_time</th><th>p_of_10_firstname</th><th>p_of_10_surname</th><th>p_of_10_track_age_category</th><th>p_of_10_road_age_category</th><th>p_of_10_xc_age_category</th><th>p_of_10_gender</th><th>p_of_10_club</th><th>p_of_10_athlete_id</th><th>match_type</th><th>matches</th><th>parameters_used</th><th>min_age</th><th>max_age</th><th>average_age</th><th>min_dob</th><th>max_dob</th><th>avg_dob</th></tr><tr><td>i64</td><td>str</td><td>f64</td><td>i64</td><td>str</td><td>u8</td><td>f64</td><td>u8</td><td>u8</td><td>u8</td><td>u8</td><td>u8</td><td>u8</td><td>u8</td><td>u8</td><td>u8</td><td>u8</td><td>u8</td><td>u8</td><td>u8</td><td>u8</td><td>u8</td><td>u8</td><td>u8</td><td>u8</td><td>u8</td><td>u8</td><td>u8</td><td>u8</td><td>u8</td><td>u8</td><td>u8</td><td>u8</td><td>u8</td><td>u8</td><td>u8</td><td>u8</td><td>&hellip;</td><td>str</td><td>f64</td><td>f64</td><td>f64</td><td>f64</td><td>f64</td><td>f64</td><td>f64</td><td>f64</td><td>f64</td><td>f64</td><td>f64</td><td>f64</td><td>f64</td><td>f64</td><td>f64</td><td>f64</td><td>f64</td><td>f64</td><td>f64</td><td>str</td><td>str</td><td>str</td><td>str</td><td>str</td><td>str</td><td>str</td><td>f64</td><td>str</td><td>f64</td><td>str</td><td>f64</td><td>f64</td><td>f64</td><td>f64</td><td>f64</td><td>f64</td></tr></thead><tbody><tr><td>3</td><td>&quot;00:29:14&quot;</td><td>1754.0</td><td>880</td><td>&quot;Andrew Masters&quot;</td><td>0</td><td>3.0</td><td>0</td><td>0</td><td>0</td><td>0</td><td>0</td><td>0</td><td>0</td><td>0</td><td>0</td><td>0</td><td>0</td><td>0</td><td>0</td><td>0</td><td>0</td><td>0</td><td>0</td><td>0</td><td>0</td><td>0</td><td>0</td><td>0</td><td>0</td><td>0</td><td>0</td><td>0</td><td>0</td><td>0</td><td>0</td><td>0</td><td>&hellip;</td><td>null</td><td>24.0</td><td>16.0</td><td>8.0</td><td>12.0</td><td>12.0</td><td>12.0</td><td>10.0</td><td>10.0</td><td>10.0</td><td>1.0</td><td>1.0</td><td>1.0</td><td>0.0</td><td>0.0</td><td>2014.0</td><td>2014.0</td><td>12.0</td><td>12.0</td><td>12.0</td><td>&quot;Andrew&quot;</td><td>&quot;Masters&quot;</td><td>&quot;V50&quot;</td><td>&quot;V50&quot;</td><td>&quot;V50&quot;</td><td>&quot;M&quot;</td><td>&quot;Lewes/West 4/Wimbledon Windmil…</td><td>80881.0</td><td>&quot;match&quot;</td><td>1.0</td><td>&quot;all&quot;</td><td>40.0</td><td>44.0</td><td>42.0</td><td>1974.0</td><td>1970.0</td><td>1972.0</td></tr><tr><td>4</td><td>&quot;00:29:34&quot;</td><td>1774.0</td><td>588</td><td>&quot;Paul Cousins&quot;</td><td>0</td><td>4.0</td><td>0</td><td>0</td><td>0</td><td>0</td><td>0</td><td>0</td><td>0</td><td>0</td><td>0</td><td>0</td><td>0</td><td>0</td><td>0</td><td>0</td><td>0</td><td>0</td><td>0</td><td>0</td><td>0</td><td>0</td><td>0</td><td>0</td><td>0</td><td>0</td><td>0</td><td>0</td><td>0</td><td>0</td><td>0</td><td>0</td><td>&hellip;</td><td>null</td><td>9.0</td><td>5.0</td><td>4.0</td><td>2.0</td><td>5.0</td><td>7.0</td><td>10.0</td><td>10.0</td><td>10.0</td><td>3.0</td><td>3.0</td><td>1.0</td><td>0.0</td><td>0.0</td><td>2014.0</td><td>2014.0</td><td>2.0</td><td>5.0</td><td>7.0</td><td>&quot;Paul&quot;</td><td>&quot;Cousins&quot;</td><td>&quot;V60&quot;</td><td>&quot;V60&quot;</td><td>&quot;V60&quot;</td><td>&quot;M&quot;</td><td>&quot;Haywards Heath&quot;</td><td>9998.0</td><td>&quot;match&quot;</td><td>1.0</td><td>&quot;all&quot;</td><td>50.0</td><td>54.0</td><td>52.0</td><td>1964.0</td><td>1960.0</td><td>1962.0</td></tr><tr><td>5</td><td>&quot;00:29:47&quot;</td><td>1787.0</td><td>902</td><td>&quot;Michael Neville&quot;</td><td>0</td><td>5.0</td><td>0</td><td>0</td><td>0</td><td>0</td><td>0</td><td>0</td><td>0</td><td>0</td><td>0</td><td>0</td><td>0</td><td>0</td><td>0</td><td>0</td><td>0</td><td>0</td><td>0</td><td>0</td><td>0</td><td>1</td><td>0</td><td>0</td><td>0</td><td>0</td><td>0</td><td>0</td><td>0</td><td>0</td><td>0</td><td>0</td><td>&hellip;</td><td>null</td><td>38.0</td><td>21.0</td><td>17.0</td><td>null</td><td>null</td><td>null</td><td>null</td><td>null</td><td>null</td><td>0.0</td><td>0.0</td><td>0.0</td><td>null</td><td>null</td><td>null</td><td>null</td><td>null</td><td>null</td><td>null</td><td>&quot;Michael&quot;</td><td>&quot;Neville&quot;</td><td>&quot;V45&quot;</td><td>&quot;V45&quot;</td><td>&quot;V45&quot;</td><td>&quot;M&quot;</td><td>&quot;Chichester&quot;</td><td>43629.0</td><td>&quot;match&quot;</td><td>1.0</td><td>&quot;all&quot;</td><td>35.0</td><td>39.0</td><td>37.0</td><td>1979.0</td><td>1975.0</td><td>1977.0</td></tr><tr><td>6</td><td>&quot;00:30:07&quot;</td><td>1807.0</td><td>918</td><td>&quot;Conrad Meagher&quot;</td><td>0</td><td>6.0</td><td>0</td><td>0</td><td>0</td><td>0</td><td>0</td><td>0</td><td>0</td><td>0</td><td>0</td><td>0</td><td>0</td><td>0</td><td>0</td><td>0</td><td>0</td><td>0</td><td>0</td><td>0</td><td>0</td><td>1</td><td>0</td><td>0</td><td>0</td><td>0</td><td>0</td><td>0</td><td>0</td><td>0</td><td>0</td><td>0</td><td>&hellip;</td><td>null</td><td>38.0</td><td>21.0</td><td>17.0</td><td>null</td><td>null</td><td>null</td><td>null</td><td>null</td><td>null</td><td>0.0</td><td>0.0</td><td>0.0</td><td>null</td><td>null</td><td>null</td><td>null</td><td>null</td><td>null</td><td>null</td><td>&quot;Conrad&quot;</td><td>&quot;Meagher&quot;</td><td>&quot;SEN&quot;</td><td>&quot;SEN&quot;</td><td>&quot;SEN&quot;</td><td>&quot;M&quot;</td><td>&quot;Havant&quot;</td><td>566746.0</td><td>&quot;match&quot;</td><td>1.0</td><td>&quot;no_club&quot;</td><td>13.0</td><td>24.0</td><td>18.5</td><td>2001.0</td><td>1990.0</td><td>1995.5</td></tr><tr><td>8</td><td>&quot;00:30:47&quot;</td><td>1847.0</td><td>916</td><td>&quot;Richard Dayment&quot;</td><td>0</td><td>8.0</td><td>0</td><td>0</td><td>0</td><td>0</td><td>0</td><td>0</td><td>0</td><td>0</td><td>0</td><td>0</td><td>0</td><td>0</td><td>0</td><td>0</td><td>0</td><td>0</td><td>0</td><td>0</td><td>0</td><td>0</td><td>0</td><td>0</td><td>0</td><td>0</td><td>0</td><td>0</td><td>0</td><td>0</td><td>1</td><td>0</td><td>&hellip;</td><td>null</td><td>0.0</td><td>0.0</td><td>0.0</td><td>21.0</td><td>21.0</td><td>21.0</td><td>null</td><td>null</td><td>null</td><td>1.0</td><td>1.0</td><td>1.0</td><td>0.0</td><td>0.0</td><td>2014.0</td><td>2014.0</td><td>21.0</td><td>21.0</td><td>21.0</td><td>&quot;Rich&quot;</td><td>&quot;Dayment&quot;</td><td>&quot;V35&quot;</td><td>&quot;V35&quot;</td><td>&quot;V35&quot;</td><td>&quot;M&quot;</td><td>&quot;Dartmouth&quot;</td><td>278974.0</td><td>&quot;match&quot;</td><td>1.0</td><td>&quot;all&quot;</td><td>25.0</td><td>29.0</td><td>27.0</td><td>1989.0</td><td>1985.0</td><td>1987.0</td></tr><tr><td>&hellip;</td><td>&hellip;</td><td>&hellip;</td><td>&hellip;</td><td>&hellip;</td><td>&hellip;</td><td>&hellip;</td><td>&hellip;</td><td>&hellip;</td><td>&hellip;</td><td>&hellip;</td><td>&hellip;</td><td>&hellip;</td><td>&hellip;</td><td>&hellip;</td><td>&hellip;</td><td>&hellip;</td><td>&hellip;</td><td>&hellip;</td><td>&hellip;</td><td>&hellip;</td><td>&hellip;</td><td>&hellip;</td><td>&hellip;</td><td>&hellip;</td><td>&hellip;</td><td>&hellip;</td><td>&hellip;</td><td>&hellip;</td><td>&hellip;</td><td>&hellip;</td><td>&hellip;</td><td>&hellip;</td><td>&hellip;</td><td>&hellip;</td><td>&hellip;</td><td>&hellip;</td><td>&hellip;</td><td>&hellip;</td><td>&hellip;</td><td>&hellip;</td><td>&hellip;</td><td>&hellip;</td><td>&hellip;</td><td>&hellip;</td><td>&hellip;</td><td>&hellip;</td><td>&hellip;</td><td>&hellip;</td><td>&hellip;</td><td>&hellip;</td><td>&hellip;</td><td>&hellip;</td><td>&hellip;</td><td>&hellip;</td><td>&hellip;</td><td>&hellip;</td><td>&hellip;</td><td>&hellip;</td><td>&hellip;</td><td>&hellip;</td><td>&hellip;</td><td>&hellip;</td><td>&hellip;</td><td>&hellip;</td><td>&hellip;</td><td>&hellip;</td><td>&hellip;</td><td>&hellip;</td><td>&hellip;</td><td>&hellip;</td><td>&hellip;</td><td>&hellip;</td><td>&hellip;</td><td>&hellip;</td></tr><tr><td>624</td><td>&quot;00:49:33&quot;</td><td>2973.0</td><td>67</td><td>&quot;Tina Massiah&quot;</td><td>1</td><td>300.0</td><td>0</td><td>0</td><td>0</td><td>0</td><td>0</td><td>0</td><td>0</td><td>0</td><td>0</td><td>0</td><td>0</td><td>0</td><td>0</td><td>0</td><td>0</td><td>0</td><td>0</td><td>0</td><td>0</td><td>0</td><td>0</td><td>0</td><td>0</td><td>0</td><td>0</td><td>0</td><td>0</td><td>0</td><td>0</td><td>0</td><td>&hellip;</td><td>null</td><td>72.0</td><td>35.0</td><td>37.0</td><td>null</td><td>null</td><td>null</td><td>null</td><td>null</td><td>null</td><td>0.0</td><td>0.0</td><td>0.0</td><td>null</td><td>null</td><td>null</td><td>null</td><td>null</td><td>null</td><td>null</td><td>&quot;Tina&quot;</td><td>&quot;Massiah&quot;</td><td>&quot;V45&quot;</td><td>&quot;V45&quot;</td><td>&quot;V45&quot;</td><td>&quot;W&quot;</td><td>&quot;Crawley Run Crew&quot;</td><td>891102.0</td><td>&quot;match&quot;</td><td>1.0</td><td>&quot;no_club&quot;</td><td>37.0</td><td>41.0</td><td>39.0</td><td>1979.0</td><td>1975.0</td><td>1977.0</td></tr><tr><td>626</td><td>&quot;00:50:17&quot;</td><td>3017.0</td><td>612</td><td>&quot;Margaret John&quot;</td><td>1</td><td>302.0</td><td>0</td><td>0</td><td>0</td><td>0</td><td>0</td><td>0</td><td>0</td><td>0</td><td>0</td><td>0</td><td>0</td><td>0</td><td>0</td><td>0</td><td>0</td><td>0</td><td>1</td><td>0</td><td>0</td><td>0</td><td>0</td><td>0</td><td>0</td><td>0</td><td>0</td><td>0</td><td>0</td><td>0</td><td>0</td><td>0</td><td>&hellip;</td><td>null</td><td>93.0</td><td>40.0</td><td>53.0</td><td>null</td><td>null</td><td>null</td><td>null</td><td>null</td><td>null</td><td>0.0</td><td>0.0</td><td>0.0</td><td>null</td><td>null</td><td>null</td><td>null</td><td>null</td><td>null</td><td>null</td><td>&quot;Margaret&quot;</td><td>&quot;John&quot;</td><td>&quot;V70&quot;</td><td>&quot;V70&quot;</td><td>&quot;V70&quot;</td><td>&quot;W&quot;</td><td>&quot;Burgess Hill&quot;</td><td>816332.0</td><td>&quot;match&quot;</td><td>1.0</td><td>&quot;all&quot;</td><td>62.0</td><td>66.0</td><td>64.0</td><td>1954.0</td><td>1950.0</td><td>1952.0</td></tr><tr><td>627</td><td>&quot;00:47:41&quot;</td><td>2861.0</td><td>631</td><td>&quot;Ann Savidge&quot;</td><td>1</td><td>303.0</td><td>0</td><td>0</td><td>0</td><td>0</td><td>0</td><td>0</td><td>0</td><td>0</td><td>0</td><td>0</td><td>0</td><td>0</td><td>0</td><td>0</td><td>0</td><td>0</td><td>1</td><td>0</td><td>0</td><td>0</td><td>0</td><td>0</td><td>0</td><td>0</td><td>0</td><td>0</td><td>0</td><td>0</td><td>0</td><td>0</td><td>&hellip;</td><td>&quot;565.0&quot;</td><td>93.0</td><td>40.0</td><td>53.0</td><td>341.0</td><td>441.0</td><td>571.0</td><td>4.0</td><td>2.0</td><td>1.0</td><td>7.0</td><td>10.0</td><td>2.0</td><td>1.0</td><td>2.0</td><td>2015.0</td><td>2014.0</td><td>341.0</td><td>444.0</td><td>613.0</td><td>&quot;Ann&quot;</td><td>&quot;Savidge&quot;</td><td>&quot;V65&quot;</td><td>&quot;V65&quot;</td><td>&quot;V65&quot;</td><td>&quot;W&quot;</td><td>&quot;Burgess Hill&quot;</td><td>398093.0</td><td>&quot;match&quot;</td><td>1.0</td><td>&quot;all&quot;</td><td>57.0</td><td>61.0</td><td>59.0</td><td>1959.0</td><td>1955.0</td><td>1957.0</td></tr><tr><td>628</td><td>&quot;00:54:49&quot;</td><td>3289.0</td><td>613</td><td>&quot;Christine Jones&quot;</td><td>1</td><td>304.0</td><td>0</td><td>0</td><td>0</td><td>0</td><td>0</td><td>0</td><td>0</td><td>0</td><td>0</td><td>0</td><td>0</td><td>0</td><td>0</td><td>0</td><td>0</td><td>0</td><td>1</td><td>0</td><td>0</td><td>0</td><td>0</td><td>0</td><td>0</td><td>0</td><td>0</td><td>0</td><td>0</td><td>0</td><td>0</td><td>0</td><td>&hellip;</td><td>null</td><td>93.0</td><td>40.0</td><td>53.0</td><td>null</td><td>null</td><td>null</td><td>null</td><td>null</td><td>null</td><td>0.0</td><td>0.0</td><td>0.0</td><td>null</td><td>null</td><td>null</td><td>null</td><td>null</td><td>null</td><td>null</td><td>&quot;Christine&quot;</td><td>&quot;Jones&quot;</td><td>&quot;V70&quot;</td><td>&quot;V70&quot;</td><td>&quot;V70&quot;</td><td>&quot;W&quot;</td><td>&quot;Burgess Hill&quot;</td><td>816627.0</td><td>&quot;match&quot;</td><td>1.0</td><td>&quot;all&quot;</td><td>62.0</td><td>66.0</td><td>64.0</td><td>1954.0</td><td>1950.0</td><td>1952.0</td></tr><tr><td>631</td><td>&quot;00:58:30&quot;</td><td>3510.0</td><td>606</td><td>&quot;Jane Harle&quot;</td><td>1</td><td>307.0</td><td>0</td><td>0</td><td>0</td><td>0</td><td>0</td><td>0</td><td>0</td><td>0</td><td>0</td><td>0</td><td>0</td><td>0</td><td>0</td><td>0</td><td>0</td><td>0</td><td>1</td><td>0</td><td>0</td><td>0</td><td>0</td><td>0</td><td>0</td><td>0</td><td>0</td><td>0</td><td>0</td><td>0</td><td>0</td><td>0</td><td>&hellip;</td><td>null</td><td>93.0</td><td>40.0</td><td>53.0</td><td>null</td><td>null</td><td>null</td><td>null</td><td>null</td><td>null</td><td>0.0</td><td>0.0</td><td>0.0</td><td>null</td><td>null</td><td>null</td><td>null</td><td>null</td><td>null</td><td>null</td><td>&quot;Jane&quot;</td><td>&quot;Harle&quot;</td><td>&quot;V55&quot;</td><td>&quot;V55&quot;</td><td>&quot;V55&quot;</td><td>&quot;W&quot;</td><td>&quot;Burgess Hill&quot;</td><td>812655.0</td><td>&quot;match&quot;</td><td>1.0</td><td>&quot;all&quot;</td><td>47.0</td><td>51.0</td><td>49.0</td><td>1969.0</td><td>1965.0</td><td>1967.0</td></tr></tbody></table></div>"
      ]
     },
     "metadata": {},
     "output_type": "display_data"
    }
   ],
   "execution_count": 7
  },
  {
   "metadata": {},
   "cell_type": "code",
   "outputs": [],
   "execution_count": null,
   "source": "",
   "id": "2f34afb2b27d5485"
  },
  {
   "metadata": {},
   "cell_type": "markdown",
   "source": [
    "## Feature Selection\n",
    "\n",
    "\n"
   ],
   "id": "7c46669331530081"
  },
  {
   "metadata": {},
   "cell_type": "code",
   "outputs": [],
   "execution_count": null,
   "source": "",
   "id": "3991f7978d93a027"
  },
  {
   "metadata": {
    "ExecuteTime": {
     "end_time": "2024-12-07T07:52:16.634642Z",
     "start_time": "2024-12-07T07:52:16.630245Z"
    }
   },
   "cell_type": "code",
   "source": [
    "from Predictors.Pb.features import get_boolean_features\n",
    "\n",
    "feature_columns_club = get_boolean_features(df_ages, 'Club_')"
   ],
   "id": "b63c170640bfce2f",
   "outputs": [],
   "execution_count": 8
  },
  {
   "metadata": {
    "ExecuteTime": {
     "end_time": "2024-12-07T08:01:18.608638Z",
     "start_time": "2024-12-07T08:01:18.602152Z"
    }
   },
   "cell_type": "code",
   "source": [
    "\n",
    "feature_columns_to_default_to_zero = [\n",
    "    WsfrlColumnPriorStats.Tenure,\n",
    "    WsfrlColumnPriorStats.TotalPriorRunCount,\n",
    "    WsfrlColumnPriorStats.PositionYearsSinceBest,\n",
    "    WsfrlColumnPriorStats.PositionYearSinceWorst,\n",
    "]\n",
    "\n",
    "feature_columns_mandatory = [\n",
    "    WsfrlColumnOverall.Position,\n",
    "    f\"{WsfrlColumnOverall.Gender}_F\",\n",
    "    WsfrlColumnOverall.TimeInSeconds,\n",
    "]\n",
    "\n",
    "\n",
    "\n",
    "feature_columns = feature_columns_to_default_to_zero + feature_columns_mandatory + feature_columns_club\n",
    "\n",
    "\n"
   ],
   "id": "abca9b740f157bb2",
   "outputs": [],
   "execution_count": 22
  },
  {
   "metadata": {
    "ExecuteTime": {
     "end_time": "2024-12-07T08:01:22.749558Z",
     "start_time": "2024-12-07T08:01:22.736185Z"
    }
   },
   "cell_type": "code",
   "source": [
    "# Import necessary modules\n",
    "from data.Constants.ColumnNames import WsfrlColumnForAges\n",
    "\n",
    "# Add WsfrlColumnForAges.AgeAvgRange to the list of columns to validate\n",
    "columns_to_keep =  feature_columns \n",
    "\n",
    "\n",
    "df_features = df_ages[feature_columns]\n",
    "df_target = df_ages[WsfrlColumnForAges.AgeAvgRange]\n",
    "\n",
    "\n",
    "validate_features_vs_target(df_features, df_target)\n",
    "\n",
    "# Display the reduced DataFrame\n",
    "display(df_features.head())\n",
    "display(df_target.head())\n",
    "\n"
   ],
   "id": "7ee7eac0bde80394",
   "outputs": [
    {
     "name": "stdout",
     "output_type": "stream",
     "text": [
      "MATCH Features_df shape: (39832, 126) vs Target (39832,)\n"
     ]
    },
    {
     "data": {
      "text/plain": [
       "shape: (5, 126)\n",
       "┌───────────┬───────────┬───────────┬───────────┬───┬───────────┬───────────┬───────────┬──────────┐\n",
       "│ wsfrl_ten ┆ wsfrl_ten ┆ position_ ┆ position_ ┆ … ┆ Club_Wort ┆ Club_db   ┆ Club_leed ┆ Club_lor │\n",
       "│ ure_in_ye ┆ ure_in_ru ┆ record_ye ┆ record_ye ┆   ┆ hing      ┆ runners   ┆ s         ┆ dshill   │\n",
       "│ ars       ┆ ns        ┆ ars_since ┆ ars_since ┆   ┆ harriers  ┆ ---       ┆ bradford  ┆ ---      │\n",
       "│ ---       ┆ ---       ┆ _be…      ┆ _wo…      ┆   ┆ ---       ┆ u8        ┆ Tri       ┆ u8       │\n",
       "│ f64       ┆ f64       ┆ ---       ┆ ---       ┆   ┆ u8        ┆           ┆ ---       ┆          │\n",
       "│           ┆           ┆ f64       ┆ f64       ┆   ┆           ┆           ┆ u8        ┆          │\n",
       "╞═══════════╪═══════════╪═══════════╪═══════════╪═══╪═══════════╪═══════════╪═══════════╪══════════╡\n",
       "│ 1.0       ┆ 1.0       ┆ 0.0       ┆ 0.0       ┆ … ┆ 0         ┆ 0         ┆ 0         ┆ 0        │\n",
       "│ 1.0       ┆ 3.0       ┆ 0.0       ┆ 0.0       ┆ … ┆ 0         ┆ 0         ┆ 0         ┆ 0        │\n",
       "│ 0.0       ┆ 0.0       ┆ null      ┆ null      ┆ … ┆ 0         ┆ 0         ┆ 0         ┆ 0        │\n",
       "│ 0.0       ┆ 0.0       ┆ null      ┆ null      ┆ … ┆ 0         ┆ 0         ┆ 0         ┆ 0        │\n",
       "│ 1.0       ┆ 1.0       ┆ 0.0       ┆ 0.0       ┆ … ┆ 0         ┆ 0         ┆ 0         ┆ 0        │\n",
       "└───────────┴───────────┴───────────┴───────────┴───┴───────────┴───────────┴───────────┴──────────┘"
      ],
      "text/html": [
       "<div><style>\n",
       ".dataframe > thead > tr,\n",
       ".dataframe > tbody > tr {\n",
       "  text-align: right;\n",
       "  white-space: pre-wrap;\n",
       "}\n",
       "</style>\n",
       "<small>shape: (5, 126)</small><table border=\"1\" class=\"dataframe\"><thead><tr><th>wsfrl_tenure_in_years</th><th>wsfrl_tenure_in_runs</th><th>position_record_years_since_best</th><th>position_record_years_since_worst</th><th>Position</th><th>Gender_F</th><th>time_in_seconds</th><th>Club_Almost Athletes</th><th>Club_Arena 80 AC</th><th>Club_Arunners</th><th>Club_Ashford &amp; District  RRC</th><th>Club_Bexhill Runners</th><th>Club_Bitton Road Runners</th><th>Club_Blackburn Harriers</th><th>Club_Blackburn Harriers &amp; AC</th><th>Club_Bognor Tri Club</th><th>Club_Bridport Runners</th><th>Club_Brighto &amp; Hove AC</th><th>Club_Brighton &amp; Hove</th><th>Club_Brighton &amp; Hove AC</th><th>Club_Brighton &amp; Hove Canicross Runners</th><th>Club_Brighton Multisports Club</th><th>Club_Bure Valley Harriers</th><th>Club_Burgess Hill Runners</th><th>Club_C L C Striders</th><th>Club_Cambridge Univ Hare &amp; Hounds</th><th>Club_Chichester Runners</th><th>Club_Chichester Westgate Tri Club</th><th>Club_City Of Hull AC</th><th>Club_City of Sailsbury</th><th>Club_Clowne Road Runners</th><th>Club_Crawley AC</th><th>Club_Crawley Run Crew</th><th>Club_Crawley Wheelers</th><th>Club_Crowborough</th><th>Club_Dartmouth Athletics Club</th><th>Club_Datchet Dashers</th><th>&hellip;</th><th>Club_Orpington Road Runners</th><th>Club_Phoenix AC</th><th>Club_Polegate Plodders</th><th>Club_Portslade Hedgehoppers</th><th>Club_Portslade Hedgehoppers </th><th>Club_Reigate Ladies Joggers</th><th>Club_Saffron Striders</th><th>Club_Saints and Sinners</th><th>Club_Shore fit</th><th>Club_South Downs Harriers</th><th>Club_South London Harriers</th><th>Club_Southdown Harriers</th><th>Club_Southdowns Running Club</th><th>Club_Steyning AC</th><th>Club_Steyning RFC</th><th>Club_Surrey Race Walking Club</th><th>Club_Sussex Trail</th><th>Club_Tone Zone Runners</th><th>Club_Trail Running Association</th><th>Club_Tuff Fitty Triathlon Club</th><th>Club_UK Netrunners</th><th>Club_VPTH</th><th>Club_Veterans AC</th><th>Club_Veterans Athletic Club</th><th>Club_WAVERLY HARRIERS</th><th>Club_Waterlooville</th><th>Club_Waverley Harrriers</th><th>Club_We Run Harriers</th><th>Club_Withdean Club</th><th>Club_Withdean Running Club</th><th>Club_Womens Running Network</th><th>Club_Worthing Harriers</th><th>Club_Worthing Striders</th><th>Club_Worthing harriers </th><th>Club_db runners</th><th>Club_leeds bradford Tri</th><th>Club_lordshill</th></tr><tr><td>f64</td><td>f64</td><td>f64</td><td>f64</td><td>i64</td><td>u8</td><td>f64</td><td>u8</td><td>u8</td><td>u8</td><td>u8</td><td>u8</td><td>u8</td><td>u8</td><td>u8</td><td>u8</td><td>u8</td><td>u8</td><td>u8</td><td>u8</td><td>u8</td><td>u8</td><td>u8</td><td>u8</td><td>u8</td><td>u8</td><td>u8</td><td>u8</td><td>u8</td><td>u8</td><td>u8</td><td>u8</td><td>u8</td><td>u8</td><td>u8</td><td>u8</td><td>u8</td><td>&hellip;</td><td>u8</td><td>u8</td><td>u8</td><td>u8</td><td>u8</td><td>u8</td><td>u8</td><td>u8</td><td>u8</td><td>u8</td><td>u8</td><td>u8</td><td>u8</td><td>u8</td><td>u8</td><td>u8</td><td>u8</td><td>u8</td><td>u8</td><td>u8</td><td>u8</td><td>u8</td><td>u8</td><td>u8</td><td>u8</td><td>u8</td><td>u8</td><td>u8</td><td>u8</td><td>u8</td><td>u8</td><td>u8</td><td>u8</td><td>u8</td><td>u8</td><td>u8</td><td>u8</td></tr></thead><tbody><tr><td>1.0</td><td>1.0</td><td>0.0</td><td>0.0</td><td>3</td><td>0</td><td>1754.0</td><td>0</td><td>0</td><td>0</td><td>0</td><td>0</td><td>0</td><td>0</td><td>0</td><td>0</td><td>0</td><td>0</td><td>0</td><td>0</td><td>0</td><td>0</td><td>0</td><td>0</td><td>0</td><td>0</td><td>0</td><td>0</td><td>0</td><td>0</td><td>0</td><td>0</td><td>0</td><td>0</td><td>0</td><td>0</td><td>0</td><td>&hellip;</td><td>0</td><td>0</td><td>0</td><td>0</td><td>0</td><td>0</td><td>0</td><td>0</td><td>0</td><td>0</td><td>0</td><td>0</td><td>0</td><td>0</td><td>0</td><td>0</td><td>0</td><td>0</td><td>0</td><td>0</td><td>0</td><td>0</td><td>0</td><td>0</td><td>0</td><td>0</td><td>0</td><td>0</td><td>0</td><td>0</td><td>0</td><td>0</td><td>0</td><td>0</td><td>0</td><td>0</td><td>0</td></tr><tr><td>1.0</td><td>3.0</td><td>0.0</td><td>0.0</td><td>4</td><td>0</td><td>1774.0</td><td>0</td><td>0</td><td>0</td><td>0</td><td>0</td><td>0</td><td>0</td><td>0</td><td>0</td><td>0</td><td>0</td><td>0</td><td>0</td><td>0</td><td>0</td><td>0</td><td>0</td><td>0</td><td>0</td><td>0</td><td>0</td><td>0</td><td>0</td><td>0</td><td>0</td><td>0</td><td>0</td><td>0</td><td>0</td><td>0</td><td>&hellip;</td><td>0</td><td>0</td><td>0</td><td>0</td><td>0</td><td>0</td><td>0</td><td>0</td><td>0</td><td>0</td><td>0</td><td>0</td><td>0</td><td>0</td><td>0</td><td>0</td><td>0</td><td>0</td><td>0</td><td>0</td><td>0</td><td>0</td><td>0</td><td>0</td><td>0</td><td>0</td><td>0</td><td>0</td><td>0</td><td>0</td><td>0</td><td>0</td><td>0</td><td>0</td><td>0</td><td>0</td><td>0</td></tr><tr><td>0.0</td><td>0.0</td><td>null</td><td>null</td><td>5</td><td>0</td><td>1787.0</td><td>0</td><td>0</td><td>0</td><td>0</td><td>0</td><td>0</td><td>0</td><td>0</td><td>0</td><td>0</td><td>0</td><td>0</td><td>0</td><td>0</td><td>0</td><td>0</td><td>0</td><td>0</td><td>0</td><td>1</td><td>0</td><td>0</td><td>0</td><td>0</td><td>0</td><td>0</td><td>0</td><td>0</td><td>0</td><td>0</td><td>&hellip;</td><td>0</td><td>0</td><td>0</td><td>0</td><td>0</td><td>0</td><td>0</td><td>0</td><td>0</td><td>0</td><td>0</td><td>0</td><td>0</td><td>0</td><td>0</td><td>0</td><td>0</td><td>0</td><td>0</td><td>0</td><td>0</td><td>0</td><td>0</td><td>0</td><td>0</td><td>0</td><td>0</td><td>0</td><td>0</td><td>0</td><td>0</td><td>0</td><td>0</td><td>0</td><td>0</td><td>0</td><td>0</td></tr><tr><td>0.0</td><td>0.0</td><td>null</td><td>null</td><td>6</td><td>0</td><td>1807.0</td><td>0</td><td>0</td><td>0</td><td>0</td><td>0</td><td>0</td><td>0</td><td>0</td><td>0</td><td>0</td><td>0</td><td>0</td><td>0</td><td>0</td><td>0</td><td>0</td><td>0</td><td>0</td><td>0</td><td>1</td><td>0</td><td>0</td><td>0</td><td>0</td><td>0</td><td>0</td><td>0</td><td>0</td><td>0</td><td>0</td><td>&hellip;</td><td>0</td><td>0</td><td>0</td><td>0</td><td>0</td><td>0</td><td>0</td><td>0</td><td>0</td><td>0</td><td>0</td><td>0</td><td>0</td><td>0</td><td>0</td><td>0</td><td>0</td><td>0</td><td>0</td><td>0</td><td>0</td><td>0</td><td>0</td><td>0</td><td>0</td><td>0</td><td>0</td><td>0</td><td>0</td><td>0</td><td>0</td><td>0</td><td>0</td><td>0</td><td>0</td><td>0</td><td>0</td></tr><tr><td>1.0</td><td>1.0</td><td>0.0</td><td>0.0</td><td>8</td><td>0</td><td>1847.0</td><td>0</td><td>0</td><td>0</td><td>0</td><td>0</td><td>0</td><td>0</td><td>0</td><td>0</td><td>0</td><td>0</td><td>0</td><td>0</td><td>0</td><td>0</td><td>0</td><td>0</td><td>0</td><td>0</td><td>0</td><td>0</td><td>0</td><td>0</td><td>0</td><td>0</td><td>0</td><td>0</td><td>0</td><td>1</td><td>0</td><td>&hellip;</td><td>0</td><td>0</td><td>0</td><td>0</td><td>0</td><td>0</td><td>0</td><td>0</td><td>0</td><td>0</td><td>0</td><td>0</td><td>0</td><td>0</td><td>0</td><td>0</td><td>0</td><td>0</td><td>0</td><td>0</td><td>0</td><td>0</td><td>0</td><td>0</td><td>0</td><td>0</td><td>0</td><td>0</td><td>0</td><td>0</td><td>0</td><td>0</td><td>0</td><td>0</td><td>0</td><td>0</td><td>0</td></tr></tbody></table></div>"
      ]
     },
     "metadata": {},
     "output_type": "display_data"
    },
    {
     "data": {
      "text/plain": [
       "shape: (10,)\n",
       "Series: 'average_age' [f64]\n",
       "[\n",
       "\t42.0\n",
       "\t52.0\n",
       "\t37.0\n",
       "\t18.5\n",
       "\t27.0\n",
       "\t47.0\n",
       "\t18.5\n",
       "\t42.0\n",
       "\t27.0\n",
       "\t37.0\n",
       "]"
      ],
      "text/html": [
       "<div><style>\n",
       ".dataframe > thead > tr,\n",
       ".dataframe > tbody > tr {\n",
       "  text-align: right;\n",
       "  white-space: pre-wrap;\n",
       "}\n",
       "</style>\n",
       "<small>shape: (10,)</small><table border=\"1\" class=\"dataframe\"><thead><tr><th>average_age</th></tr><tr><td>f64</td></tr></thead><tbody><tr><td>42.0</td></tr><tr><td>52.0</td></tr><tr><td>37.0</td></tr><tr><td>18.5</td></tr><tr><td>27.0</td></tr><tr><td>47.0</td></tr><tr><td>18.5</td></tr><tr><td>42.0</td></tr><tr><td>27.0</td></tr><tr><td>37.0</td></tr></tbody></table></div>"
      ]
     },
     "metadata": {},
     "output_type": "display_data"
    }
   ],
   "execution_count": 23
  },
  {
   "metadata": {},
   "cell_type": "markdown",
   "source": "## Split the Data",
   "id": "baf01728296052f"
  },
  {
   "metadata": {
    "ExecuteTime": {
     "end_time": "2024-12-07T08:01:25.602083Z",
     "start_time": "2024-12-07T08:01:25.581623Z"
    }
   },
   "cell_type": "code",
   "outputs": [
    {
     "name": "stdout",
     "output_type": "stream",
     "text": [
      "Total Rows: 39832 Training Rows: 27882 Test Rows: 11950 Test Percentage of Total: 0.70\n",
      "MATCH Features_df shape: (27882, 126) vs Target (27882,)\n",
      "MATCH Features_df shape: (11950, 126) vs Target (11950,)\n"
     ]
    }
   ],
   "execution_count": 24,
   "source": [
    "from sklearn.model_selection import train_test_split\n",
    "from sklearn.preprocessing import StandardScaler\n",
    "\n",
    "SEED = 123\n",
    "\n",
    "(\n",
    "    df_feature_train,\n",
    "    df_feature_test,\n",
    "    df_target_train,\n",
    "    df_target_test,\n",
    ") = train_test_split(\n",
    "    df_features,\n",
    "    df_target,\n",
    "    test_size=0.30,\n",
    "    random_state=SEED,\n",
    ")\n",
    "\n",
    "total_rows = len(df_features)\n",
    "train_rows = len(df_feature_train)\n",
    "test_rows = len(df_feature_test)\n",
    "\n",
    "test_percentage_of_total = train_rows / total_rows\n",
    "\n",
    "print(f\"Total Rows: {total_rows} Training Rows: {train_rows} Test Rows: {test_rows} Test Percentage of Total: {test_percentage_of_total:.2f}\")\n",
    "\n",
    "validate_features_vs_target(df_feature_train,df_target_train)\n",
    "validate_features_vs_target(df_feature_test,df_target_test)\n"
   ],
   "id": "80a6fcb50a8c1a89"
  },
  {
   "metadata": {
    "ExecuteTime": {
     "end_time": "2024-12-07T08:01:39.588417Z",
     "start_time": "2024-12-07T08:01:39.582490Z"
    }
   },
   "cell_type": "code",
   "outputs": [
    {
     "name": "stdout",
     "output_type": "stream",
     "text": [
      "WARNING (Be Aware)- Column that exist in the features_df but not in the feature_columns_to_validate list: []\n",
      "GOOD - All feature columns 126 exist in the DataFrame 126.\n"
     ]
    }
   ],
   "execution_count": 26,
   "source": [
    "from Predictors.Pb.features import general_feature_validation\n",
    "\n",
    "general_feature_validation(df_feature_train, feature_columns)"
   ],
   "id": "b384f222dddb659a"
  },
  {
   "metadata": {},
   "cell_type": "markdown",
   "source": "",
   "id": "9de33155bf1b3dee"
  },
  {
   "metadata": {},
   "cell_type": "markdown",
   "source": "",
   "id": "37553220dd91db6f"
  },
  {
   "metadata": {},
   "cell_type": "code",
   "outputs": [],
   "execution_count": null,
   "source": "\n",
   "id": "393fc4a421f41ca"
  },
  {
   "metadata": {},
   "cell_type": "code",
   "outputs": [],
   "execution_count": null,
   "source": [
    "\n",
    "\n",
    "\n"
   ],
   "id": "501e92378b37ee6b"
  }
 ],
 "metadata": {
  "kernelspec": {
   "display_name": "Python 3",
   "language": "python",
   "name": "python3"
  },
  "language_info": {
   "codemirror_mode": {
    "name": "ipython",
    "version": 2
   },
   "file_extension": ".py",
   "mimetype": "text/x-python",
   "name": "python",
   "nbconvert_exporter": "python",
   "pygments_lexer": "ipython2",
   "version": "2.7.6"
  }
 },
 "nbformat": 4,
 "nbformat_minor": 5
}
