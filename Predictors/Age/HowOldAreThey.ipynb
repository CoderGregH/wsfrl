{
 "cells": [
  {
   "cell_type": "code",
   "id": "initial_id",
   "metadata": {
    "collapsed": true,
    "ExecuteTime": {
     "end_time": "2024-12-07T06:44:19.971932Z",
     "start_time": "2024-12-07T06:44:17.894989Z"
    }
   },
   "source": [
    "import polars as pl\n",
    "import pandas as pd\n",
    "from IPython.display import display"
   ],
   "outputs": [],
   "execution_count": 1
  },
  {
   "metadata": {
    "ExecuteTime": {
     "end_time": "2024-12-07T06:44:23.731984Z",
     "start_time": "2024-12-07T06:44:23.720586Z"
    }
   },
   "cell_type": "code",
   "source": "from Predictors.Pb.features import validate_features_vs_target",
   "id": "9d24335fb773595e",
   "outputs": [],
   "execution_count": 2
  },
  {
   "metadata": {
    "ExecuteTime": {
     "end_time": "2024-12-07T06:45:44.263999Z",
     "start_time": "2024-12-07T06:45:43.072228Z"
    }
   },
   "cell_type": "code",
   "source": [
    "import Predictors.DataPrep as dp\n",
    "results_with_pb_df = dp.get_data()\n",
    "\n",
    "display(results_with_pb_df)"
   ],
   "id": "c28f5f658e827e46",
   "outputs": [
    {
     "data": {
      "text/plain": [
       "shape: (55_523, 65)\n",
       "┌──────────┬──────────┬───────────────┬────────────┬───┬─────────────┬─────────┬─────────┬─────────┐\n",
       "│ Position ┆ Time     ┆ time_in_secon ┆ Bib Number ┆ … ┆ average_age ┆ min_dob ┆ max_dob ┆ avg_dob │\n",
       "│ ---      ┆ ---      ┆ ds            ┆ ---        ┆   ┆ ---         ┆ ---     ┆ ---     ┆ ---     │\n",
       "│ i64      ┆ str      ┆ ---           ┆ i64        ┆   ┆ f64         ┆ f64     ┆ f64     ┆ f64     │\n",
       "│          ┆          ┆ f64           ┆            ┆   ┆             ┆         ┆         ┆         │\n",
       "╞══════════╪══════════╪═══════════════╪════════════╪═══╪═════════════╪═════════╪═════════╪═════════╡\n",
       "│ 3        ┆ 00:29:14 ┆ 1754.0        ┆ 880        ┆ … ┆ 42.0        ┆ 1974.0  ┆ 1970.0  ┆ 1972.0  │\n",
       "│ 4        ┆ 00:29:34 ┆ 1774.0        ┆ 588        ┆ … ┆ 52.0        ┆ 1964.0  ┆ 1960.0  ┆ 1962.0  │\n",
       "│ 5        ┆ 00:29:47 ┆ 1787.0        ┆ 902        ┆ … ┆ 37.0        ┆ 1979.0  ┆ 1975.0  ┆ 1977.0  │\n",
       "│ 6        ┆ 00:30:07 ┆ 1807.0        ┆ 918        ┆ … ┆ 18.5        ┆ 2001.0  ┆ 1990.0  ┆ 1995.5  │\n",
       "│ 7        ┆ 00:30:09 ┆ 1809.0        ┆ 530        ┆ … ┆ null        ┆ null    ┆ null    ┆ null    │\n",
       "│ …        ┆ …        ┆ …             ┆ …          ┆ … ┆ …           ┆ …       ┆ …       ┆ …       │\n",
       "│ 627      ┆ 00:47:41 ┆ 2861.0        ┆ 631        ┆ … ┆ 59.0        ┆ 1959.0  ┆ 1955.0  ┆ 1957.0  │\n",
       "│ 628      ┆ 00:54:49 ┆ 3289.0        ┆ 613        ┆ … ┆ 64.0        ┆ 1954.0  ┆ 1950.0  ┆ 1952.0  │\n",
       "│ 629      ┆ 00:56:27 ┆ 3387.0        ┆ 429        ┆ … ┆ null        ┆ null    ┆ null    ┆ null    │\n",
       "│ 630      ┆ 00:57:56 ┆ 3476.0        ┆ 151        ┆ … ┆ null        ┆ null    ┆ null    ┆ null    │\n",
       "│ 631      ┆ 00:58:30 ┆ 3510.0        ┆ 606        ┆ … ┆ 49.0        ┆ 1969.0  ┆ 1965.0  ┆ 1967.0  │\n",
       "└──────────┴──────────┴───────────────┴────────────┴───┴─────────────┴─────────┴─────────┴─────────┘"
      ],
      "text/html": [
       "<div><style>\n",
       ".dataframe > thead > tr,\n",
       ".dataframe > tbody > tr {\n",
       "  text-align: right;\n",
       "  white-space: pre-wrap;\n",
       "}\n",
       "</style>\n",
       "<small>shape: (55_523, 65)</small><table border=\"1\" class=\"dataframe\"><thead><tr><th>Position</th><th>Time</th><th>time_in_seconds</th><th>Bib Number</th><th>Name</th><th>Gender</th><th>Gender Position</th><th>Club</th><th>is_club_member</th><th>Points</th><th>RaceName</th><th>year</th><th>month</th><th>day</th><th>date</th><th>distance</th><th>pace</th><th>club_position</th><th>club_position_gender</th><th>is_pb</th><th>first_time_run</th><th>prior_run_attempts</th><th>prior_quickest_run_in_year</th><th>prior_quickest_run_time</th><th>prior_quickest_run_time_in_seconds</th><th>prior_quickest_run_position</th><th>prior_time_vs_current_change</th><th>prior_time_vs_current_time</th><th>prior_quickest_vs_run_time</th><th>fellow_club_mates_running</th><th>fellow_club_mates_running_male</th><th>fellow_club_mates_running_female</th><th>best_position_year_to_date</th><th>average_position_year_to_date</th><th>worst_position_year_to_date</th><th>best_points_year_to_date</th><th>average_points_year_to_date</th><th>worst_points_year_to_date</th><th>runs_in_wsfrl_year_to_date</th><th>wsfrl_tenure_in_runs</th><th>wsfrl_tenure_in_years</th><th>position_record_years_since_best</th><th>position_record_years_since_worst</th><th>position_record_best_year</th><th>position_record_worst_year</th><th>position_record_best_position_all_time</th><th>position_record_average_position_all_time</th><th>position_record_worst_position_all_time</th><th>p_of_10_firstname</th><th>p_of_10_surname</th><th>p_of_10_track_age_category</th><th>p_of_10_road_age_category</th><th>p_of_10_xc_age_category</th><th>p_of_10_gender</th><th>p_of_10_club</th><th>p_of_10_athlete_id</th><th>match_type</th><th>matches</th><th>parameters_used</th><th>min_age</th><th>max_age</th><th>average_age</th><th>min_dob</th><th>max_dob</th><th>avg_dob</th></tr><tr><td>i64</td><td>str</td><td>f64</td><td>i64</td><td>str</td><td>str</td><td>f64</td><td>str</td><td>bool</td><td>f64</td><td>str</td><td>i64</td><td>i64</td><td>i64</td><td>str</td><td>f64</td><td>str</td><td>f64</td><td>f64</td><td>bool</td><td>bool</td><td>f64</td><td>str</td><td>str</td><td>str</td><td>str</td><td>str</td><td>str</td><td>str</td><td>f64</td><td>f64</td><td>f64</td><td>f64</td><td>f64</td><td>f64</td><td>f64</td><td>f64</td><td>f64</td><td>f64</td><td>f64</td><td>f64</td><td>f64</td><td>f64</td><td>f64</td><td>f64</td><td>f64</td><td>f64</td><td>f64</td><td>str</td><td>str</td><td>str</td><td>str</td><td>str</td><td>str</td><td>str</td><td>f64</td><td>str</td><td>f64</td><td>str</td><td>f64</td><td>f64</td><td>f64</td><td>f64</td><td>f64</td><td>f64</td></tr></thead><tbody><tr><td>3</td><td>&quot;00:29:14&quot;</td><td>1754.0</td><td>880</td><td>&quot;Andrew Masters&quot;</td><td>&quot;M&quot;</td><td>3.0</td><td>&quot;Lewes AC&quot;</td><td>true</td><td>10.0</td><td>&quot;Beach Run&quot;</td><td>2014</td><td>7</td><td>16</td><td>&quot;2014-07-16&quot;</td><td>8.0</td><td>&quot;0:03:39.250000&quot;</td><td>1.0</td><td>1.0</td><td>false</td><td>true</td><td>0.0</td><td>null</td><td>null</td><td>null</td><td>null</td><td>null</td><td>null</td><td>null</td><td>24.0</td><td>16.0</td><td>8.0</td><td>12.0</td><td>12.0</td><td>12.0</td><td>10.0</td><td>10.0</td><td>10.0</td><td>1.0</td><td>1.0</td><td>1.0</td><td>0.0</td><td>0.0</td><td>2014.0</td><td>2014.0</td><td>12.0</td><td>12.0</td><td>12.0</td><td>&quot;Andrew&quot;</td><td>&quot;Masters&quot;</td><td>&quot;V50&quot;</td><td>&quot;V50&quot;</td><td>&quot;V50&quot;</td><td>&quot;M&quot;</td><td>&quot;Lewes/West 4/Wimbledon Windmil…</td><td>80881.0</td><td>&quot;match&quot;</td><td>1.0</td><td>&quot;all&quot;</td><td>40.0</td><td>44.0</td><td>42.0</td><td>1974.0</td><td>1970.0</td><td>1972.0</td></tr><tr><td>4</td><td>&quot;00:29:34&quot;</td><td>1774.0</td><td>588</td><td>&quot;Paul Cousins&quot;</td><td>&quot;M&quot;</td><td>4.0</td><td>&quot;Haywards Heath Harriers&quot;</td><td>true</td><td>10.0</td><td>&quot;Beach Run&quot;</td><td>2014</td><td>7</td><td>16</td><td>&quot;2014-07-16&quot;</td><td>8.0</td><td>&quot;0:03:41.750000&quot;</td><td>1.0</td><td>1.0</td><td>false</td><td>true</td><td>0.0</td><td>null</td><td>null</td><td>null</td><td>null</td><td>null</td><td>null</td><td>null</td><td>9.0</td><td>5.0</td><td>4.0</td><td>2.0</td><td>5.0</td><td>7.0</td><td>10.0</td><td>10.0</td><td>10.0</td><td>3.0</td><td>3.0</td><td>1.0</td><td>0.0</td><td>0.0</td><td>2014.0</td><td>2014.0</td><td>2.0</td><td>5.0</td><td>7.0</td><td>&quot;Paul&quot;</td><td>&quot;Cousins&quot;</td><td>&quot;V60&quot;</td><td>&quot;V60&quot;</td><td>&quot;V60&quot;</td><td>&quot;M&quot;</td><td>&quot;Haywards Heath&quot;</td><td>9998.0</td><td>&quot;match&quot;</td><td>1.0</td><td>&quot;all&quot;</td><td>50.0</td><td>54.0</td><td>52.0</td><td>1964.0</td><td>1960.0</td><td>1962.0</td></tr><tr><td>5</td><td>&quot;00:29:47&quot;</td><td>1787.0</td><td>902</td><td>&quot;Michael Neville&quot;</td><td>&quot;M&quot;</td><td>5.0</td><td>&quot;Chichester Runners&quot;</td><td>true</td><td>10.0</td><td>&quot;Beach Run&quot;</td><td>2014</td><td>7</td><td>16</td><td>&quot;2014-07-16&quot;</td><td>8.0</td><td>&quot;0:03:43.375000&quot;</td><td>1.0</td><td>1.0</td><td>false</td><td>true</td><td>0.0</td><td>null</td><td>null</td><td>null</td><td>null</td><td>null</td><td>null</td><td>null</td><td>38.0</td><td>21.0</td><td>17.0</td><td>null</td><td>null</td><td>null</td><td>null</td><td>null</td><td>null</td><td>0.0</td><td>0.0</td><td>0.0</td><td>null</td><td>null</td><td>null</td><td>null</td><td>null</td><td>null</td><td>null</td><td>&quot;Michael&quot;</td><td>&quot;Neville&quot;</td><td>&quot;V45&quot;</td><td>&quot;V45&quot;</td><td>&quot;V45&quot;</td><td>&quot;M&quot;</td><td>&quot;Chichester&quot;</td><td>43629.0</td><td>&quot;match&quot;</td><td>1.0</td><td>&quot;all&quot;</td><td>35.0</td><td>39.0</td><td>37.0</td><td>1979.0</td><td>1975.0</td><td>1977.0</td></tr><tr><td>6</td><td>&quot;00:30:07&quot;</td><td>1807.0</td><td>918</td><td>&quot;Conrad Meagher&quot;</td><td>&quot;M&quot;</td><td>6.0</td><td>&quot;Chichester Runners&quot;</td><td>true</td><td>10.0</td><td>&quot;Beach Run&quot;</td><td>2014</td><td>7</td><td>16</td><td>&quot;2014-07-16&quot;</td><td>8.0</td><td>&quot;0:03:45.875000&quot;</td><td>2.0</td><td>2.0</td><td>false</td><td>true</td><td>0.0</td><td>null</td><td>null</td><td>null</td><td>null</td><td>null</td><td>null</td><td>null</td><td>38.0</td><td>21.0</td><td>17.0</td><td>null</td><td>null</td><td>null</td><td>null</td><td>null</td><td>null</td><td>0.0</td><td>0.0</td><td>0.0</td><td>null</td><td>null</td><td>null</td><td>null</td><td>null</td><td>null</td><td>null</td><td>&quot;Conrad&quot;</td><td>&quot;Meagher&quot;</td><td>&quot;SEN&quot;</td><td>&quot;SEN&quot;</td><td>&quot;SEN&quot;</td><td>&quot;M&quot;</td><td>&quot;Havant&quot;</td><td>566746.0</td><td>&quot;match&quot;</td><td>1.0</td><td>&quot;no_club&quot;</td><td>13.0</td><td>24.0</td><td>18.5</td><td>2001.0</td><td>1990.0</td><td>1995.5</td></tr><tr><td>7</td><td>&quot;00:30:09&quot;</td><td>1809.0</td><td>530</td><td>&quot;John Russell&quot;</td><td>&quot;M&quot;</td><td>7.0</td><td>&quot;Portslade Hedgehoppers&quot;</td><td>true</td><td>10.0</td><td>&quot;Beach Run&quot;</td><td>2014</td><td>7</td><td>16</td><td>&quot;2014-07-16&quot;</td><td>8.0</td><td>&quot;0:03:46.125000&quot;</td><td>1.0</td><td>1.0</td><td>false</td><td>true</td><td>0.0</td><td>null</td><td>null</td><td>null</td><td>null</td><td>null</td><td>null</td><td>null</td><td>23.0</td><td>15.0</td><td>8.0</td><td>10.0</td><td>27.0</td><td>72.0</td><td>10.0</td><td>9.0</td><td>8.0</td><td>10.0</td><td>10.0</td><td>1.0</td><td>0.0</td><td>0.0</td><td>2014.0</td><td>2014.0</td><td>10.0</td><td>27.0</td><td>72.0</td><td>null</td><td>null</td><td>&quot;TBC&quot;</td><td>&quot;TBC&quot;</td><td>&quot;TBC&quot;</td><td>&quot;n&quot;</td><td>null</td><td>null</td><td>&quot;missing&quot;</td><td>0.0</td><td>&quot;not found&quot;</td><td>null</td><td>null</td><td>null</td><td>null</td><td>null</td><td>null</td></tr><tr><td>&hellip;</td><td>&hellip;</td><td>&hellip;</td><td>&hellip;</td><td>&hellip;</td><td>&hellip;</td><td>&hellip;</td><td>&hellip;</td><td>&hellip;</td><td>&hellip;</td><td>&hellip;</td><td>&hellip;</td><td>&hellip;</td><td>&hellip;</td><td>&hellip;</td><td>&hellip;</td><td>&hellip;</td><td>&hellip;</td><td>&hellip;</td><td>&hellip;</td><td>&hellip;</td><td>&hellip;</td><td>&hellip;</td><td>&hellip;</td><td>&hellip;</td><td>&hellip;</td><td>&hellip;</td><td>&hellip;</td><td>&hellip;</td><td>&hellip;</td><td>&hellip;</td><td>&hellip;</td><td>&hellip;</td><td>&hellip;</td><td>&hellip;</td><td>&hellip;</td><td>&hellip;</td><td>&hellip;</td><td>&hellip;</td><td>&hellip;</td><td>&hellip;</td><td>&hellip;</td><td>&hellip;</td><td>&hellip;</td><td>&hellip;</td><td>&hellip;</td><td>&hellip;</td><td>&hellip;</td><td>&hellip;</td><td>&hellip;</td><td>&hellip;</td><td>&hellip;</td><td>&hellip;</td><td>&hellip;</td><td>&hellip;</td><td>&hellip;</td><td>&hellip;</td><td>&hellip;</td><td>&hellip;</td><td>&hellip;</td><td>&hellip;</td><td>&hellip;</td><td>&hellip;</td><td>&hellip;</td><td>&hellip;</td></tr><tr><td>627</td><td>&quot;00:47:41&quot;</td><td>2861.0</td><td>631</td><td>&quot;Ann Savidge&quot;</td><td>&quot;F&quot;</td><td>303.0</td><td>&quot;Burgess Hill Runners&quot;</td><td>true</td><td>1.0</td><td>&quot;Worthing Lido&quot;</td><td>2016</td><td>1</td><td>31</td><td>&quot;2016-01-31&quot;</td><td>6.54</td><td>&quot;0:07:17.461774&quot;</td><td>92.0</td><td>52.0</td><td>false</td><td>false</td><td>1.0</td><td>&quot;2015.0&quot;</td><td>&quot;00:38:16&quot;</td><td>&quot;2296.0&quot;</td><td>&quot;571.0&quot;</td><td>&quot;down&quot;</td><td>&quot;09:25&quot;</td><td>&quot;565.0&quot;</td><td>93.0</td><td>40.0</td><td>53.0</td><td>341.0</td><td>441.0</td><td>571.0</td><td>4.0</td><td>2.0</td><td>1.0</td><td>7.0</td><td>10.0</td><td>2.0</td><td>1.0</td><td>2.0</td><td>2015.0</td><td>2014.0</td><td>341.0</td><td>444.0</td><td>613.0</td><td>&quot;Ann&quot;</td><td>&quot;Savidge&quot;</td><td>&quot;V65&quot;</td><td>&quot;V65&quot;</td><td>&quot;V65&quot;</td><td>&quot;W&quot;</td><td>&quot;Burgess Hill&quot;</td><td>398093.0</td><td>&quot;match&quot;</td><td>1.0</td><td>&quot;all&quot;</td><td>57.0</td><td>61.0</td><td>59.0</td><td>1959.0</td><td>1955.0</td><td>1957.0</td></tr><tr><td>628</td><td>&quot;00:54:49&quot;</td><td>3289.0</td><td>613</td><td>&quot;Christine Jones&quot;</td><td>&quot;F&quot;</td><td>304.0</td><td>&quot;Burgess Hill Runners&quot;</td><td>true</td><td>1.0</td><td>&quot;Worthing Lido&quot;</td><td>2016</td><td>1</td><td>31</td><td>&quot;2016-01-31&quot;</td><td>6.54</td><td>&quot;0:08:22.905199&quot;</td><td>93.0</td><td>53.0</td><td>false</td><td>true</td><td>0.0</td><td>null</td><td>null</td><td>null</td><td>null</td><td>null</td><td>null</td><td>null</td><td>93.0</td><td>40.0</td><td>53.0</td><td>null</td><td>null</td><td>null</td><td>null</td><td>null</td><td>null</td><td>0.0</td><td>0.0</td><td>0.0</td><td>null</td><td>null</td><td>null</td><td>null</td><td>null</td><td>null</td><td>null</td><td>&quot;Christine&quot;</td><td>&quot;Jones&quot;</td><td>&quot;V70&quot;</td><td>&quot;V70&quot;</td><td>&quot;V70&quot;</td><td>&quot;W&quot;</td><td>&quot;Burgess Hill&quot;</td><td>816627.0</td><td>&quot;match&quot;</td><td>1.0</td><td>&quot;all&quot;</td><td>62.0</td><td>66.0</td><td>64.0</td><td>1954.0</td><td>1950.0</td><td>1952.0</td></tr><tr><td>629</td><td>&quot;00:56:27&quot;</td><td>3387.0</td><td>429</td><td>&quot;Kalpna Robertson&quot;</td><td>&quot;F&quot;</td><td>305.0</td><td>&quot;Lewes AC&quot;</td><td>true</td><td>1.0</td><td>&quot;Worthing Lido&quot;</td><td>2016</td><td>1</td><td>31</td><td>&quot;2016-01-31&quot;</td><td>6.54</td><td>&quot;0:08:37.889908&quot;</td><td>34.0</td><td>14.0</td><td>false</td><td>true</td><td>0.0</td><td>null</td><td>null</td><td>null</td><td>null</td><td>null</td><td>null</td><td>null</td><td>33.0</td><td>20.0</td><td>13.0</td><td>null</td><td>null</td><td>null</td><td>null</td><td>null</td><td>null</td><td>0.0</td><td>0.0</td><td>0.0</td><td>null</td><td>null</td><td>null</td><td>null</td><td>null</td><td>null</td><td>null</td><td>null</td><td>null</td><td>&quot;TBC&quot;</td><td>&quot;TBC&quot;</td><td>&quot;TBC&quot;</td><td>&quot;n&quot;</td><td>null</td><td>null</td><td>&quot;missing&quot;</td><td>0.0</td><td>&quot;no_first_name&quot;</td><td>null</td><td>null</td><td>null</td><td>null</td><td>null</td><td>null</td></tr><tr><td>630</td><td>&quot;00:57:56&quot;</td><td>3476.0</td><td>151</td><td>&quot;Julie Abel&quot;</td><td>&quot;F&quot;</td><td>306.0</td><td>&quot;Goring Road Runners&quot;</td><td>true</td><td>1.0</td><td>&quot;Worthing Lido&quot;</td><td>2016</td><td>1</td><td>31</td><td>&quot;2016-01-31&quot;</td><td>6.54</td><td>&quot;0:08:51.498471&quot;</td><td>17.0</td><td>6.0</td><td>false</td><td>true</td><td>0.0</td><td>null</td><td>null</td><td>null</td><td>null</td><td>null</td><td>null</td><td>null</td><td>16.0</td><td>11.0</td><td>5.0</td><td>null</td><td>null</td><td>null</td><td>null</td><td>null</td><td>null</td><td>0.0</td><td>0.0</td><td>0.0</td><td>null</td><td>null</td><td>null</td><td>null</td><td>null</td><td>null</td><td>null</td><td>null</td><td>null</td><td>&quot;TBC&quot;</td><td>&quot;TBC&quot;</td><td>&quot;TBC&quot;</td><td>&quot;n&quot;</td><td>null</td><td>null</td><td>&quot;missing&quot;</td><td>0.0</td><td>&quot;not found&quot;</td><td>null</td><td>null</td><td>null</td><td>null</td><td>null</td><td>null</td></tr><tr><td>631</td><td>&quot;00:58:30&quot;</td><td>3510.0</td><td>606</td><td>&quot;Jane Harle&quot;</td><td>&quot;F&quot;</td><td>307.0</td><td>&quot;Burgess Hill Runners&quot;</td><td>true</td><td>1.0</td><td>&quot;Worthing Lido&quot;</td><td>2016</td><td>1</td><td>31</td><td>&quot;2016-01-31&quot;</td><td>6.54</td><td>&quot;0:08:56.697248&quot;</td><td>94.0</td><td>54.0</td><td>false</td><td>true</td><td>0.0</td><td>null</td><td>null</td><td>null</td><td>null</td><td>null</td><td>null</td><td>null</td><td>93.0</td><td>40.0</td><td>53.0</td><td>null</td><td>null</td><td>null</td><td>null</td><td>null</td><td>null</td><td>0.0</td><td>0.0</td><td>0.0</td><td>null</td><td>null</td><td>null</td><td>null</td><td>null</td><td>null</td><td>null</td><td>&quot;Jane&quot;</td><td>&quot;Harle&quot;</td><td>&quot;V55&quot;</td><td>&quot;V55&quot;</td><td>&quot;V55&quot;</td><td>&quot;W&quot;</td><td>&quot;Burgess Hill&quot;</td><td>812655.0</td><td>&quot;match&quot;</td><td>1.0</td><td>&quot;all&quot;</td><td>47.0</td><td>51.0</td><td>49.0</td><td>1969.0</td><td>1965.0</td><td>1967.0</td></tr></tbody></table></div>"
      ]
     },
     "metadata": {},
     "output_type": "display_data"
    }
   ],
   "execution_count": 1
  },
  {
   "metadata": {},
   "cell_type": "code",
   "outputs": [],
   "execution_count": null,
   "source": "",
   "id": "8224df07f00ac4a0"
  }
 ],
 "metadata": {
  "kernelspec": {
   "display_name": "Python 3",
   "language": "python",
   "name": "python3"
  },
  "language_info": {
   "codemirror_mode": {
    "name": "ipython",
    "version": 2
   },
   "file_extension": ".py",
   "mimetype": "text/x-python",
   "name": "python",
   "nbconvert_exporter": "python",
   "pygments_lexer": "ipython2",
   "version": "2.7.6"
  }
 },
 "nbformat": 4,
 "nbformat_minor": 5
}
