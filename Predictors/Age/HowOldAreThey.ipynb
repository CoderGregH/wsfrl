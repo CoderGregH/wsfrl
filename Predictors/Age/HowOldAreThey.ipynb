{
 "cells": [
  {
   "metadata": {
    "collapsed": true,
    "ExecuteTime": {
     "end_time": "2024-12-07T12:34:34.784546Z",
     "start_time": "2024-12-07T12:34:33.831555Z"
    }
   },
   "cell_type": "code",
   "source": [
    "import polars as pl\n",
    "import pandas as pd\n",
    "from IPython.display import display"
   ],
   "id": "initial_id",
   "outputs": [],
   "execution_count": 1
  },
  {
   "metadata": {
    "ExecuteTime": {
     "end_time": "2024-12-07T12:34:35.754367Z",
     "start_time": "2024-12-07T12:34:35.743977Z"
    }
   },
   "cell_type": "code",
   "source": "from Predictors.Pb.features import validate_features_vs_target",
   "id": "9d24335fb773595e",
   "outputs": [],
   "execution_count": 2
  },
  {
   "metadata": {
    "ExecuteTime": {
     "end_time": "2024-12-07T12:34:37.485567Z",
     "start_time": "2024-12-07T12:34:37.469413Z"
    }
   },
   "cell_type": "code",
   "source": [
    "from data.Constants.ColumnNames import WsfrlColumnOverall\n",
    "from data.Constants.ColumnNames import WsfrlColumnPriorStats\n",
    "from data.Constants.ColumnNames import WsfrlColumnForAges\n"
   ],
   "id": "ed16660277bf6130",
   "outputs": [],
   "execution_count": 3
  },
  {
   "metadata": {
    "ExecuteTime": {
     "end_time": "2024-12-07T12:34:38.993977Z",
     "start_time": "2024-12-07T12:34:38.808452Z"
    }
   },
   "cell_type": "code",
   "source": [
    "import Predictors.DataPrep as dp\n",
    "df_ages = dp.get_data()\n",
    "\n",
    "display(df_ages)"
   ],
   "id": "c28f5f658e827e46",
   "outputs": [
    {
     "data": {
      "text/plain": [
       "shape: (55_523, 65)\n",
       "┌──────────┬──────────┬───────────────┬────────────┬───┬─────────────┬─────────┬─────────┬─────────┐\n",
       "│ Position ┆ Time     ┆ time_in_secon ┆ Bib Number ┆ … ┆ average_age ┆ min_dob ┆ max_dob ┆ avg_dob │\n",
       "│ ---      ┆ ---      ┆ ds            ┆ ---        ┆   ┆ ---         ┆ ---     ┆ ---     ┆ ---     │\n",
       "│ i64      ┆ str      ┆ ---           ┆ i64        ┆   ┆ f64         ┆ f64     ┆ f64     ┆ f64     │\n",
       "│          ┆          ┆ f64           ┆            ┆   ┆             ┆         ┆         ┆         │\n",
       "╞══════════╪══════════╪═══════════════╪════════════╪═══╪═════════════╪═════════╪═════════╪═════════╡\n",
       "│ 3        ┆ 00:29:14 ┆ 1754.0        ┆ 880        ┆ … ┆ 42.0        ┆ 1974.0  ┆ 1970.0  ┆ 1972.0  │\n",
       "│ 4        ┆ 00:29:34 ┆ 1774.0        ┆ 588        ┆ … ┆ 52.0        ┆ 1964.0  ┆ 1960.0  ┆ 1962.0  │\n",
       "│ 5        ┆ 00:29:47 ┆ 1787.0        ┆ 902        ┆ … ┆ 37.0        ┆ 1979.0  ┆ 1975.0  ┆ 1977.0  │\n",
       "│ 6        ┆ 00:30:07 ┆ 1807.0        ┆ 918        ┆ … ┆ 18.5        ┆ 2001.0  ┆ 1990.0  ┆ 1995.5  │\n",
       "│ 7        ┆ 00:30:09 ┆ 1809.0        ┆ 530        ┆ … ┆ null        ┆ null    ┆ null    ┆ null    │\n",
       "│ …        ┆ …        ┆ …             ┆ …          ┆ … ┆ …           ┆ …       ┆ …       ┆ …       │\n",
       "│ 627      ┆ 00:47:41 ┆ 2861.0        ┆ 631        ┆ … ┆ 59.0        ┆ 1959.0  ┆ 1955.0  ┆ 1957.0  │\n",
       "│ 628      ┆ 00:54:49 ┆ 3289.0        ┆ 613        ┆ … ┆ 64.0        ┆ 1954.0  ┆ 1950.0  ┆ 1952.0  │\n",
       "│ 629      ┆ 00:56:27 ┆ 3387.0        ┆ 429        ┆ … ┆ null        ┆ null    ┆ null    ┆ null    │\n",
       "│ 630      ┆ 00:57:56 ┆ 3476.0        ┆ 151        ┆ … ┆ null        ┆ null    ┆ null    ┆ null    │\n",
       "│ 631      ┆ 00:58:30 ┆ 3510.0        ┆ 606        ┆ … ┆ 49.0        ┆ 1969.0  ┆ 1965.0  ┆ 1967.0  │\n",
       "└──────────┴──────────┴───────────────┴────────────┴───┴─────────────┴─────────┴─────────┴─────────┘"
      ],
      "text/html": [
       "<div><style>\n",
       ".dataframe > thead > tr,\n",
       ".dataframe > tbody > tr {\n",
       "  text-align: right;\n",
       "  white-space: pre-wrap;\n",
       "}\n",
       "</style>\n",
       "<small>shape: (55_523, 65)</small><table border=\"1\" class=\"dataframe\"><thead><tr><th>Position</th><th>Time</th><th>time_in_seconds</th><th>Bib Number</th><th>Name</th><th>Gender</th><th>Gender Position</th><th>Club</th><th>is_club_member</th><th>Points</th><th>RaceName</th><th>year</th><th>month</th><th>day</th><th>date</th><th>distance</th><th>pace</th><th>club_position</th><th>club_position_gender</th><th>is_pb</th><th>first_time_run</th><th>prior_run_attempts</th><th>prior_quickest_run_in_year</th><th>prior_quickest_run_time</th><th>prior_quickest_run_time_in_seconds</th><th>prior_quickest_run_position</th><th>prior_time_vs_current_change</th><th>prior_time_vs_current_time</th><th>prior_quickest_vs_run_time</th><th>fellow_club_mates_running</th><th>fellow_club_mates_running_male</th><th>fellow_club_mates_running_female</th><th>best_position_year_to_date</th><th>average_position_year_to_date</th><th>worst_position_year_to_date</th><th>best_points_year_to_date</th><th>average_points_year_to_date</th><th>worst_points_year_to_date</th><th>runs_in_wsfrl_year_to_date</th><th>wsfrl_tenure_in_runs</th><th>wsfrl_tenure_in_years</th><th>position_record_years_since_best</th><th>position_record_years_since_worst</th><th>position_record_best_year</th><th>position_record_worst_year</th><th>position_record_best_position_all_time</th><th>position_record_average_position_all_time</th><th>position_record_worst_position_all_time</th><th>p_of_10_firstname</th><th>p_of_10_surname</th><th>p_of_10_track_age_category</th><th>p_of_10_road_age_category</th><th>p_of_10_xc_age_category</th><th>p_of_10_gender</th><th>p_of_10_club</th><th>p_of_10_athlete_id</th><th>match_type</th><th>matches</th><th>parameters_used</th><th>min_age</th><th>max_age</th><th>average_age</th><th>min_dob</th><th>max_dob</th><th>avg_dob</th></tr><tr><td>i64</td><td>str</td><td>f64</td><td>i64</td><td>str</td><td>str</td><td>f64</td><td>str</td><td>bool</td><td>f64</td><td>str</td><td>i64</td><td>i64</td><td>i64</td><td>str</td><td>f64</td><td>str</td><td>f64</td><td>f64</td><td>bool</td><td>bool</td><td>f64</td><td>str</td><td>str</td><td>str</td><td>str</td><td>str</td><td>str</td><td>str</td><td>f64</td><td>f64</td><td>f64</td><td>f64</td><td>f64</td><td>f64</td><td>f64</td><td>f64</td><td>f64</td><td>f64</td><td>f64</td><td>f64</td><td>f64</td><td>f64</td><td>f64</td><td>f64</td><td>f64</td><td>f64</td><td>f64</td><td>str</td><td>str</td><td>str</td><td>str</td><td>str</td><td>str</td><td>str</td><td>f64</td><td>str</td><td>f64</td><td>str</td><td>f64</td><td>f64</td><td>f64</td><td>f64</td><td>f64</td><td>f64</td></tr></thead><tbody><tr><td>3</td><td>&quot;00:29:14&quot;</td><td>1754.0</td><td>880</td><td>&quot;Andrew Masters&quot;</td><td>&quot;M&quot;</td><td>3.0</td><td>&quot;Lewes AC&quot;</td><td>true</td><td>10.0</td><td>&quot;Beach Run&quot;</td><td>2014</td><td>7</td><td>16</td><td>&quot;2014-07-16&quot;</td><td>8.0</td><td>&quot;0:03:39.250000&quot;</td><td>1.0</td><td>1.0</td><td>false</td><td>true</td><td>0.0</td><td>null</td><td>null</td><td>null</td><td>null</td><td>null</td><td>null</td><td>null</td><td>24.0</td><td>16.0</td><td>8.0</td><td>12.0</td><td>12.0</td><td>12.0</td><td>10.0</td><td>10.0</td><td>10.0</td><td>1.0</td><td>1.0</td><td>1.0</td><td>0.0</td><td>0.0</td><td>2014.0</td><td>2014.0</td><td>12.0</td><td>12.0</td><td>12.0</td><td>&quot;Andrew&quot;</td><td>&quot;Masters&quot;</td><td>&quot;V50&quot;</td><td>&quot;V50&quot;</td><td>&quot;V50&quot;</td><td>&quot;M&quot;</td><td>&quot;Lewes/West 4/Wimbledon Windmil…</td><td>80881.0</td><td>&quot;match&quot;</td><td>1.0</td><td>&quot;all&quot;</td><td>40.0</td><td>44.0</td><td>42.0</td><td>1974.0</td><td>1970.0</td><td>1972.0</td></tr><tr><td>4</td><td>&quot;00:29:34&quot;</td><td>1774.0</td><td>588</td><td>&quot;Paul Cousins&quot;</td><td>&quot;M&quot;</td><td>4.0</td><td>&quot;Haywards Heath Harriers&quot;</td><td>true</td><td>10.0</td><td>&quot;Beach Run&quot;</td><td>2014</td><td>7</td><td>16</td><td>&quot;2014-07-16&quot;</td><td>8.0</td><td>&quot;0:03:41.750000&quot;</td><td>1.0</td><td>1.0</td><td>false</td><td>true</td><td>0.0</td><td>null</td><td>null</td><td>null</td><td>null</td><td>null</td><td>null</td><td>null</td><td>9.0</td><td>5.0</td><td>4.0</td><td>2.0</td><td>5.0</td><td>7.0</td><td>10.0</td><td>10.0</td><td>10.0</td><td>3.0</td><td>3.0</td><td>1.0</td><td>0.0</td><td>0.0</td><td>2014.0</td><td>2014.0</td><td>2.0</td><td>5.0</td><td>7.0</td><td>&quot;Paul&quot;</td><td>&quot;Cousins&quot;</td><td>&quot;V60&quot;</td><td>&quot;V60&quot;</td><td>&quot;V60&quot;</td><td>&quot;M&quot;</td><td>&quot;Haywards Heath&quot;</td><td>9998.0</td><td>&quot;match&quot;</td><td>1.0</td><td>&quot;all&quot;</td><td>50.0</td><td>54.0</td><td>52.0</td><td>1964.0</td><td>1960.0</td><td>1962.0</td></tr><tr><td>5</td><td>&quot;00:29:47&quot;</td><td>1787.0</td><td>902</td><td>&quot;Michael Neville&quot;</td><td>&quot;M&quot;</td><td>5.0</td><td>&quot;Chichester Runners&quot;</td><td>true</td><td>10.0</td><td>&quot;Beach Run&quot;</td><td>2014</td><td>7</td><td>16</td><td>&quot;2014-07-16&quot;</td><td>8.0</td><td>&quot;0:03:43.375000&quot;</td><td>1.0</td><td>1.0</td><td>false</td><td>true</td><td>0.0</td><td>null</td><td>null</td><td>null</td><td>null</td><td>null</td><td>null</td><td>null</td><td>38.0</td><td>21.0</td><td>17.0</td><td>null</td><td>null</td><td>null</td><td>null</td><td>null</td><td>null</td><td>0.0</td><td>0.0</td><td>0.0</td><td>null</td><td>null</td><td>null</td><td>null</td><td>null</td><td>null</td><td>null</td><td>&quot;Michael&quot;</td><td>&quot;Neville&quot;</td><td>&quot;V45&quot;</td><td>&quot;V45&quot;</td><td>&quot;V45&quot;</td><td>&quot;M&quot;</td><td>&quot;Chichester&quot;</td><td>43629.0</td><td>&quot;match&quot;</td><td>1.0</td><td>&quot;all&quot;</td><td>35.0</td><td>39.0</td><td>37.0</td><td>1979.0</td><td>1975.0</td><td>1977.0</td></tr><tr><td>6</td><td>&quot;00:30:07&quot;</td><td>1807.0</td><td>918</td><td>&quot;Conrad Meagher&quot;</td><td>&quot;M&quot;</td><td>6.0</td><td>&quot;Chichester Runners&quot;</td><td>true</td><td>10.0</td><td>&quot;Beach Run&quot;</td><td>2014</td><td>7</td><td>16</td><td>&quot;2014-07-16&quot;</td><td>8.0</td><td>&quot;0:03:45.875000&quot;</td><td>2.0</td><td>2.0</td><td>false</td><td>true</td><td>0.0</td><td>null</td><td>null</td><td>null</td><td>null</td><td>null</td><td>null</td><td>null</td><td>38.0</td><td>21.0</td><td>17.0</td><td>null</td><td>null</td><td>null</td><td>null</td><td>null</td><td>null</td><td>0.0</td><td>0.0</td><td>0.0</td><td>null</td><td>null</td><td>null</td><td>null</td><td>null</td><td>null</td><td>null</td><td>&quot;Conrad&quot;</td><td>&quot;Meagher&quot;</td><td>&quot;SEN&quot;</td><td>&quot;SEN&quot;</td><td>&quot;SEN&quot;</td><td>&quot;M&quot;</td><td>&quot;Havant&quot;</td><td>566746.0</td><td>&quot;match&quot;</td><td>1.0</td><td>&quot;no_club&quot;</td><td>13.0</td><td>24.0</td><td>18.5</td><td>2001.0</td><td>1990.0</td><td>1995.5</td></tr><tr><td>7</td><td>&quot;00:30:09&quot;</td><td>1809.0</td><td>530</td><td>&quot;John Russell&quot;</td><td>&quot;M&quot;</td><td>7.0</td><td>&quot;Portslade Hedgehoppers&quot;</td><td>true</td><td>10.0</td><td>&quot;Beach Run&quot;</td><td>2014</td><td>7</td><td>16</td><td>&quot;2014-07-16&quot;</td><td>8.0</td><td>&quot;0:03:46.125000&quot;</td><td>1.0</td><td>1.0</td><td>false</td><td>true</td><td>0.0</td><td>null</td><td>null</td><td>null</td><td>null</td><td>null</td><td>null</td><td>null</td><td>23.0</td><td>15.0</td><td>8.0</td><td>10.0</td><td>27.0</td><td>72.0</td><td>10.0</td><td>9.0</td><td>8.0</td><td>10.0</td><td>10.0</td><td>1.0</td><td>0.0</td><td>0.0</td><td>2014.0</td><td>2014.0</td><td>10.0</td><td>27.0</td><td>72.0</td><td>null</td><td>null</td><td>&quot;TBC&quot;</td><td>&quot;TBC&quot;</td><td>&quot;TBC&quot;</td><td>&quot;n&quot;</td><td>null</td><td>null</td><td>&quot;missing&quot;</td><td>0.0</td><td>&quot;not found&quot;</td><td>null</td><td>null</td><td>null</td><td>null</td><td>null</td><td>null</td></tr><tr><td>&hellip;</td><td>&hellip;</td><td>&hellip;</td><td>&hellip;</td><td>&hellip;</td><td>&hellip;</td><td>&hellip;</td><td>&hellip;</td><td>&hellip;</td><td>&hellip;</td><td>&hellip;</td><td>&hellip;</td><td>&hellip;</td><td>&hellip;</td><td>&hellip;</td><td>&hellip;</td><td>&hellip;</td><td>&hellip;</td><td>&hellip;</td><td>&hellip;</td><td>&hellip;</td><td>&hellip;</td><td>&hellip;</td><td>&hellip;</td><td>&hellip;</td><td>&hellip;</td><td>&hellip;</td><td>&hellip;</td><td>&hellip;</td><td>&hellip;</td><td>&hellip;</td><td>&hellip;</td><td>&hellip;</td><td>&hellip;</td><td>&hellip;</td><td>&hellip;</td><td>&hellip;</td><td>&hellip;</td><td>&hellip;</td><td>&hellip;</td><td>&hellip;</td><td>&hellip;</td><td>&hellip;</td><td>&hellip;</td><td>&hellip;</td><td>&hellip;</td><td>&hellip;</td><td>&hellip;</td><td>&hellip;</td><td>&hellip;</td><td>&hellip;</td><td>&hellip;</td><td>&hellip;</td><td>&hellip;</td><td>&hellip;</td><td>&hellip;</td><td>&hellip;</td><td>&hellip;</td><td>&hellip;</td><td>&hellip;</td><td>&hellip;</td><td>&hellip;</td><td>&hellip;</td><td>&hellip;</td><td>&hellip;</td></tr><tr><td>627</td><td>&quot;00:47:41&quot;</td><td>2861.0</td><td>631</td><td>&quot;Ann Savidge&quot;</td><td>&quot;F&quot;</td><td>303.0</td><td>&quot;Burgess Hill Runners&quot;</td><td>true</td><td>1.0</td><td>&quot;Worthing Lido&quot;</td><td>2016</td><td>1</td><td>31</td><td>&quot;2016-01-31&quot;</td><td>6.54</td><td>&quot;0:07:17.461774&quot;</td><td>92.0</td><td>52.0</td><td>false</td><td>false</td><td>1.0</td><td>&quot;2015.0&quot;</td><td>&quot;00:38:16&quot;</td><td>&quot;2296.0&quot;</td><td>&quot;571.0&quot;</td><td>&quot;down&quot;</td><td>&quot;09:25&quot;</td><td>&quot;565.0&quot;</td><td>93.0</td><td>40.0</td><td>53.0</td><td>341.0</td><td>441.0</td><td>571.0</td><td>4.0</td><td>2.0</td><td>1.0</td><td>7.0</td><td>10.0</td><td>2.0</td><td>1.0</td><td>2.0</td><td>2015.0</td><td>2014.0</td><td>341.0</td><td>444.0</td><td>613.0</td><td>&quot;Ann&quot;</td><td>&quot;Savidge&quot;</td><td>&quot;V65&quot;</td><td>&quot;V65&quot;</td><td>&quot;V65&quot;</td><td>&quot;W&quot;</td><td>&quot;Burgess Hill&quot;</td><td>398093.0</td><td>&quot;match&quot;</td><td>1.0</td><td>&quot;all&quot;</td><td>57.0</td><td>61.0</td><td>59.0</td><td>1959.0</td><td>1955.0</td><td>1957.0</td></tr><tr><td>628</td><td>&quot;00:54:49&quot;</td><td>3289.0</td><td>613</td><td>&quot;Christine Jones&quot;</td><td>&quot;F&quot;</td><td>304.0</td><td>&quot;Burgess Hill Runners&quot;</td><td>true</td><td>1.0</td><td>&quot;Worthing Lido&quot;</td><td>2016</td><td>1</td><td>31</td><td>&quot;2016-01-31&quot;</td><td>6.54</td><td>&quot;0:08:22.905199&quot;</td><td>93.0</td><td>53.0</td><td>false</td><td>true</td><td>0.0</td><td>null</td><td>null</td><td>null</td><td>null</td><td>null</td><td>null</td><td>null</td><td>93.0</td><td>40.0</td><td>53.0</td><td>null</td><td>null</td><td>null</td><td>null</td><td>null</td><td>null</td><td>0.0</td><td>0.0</td><td>0.0</td><td>null</td><td>null</td><td>null</td><td>null</td><td>null</td><td>null</td><td>null</td><td>&quot;Christine&quot;</td><td>&quot;Jones&quot;</td><td>&quot;V70&quot;</td><td>&quot;V70&quot;</td><td>&quot;V70&quot;</td><td>&quot;W&quot;</td><td>&quot;Burgess Hill&quot;</td><td>816627.0</td><td>&quot;match&quot;</td><td>1.0</td><td>&quot;all&quot;</td><td>62.0</td><td>66.0</td><td>64.0</td><td>1954.0</td><td>1950.0</td><td>1952.0</td></tr><tr><td>629</td><td>&quot;00:56:27&quot;</td><td>3387.0</td><td>429</td><td>&quot;Kalpna Robertson&quot;</td><td>&quot;F&quot;</td><td>305.0</td><td>&quot;Lewes AC&quot;</td><td>true</td><td>1.0</td><td>&quot;Worthing Lido&quot;</td><td>2016</td><td>1</td><td>31</td><td>&quot;2016-01-31&quot;</td><td>6.54</td><td>&quot;0:08:37.889908&quot;</td><td>34.0</td><td>14.0</td><td>false</td><td>true</td><td>0.0</td><td>null</td><td>null</td><td>null</td><td>null</td><td>null</td><td>null</td><td>null</td><td>33.0</td><td>20.0</td><td>13.0</td><td>null</td><td>null</td><td>null</td><td>null</td><td>null</td><td>null</td><td>0.0</td><td>0.0</td><td>0.0</td><td>null</td><td>null</td><td>null</td><td>null</td><td>null</td><td>null</td><td>null</td><td>null</td><td>null</td><td>&quot;TBC&quot;</td><td>&quot;TBC&quot;</td><td>&quot;TBC&quot;</td><td>&quot;n&quot;</td><td>null</td><td>null</td><td>&quot;missing&quot;</td><td>0.0</td><td>&quot;no_first_name&quot;</td><td>null</td><td>null</td><td>null</td><td>null</td><td>null</td><td>null</td></tr><tr><td>630</td><td>&quot;00:57:56&quot;</td><td>3476.0</td><td>151</td><td>&quot;Julie Abel&quot;</td><td>&quot;F&quot;</td><td>306.0</td><td>&quot;Goring Road Runners&quot;</td><td>true</td><td>1.0</td><td>&quot;Worthing Lido&quot;</td><td>2016</td><td>1</td><td>31</td><td>&quot;2016-01-31&quot;</td><td>6.54</td><td>&quot;0:08:51.498471&quot;</td><td>17.0</td><td>6.0</td><td>false</td><td>true</td><td>0.0</td><td>null</td><td>null</td><td>null</td><td>null</td><td>null</td><td>null</td><td>null</td><td>16.0</td><td>11.0</td><td>5.0</td><td>null</td><td>null</td><td>null</td><td>null</td><td>null</td><td>null</td><td>0.0</td><td>0.0</td><td>0.0</td><td>null</td><td>null</td><td>null</td><td>null</td><td>null</td><td>null</td><td>null</td><td>null</td><td>null</td><td>&quot;TBC&quot;</td><td>&quot;TBC&quot;</td><td>&quot;TBC&quot;</td><td>&quot;n&quot;</td><td>null</td><td>null</td><td>&quot;missing&quot;</td><td>0.0</td><td>&quot;not found&quot;</td><td>null</td><td>null</td><td>null</td><td>null</td><td>null</td><td>null</td></tr><tr><td>631</td><td>&quot;00:58:30&quot;</td><td>3510.0</td><td>606</td><td>&quot;Jane Harle&quot;</td><td>&quot;F&quot;</td><td>307.0</td><td>&quot;Burgess Hill Runners&quot;</td><td>true</td><td>1.0</td><td>&quot;Worthing Lido&quot;</td><td>2016</td><td>1</td><td>31</td><td>&quot;2016-01-31&quot;</td><td>6.54</td><td>&quot;0:08:56.697248&quot;</td><td>94.0</td><td>54.0</td><td>false</td><td>true</td><td>0.0</td><td>null</td><td>null</td><td>null</td><td>null</td><td>null</td><td>null</td><td>null</td><td>93.0</td><td>40.0</td><td>53.0</td><td>null</td><td>null</td><td>null</td><td>null</td><td>null</td><td>null</td><td>0.0</td><td>0.0</td><td>0.0</td><td>null</td><td>null</td><td>null</td><td>null</td><td>null</td><td>null</td><td>null</td><td>&quot;Jane&quot;</td><td>&quot;Harle&quot;</td><td>&quot;V55&quot;</td><td>&quot;V55&quot;</td><td>&quot;V55&quot;</td><td>&quot;W&quot;</td><td>&quot;Burgess Hill&quot;</td><td>812655.0</td><td>&quot;match&quot;</td><td>1.0</td><td>&quot;all&quot;</td><td>47.0</td><td>51.0</td><td>49.0</td><td>1969.0</td><td>1965.0</td><td>1967.0</td></tr></tbody></table></div>"
      ]
     },
     "metadata": {},
     "output_type": "display_data"
    }
   ],
   "execution_count": 4
  },
  {
   "metadata": {
    "ExecuteTime": {
     "end_time": "2024-12-07T12:34:43.079298Z",
     "start_time": "2024-12-07T12:34:43.074804Z"
    }
   },
   "cell_type": "code",
   "source": [
    "target_columns = [\n",
    "    str(WsfrlColumnForAges.AgeAvgRange), \n",
    "    str(WsfrlColumnForAges.AgeMinRange), \n",
    "    str(WsfrlColumnForAges.AgeMaxRange),\n",
    "    str(WsfrlColumnForAges.AgeCategoryRoad),\n",
    "    ]\n"
   ],
   "id": "38a084e110eefdaf",
   "outputs": [],
   "execution_count": 5
  },
  {
   "metadata": {
    "ExecuteTime": {
     "end_time": "2024-12-07T12:34:45.445318Z",
     "start_time": "2024-12-07T12:34:45.382824Z"
    }
   },
   "cell_type": "code",
   "source": [
    "# Remove all rows where the year is 2014\n",
    "df_ages = df_ages.filter(\n",
    "     (pl.col(WsfrlColumnForAges.AgeCategoryRoad) != \"TBC\")\n",
    "    & (pl.col('year') != 2014)\n",
    "    & pl.col(WsfrlColumnForAges.AgeAvgRange).is_not_null()\n",
    "    & pl.col(WsfrlColumnForAges.AgeMinRange).is_not_null()\n",
    "    & pl.col(WsfrlColumnForAges.AgeMaxRange).is_not_null()\n",
    ")\n"
   ],
   "id": "511debae6f695f95",
   "outputs": [],
   "execution_count": 6
  },
  {
   "metadata": {
    "ExecuteTime": {
     "end_time": "2024-12-07T12:34:47.137059Z",
     "start_time": "2024-12-07T12:34:47.123218Z"
    }
   },
   "cell_type": "code",
   "source": [
    " # Pivot the DataFrame\n",
    "pivot_df = df_ages.pivot(\n",
    "    values=[WsfrlColumnForAges.AgeCategoryRoad],\n",
    "    index=\"year\",\n",
    "    on=WsfrlColumnForAges.AgeCategoryRoad,\n",
    "    aggregate_function=\"len\"\n",
    ").sort(\"year\")\n",
    "\n",
    "display(pivot_df)\n"
   ],
   "id": "8224df07f00ac4a0",
   "outputs": [
    {
     "data": {
      "text/plain": [
       "shape: (9, 19)\n",
       "┌──────┬─────┬─────┬─────┬───┬──────┬─────┬──────┬─────┐\n",
       "│ year ┆ V45 ┆ SEN ┆ V35 ┆ … ┆ U13  ┆ U17 ┆ U11  ┆ U15 │\n",
       "│ ---  ┆ --- ┆ --- ┆ --- ┆   ┆ ---  ┆ --- ┆ ---  ┆ --- │\n",
       "│ i64  ┆ u32 ┆ u32 ┆ u32 ┆   ┆ u32  ┆ u32 ┆ u32  ┆ u32 │\n",
       "╞══════╪═════╪═════╪═════╪═══╪══════╪═════╪══════╪═════╡\n",
       "│ 2015 ┆ 617 ┆ 256 ┆ 232 ┆ … ┆ 6    ┆ 3   ┆ null ┆ 5   │\n",
       "│ 2016 ┆ 674 ┆ 257 ┆ 298 ┆ … ┆ 12   ┆ 5   ┆ null ┆ 5   │\n",
       "│ 2017 ┆ 513 ┆ 250 ┆ 252 ┆ … ┆ 19   ┆ 5   ┆ 1    ┆ 5   │\n",
       "│ 2018 ┆ 472 ┆ 298 ┆ 267 ┆ … ┆ 3    ┆ 10  ┆ null ┆ 11  │\n",
       "│ 2019 ┆ 551 ┆ 320 ┆ 248 ┆ … ┆ 2    ┆ 8   ┆ null ┆ 8   │\n",
       "│ 2020 ┆ 39  ┆ 15  ┆ 16  ┆ … ┆ 1    ┆ 1   ┆ null ┆ 1   │\n",
       "│ 2022 ┆ 384 ┆ 236 ┆ 201 ┆ … ┆ null ┆ 2   ┆ 6    ┆ 7   │\n",
       "│ 2023 ┆ 446 ┆ 278 ┆ 191 ┆ … ┆ null ┆ 7   ┆ 2    ┆ 9   │\n",
       "│ 2024 ┆ 449 ┆ 298 ┆ 242 ┆ … ┆ 8    ┆ 17  ┆ null ┆ 15  │\n",
       "└──────┴─────┴─────┴─────┴───┴──────┴─────┴──────┴─────┘"
      ],
      "text/html": [
       "<div><style>\n",
       ".dataframe > thead > tr,\n",
       ".dataframe > tbody > tr {\n",
       "  text-align: right;\n",
       "  white-space: pre-wrap;\n",
       "}\n",
       "</style>\n",
       "<small>shape: (9, 19)</small><table border=\"1\" class=\"dataframe\"><thead><tr><th>year</th><th>V45</th><th>SEN</th><th>V35</th><th>V60</th><th>V50</th><th>V40</th><th>V55</th><th>V65</th><th>V70</th><th>U23</th><th>V80</th><th>V75</th><th>U20</th><th>V85</th><th>U13</th><th>U17</th><th>U11</th><th>U15</th></tr><tr><td>i64</td><td>u32</td><td>u32</td><td>u32</td><td>u32</td><td>u32</td><td>u32</td><td>u32</td><td>u32</td><td>u32</td><td>u32</td><td>u32</td><td>u32</td><td>u32</td><td>u32</td><td>u32</td><td>u32</td><td>u32</td><td>u32</td></tr></thead><tbody><tr><td>2015</td><td>617</td><td>256</td><td>232</td><td>782</td><td>639</td><td>339</td><td>761</td><td>656</td><td>394</td><td>3</td><td>112</td><td>214</td><td>14</td><td>36</td><td>6</td><td>3</td><td>null</td><td>5</td></tr><tr><td>2016</td><td>674</td><td>257</td><td>298</td><td>841</td><td>670</td><td>399</td><td>753</td><td>632</td><td>397</td><td>4</td><td>81</td><td>209</td><td>11</td><td>26</td><td>12</td><td>5</td><td>null</td><td>5</td></tr><tr><td>2017</td><td>513</td><td>250</td><td>252</td><td>754</td><td>616</td><td>291</td><td>691</td><td>529</td><td>303</td><td>34</td><td>54</td><td>168</td><td>2</td><td>26</td><td>19</td><td>5</td><td>1</td><td>5</td></tr><tr><td>2018</td><td>472</td><td>298</td><td>267</td><td>688</td><td>661</td><td>358</td><td>699</td><td>492</td><td>243</td><td>22</td><td>43</td><td>180</td><td>2</td><td>21</td><td>3</td><td>10</td><td>null</td><td>11</td></tr><tr><td>2019</td><td>551</td><td>320</td><td>248</td><td>726</td><td>754</td><td>331</td><td>814</td><td>500</td><td>271</td><td>60</td><td>32</td><td>175</td><td>3</td><td>21</td><td>2</td><td>8</td><td>null</td><td>8</td></tr><tr><td>2020</td><td>39</td><td>15</td><td>16</td><td>42</td><td>56</td><td>31</td><td>57</td><td>25</td><td>13</td><td>5</td><td>2</td><td>9</td><td>null</td><td>null</td><td>1</td><td>1</td><td>null</td><td>1</td></tr><tr><td>2022</td><td>384</td><td>236</td><td>201</td><td>612</td><td>566</td><td>281</td><td>561</td><td>347</td><td>162</td><td>21</td><td>12</td><td>91</td><td>31</td><td>6</td><td>null</td><td>2</td><td>6</td><td>7</td></tr><tr><td>2023</td><td>446</td><td>278</td><td>191</td><td>560</td><td>503</td><td>283</td><td>427</td><td>323</td><td>134</td><td>26</td><td>14</td><td>80</td><td>29</td><td>5</td><td>null</td><td>7</td><td>2</td><td>9</td></tr><tr><td>2024</td><td>449</td><td>298</td><td>242</td><td>575</td><td>637</td><td>347</td><td>594</td><td>295</td><td>179</td><td>26</td><td>9</td><td>68</td><td>29</td><td>1</td><td>8</td><td>17</td><td>null</td><td>15</td></tr></tbody></table></div>"
      ]
     },
     "metadata": {},
     "output_type": "display_data"
    }
   ],
   "execution_count": 7
  },
  {
   "metadata": {
    "ExecuteTime": {
     "end_time": "2024-12-07T12:34:49.697062Z",
     "start_time": "2024-12-07T12:34:49.558064Z"
    }
   },
   "cell_type": "code",
   "source": [
    "df_ages = df_ages.to_dummies(\n",
    "    [WsfrlColumnOverall.Gender, WsfrlColumnOverall.Club], drop_first=True \n",
    ")\n",
    "display(df_ages)\n",
    "\n",
    "df_ages.to_pandas()"
   ],
   "id": "f32cd60e8f9235c3",
   "outputs": [
    {
     "data": {
      "text/plain": [
       "shape: (35_095, 171)\n",
       "┌──────────┬──────────┬───────────────┬────────────┬───┬─────────────┬─────────┬─────────┬─────────┐\n",
       "│ Position ┆ Time     ┆ time_in_secon ┆ Bib Number ┆ … ┆ average_age ┆ min_dob ┆ max_dob ┆ avg_dob │\n",
       "│ ---      ┆ ---      ┆ ds            ┆ ---        ┆   ┆ ---         ┆ ---     ┆ ---     ┆ ---     │\n",
       "│ i64      ┆ str      ┆ ---           ┆ i64        ┆   ┆ f64         ┆ f64     ┆ f64     ┆ f64     │\n",
       "│          ┆          ┆ f64           ┆            ┆   ┆             ┆         ┆         ┆         │\n",
       "╞══════════╪══════════╪═══════════════╪════════════╪═══╪═════════════╪═════════╪═════════╪═════════╡\n",
       "│ 3        ┆ 00:28:24 ┆ 1704.0        ┆ 328        ┆ … ┆ 38.0        ┆ 1979.0  ┆ 1975.0  ┆ 1977.0  │\n",
       "│ 5        ┆ 00:28:34 ┆ 1714.0        ┆ 461        ┆ … ┆ 19.5        ┆ 2001.0  ┆ 1990.0  ┆ 1995.5  │\n",
       "│ 6        ┆ 00:28:50 ┆ 1730.0        ┆ 254        ┆ … ┆ 28.0        ┆ 1989.0  ┆ 1985.0  ┆ 1987.0  │\n",
       "│ 7        ┆ 00:29:11 ┆ 1751.0        ┆ 167        ┆ … ┆ 53.0        ┆ 1964.0  ┆ 1960.0  ┆ 1962.0  │\n",
       "│ 9        ┆ 00:29:24 ┆ 1764.0        ┆ 376        ┆ … ┆ 19.5        ┆ 2001.0  ┆ 1990.0  ┆ 1995.5  │\n",
       "│ …        ┆ …        ┆ …             ┆ …          ┆ … ┆ …           ┆ …       ┆ …       ┆ …       │\n",
       "│ 624      ┆ 00:49:33 ┆ 2973.0        ┆ 67         ┆ … ┆ 39.0        ┆ 1979.0  ┆ 1975.0  ┆ 1977.0  │\n",
       "│ 626      ┆ 00:50:17 ┆ 3017.0        ┆ 612        ┆ … ┆ 64.0        ┆ 1954.0  ┆ 1950.0  ┆ 1952.0  │\n",
       "│ 627      ┆ 00:47:41 ┆ 2861.0        ┆ 631        ┆ … ┆ 59.0        ┆ 1959.0  ┆ 1955.0  ┆ 1957.0  │\n",
       "│ 628      ┆ 00:54:49 ┆ 3289.0        ┆ 613        ┆ … ┆ 64.0        ┆ 1954.0  ┆ 1950.0  ┆ 1952.0  │\n",
       "│ 631      ┆ 00:58:30 ┆ 3510.0        ┆ 606        ┆ … ┆ 49.0        ┆ 1969.0  ┆ 1965.0  ┆ 1967.0  │\n",
       "└──────────┴──────────┴───────────────┴────────────┴───┴─────────────┴─────────┴─────────┴─────────┘"
      ],
      "text/html": [
       "<div><style>\n",
       ".dataframe > thead > tr,\n",
       ".dataframe > tbody > tr {\n",
       "  text-align: right;\n",
       "  white-space: pre-wrap;\n",
       "}\n",
       "</style>\n",
       "<small>shape: (35_095, 171)</small><table border=\"1\" class=\"dataframe\"><thead><tr><th>Position</th><th>Time</th><th>time_in_seconds</th><th>Bib Number</th><th>Name</th><th>Gender_F</th><th>Gender Position</th><th>Club_Almost Athletes</th><th>Club_Arena 80 AC</th><th>Club_Arunners</th><th>Club_Ashford &amp; District  RRC</th><th>Club_Bexhill Runners</th><th>Club_Bitton Road Runners</th><th>Club_Blackburn Harriers</th><th>Club_Blackburn Harriers &amp; AC</th><th>Club_Bognor Tri Club</th><th>Club_Bridport Runners</th><th>Club_Brighton &amp; Hove</th><th>Club_Brighton &amp; Hove Canicross Runners</th><th>Club_Brighton Multisports Club</th><th>Club_Bure Valley Harriers</th><th>Club_Burgess Hill Runners</th><th>Club_C L C Striders</th><th>Club_Cambridge Univ Hare &amp; Hounds</th><th>Club_Chichester Runners</th><th>Club_Chichester Westgate Tri Club</th><th>Club_Clowne Road Runners</th><th>Club_Crawley AC</th><th>Club_Crawley Run Crew</th><th>Club_Crawley Wheelers</th><th>Club_Crowborough</th><th>Club_Datchet Dashers</th><th>Club_Disqual.</th><th>Club_Ealing Eagles</th><th>Club_Eaton and Windsor</th><th>Club_Elvet Striders </th><th>Club_Epsom &amp; Ewell Harriers</th><th>&hellip;</th><th>prior_quickest_vs_run_time</th><th>fellow_club_mates_running</th><th>fellow_club_mates_running_male</th><th>fellow_club_mates_running_female</th><th>best_position_year_to_date</th><th>average_position_year_to_date</th><th>worst_position_year_to_date</th><th>best_points_year_to_date</th><th>average_points_year_to_date</th><th>worst_points_year_to_date</th><th>runs_in_wsfrl_year_to_date</th><th>wsfrl_tenure_in_runs</th><th>wsfrl_tenure_in_years</th><th>position_record_years_since_best</th><th>position_record_years_since_worst</th><th>position_record_best_year</th><th>position_record_worst_year</th><th>position_record_best_position_all_time</th><th>position_record_average_position_all_time</th><th>position_record_worst_position_all_time</th><th>p_of_10_firstname</th><th>p_of_10_surname</th><th>p_of_10_track_age_category</th><th>p_of_10_road_age_category</th><th>p_of_10_xc_age_category</th><th>p_of_10_gender</th><th>p_of_10_club</th><th>p_of_10_athlete_id</th><th>match_type</th><th>matches</th><th>parameters_used</th><th>min_age</th><th>max_age</th><th>average_age</th><th>min_dob</th><th>max_dob</th><th>avg_dob</th></tr><tr><td>i64</td><td>str</td><td>f64</td><td>i64</td><td>str</td><td>u8</td><td>f64</td><td>u8</td><td>u8</td><td>u8</td><td>u8</td><td>u8</td><td>u8</td><td>u8</td><td>u8</td><td>u8</td><td>u8</td><td>u8</td><td>u8</td><td>u8</td><td>u8</td><td>u8</td><td>u8</td><td>u8</td><td>u8</td><td>u8</td><td>u8</td><td>u8</td><td>u8</td><td>u8</td><td>u8</td><td>u8</td><td>u8</td><td>u8</td><td>u8</td><td>u8</td><td>u8</td><td>&hellip;</td><td>str</td><td>f64</td><td>f64</td><td>f64</td><td>f64</td><td>f64</td><td>f64</td><td>f64</td><td>f64</td><td>f64</td><td>f64</td><td>f64</td><td>f64</td><td>f64</td><td>f64</td><td>f64</td><td>f64</td><td>f64</td><td>f64</td><td>f64</td><td>str</td><td>str</td><td>str</td><td>str</td><td>str</td><td>str</td><td>str</td><td>f64</td><td>str</td><td>f64</td><td>str</td><td>f64</td><td>f64</td><td>f64</td><td>f64</td><td>f64</td><td>f64</td></tr></thead><tbody><tr><td>3</td><td>&quot;00:28:24&quot;</td><td>1704.0</td><td>328</td><td>&quot;Andy Massingale&quot;</td><td>0</td><td>3.0</td><td>0</td><td>0</td><td>0</td><td>0</td><td>0</td><td>0</td><td>0</td><td>0</td><td>0</td><td>0</td><td>0</td><td>0</td><td>0</td><td>0</td><td>0</td><td>0</td><td>0</td><td>0</td><td>0</td><td>0</td><td>0</td><td>0</td><td>0</td><td>0</td><td>0</td><td>0</td><td>0</td><td>0</td><td>0</td><td>0</td><td>&hellip;</td><td>null</td><td>15.0</td><td>9.0</td><td>6.0</td><td>3.0</td><td>8.0</td><td>20.0</td><td>10.0</td><td>10.0</td><td>10.0</td><td>4.0</td><td>4.0</td><td>2.0</td><td>1.0</td><td>1.0</td><td>2014.0</td><td>2014.0</td><td>3.0</td><td>8.0</td><td>20.0</td><td>&quot;Andy&quot;</td><td>&quot;Massingale&quot;</td><td>&quot;V45&quot;</td><td>&quot;V45&quot;</td><td>&quot;V45&quot;</td><td>&quot;M&quot;</td><td>&quot;Henfield&quot;</td><td>635858.0</td><td>&quot;match&quot;</td><td>1.0</td><td>&quot;all&quot;</td><td>36.0</td><td>40.0</td><td>38.0</td><td>1979.0</td><td>1975.0</td><td>1977.0</td></tr><tr><td>5</td><td>&quot;00:28:34&quot;</td><td>1714.0</td><td>461</td><td>&quot;Tiarnan Cotter&quot;</td><td>0</td><td>5.0</td><td>0</td><td>0</td><td>0</td><td>0</td><td>0</td><td>0</td><td>0</td><td>0</td><td>0</td><td>0</td><td>0</td><td>0</td><td>0</td><td>0</td><td>0</td><td>0</td><td>0</td><td>0</td><td>0</td><td>0</td><td>0</td><td>0</td><td>0</td><td>0</td><td>0</td><td>0</td><td>0</td><td>0</td><td>0</td><td>0</td><td>&hellip;</td><td>null</td><td>33.0</td><td>14.0</td><td>19.0</td><td>15.0</td><td>19.0</td><td>23.0</td><td>10.0</td><td>10.0</td><td>10.0</td><td>2.0</td><td>2.0</td><td>2.0</td><td>0.0</td><td>1.0</td><td>2015.0</td><td>2014.0</td><td>15.0</td><td>19.0</td><td>23.0</td><td>&quot;Tiarnan&quot;</td><td>&quot;Cotter&quot;</td><td>&quot;SEN&quot;</td><td>&quot;SEN&quot;</td><td>&quot;SEN&quot;</td><td>&quot;M&quot;</td><td>&quot;Clapham Chasers&quot;</td><td>699584.0</td><td>&quot;match&quot;</td><td>1.0</td><td>&quot;no_club&quot;</td><td>14.0</td><td>25.0</td><td>19.5</td><td>2001.0</td><td>1990.0</td><td>1995.5</td></tr><tr><td>6</td><td>&quot;00:28:50&quot;</td><td>1730.0</td><td>254</td><td>&quot;Paul Sargent&quot;</td><td>0</td><td>6.0</td><td>0</td><td>0</td><td>0</td><td>0</td><td>0</td><td>0</td><td>0</td><td>0</td><td>0</td><td>0</td><td>0</td><td>0</td><td>0</td><td>0</td><td>1</td><td>0</td><td>0</td><td>0</td><td>0</td><td>0</td><td>0</td><td>0</td><td>0</td><td>0</td><td>0</td><td>0</td><td>0</td><td>0</td><td>0</td><td>0</td><td>&hellip;</td><td>null</td><td>47.0</td><td>28.0</td><td>19.0</td><td>6.0</td><td>7.0</td><td>8.0</td><td>10.0</td><td>10.0</td><td>10.0</td><td>2.0</td><td>3.0</td><td>2.0</td><td>1.0</td><td>1.0</td><td>2014.0</td><td>2014.0</td><td>6.0</td><td>22.0</td><td>54.0</td><td>&quot;Paul&quot;</td><td>&quot;Sargent&quot;</td><td>&quot;V35&quot;</td><td>&quot;V35&quot;</td><td>&quot;V35&quot;</td><td>&quot;M&quot;</td><td>&quot;Burgess Hill&quot;</td><td>127564.0</td><td>&quot;match&quot;</td><td>1.0</td><td>&quot;all&quot;</td><td>26.0</td><td>30.0</td><td>28.0</td><td>1989.0</td><td>1985.0</td><td>1987.0</td></tr><tr><td>7</td><td>&quot;00:29:11&quot;</td><td>1751.0</td><td>167</td><td>&quot;Paul Cousins&quot;</td><td>0</td><td>7.0</td><td>0</td><td>0</td><td>0</td><td>0</td><td>0</td><td>0</td><td>0</td><td>0</td><td>0</td><td>0</td><td>0</td><td>0</td><td>0</td><td>0</td><td>0</td><td>0</td><td>0</td><td>0</td><td>0</td><td>0</td><td>0</td><td>0</td><td>0</td><td>0</td><td>0</td><td>0</td><td>0</td><td>0</td><td>0</td><td>0</td><td>&hellip;</td><td>&quot;-23.0&quot;</td><td>13.0</td><td>8.0</td><td>5.0</td><td>2.0</td><td>20.0</td><td>132.0</td><td>10.0</td><td>9.0</td><td>7.0</td><td>9.0</td><td>10.0</td><td>2.0</td><td>1.0</td><td>0.0</td><td>2014.0</td><td>2015.0</td><td>2.0</td><td>19.0</td><td>132.0</td><td>&quot;Paul&quot;</td><td>&quot;Cousins&quot;</td><td>&quot;V60&quot;</td><td>&quot;V60&quot;</td><td>&quot;V60&quot;</td><td>&quot;M&quot;</td><td>&quot;Haywards Heath&quot;</td><td>9998.0</td><td>&quot;match&quot;</td><td>1.0</td><td>&quot;all&quot;</td><td>51.0</td><td>55.0</td><td>53.0</td><td>1964.0</td><td>1960.0</td><td>1962.0</td></tr><tr><td>9</td><td>&quot;00:29:24&quot;</td><td>1764.0</td><td>376</td><td>&quot;Henry Teague-Smith&quot;</td><td>0</td><td>9.0</td><td>0</td><td>0</td><td>0</td><td>0</td><td>0</td><td>0</td><td>0</td><td>0</td><td>0</td><td>0</td><td>0</td><td>0</td><td>0</td><td>0</td><td>0</td><td>0</td><td>0</td><td>0</td><td>0</td><td>0</td><td>0</td><td>0</td><td>0</td><td>0</td><td>0</td><td>0</td><td>0</td><td>0</td><td>0</td><td>0</td><td>&hellip;</td><td>null</td><td>29.0</td><td>18.0</td><td>11.0</td><td>5.0</td><td>7.0</td><td>10.0</td><td>10.0</td><td>10.0</td><td>10.0</td><td>4.0</td><td>4.0</td><td>2.0</td><td>1.0</td><td>0.0</td><td>2014.0</td><td>2015.0</td><td>5.0</td><td>7.0</td><td>10.0</td><td>&quot;Henry&quot;</td><td>&quot;Teague-Smith&quot;</td><td>&quot;SEN&quot;</td><td>&quot;SEN&quot;</td><td>&quot;SEN&quot;</td><td>&quot;M&quot;</td><td>&quot;Worthing&quot;</td><td>80465.0</td><td>&quot;match&quot;</td><td>1.0</td><td>&quot;all&quot;</td><td>14.0</td><td>25.0</td><td>19.5</td><td>2001.0</td><td>1990.0</td><td>1995.5</td></tr><tr><td>&hellip;</td><td>&hellip;</td><td>&hellip;</td><td>&hellip;</td><td>&hellip;</td><td>&hellip;</td><td>&hellip;</td><td>&hellip;</td><td>&hellip;</td><td>&hellip;</td><td>&hellip;</td><td>&hellip;</td><td>&hellip;</td><td>&hellip;</td><td>&hellip;</td><td>&hellip;</td><td>&hellip;</td><td>&hellip;</td><td>&hellip;</td><td>&hellip;</td><td>&hellip;</td><td>&hellip;</td><td>&hellip;</td><td>&hellip;</td><td>&hellip;</td><td>&hellip;</td><td>&hellip;</td><td>&hellip;</td><td>&hellip;</td><td>&hellip;</td><td>&hellip;</td><td>&hellip;</td><td>&hellip;</td><td>&hellip;</td><td>&hellip;</td><td>&hellip;</td><td>&hellip;</td><td>&hellip;</td><td>&hellip;</td><td>&hellip;</td><td>&hellip;</td><td>&hellip;</td><td>&hellip;</td><td>&hellip;</td><td>&hellip;</td><td>&hellip;</td><td>&hellip;</td><td>&hellip;</td><td>&hellip;</td><td>&hellip;</td><td>&hellip;</td><td>&hellip;</td><td>&hellip;</td><td>&hellip;</td><td>&hellip;</td><td>&hellip;</td><td>&hellip;</td><td>&hellip;</td><td>&hellip;</td><td>&hellip;</td><td>&hellip;</td><td>&hellip;</td><td>&hellip;</td><td>&hellip;</td><td>&hellip;</td><td>&hellip;</td><td>&hellip;</td><td>&hellip;</td><td>&hellip;</td><td>&hellip;</td><td>&hellip;</td><td>&hellip;</td><td>&hellip;</td><td>&hellip;</td><td>&hellip;</td></tr><tr><td>624</td><td>&quot;00:49:33&quot;</td><td>2973.0</td><td>67</td><td>&quot;Tina Massiah&quot;</td><td>1</td><td>300.0</td><td>0</td><td>0</td><td>0</td><td>0</td><td>0</td><td>0</td><td>0</td><td>0</td><td>0</td><td>0</td><td>0</td><td>0</td><td>0</td><td>0</td><td>0</td><td>0</td><td>0</td><td>0</td><td>0</td><td>0</td><td>0</td><td>0</td><td>0</td><td>0</td><td>0</td><td>0</td><td>0</td><td>0</td><td>0</td><td>0</td><td>&hellip;</td><td>null</td><td>72.0</td><td>35.0</td><td>37.0</td><td>null</td><td>null</td><td>null</td><td>null</td><td>null</td><td>null</td><td>0.0</td><td>0.0</td><td>0.0</td><td>null</td><td>null</td><td>null</td><td>null</td><td>null</td><td>null</td><td>null</td><td>&quot;Tina&quot;</td><td>&quot;Massiah&quot;</td><td>&quot;V45&quot;</td><td>&quot;V45&quot;</td><td>&quot;V45&quot;</td><td>&quot;W&quot;</td><td>&quot;Crawley Run Crew&quot;</td><td>891102.0</td><td>&quot;match&quot;</td><td>1.0</td><td>&quot;no_club&quot;</td><td>37.0</td><td>41.0</td><td>39.0</td><td>1979.0</td><td>1975.0</td><td>1977.0</td></tr><tr><td>626</td><td>&quot;00:50:17&quot;</td><td>3017.0</td><td>612</td><td>&quot;Margaret John&quot;</td><td>1</td><td>302.0</td><td>0</td><td>0</td><td>0</td><td>0</td><td>0</td><td>0</td><td>0</td><td>0</td><td>0</td><td>0</td><td>0</td><td>0</td><td>0</td><td>0</td><td>1</td><td>0</td><td>0</td><td>0</td><td>0</td><td>0</td><td>0</td><td>0</td><td>0</td><td>0</td><td>0</td><td>0</td><td>0</td><td>0</td><td>0</td><td>0</td><td>&hellip;</td><td>null</td><td>93.0</td><td>40.0</td><td>53.0</td><td>null</td><td>null</td><td>null</td><td>null</td><td>null</td><td>null</td><td>0.0</td><td>0.0</td><td>0.0</td><td>null</td><td>null</td><td>null</td><td>null</td><td>null</td><td>null</td><td>null</td><td>&quot;Margaret&quot;</td><td>&quot;John&quot;</td><td>&quot;V70&quot;</td><td>&quot;V70&quot;</td><td>&quot;V70&quot;</td><td>&quot;W&quot;</td><td>&quot;Burgess Hill&quot;</td><td>816332.0</td><td>&quot;match&quot;</td><td>1.0</td><td>&quot;all&quot;</td><td>62.0</td><td>66.0</td><td>64.0</td><td>1954.0</td><td>1950.0</td><td>1952.0</td></tr><tr><td>627</td><td>&quot;00:47:41&quot;</td><td>2861.0</td><td>631</td><td>&quot;Ann Savidge&quot;</td><td>1</td><td>303.0</td><td>0</td><td>0</td><td>0</td><td>0</td><td>0</td><td>0</td><td>0</td><td>0</td><td>0</td><td>0</td><td>0</td><td>0</td><td>0</td><td>0</td><td>1</td><td>0</td><td>0</td><td>0</td><td>0</td><td>0</td><td>0</td><td>0</td><td>0</td><td>0</td><td>0</td><td>0</td><td>0</td><td>0</td><td>0</td><td>0</td><td>&hellip;</td><td>&quot;565.0&quot;</td><td>93.0</td><td>40.0</td><td>53.0</td><td>341.0</td><td>441.0</td><td>571.0</td><td>4.0</td><td>2.0</td><td>1.0</td><td>7.0</td><td>10.0</td><td>2.0</td><td>1.0</td><td>2.0</td><td>2015.0</td><td>2014.0</td><td>341.0</td><td>444.0</td><td>613.0</td><td>&quot;Ann&quot;</td><td>&quot;Savidge&quot;</td><td>&quot;V65&quot;</td><td>&quot;V65&quot;</td><td>&quot;V65&quot;</td><td>&quot;W&quot;</td><td>&quot;Burgess Hill&quot;</td><td>398093.0</td><td>&quot;match&quot;</td><td>1.0</td><td>&quot;all&quot;</td><td>57.0</td><td>61.0</td><td>59.0</td><td>1959.0</td><td>1955.0</td><td>1957.0</td></tr><tr><td>628</td><td>&quot;00:54:49&quot;</td><td>3289.0</td><td>613</td><td>&quot;Christine Jones&quot;</td><td>1</td><td>304.0</td><td>0</td><td>0</td><td>0</td><td>0</td><td>0</td><td>0</td><td>0</td><td>0</td><td>0</td><td>0</td><td>0</td><td>0</td><td>0</td><td>0</td><td>1</td><td>0</td><td>0</td><td>0</td><td>0</td><td>0</td><td>0</td><td>0</td><td>0</td><td>0</td><td>0</td><td>0</td><td>0</td><td>0</td><td>0</td><td>0</td><td>&hellip;</td><td>null</td><td>93.0</td><td>40.0</td><td>53.0</td><td>null</td><td>null</td><td>null</td><td>null</td><td>null</td><td>null</td><td>0.0</td><td>0.0</td><td>0.0</td><td>null</td><td>null</td><td>null</td><td>null</td><td>null</td><td>null</td><td>null</td><td>&quot;Christine&quot;</td><td>&quot;Jones&quot;</td><td>&quot;V70&quot;</td><td>&quot;V70&quot;</td><td>&quot;V70&quot;</td><td>&quot;W&quot;</td><td>&quot;Burgess Hill&quot;</td><td>816627.0</td><td>&quot;match&quot;</td><td>1.0</td><td>&quot;all&quot;</td><td>62.0</td><td>66.0</td><td>64.0</td><td>1954.0</td><td>1950.0</td><td>1952.0</td></tr><tr><td>631</td><td>&quot;00:58:30&quot;</td><td>3510.0</td><td>606</td><td>&quot;Jane Harle&quot;</td><td>1</td><td>307.0</td><td>0</td><td>0</td><td>0</td><td>0</td><td>0</td><td>0</td><td>0</td><td>0</td><td>0</td><td>0</td><td>0</td><td>0</td><td>0</td><td>0</td><td>1</td><td>0</td><td>0</td><td>0</td><td>0</td><td>0</td><td>0</td><td>0</td><td>0</td><td>0</td><td>0</td><td>0</td><td>0</td><td>0</td><td>0</td><td>0</td><td>&hellip;</td><td>null</td><td>93.0</td><td>40.0</td><td>53.0</td><td>null</td><td>null</td><td>null</td><td>null</td><td>null</td><td>null</td><td>0.0</td><td>0.0</td><td>0.0</td><td>null</td><td>null</td><td>null</td><td>null</td><td>null</td><td>null</td><td>null</td><td>&quot;Jane&quot;</td><td>&quot;Harle&quot;</td><td>&quot;V55&quot;</td><td>&quot;V55&quot;</td><td>&quot;V55&quot;</td><td>&quot;W&quot;</td><td>&quot;Burgess Hill&quot;</td><td>812655.0</td><td>&quot;match&quot;</td><td>1.0</td><td>&quot;all&quot;</td><td>47.0</td><td>51.0</td><td>49.0</td><td>1969.0</td><td>1965.0</td><td>1967.0</td></tr></tbody></table></div>"
      ]
     },
     "metadata": {},
     "output_type": "display_data"
    },
    {
     "data": {
      "text/plain": [
       "       Position      Time  time_in_seconds  Bib Number                Name  \\\n",
       "0             3  00:28:24           1704.0         328     Andy Massingale   \n",
       "1             5  00:28:34           1714.0         461      Tiarnan Cotter   \n",
       "2             6  00:28:50           1730.0         254        Paul Sargent   \n",
       "3             7  00:29:11           1751.0         167        Paul Cousins   \n",
       "4             9  00:29:24           1764.0         376  Henry Teague-Smith   \n",
       "...         ...       ...              ...         ...                 ...   \n",
       "35090       624  00:49:33           2973.0          67        Tina Massiah   \n",
       "35091       626  00:50:17           3017.0         612       Margaret John   \n",
       "35092       627  00:47:41           2861.0         631         Ann Savidge   \n",
       "35093       628  00:54:49           3289.0         613     Christine Jones   \n",
       "35094       631  00:58:30           3510.0         606          Jane Harle   \n",
       "\n",
       "       Gender_F  Gender Position  Club_Almost Athletes  Club_Arena 80 AC  \\\n",
       "0             0              3.0                     0                 0   \n",
       "1             0              5.0                     0                 0   \n",
       "2             0              6.0                     0                 0   \n",
       "3             0              7.0                     0                 0   \n",
       "4             0              9.0                     0                 0   \n",
       "...         ...              ...                   ...               ...   \n",
       "35090         1            300.0                     0                 0   \n",
       "35091         1            302.0                     0                 0   \n",
       "35092         1            303.0                     0                 0   \n",
       "35093         1            304.0                     0                 0   \n",
       "35094         1            307.0                     0                 0   \n",
       "\n",
       "       Club_Arunners  ...  p_of_10_athlete_id  match_type  matches  \\\n",
       "0                  0  ...            635858.0       match      1.0   \n",
       "1                  0  ...            699584.0       match      1.0   \n",
       "2                  0  ...            127564.0       match      1.0   \n",
       "3                  0  ...              9998.0       match      1.0   \n",
       "4                  0  ...             80465.0       match      1.0   \n",
       "...              ...  ...                 ...         ...      ...   \n",
       "35090              0  ...            891102.0       match      1.0   \n",
       "35091              0  ...            816332.0       match      1.0   \n",
       "35092              0  ...            398093.0       match      1.0   \n",
       "35093              0  ...            816627.0       match      1.0   \n",
       "35094              0  ...            812655.0       match      1.0   \n",
       "\n",
       "       parameters_used  min_age  max_age  average_age  min_dob  max_dob  \\\n",
       "0                  all     36.0     40.0         38.0   1979.0   1975.0   \n",
       "1              no_club     14.0     25.0         19.5   2001.0   1990.0   \n",
       "2                  all     26.0     30.0         28.0   1989.0   1985.0   \n",
       "3                  all     51.0     55.0         53.0   1964.0   1960.0   \n",
       "4                  all     14.0     25.0         19.5   2001.0   1990.0   \n",
       "...                ...      ...      ...          ...      ...      ...   \n",
       "35090          no_club     37.0     41.0         39.0   1979.0   1975.0   \n",
       "35091              all     62.0     66.0         64.0   1954.0   1950.0   \n",
       "35092              all     57.0     61.0         59.0   1959.0   1955.0   \n",
       "35093              all     62.0     66.0         64.0   1954.0   1950.0   \n",
       "35094              all     47.0     51.0         49.0   1969.0   1965.0   \n",
       "\n",
       "       avg_dob  \n",
       "0       1977.0  \n",
       "1       1995.5  \n",
       "2       1987.0  \n",
       "3       1962.0  \n",
       "4       1995.5  \n",
       "...        ...  \n",
       "35090   1977.0  \n",
       "35091   1952.0  \n",
       "35092   1957.0  \n",
       "35093   1952.0  \n",
       "35094   1967.0  \n",
       "\n",
       "[35095 rows x 171 columns]"
      ],
      "text/html": [
       "<div>\n",
       "<style scoped>\n",
       "    .dataframe tbody tr th:only-of-type {\n",
       "        vertical-align: middle;\n",
       "    }\n",
       "\n",
       "    .dataframe tbody tr th {\n",
       "        vertical-align: top;\n",
       "    }\n",
       "\n",
       "    .dataframe thead th {\n",
       "        text-align: right;\n",
       "    }\n",
       "</style>\n",
       "<table border=\"1\" class=\"dataframe\">\n",
       "  <thead>\n",
       "    <tr style=\"text-align: right;\">\n",
       "      <th></th>\n",
       "      <th>Position</th>\n",
       "      <th>Time</th>\n",
       "      <th>time_in_seconds</th>\n",
       "      <th>Bib Number</th>\n",
       "      <th>Name</th>\n",
       "      <th>Gender_F</th>\n",
       "      <th>Gender Position</th>\n",
       "      <th>Club_Almost Athletes</th>\n",
       "      <th>Club_Arena 80 AC</th>\n",
       "      <th>Club_Arunners</th>\n",
       "      <th>...</th>\n",
       "      <th>p_of_10_athlete_id</th>\n",
       "      <th>match_type</th>\n",
       "      <th>matches</th>\n",
       "      <th>parameters_used</th>\n",
       "      <th>min_age</th>\n",
       "      <th>max_age</th>\n",
       "      <th>average_age</th>\n",
       "      <th>min_dob</th>\n",
       "      <th>max_dob</th>\n",
       "      <th>avg_dob</th>\n",
       "    </tr>\n",
       "  </thead>\n",
       "  <tbody>\n",
       "    <tr>\n",
       "      <th>0</th>\n",
       "      <td>3</td>\n",
       "      <td>00:28:24</td>\n",
       "      <td>1704.0</td>\n",
       "      <td>328</td>\n",
       "      <td>Andy Massingale</td>\n",
       "      <td>0</td>\n",
       "      <td>3.0</td>\n",
       "      <td>0</td>\n",
       "      <td>0</td>\n",
       "      <td>0</td>\n",
       "      <td>...</td>\n",
       "      <td>635858.0</td>\n",
       "      <td>match</td>\n",
       "      <td>1.0</td>\n",
       "      <td>all</td>\n",
       "      <td>36.0</td>\n",
       "      <td>40.0</td>\n",
       "      <td>38.0</td>\n",
       "      <td>1979.0</td>\n",
       "      <td>1975.0</td>\n",
       "      <td>1977.0</td>\n",
       "    </tr>\n",
       "    <tr>\n",
       "      <th>1</th>\n",
       "      <td>5</td>\n",
       "      <td>00:28:34</td>\n",
       "      <td>1714.0</td>\n",
       "      <td>461</td>\n",
       "      <td>Tiarnan Cotter</td>\n",
       "      <td>0</td>\n",
       "      <td>5.0</td>\n",
       "      <td>0</td>\n",
       "      <td>0</td>\n",
       "      <td>0</td>\n",
       "      <td>...</td>\n",
       "      <td>699584.0</td>\n",
       "      <td>match</td>\n",
       "      <td>1.0</td>\n",
       "      <td>no_club</td>\n",
       "      <td>14.0</td>\n",
       "      <td>25.0</td>\n",
       "      <td>19.5</td>\n",
       "      <td>2001.0</td>\n",
       "      <td>1990.0</td>\n",
       "      <td>1995.5</td>\n",
       "    </tr>\n",
       "    <tr>\n",
       "      <th>2</th>\n",
       "      <td>6</td>\n",
       "      <td>00:28:50</td>\n",
       "      <td>1730.0</td>\n",
       "      <td>254</td>\n",
       "      <td>Paul Sargent</td>\n",
       "      <td>0</td>\n",
       "      <td>6.0</td>\n",
       "      <td>0</td>\n",
       "      <td>0</td>\n",
       "      <td>0</td>\n",
       "      <td>...</td>\n",
       "      <td>127564.0</td>\n",
       "      <td>match</td>\n",
       "      <td>1.0</td>\n",
       "      <td>all</td>\n",
       "      <td>26.0</td>\n",
       "      <td>30.0</td>\n",
       "      <td>28.0</td>\n",
       "      <td>1989.0</td>\n",
       "      <td>1985.0</td>\n",
       "      <td>1987.0</td>\n",
       "    </tr>\n",
       "    <tr>\n",
       "      <th>3</th>\n",
       "      <td>7</td>\n",
       "      <td>00:29:11</td>\n",
       "      <td>1751.0</td>\n",
       "      <td>167</td>\n",
       "      <td>Paul Cousins</td>\n",
       "      <td>0</td>\n",
       "      <td>7.0</td>\n",
       "      <td>0</td>\n",
       "      <td>0</td>\n",
       "      <td>0</td>\n",
       "      <td>...</td>\n",
       "      <td>9998.0</td>\n",
       "      <td>match</td>\n",
       "      <td>1.0</td>\n",
       "      <td>all</td>\n",
       "      <td>51.0</td>\n",
       "      <td>55.0</td>\n",
       "      <td>53.0</td>\n",
       "      <td>1964.0</td>\n",
       "      <td>1960.0</td>\n",
       "      <td>1962.0</td>\n",
       "    </tr>\n",
       "    <tr>\n",
       "      <th>4</th>\n",
       "      <td>9</td>\n",
       "      <td>00:29:24</td>\n",
       "      <td>1764.0</td>\n",
       "      <td>376</td>\n",
       "      <td>Henry Teague-Smith</td>\n",
       "      <td>0</td>\n",
       "      <td>9.0</td>\n",
       "      <td>0</td>\n",
       "      <td>0</td>\n",
       "      <td>0</td>\n",
       "      <td>...</td>\n",
       "      <td>80465.0</td>\n",
       "      <td>match</td>\n",
       "      <td>1.0</td>\n",
       "      <td>all</td>\n",
       "      <td>14.0</td>\n",
       "      <td>25.0</td>\n",
       "      <td>19.5</td>\n",
       "      <td>2001.0</td>\n",
       "      <td>1990.0</td>\n",
       "      <td>1995.5</td>\n",
       "    </tr>\n",
       "    <tr>\n",
       "      <th>...</th>\n",
       "      <td>...</td>\n",
       "      <td>...</td>\n",
       "      <td>...</td>\n",
       "      <td>...</td>\n",
       "      <td>...</td>\n",
       "      <td>...</td>\n",
       "      <td>...</td>\n",
       "      <td>...</td>\n",
       "      <td>...</td>\n",
       "      <td>...</td>\n",
       "      <td>...</td>\n",
       "      <td>...</td>\n",
       "      <td>...</td>\n",
       "      <td>...</td>\n",
       "      <td>...</td>\n",
       "      <td>...</td>\n",
       "      <td>...</td>\n",
       "      <td>...</td>\n",
       "      <td>...</td>\n",
       "      <td>...</td>\n",
       "      <td>...</td>\n",
       "    </tr>\n",
       "    <tr>\n",
       "      <th>35090</th>\n",
       "      <td>624</td>\n",
       "      <td>00:49:33</td>\n",
       "      <td>2973.0</td>\n",
       "      <td>67</td>\n",
       "      <td>Tina Massiah</td>\n",
       "      <td>1</td>\n",
       "      <td>300.0</td>\n",
       "      <td>0</td>\n",
       "      <td>0</td>\n",
       "      <td>0</td>\n",
       "      <td>...</td>\n",
       "      <td>891102.0</td>\n",
       "      <td>match</td>\n",
       "      <td>1.0</td>\n",
       "      <td>no_club</td>\n",
       "      <td>37.0</td>\n",
       "      <td>41.0</td>\n",
       "      <td>39.0</td>\n",
       "      <td>1979.0</td>\n",
       "      <td>1975.0</td>\n",
       "      <td>1977.0</td>\n",
       "    </tr>\n",
       "    <tr>\n",
       "      <th>35091</th>\n",
       "      <td>626</td>\n",
       "      <td>00:50:17</td>\n",
       "      <td>3017.0</td>\n",
       "      <td>612</td>\n",
       "      <td>Margaret John</td>\n",
       "      <td>1</td>\n",
       "      <td>302.0</td>\n",
       "      <td>0</td>\n",
       "      <td>0</td>\n",
       "      <td>0</td>\n",
       "      <td>...</td>\n",
       "      <td>816332.0</td>\n",
       "      <td>match</td>\n",
       "      <td>1.0</td>\n",
       "      <td>all</td>\n",
       "      <td>62.0</td>\n",
       "      <td>66.0</td>\n",
       "      <td>64.0</td>\n",
       "      <td>1954.0</td>\n",
       "      <td>1950.0</td>\n",
       "      <td>1952.0</td>\n",
       "    </tr>\n",
       "    <tr>\n",
       "      <th>35092</th>\n",
       "      <td>627</td>\n",
       "      <td>00:47:41</td>\n",
       "      <td>2861.0</td>\n",
       "      <td>631</td>\n",
       "      <td>Ann Savidge</td>\n",
       "      <td>1</td>\n",
       "      <td>303.0</td>\n",
       "      <td>0</td>\n",
       "      <td>0</td>\n",
       "      <td>0</td>\n",
       "      <td>...</td>\n",
       "      <td>398093.0</td>\n",
       "      <td>match</td>\n",
       "      <td>1.0</td>\n",
       "      <td>all</td>\n",
       "      <td>57.0</td>\n",
       "      <td>61.0</td>\n",
       "      <td>59.0</td>\n",
       "      <td>1959.0</td>\n",
       "      <td>1955.0</td>\n",
       "      <td>1957.0</td>\n",
       "    </tr>\n",
       "    <tr>\n",
       "      <th>35093</th>\n",
       "      <td>628</td>\n",
       "      <td>00:54:49</td>\n",
       "      <td>3289.0</td>\n",
       "      <td>613</td>\n",
       "      <td>Christine Jones</td>\n",
       "      <td>1</td>\n",
       "      <td>304.0</td>\n",
       "      <td>0</td>\n",
       "      <td>0</td>\n",
       "      <td>0</td>\n",
       "      <td>...</td>\n",
       "      <td>816627.0</td>\n",
       "      <td>match</td>\n",
       "      <td>1.0</td>\n",
       "      <td>all</td>\n",
       "      <td>62.0</td>\n",
       "      <td>66.0</td>\n",
       "      <td>64.0</td>\n",
       "      <td>1954.0</td>\n",
       "      <td>1950.0</td>\n",
       "      <td>1952.0</td>\n",
       "    </tr>\n",
       "    <tr>\n",
       "      <th>35094</th>\n",
       "      <td>631</td>\n",
       "      <td>00:58:30</td>\n",
       "      <td>3510.0</td>\n",
       "      <td>606</td>\n",
       "      <td>Jane Harle</td>\n",
       "      <td>1</td>\n",
       "      <td>307.0</td>\n",
       "      <td>0</td>\n",
       "      <td>0</td>\n",
       "      <td>0</td>\n",
       "      <td>...</td>\n",
       "      <td>812655.0</td>\n",
       "      <td>match</td>\n",
       "      <td>1.0</td>\n",
       "      <td>all</td>\n",
       "      <td>47.0</td>\n",
       "      <td>51.0</td>\n",
       "      <td>49.0</td>\n",
       "      <td>1969.0</td>\n",
       "      <td>1965.0</td>\n",
       "      <td>1967.0</td>\n",
       "    </tr>\n",
       "  </tbody>\n",
       "</table>\n",
       "<p>35095 rows × 171 columns</p>\n",
       "</div>"
      ]
     },
     "execution_count": 8,
     "metadata": {},
     "output_type": "execute_result"
    }
   ],
   "execution_count": 8
  },
  {
   "metadata": {},
   "cell_type": "code",
   "source": "",
   "id": "2f34afb2b27d5485",
   "outputs": [],
   "execution_count": null
  },
  {
   "metadata": {},
   "cell_type": "markdown",
   "source": [
    "## Feature Selection\n",
    "\n",
    "\n"
   ],
   "id": "7c46669331530081"
  },
  {
   "metadata": {
    "ExecuteTime": {
     "end_time": "2024-12-07T12:34:53.255666Z",
     "start_time": "2024-12-07T12:34:53.251156Z"
    }
   },
   "cell_type": "code",
   "source": [
    "from Predictors.Pb.features import get_boolean_features\n",
    "\n",
    "feature_columns_club = get_boolean_features(df_ages, 'Club_')\n"
   ],
   "id": "b63c170640bfce2f",
   "outputs": [],
   "execution_count": 9
  },
  {
   "metadata": {
    "ExecuteTime": {
     "end_time": "2024-12-07T12:35:04.633403Z",
     "start_time": "2024-12-07T12:35:04.628756Z"
    }
   },
   "cell_type": "code",
   "source": [
    "\n",
    "feature_columns_to_default_to_zero = [\n",
    "    str(WsfrlColumnPriorStats.Tenure),\n",
    "    str(WsfrlColumnPriorStats.TotalPriorRunCount),\n",
    "    str(WsfrlColumnPriorStats.PositionYearsSinceBest),\n",
    "    str(WsfrlColumnPriorStats.PositionYearSinceWorst),\n",
    "]\n",
    "\n",
    "\n",
    "feature_columns_mandatory = [\n",
    "    str(WsfrlColumnOverall.Position),\n",
    "    f\"{WsfrlColumnOverall.Gender}_F\",\n",
    "    str(WsfrlColumnOverall.TimeInSeconds),\n",
    "]\n",
    "\n",
    "\n",
    "\n",
    "feature_columns = (feature_columns_to_default_to_zero \n",
    "                   + feature_columns_mandatory \n",
    "                   # + feature_columns_club                 \n",
    "                   )\n",
    "\n",
    "\n"
   ],
   "id": "abca9b740f157bb2",
   "outputs": [],
   "execution_count": 10
  },
  {
   "metadata": {
    "ExecuteTime": {
     "end_time": "2024-12-07T12:35:12.163863Z",
     "start_time": "2024-12-07T12:35:12.158771Z"
    }
   },
   "cell_type": "code",
   "source": [
    "\n",
    "df_features = df_ages[feature_columns]\n",
    "df_target = df_ages[target_columns]\n",
    "\n",
    "\n",
    "validate_features_vs_target(df_features, df_target)\n",
    "\n",
    "# Display the reduced DataFrame\n",
    "# display(df_features.head())\n",
    "# display(df_target.head())\n",
    "\n"
   ],
   "id": "7ee7eac0bde80394",
   "outputs": [
    {
     "name": "stdout",
     "output_type": "stream",
     "text": [
      "MATCH Features_df shape: (35095, 7) vs Target (35095, 4)\n"
     ]
    }
   ],
   "execution_count": 11
  },
  {
   "metadata": {},
   "cell_type": "markdown",
   "source": "## Split the Data",
   "id": "baf01728296052f"
  },
  {
   "metadata": {
    "ExecuteTime": {
     "end_time": "2024-12-07T12:35:23.026669Z",
     "start_time": "2024-12-07T12:35:20.815375Z"
    }
   },
   "cell_type": "code",
   "source": [
    "from sklearn.model_selection import train_test_split\n",
    "from sklearn.preprocessing import StandardScaler\n",
    "\n",
    "SEED = 123\n",
    "\n",
    "(\n",
    "    df_feature_train,\n",
    "    df_feature_test,\n",
    "    df_target_train,\n",
    "    df_target_test,\n",
    ") = train_test_split(\n",
    "    df_features,\n",
    "    df_target,\n",
    "    test_size=0.30,\n",
    "    random_state=SEED,\n",
    ")\n",
    "\n",
    "total_rows = len(df_features)\n",
    "train_rows = len(df_feature_train)\n",
    "test_rows = len(df_feature_test)\n",
    "\n",
    "test_percentage_of_total = train_rows / total_rows\n",
    "\n",
    "print(f\"Total Rows: {total_rows} Training Rows: {train_rows} Test Rows: {test_rows} Test Percentage of Total: {test_percentage_of_total:.2f}\")\n",
    "\n",
    "# train_test_split return numpy arrays, convert them back to Pandas DataFrames\n",
    "# Because that is what the pipeline expects\n",
    "df_feature_train.to_pandas(),\n",
    "df_feature_test.to_pandas(),\n",
    "df_target_train.to_pandas(),\n",
    "df_target_test.to_pandas(),\n",
    "\n",
    "validate_features_vs_target(df_feature_train,df_target_train)\n",
    "validate_features_vs_target(df_feature_test,df_target_test)\n"
   ],
   "id": "80a6fcb50a8c1a89",
   "outputs": [
    {
     "name": "stdout",
     "output_type": "stream",
     "text": [
      "Total Rows: 35095 Training Rows: 24566 Test Rows: 10529 Test Percentage of Total: 0.70\n",
      "MATCH Features_df shape: (24566, 7) vs Target (24566, 4)\n",
      "MATCH Features_df shape: (10529, 7) vs Target (10529, 4)\n"
     ]
    }
   ],
   "execution_count": 12
  },
  {
   "metadata": {
    "ExecuteTime": {
     "end_time": "2024-12-07T12:35:26.570295Z",
     "start_time": "2024-12-07T12:35:26.564852Z"
    }
   },
   "cell_type": "code",
   "source": [
    "from Predictors.Pb.features import general_feature_validation\n",
    "\n",
    "general_feature_validation(df_feature_train, feature_columns)"
   ],
   "id": "b384f222dddb659a",
   "outputs": [
    {
     "name": "stdout",
     "output_type": "stream",
     "text": [
      "WARNING (Be Aware)- Column that exist in the features_df but not in the feature_columns_to_validate list: []\n",
      "GOOD - All feature columns 7 exist in the DataFrame 7.\n"
     ]
    }
   ],
   "execution_count": 13
  },
  {
   "metadata": {},
   "cell_type": "markdown",
   "source": "",
   "id": "9de33155bf1b3dee"
  },
  {
   "metadata": {},
   "cell_type": "markdown",
   "source": "",
   "id": "37553220dd91db6f"
  },
  {
   "metadata": {
    "ExecuteTime": {
     "end_time": "2024-12-07T12:36:03.643088Z",
     "start_time": "2024-12-07T12:36:03.632668Z"
    }
   },
   "cell_type": "code",
   "source": [
    "from enum import Enum\n",
    "import numpy as np\n",
    "from sklearn.impute import SimpleImputer\n",
    "from sklearn.compose import ColumnTransformer\n",
    "from sklearn.linear_model import LogisticRegression, LinearRegression\n",
    "from sklearn.pipeline import Pipeline\n",
    "from sklearn.preprocessing import StandardScaler\n",
    "\n",
    "class RegressionMethod(Enum):\n",
    "    LOGISTIC = \"LogisticRegression\"\n",
    "    LINEAR = \"LinearRegression\"\n",
    "\n",
    "\n",
    "\n",
    "def build_pipeline(target_column: str, method: RegressionMethod ) -> Pipeline:\n",
    "    # Create imputers for different features/columns\n",
    "    default_to_zero_imputer = SimpleImputer(strategy=\"constant\", fill_value=0) #-np.inf is too big for a float\n",
    "    binary_value_imputer = SimpleImputer(strategy=\"constant\", fill_value=np.uint8(0))\n",
    "    mandatory_average_imputer = SimpleImputer(strategy=\"constant\", fill_value=0)\n",
    "    \n",
    "    \n",
    "    # Combine the imputers using ColumnTransformer\n",
    "    preprocessor = ColumnTransformer(\n",
    "        transformers=[\n",
    "            (\"default_zero_features\", default_to_zero_imputer, feature_columns_to_default_to_zero),\n",
    "            # (\"club_features\", binary_value_imputer, feature_columns_club),\n",
    "            (\"mandatory_features\", mandatory_average_imputer, feature_columns_mandatory),\n",
    "        ],\n",
    "        # remainder=\"drop\",\n",
    "    )\n",
    "    \n",
    "    PIPELINE_STEP_PREPROCESSOR = \"preprocessor\"\n",
    "    PIPELINE_STEP_SCALER = \"scaler\"\n",
    "    PIPELINE_STEP_CLASSIFIER = \"classifier\"\n",
    "    \n",
    "    # Create a pipeline with the preprocessor, scaler, and the appropriate regression model\n",
    "    steps = [\n",
    "        (PIPELINE_STEP_PREPROCESSOR, preprocessor),\n",
    "        (PIPELINE_STEP_SCALER, StandardScaler()),\n",
    "    ]\n",
    "    \n",
    "    if method == RegressionMethod.LOGISTIC:\n",
    "        steps.append((PIPELINE_STEP_CLASSIFIER, LogisticRegression(penalty=None, max_iter=1000)))\n",
    "    elif method == RegressionMethod.LINEAR:\n",
    "        steps.append((PIPELINE_STEP_CLASSIFIER, LinearRegression()))\n",
    "    \n",
    "    pipeline = Pipeline(steps=steps)\n",
    "\n",
    "    # Fit the pipeline on the training data\n",
    "    pipeline.fit(df_feature_train, df_target_train[target_column])\n",
    "    return pipeline\n",
    "\n"
   ],
   "id": "393fc4a421f41ca",
   "outputs": [],
   "execution_count": 16
  },
  {
   "metadata": {
    "ExecuteTime": {
     "end_time": "2024-12-07T12:36:08.348826Z",
     "start_time": "2024-12-07T12:36:05.299732Z"
    }
   },
   "cell_type": "code",
   "source": [
    "pipeline_logistic_regression = (\n",
    "    build_pipeline(WsfrlColumnForAges.AgeCategoryRoad, RegressionMethod.LOGISTIC))\n",
    "\n",
    "pipeline_linear_regression = build_pipeline(\n",
    "    WsfrlColumnForAges.AgeAvgRange, RegressionMethod.LINEAR)"
   ],
   "id": "32029314d556c4e5",
   "outputs": [],
   "execution_count": 17
  },
  {
   "metadata": {
    "ExecuteTime": {
     "end_time": "2024-12-07T12:36:11.021172Z",
     "start_time": "2024-12-07T12:36:11.015680Z"
    }
   },
   "cell_type": "code",
   "source": [
    "\n",
    "def run_pipeline(pipeline: Pipeline, df_feature: pd.DataFrame):\n",
    "    # Transform the test data using the preprocessor part of the pipeline\n",
    "    preprocessed_df = pipeline.named_steps['preprocessor'].transform(df_feature)\n",
    "\n",
    "    # Scale the preprocessed test data\n",
    "    scaled_df = pipeline.named_steps['scaler'].transform(preprocessed_df)\n",
    "    \n",
    "    return scaled_df\n",
    "    \n",
    "def run_logistic_regression_pipeline_in_stages(pipeline: Pipeline,  \n",
    "                                               df_feature: pd.DataFrame, \n",
    "                                               df_target: pd.DataFrame, \n",
    "                                               target_column: str) -> tuple:\n",
    "    \n",
    "    # Scale the preprocessed test data\n",
    "    scaled_df = run_pipeline(pipeline, df_feature)\n",
    "\n",
    "    classifier = LogisticRegression(penalty=None, max_iter=1000)\n",
    "\n",
    "    classifier.fit(\n",
    "        scaled_df,\n",
    "        df_target[target_column],\n",
    "    )\n",
    "\n",
    "    return scaled_df, classifier\n",
    "\n"
   ],
   "id": "eeebdf3ec40263ab",
   "outputs": [],
   "execution_count": 18
  },
  {
   "metadata": {
    "ExecuteTime": {
     "end_time": "2024-12-07T12:36:18.238706Z",
     "start_time": "2024-12-07T12:36:15.228754Z"
    }
   },
   "cell_type": "code",
   "source": [
    "\n",
    "(scaled_train_df_age_cat,\n",
    "logistic_regression_classifier) = run_logistic_regression_pipeline_in_stages(\n",
    "    pipeline_logistic_regression,\n",
    "    df_feature_train,\n",
    "    df_target_train,\n",
    "    WsfrlColumnForAges.AgeCategoryRoad )\n",
    "\n",
    "\n",
    "\n"
   ],
   "id": "fca9c649604d84c6",
   "outputs": [],
   "execution_count": 19
  },
  {
   "metadata": {
    "ExecuteTime": {
     "end_time": "2024-12-07T12:36:20.082859Z",
     "start_time": "2024-12-07T12:36:20.077983Z"
    }
   },
   "cell_type": "code",
   "source": [
    "def run_linear_regression_pipeline_in_stages(pipeline: Pipeline,  \n",
    "                                               df_feature: pd.DataFrame, \n",
    "                                               df_target: pd.DataFrame, \n",
    "                                               target_column: str) -> tuple:\n",
    "    \n",
    "    # Scale the preprocessed test data\n",
    "    scaled_df = run_pipeline(pipeline, df_feature)\n",
    "\n",
    "   # Create a LinearRegression model\n",
    "    regressor = LinearRegression()\n",
    "    \n",
    "    # Fit the regressor on the scaled training data\n",
    "    regressor.fit(\n",
    "        scaled_df,\n",
    "        df_target[target_column],\n",
    "    )\n",
    "\n",
    "    return scaled_df, regressor"
   ],
   "id": "1434835f3e9fd7cf",
   "outputs": [],
   "execution_count": 20
  },
  {
   "metadata": {
    "ExecuteTime": {
     "end_time": "2024-12-07T12:36:21.693910Z",
     "start_time": "2024-12-07T12:36:21.680065Z"
    }
   },
   "cell_type": "code",
   "source": [
    "(scaled_train_df_avg_age,\n",
    "linear_regression) = run_linear_regression_pipeline_in_stages(\n",
    "    pipeline_linear_regression,\n",
    "    df_feature_train,\n",
    "    df_target_train,\n",
    "    WsfrlColumnForAges.AgeAvgRange )"
   ],
   "id": "a10cde1b25651f17",
   "outputs": [],
   "execution_count": 21
  },
  {
   "metadata": {
    "ExecuteTime": {
     "end_time": "2024-12-07T12:36:24.119749Z",
     "start_time": "2024-12-07T12:36:23.633100Z"
    }
   },
   "cell_type": "code",
   "source": [
    "import altair as alt\n",
    "\n",
    "def display_feature_coefficients(classifier, feature_columns):\n",
    "    # Convert the set to a list to maintain order\n",
    "    all_feature_columns_list = list(feature_columns)\n",
    "    \n",
    "    \n",
    "    # Create a DataFrame with the features and their coefficients\n",
    "    feature_coefficients_df = pl.DataFrame(\n",
    "        {\n",
    "            \"feature\": all_feature_columns_list,\n",
    "            \"coefficient\": classifier.coef_[0][:len(feature_columns)],\n",
    "        }\n",
    "    )\n",
    "    \n",
    "    # Sort the DataFrame by coefficient in descending order\n",
    "    sorted_feature_coefficients_df = feature_coefficients_df.sort(\"coefficient\", descending=True)\n",
    "    \n",
    "    # Plot the bar chart\n",
    "    alt.Chart(sorted_feature_coefficients_df.to_pandas()).mark_bar().encode(\n",
    "        x=\"coefficient\",\n",
    "        y=alt.Y(\"feature\", sort=\"-x\")\n",
    "    ).properties(\n",
    "        width=500,\n",
    "        height=300,\n",
    "    ).display()"
   ],
   "id": "aef77f8b545f30e8",
   "outputs": [],
   "execution_count": 22
  },
  {
   "metadata": {
    "ExecuteTime": {
     "end_time": "2024-12-07T12:36:25.887324Z",
     "start_time": "2024-12-07T12:36:25.814953Z"
    }
   },
   "cell_type": "code",
   "source": "display_feature_coefficients(logistic_regression_classifier, feature_columns)",
   "id": "c1d5a8b15708653d",
   "outputs": [
    {
     "data": {
      "text/html": [
       "\n",
       "<style>\n",
       "  #altair-viz-c2e8a814feba4dde82467ef4b1c8a571.vega-embed {\n",
       "    width: 100%;\n",
       "    display: flex;\n",
       "  }\n",
       "\n",
       "  #altair-viz-c2e8a814feba4dde82467ef4b1c8a571.vega-embed details,\n",
       "  #altair-viz-c2e8a814feba4dde82467ef4b1c8a571.vega-embed details summary {\n",
       "    position: relative;\n",
       "  }\n",
       "</style>\n",
       "<div id=\"altair-viz-c2e8a814feba4dde82467ef4b1c8a571\"></div>\n",
       "<script type=\"text/javascript\">\n",
       "  var VEGA_DEBUG = (typeof VEGA_DEBUG == \"undefined\") ? {} : VEGA_DEBUG;\n",
       "  (function(spec, embedOpt){\n",
       "    let outputDiv = document.currentScript.previousElementSibling;\n",
       "    if (outputDiv.id !== \"altair-viz-c2e8a814feba4dde82467ef4b1c8a571\") {\n",
       "      outputDiv = document.getElementById(\"altair-viz-c2e8a814feba4dde82467ef4b1c8a571\");\n",
       "    }\n",
       "    const paths = {\n",
       "      \"vega\": \"https://cdn.jsdelivr.net/npm/vega@5?noext\",\n",
       "      \"vega-lib\": \"https://cdn.jsdelivr.net/npm/vega-lib?noext\",\n",
       "      \"vega-lite\": \"https://cdn.jsdelivr.net/npm/vega-lite@5.20.1?noext\",\n",
       "      \"vega-embed\": \"https://cdn.jsdelivr.net/npm/vega-embed@6?noext\",\n",
       "    };\n",
       "\n",
       "    function maybeLoadScript(lib, version) {\n",
       "      var key = `${lib.replace(\"-\", \"\")}_version`;\n",
       "      return (VEGA_DEBUG[key] == version) ?\n",
       "        Promise.resolve(paths[lib]) :\n",
       "        new Promise(function(resolve, reject) {\n",
       "          var s = document.createElement('script');\n",
       "          document.getElementsByTagName(\"head\")[0].appendChild(s);\n",
       "          s.async = true;\n",
       "          s.onload = () => {\n",
       "            VEGA_DEBUG[key] = version;\n",
       "            return resolve(paths[lib]);\n",
       "          };\n",
       "          s.onerror = () => reject(`Error loading script: ${paths[lib]}`);\n",
       "          s.src = paths[lib];\n",
       "        });\n",
       "    }\n",
       "\n",
       "    function showError(err) {\n",
       "      outputDiv.innerHTML = `<div class=\"error\" style=\"color:red;\">${err}</div>`;\n",
       "      throw err;\n",
       "    }\n",
       "\n",
       "    function displayChart(vegaEmbed) {\n",
       "      vegaEmbed(outputDiv, spec, embedOpt)\n",
       "        .catch(err => showError(`Javascript Error: ${err.message}<br>This usually means there's a typo in your chart specification. See the javascript console for the full traceback.`));\n",
       "    }\n",
       "\n",
       "    if(typeof define === \"function\" && define.amd) {\n",
       "      requirejs.config({paths});\n",
       "      require([\"vega-embed\"], displayChart, err => showError(`Error loading script: ${err.message}`));\n",
       "    } else {\n",
       "      maybeLoadScript(\"vega\", \"5\")\n",
       "        .then(() => maybeLoadScript(\"vega-lite\", \"5.20.1\"))\n",
       "        .then(() => maybeLoadScript(\"vega-embed\", \"6\"))\n",
       "        .catch(showError)\n",
       "        .then(() => displayChart(vegaEmbed));\n",
       "    }\n",
       "  })({\"config\": {\"view\": {\"continuousWidth\": 300, \"continuousHeight\": 300}}, \"data\": {\"name\": \"data-8b5234c63f77ad7a09e603f9b7265f15\"}, \"mark\": {\"type\": \"bar\"}, \"encoding\": {\"x\": {\"field\": \"coefficient\", \"type\": \"quantitative\"}, \"y\": {\"field\": \"feature\", \"sort\": \"-x\", \"type\": \"nominal\"}}, \"height\": 300, \"width\": 500, \"$schema\": \"https://vega.github.io/schema/vega-lite/v5.20.1.json\", \"datasets\": {\"data-8b5234c63f77ad7a09e603f9b7265f15\": [{\"feature\": \"wsfrl_tenure_in_years\", \"coefficient\": 0.38601056709685183}, {\"feature\": \"Gender_F\", \"coefficient\": 0.37947617315664656}, {\"feature\": \"position_record_years_since_worst\", \"coefficient\": 0.05538140849261167}, {\"feature\": \"time_in_seconds\", \"coefficient\": 0.0435704103474904}, {\"feature\": \"wsfrl_tenure_in_runs\", \"coefficient\": -0.05492324000849422}, {\"feature\": \"position_record_years_since_best\", \"coefficient\": -0.3095830996737285}, {\"feature\": \"Position\", \"coefficient\": -0.6631822715031513}]}}, {\"mode\": \"vega-lite\"});\n",
       "</script>"
      ],
      "text/plain": [
       "alt.Chart(...)"
      ]
     },
     "metadata": {},
     "output_type": "display_data"
    }
   ],
   "execution_count": 23
  },
  {
   "metadata": {
    "ExecuteTime": {
     "end_time": "2024-12-07T12:36:29.273081Z",
     "start_time": "2024-12-07T12:36:29.266999Z"
    }
   },
   "cell_type": "code",
   "source": [
    "# Make predictions on the test data\n",
    "predictions = pipeline_linear_regression.named_steps['classifier'].predict(scaled_train_df_avg_age)"
   ],
   "id": "e62d10309ea703ca",
   "outputs": [],
   "execution_count": 24
  },
  {
   "metadata": {
    "ExecuteTime": {
     "end_time": "2024-12-07T12:36:57.146742Z",
     "start_time": "2024-12-07T12:36:55.413319Z"
    }
   },
   "cell_type": "code",
   "source": [
    "(scaled_test_df_age_cat,\n",
    "junk__as_on_test_logistic_regression_classifier) = run_logistic_regression_pipeline_in_stages(\n",
    "    pipeline_logistic_regression,\n",
    "    df_feature_test,\n",
    "    df_target_test,\n",
    "    WsfrlColumnForAges.AgeCategoryRoad )"
   ],
   "id": "22d35c8ea4ddeeca",
   "outputs": [],
   "execution_count": 26
  },
  {
   "metadata": {
    "ExecuteTime": {
     "end_time": "2024-12-07T12:39:45.679474Z",
     "start_time": "2024-12-07T12:39:45.578781Z"
    }
   },
   "cell_type": "code",
   "source": [
    "from sklearn.metrics import classification_report\n",
    "\n",
    "# Must be scaled like training data\n",
    "validate_features_vs_target(scaled_test_df_age_cat, df_feature_test)\n",
    "\n",
    "\n",
    "print(\n",
    "    classification_report(\n",
    "        df_target_test.get_column(WsfrlColumnForAges.AgeCategoryRoad),\n",
    "        logistic_regression_classifier.predict(scaled_test_df_age_cat),\n",
    "        zero_division=0\n",
    "    )\n",
    ")"
   ],
   "id": "7f27c98da7ef5aff",
   "outputs": [
    {
     "name": "stdout",
     "output_type": "stream",
     "text": [
      "MATCH Features_df shape: (10529, 7) vs Target (10529, 7)\n",
      "              precision    recall  f1-score   support\n",
      "\n",
      "         SEN       0.27      0.02      0.04       631\n",
      "         U11       0.00      0.00      0.00         2\n",
      "         U13       0.00      0.00      0.00        15\n",
      "         U15       0.00      0.00      0.00        24\n",
      "         U17       0.00      0.00      0.00        14\n",
      "         U20       0.00      0.00      0.00        30\n",
      "         U23       0.00      0.00      0.00        57\n",
      "         V35       0.12      0.01      0.01       587\n",
      "         V40       0.14      0.05      0.07       812\n",
      "         V45       0.18      0.24      0.20      1228\n",
      "         V50       0.22      0.34      0.26      1528\n",
      "         V55       0.20      0.19      0.20      1632\n",
      "         V60       0.20      0.43      0.28      1692\n",
      "         V65       0.19      0.12      0.15      1144\n",
      "         V70       0.31      0.05      0.09       667\n",
      "         V75       0.24      0.17      0.20       326\n",
      "         V80       0.40      0.06      0.10       103\n",
      "         V85       0.00      0.00      0.00        37\n",
      "\n",
      "    accuracy                           0.20     10529\n",
      "   macro avg       0.14      0.09      0.09     10529\n",
      "weighted avg       0.20      0.20      0.17     10529\n",
      "\n"
     ]
    }
   ],
   "execution_count": 28
  },
  {
   "metadata": {},
   "cell_type": "code",
   "source": "",
   "id": "1a85305bec93c807",
   "outputs": [],
   "execution_count": null
  }
 ],
 "metadata": {
  "kernelspec": {
   "display_name": "Python 3",
   "language": "python",
   "name": "python3"
  },
  "language_info": {
   "codemirror_mode": {
    "name": "ipython",
    "version": 2
   },
   "file_extension": ".py",
   "mimetype": "text/x-python",
   "name": "python",
   "nbconvert_exporter": "python",
   "pygments_lexer": "ipython2",
   "version": "2.7.6"
  }
 },
 "nbformat": 4,
 "nbformat_minor": 5
}
